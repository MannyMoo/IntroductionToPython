{
 "cells": [
  {
   "cell_type": "code",
   "execution_count": 1,
   "metadata": {},
   "outputs": [
    {
     "name": "stdout",
     "output_type": "stream",
     "text": [
      "4332691632 4332691632 True\n",
      "4332691632 4332691664 False\n"
     ]
    }
   ],
   "source": [
    "# The 'id' built-in function is useful to check if two\n",
    "# variables refer to the same object. It returns a \n",
    "# unique integer for every object.\n",
    "a = 1\n",
    "b = a\n",
    "# Here, a & b refer to the same object.\n",
    "print(id(a), id(b), id(a) == id(b))\n",
    "\n",
    "b = 2\n",
    "# Now they don't.\n",
    "print(id(a), id(b), id(a) == id(b))"
   ]
  },
  {
   "cell_type": "code",
   "execution_count": 2,
   "metadata": {},
   "outputs": [
    {
     "name": "stdout",
     "output_type": "stream",
     "text": [
      "cont ID: 4365091896\n",
      "Setting value to 10.0 for object ID 4365091896\n"
     ]
    }
   ],
   "source": [
    "# Define a basic class.\n",
    "class Container :\n",
    "    pass\n",
    "\n",
    "# Define a function to assign a value to an instance of the class.\n",
    "# Here it's defined outside the class, so it takes the \n",
    "# class instance as the 'obj' argument.\n",
    "def set_value(obj, val) :\n",
    "    print('Setting value to', val, 'for object ID', id(obj))\n",
    "    obj.value = val\n",
    "\n",
    "# Make an instance of the Container class.\n",
    "cont = Container()\n",
    "\n",
    "# We see that the id of 'obj' in the function is the same as\n",
    "# 'cont' - they both refer to the same instance of the Container\n",
    "# class.\n",
    "print('cont ID:', id(cont))\n",
    "set_value(cont, 10.)"
   ]
  },
  {
   "cell_type": "code",
   "execution_count": 3,
   "metadata": {},
   "outputs": [
    {
     "name": "stdout",
     "output_type": "stream",
     "text": [
      "cont ID 4371295312\n",
      "Setting value to 10.0 for object ID 4371295312\n"
     ]
    }
   ],
   "source": [
    "# Redefine the class.\n",
    "class Container :\n",
    "\n",
    "    # Declare the function inside the class. It still takes the \n",
    "    # class instance as the 'self' argument\n",
    "    def set_value(self, val) :\n",
    "        print('Setting value to', val, 'for object ID', id(self))\n",
    "        self.value = val\n",
    "\n",
    "cont = Container()\n",
    "\n",
    "# Similarly, we see that 'self' refers to the same instance of\n",
    "# Container as 'cont'\n",
    "print('cont ID', id(cont))\n",
    "cont.set_value(10.)"
   ]
  },
  {
   "cell_type": "code",
   "execution_count": 4,
   "metadata": {},
   "outputs": [
    {
     "name": "stdout",
     "output_type": "stream",
     "text": [
      "Setting value to 10.0 for object ID 4371295312\n"
     ]
    }
   ],
   "source": [
    "# The function 'set_value' is an attribute of the\n",
    "# class Container. So what happens above is that\n",
    "# python passes 'cont' as the first argument to \n",
    "# the function, which is the same as doing:\n",
    "\n",
    "Container.set_value(cont, 10.)"
   ]
  },
  {
   "cell_type": "code",
   "execution_count": null,
   "metadata": {},
   "outputs": [],
   "source": []
  }
 ],
 "metadata": {
  "kernelspec": {
   "display_name": "Python 3",
   "language": "python",
   "name": "python3"
  },
  "language_info": {
   "codemirror_mode": {
    "name": "ipython",
    "version": 3
   },
   "file_extension": ".py",
   "mimetype": "text/x-python",
   "name": "python",
   "nbconvert_exporter": "python",
   "pygments_lexer": "ipython3",
   "version": "3.7.2"
  }
 },
 "nbformat": 4,
 "nbformat_minor": 2
}
