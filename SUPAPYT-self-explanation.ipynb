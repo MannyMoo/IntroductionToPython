{
 "cells": [
  {
   "cell_type": "code",
   "execution_count": 1,
   "metadata": {},
   "outputs": [
    {
     "name": "stdout",
     "output_type": "stream",
     "text": [
      "4332691632 4332691632 True\n",
      "4332691632 4332691664 False\n"
     ]
    }
   ],
   "source": [
    "# The 'id' built-in function is useful to check if two\n",
    "# variables refer to the same object. It returns a \n",
    "# unique integer for every object.\n",
    "a = 1\n",
    "b = a\n",
    "# Here, a & b refer to the same object.\n",
    "print(id(a), id(b), id(a) == id(b))\n",
    "\n",
    "b = 2\n",
    "# Now they don't.\n",
    "print(id(a), id(b), id(a) == id(b))"
   ]
  },
  {
   "cell_type": "code",
   "execution_count": 2,
   "metadata": {},
   "outputs": [
    {
     "name": "stdout",
     "output_type": "stream",
     "text": [
      "cont ID: 4365091896\n",
      "Setting value to 10.0 for object ID 4365091896\n"
     ]
    }
   ],
   "source": [
    "# Define a basic class.\n",
    "class Container :\n",
    "    pass\n",
    "\n",
    "# Define a function to assign a value to an instance of the class.\n",
    "# Here it's defined outside the class, so it takes the \n",
    "# class instance as the 'obj' argument.\n",
    "def set_value(obj, val) :\n",
    "    print('Setting value to', val, 'for object ID', id(obj))\n",
    "    obj.value = val\n",
    "\n",
    "# Make an instance of the Container class.\n",
    "cont = Container()\n",
    "\n",
    "# We see that the id of 'obj' in the function is the same as\n",
    "# 'cont' - they both refer to the same instance of the Container\n",
    "# class.\n",
    "print('cont ID:', id(cont))\n",
    "set_value(cont, 10.)"
   ]
  },
  {
   "cell_type": "code",
   "execution_count": 3,
   "metadata": {},
   "outputs": [
    {
     "name": "stdout",
     "output_type": "stream",
     "text": [
      "cont ID 4371295312\n",
      "Setting value to 10.0 for object ID 4371295312\n"
     ]
    }
   ],
   "source": [
    "# Redefine the class.\n",
    "class Container :\n",
    "\n",
    "    # Declare the function inside the class. It still takes the \n",
    "    # class instance as the 'self' argument\n",
    "    def set_value(self, val) :\n",
    "        print('Setting value to', val, 'for object ID', id(self))\n",
    "        self.value = val\n",
    "\n",
    "cont = Container()\n",
    "\n",
    "# Similarly, we see that 'self' refers to the same instance of\n",
    "# Container as 'cont'\n",
    "print('cont ID', id(cont))\n",
    "cont.set_value(10.)"
   ]
  },
  {
   "cell_type": "code",
   "execution_count": 4,
   "metadata": {},
   "outputs": [
    {
     "name": "stdout",
     "output_type": "stream",
     "text": [
      "Setting value to 10.0 for object ID 4371295312\n"
     ]
    }
   ],
   "source": [
    "# The function 'set_value' is an attribute of the\n",
    "# class Container. So what happens above is that\n",
    "# python passes 'cont' as the first argument to \n",
    "# the function, which is the same as doing:\n",
    "\n",
    "Container.set_value(cont, 10.)"
   ]
  },
  {
   "cell_type": "code",
   "execution_count": 5,
   "metadata": {},
   "outputs": [],
   "source": [
    "# This way, any attributes assigned to 'self' \n",
    "# in __init__ will be assigned to all instances\n",
    "# of a class.\n",
    "\n",
    "# Make a class which contains two values by default.\n",
    "class Pair :\n",
    "    \n",
    "    def __init__(self, val1, val2) :\n",
    "        self.val1 = val1\n",
    "        self.val2 = val2"
   ]
  },
  {
   "cell_type": "code",
   "execution_count": 6,
   "metadata": {},
   "outputs": [],
   "source": [
    "# Make two instances of the class.\n",
    "\n",
    "pair1 = Pair(1, 2)\n",
    "pair2 = Pair(3, 4)"
   ]
  },
  {
   "cell_type": "code",
   "execution_count": 14,
   "metadata": {},
   "outputs": [
    {
     "name": "stdout",
     "output_type": "stream",
     "text": [
      "['__class__', '__delattr__', '__dict__', '__dir__', '__doc__', '__eq__', '__format__', '__ge__', '__getattribute__', '__gt__', '__hash__', '__init__', '__init_subclass__', '__le__', '__lt__', '__module__', '__ne__', '__new__', '__reduce__', '__reduce_ex__', '__repr__', '__setattr__', '__sizeof__', '__str__', '__subclasshook__', '__weakref__', 'val1', 'val2']\n",
      "['__class__', '__delattr__', '__dict__', '__dir__', '__doc__', '__eq__', '__format__', '__ge__', '__getattribute__', '__gt__', '__hash__', '__init__', '__init_subclass__', '__le__', '__lt__', '__module__', '__ne__', '__new__', '__reduce__', '__reduce_ex__', '__repr__', '__setattr__', '__sizeof__', '__str__', '__subclasshook__', '__weakref__', 'val1', 'val2', 'val3']\n"
     ]
    },
    {
     "data": {
      "text/plain": [
       "False"
      ]
     },
     "execution_count": 14,
     "metadata": {},
     "output_type": "execute_result"
    }
   ],
   "source": [
    "# They both have the same attributes, 'val1' and 'val2'.\n",
    "\n",
    "print(dir(pair1))\n",
    "print(dir(pair2))\n",
    "dir(pair1) == dir(pair2)"
   ]
  },
  {
   "cell_type": "code",
   "execution_count": 15,
   "metadata": {},
   "outputs": [
    {
     "name": "stdout",
     "output_type": "stream",
     "text": [
      "1 2\n",
      "3 4\n"
     ]
    }
   ],
   "source": [
    "# But they have different values, as assigned by \n",
    "# __init__.\n",
    "\n",
    "print(pair1.val1, pair1.val2)\n",
    "print(pair2.val1, pair2.val2)"
   ]
  },
  {
   "cell_type": "code",
   "execution_count": 16,
   "metadata": {},
   "outputs": [
    {
     "name": "stdout",
     "output_type": "stream",
     "text": [
      "False\n",
      "False True\n"
     ]
    }
   ],
   "source": [
    "# Since python allows dynamic attribute assignment\n",
    "# to user defined classes, we can assign new \n",
    "# attributes which are unique to the instance they're \n",
    "# assigned to.\n",
    "\n",
    "pair2.val3 = 5\n",
    "print(dir(pair2) == dir(pair1))\n",
    "print(hasattr(pair1, 'val3'), hasattr(pair2, 'val3'))"
   ]
  },
  {
   "cell_type": "code",
   "execution_count": null,
   "metadata": {},
   "outputs": [],
   "source": []
  }
 ],
 "metadata": {
  "kernelspec": {
   "display_name": "Python 3",
   "language": "python",
   "name": "python3"
  },
  "language_info": {
   "codemirror_mode": {
    "name": "ipython",
    "version": 3
   },
   "file_extension": ".py",
   "mimetype": "text/x-python",
   "name": "python",
   "nbconvert_exporter": "python",
   "pygments_lexer": "ipython3",
   "version": "3.7.2"
  }
 },
 "nbformat": 4,
 "nbformat_minor": 2
}
