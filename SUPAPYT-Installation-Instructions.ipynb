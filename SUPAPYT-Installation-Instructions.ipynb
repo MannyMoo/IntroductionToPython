{
 "cells": [
  {
   "cell_type": "markdown",
   "metadata": {},
   "source": [
    "# Jupyter installation instructions"
   ]
  },
  {
   "cell_type": "markdown",
   "metadata": {},
   "source": [
    "Note that for most use cases a basic python installation will do, and you can work through the lab exercises using the basic python interpreter and a text editor. However, if you want to use the interactive version of the course material then you'll need ipython and Jupyter. They also give a lot of useful functionality for interactive work over the basic python interpreter, so are generally nice to have.\n",
    "\n",
    "Pick the relevant instructions below. After following them, check that Jupyter is installed correctly by opening a terminal and executing:"
   ]
  },
  {
   "cell_type": "raw",
   "metadata": {},
   "source": [
    "jupyter --version"
   ]
  },
  {
   "cell_type": "markdown",
   "metadata": {},
   "source": [
    "If you get an error message along the lines of \"command not found\" then close the terminal, open a new one, and try again. If it still doesn't work or if you encounter any issues along the way then [let me know](mailto:michael.alexander@glasgow.ac.uk)!"
   ]
  },
  {
   "cell_type": "markdown",
   "metadata": {},
   "source": [
    "## Via Anaconda"
   ]
  },
  {
   "cell_type": "markdown",
   "metadata": {},
   "source": [
    "This is the best way for Windows. It also works for MacOSX and Linux, though using other package managers is generally better for them.\n",
    "\n",
    "Just visit the [Anaconda download page](https://www.anaconda.com/download/), download the relevant installer, and follow the installation instructions.\n",
    "\n",
    "Anaconda comes with everything you need, so you shouldn't need to do anything else."
   ]
  },
  {
   "cell_type": "markdown",
   "metadata": {},
   "source": [
    "## Via Homebrew (for MacOSX)"
   ]
  },
  {
   "cell_type": "markdown",
   "metadata": {},
   "source": [
    "[Homebrew](https://brew.sh/) is a package manager for MacOSX (which doesn't have a package manager by default). The advantage of using Homebrew over Anaconda is that you have more control over what's installed. You can also install various other packages and Homebrew will take care of dependencies and make sure the versions installed are compatible.\n",
    "\n",
    "First install Homebrew by opening a terminal and executing:"
   ]
  },
  {
   "cell_type": "raw",
   "metadata": {},
   "source": [
    "/usr/bin/ruby -e \"$(curl -fsSL https://raw.githubusercontent.com/Homebrew/install/master/install)\""
   ]
  },
  {
   "cell_type": "markdown",
   "metadata": {},
   "source": [
    "Then update Homebrew with:"
   ]
  },
  {
   "cell_type": "raw",
   "metadata": {},
   "source": [
    "brew update"
   ]
  },
  {
   "cell_type": "markdown",
   "metadata": {},
   "source": [
    "Jupyter can be installed with:"
   ]
  },
  {
   "cell_type": "raw",
   "metadata": {},
   "source": [
    "brew install jupyter"
   ]
  },
  {
   "cell_type": "markdown",
   "metadata": {},
   "source": [
    "This also installs python and ipython.\n",
    "\n",
    "To pick up the correct executables on the commandline you need to add:"
   ]
  },
  {
   "cell_type": "raw",
   "metadata": {},
   "source": [
    "export PATH=\"/usr/local/opt/python/libexec/bin:~/Library/Python/3.7/bin:/usr/local/share/python:$PATH\""
   ]
  },
  {
   "cell_type": "markdown",
   "metadata": {},
   "source": [
    "to your login script, normally `~/.bashrc`. Then execute your login script with"
   ]
  },
  {
   "cell_type": "raw",
   "metadata": {},
   "source": [
    ". ~/.bashrc"
   ]
  },
  {
   "cell_type": "markdown",
   "metadata": {},
   "source": [
    "You'll only need to do this the first time, in your current terminal, as `~/.bashrc` is executed any time you open a new terminal.\n",
    "\n",
    "Then you're good to go!\n",
    "\n",
    "If you're using a shell other than `bash` (default on most machines) then you'll need to change the name of the login script accordingly, eg. use `~/.zshrc` if you're using `zsh`. You can check which shell you're using with:"
   ]
  },
  {
   "cell_type": "raw",
   "metadata": {},
   "source": [
    "echo $SHELL"
   ]
  },
  {
   "cell_type": "markdown",
   "metadata": {},
   "source": [
    "## Via `apt-get` (Debian, Ubuntu, etc)"
   ]
  },
  {
   "cell_type": "markdown",
   "metadata": {},
   "source": [
    "For linux machines, it's generally better to use the package manager, so that everything's installed in a consistent manner. Following [this](https://www.digitalocean.com/community/tutorials/how-to-set-up-a-jupyter-notebook-to-run-ipython-on-ubuntu-16-04), first update the package manager by opening a terminal and executing:"
   ]
  },
  {
   "cell_type": "markdown",
   "metadata": {},
   "source": [
    "sudo apt-get update"
   ]
  },
  {
   "cell_type": "markdown",
   "metadata": {},
   "source": [
    "Then pick up the latest python by installing Python 2.7, Python Pip, and Python Development with:"
   ]
  },
  {
   "cell_type": "raw",
   "metadata": {},
   "source": [
    "sudo apt-get -y install python2.7 python-pip python-dev"
   ]
  },
  {
   "cell_type": "markdown",
   "metadata": {},
   "source": [
    "Then install ipython and ipython notebook with:"
   ]
  },
  {
   "cell_type": "raw",
   "metadata": {},
   "source": [
    "sudo apt-get -y install ipython ipython-notebook"
   ]
  },
  {
   "cell_type": "markdown",
   "metadata": {},
   "source": [
    "Updgrade `pip`, the python package manager, with:"
   ]
  },
  {
   "cell_type": "raw",
   "metadata": {},
   "source": [
    "sudo -H pip install --upgrade pip"
   ]
  },
  {
   "cell_type": "markdown",
   "metadata": {},
   "source": [
    "Finally install Jupyter using `pip`:"
   ]
  },
  {
   "cell_type": "raw",
   "metadata": {},
   "source": [
    "sudo -H pip install jupyter"
   ]
  },
  {
   "cell_type": "markdown",
   "metadata": {},
   "source": [
    "## Via `pip` (anything with an existing `python` and `pip` installation) "
   ]
  },
  {
   "cell_type": "markdown",
   "metadata": {},
   "source": [
    "If you've already got a basic `python` installation which includes `pip` (the python package manager) and you're happy with that version then you can just use `pip` to install Jupyter (as in the last steps of the installation using `apt-get`).\n",
    "\n",
    "First, upgrade `pip` with:"
   ]
  },
  {
   "cell_type": "raw",
   "metadata": {},
   "source": [
    "pip install --upgrade pip"
   ]
  },
  {
   "cell_type": "markdown",
   "metadata": {},
   "source": [
    "On linux machines, you'll need to use:"
   ]
  },
  {
   "cell_type": "raw",
   "metadata": {},
   "source": [
    "sudo -H pip install --update pip"
   ]
  },
  {
   "cell_type": "markdown",
   "metadata": {},
   "source": [
    "Then simply install Jupyter with:"
   ]
  },
  {
   "cell_type": "raw",
   "metadata": {},
   "source": [
    "pip install jupyter"
   ]
  },
  {
   "cell_type": "markdown",
   "metadata": {},
   "source": [
    "or for linux:"
   ]
  },
  {
   "cell_type": "raw",
   "metadata": {},
   "source": [
    "sudo -H pip install jupyter"
   ]
  },
  {
   "cell_type": "markdown",
   "metadata": {},
   "source": [
    "That's all there is to it!"
   ]
  },
  {
   "cell_type": "markdown",
   "metadata": {},
   "source": [
    "# Running the interactive course material"
   ]
  },
  {
   "cell_type": "markdown",
   "metadata": {},
   "source": [
    "See [here](https://jupyter.readthedocs.io/en/latest/running.html#running) for basic instructions on running a Jupyter notebook, once you have Jupyter installed.\n",
    "\n",
    "All you need to do is open a terminal and execute:"
   ]
  },
  {
   "cell_type": "raw",
   "metadata": {},
   "source": [
    "jupyter notebook"
   ]
  },
  {
   "cell_type": "markdown",
   "metadata": {},
   "source": [
    "This will open the notebook dashboard in your web browser. You can then navigate to and click on any existing `.ipynb` notebook file to open it, or create a new notebook from the \"new\" dropdown menu at the top right.\n",
    "\n",
    "To get the course material, right click [here](https://github.com/MannyMoo/IntroductionToPython/blob/master/SUPAPYT-IntroductionToPython.ipynb) and select \"Save link as\" to get the lecture material, and do the same [here](https://github.com/MannyMoo/IntroductionToPython/blob/master/SUPAPYT-LabProblems.ipynb) for the lab exercises. You can then open them from the notebook dashboard.\n",
    "\n",
    "To evaluate a cell in the notebook use Shift+Enter. For more info, select \"User Interface Tour\" from the \"Help\" menu at the top of the notebook."
   ]
  },
  {
   "cell_type": "markdown",
   "metadata": {},
   "source": [
    "# Adding packages to your installation"
   ]
  },
  {
   "cell_type": "markdown",
   "metadata": {},
   "source": [
    "## 3rd party packages"
   ]
  },
  {
   "cell_type": "markdown",
   "metadata": {},
   "source": [
    "You can use `pip` to install any package from [pypi.org](https://pypi.org/), the Python Package Index, and other package indices. See the detailed instructions [here](https://packaging.python.org/tutorials/installing-packages/). In the majority of cases it's as easy as executing in a terminal:"
   ]
  },
  {
   "cell_type": "raw",
   "metadata": {},
   "source": [
    "pip install packagename"
   ]
  },
  {
   "cell_type": "markdown",
   "metadata": {},
   "source": [
    "Eg, to install the very useful [uncertainties](https://pypi.org/project/uncertainties/) package, do"
   ]
  },
  {
   "cell_type": "raw",
   "metadata": {},
   "source": [
    "pip install uncertainties"
   ]
  },
  {
   "cell_type": "markdown",
   "metadata": {},
   "source": [
    "Then next time you run python you'll be able to do:"
   ]
  },
  {
   "cell_type": "code",
   "execution_count": 1,
   "metadata": {
    "collapsed": true
   },
   "outputs": [],
   "source": [
    "import uncertainties"
   ]
  },
  {
   "cell_type": "markdown",
   "metadata": {},
   "source": [
    "and use its functionality.\n",
    "\n",
    "To update an already installed package, just do"
   ]
  },
  {
   "cell_type": "raw",
   "metadata": {},
   "source": [
    "pip install --upgrade packagename"
   ]
  },
  {
   "cell_type": "markdown",
   "metadata": {},
   "source": [
    "## User defined packages/modules"
   ]
  },
  {
   "cell_type": "markdown",
   "metadata": {},
   "source": [
    "When you do an `import` python searches the directories listed in the environment variable `PYTHONPATH`, as well as the current working directory, for a package or module of the given name. If you're not familiar with environment variables then see [here](https://en.wikipedia.org/wiki/Environment_variable). So to \"install\" a package or module you just need to add the directory that contains it to the `PYTHONPATH` environment variable.\n",
    "\n",
    "For `bash` type shells, you can do:"
   ]
  },
  {
   "cell_type": "raw",
   "metadata": {},
   "source": [
    "export PYTHONPATH=\"/path/to/package/:$PYTHONPATH\""
   ]
  },
  {
   "cell_type": "markdown",
   "metadata": {},
   "source": [
    "If you want this to be done every time you log in then you can add it to your login script, normally `~/.bashrc`.\n",
    "\n",
    "For Windows, you can execute in the terminal:"
   ]
  },
  {
   "cell_type": "raw",
   "metadata": {},
   "source": [
    "SET PYTHONPATH=\"/path/to/package;%PYTHONPATH%\""
   ]
  },
  {
   "cell_type": "markdown",
   "metadata": {},
   "source": [
    "or to set the value permanently, you can follow the instructions [here](https://www.computerhope.com/issues/ch000549.htm).\n",
    "\n",
    "After modifying PYTHONPATH appropriately you'll be able to import your package/module next time you run python."
   ]
  }
 ],
 "metadata": {
  "kernelspec": {
   "display_name": "Python 2",
   "language": "python",
   "name": "python2"
  },
  "language_info": {
   "codemirror_mode": {
    "name": "ipython",
    "version": 2
   },
   "file_extension": ".py",
   "mimetype": "text/x-python",
   "name": "python",
   "nbconvert_exporter": "python",
   "pygments_lexer": "ipython2",
   "version": "2.7.15"
  }
 },
 "nbformat": 4,
 "nbformat_minor": 2
}
