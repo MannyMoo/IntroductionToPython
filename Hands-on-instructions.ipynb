{
 "cells": [
  {
   "cell_type": "markdown",
   "metadata": {},
   "source": [
    "# SUPAPYT hands-on sessions"
   ]
  },
  {
   "cell_type": "markdown",
   "metadata": {},
   "source": [
    "- Organise into groups or work alone, as you prefer.\n",
    "- Join any breakout room (there should be a \"Breakout Rooms\" button on your buttons panel, possibly under \"more\").\n",
    "- Work through the hands-on problems (link in chat).\n",
    "- In the second session, you can start on the assignment if you want.\n",
    "- I'll be in the main room. Come back to it if you want to ask a question (using the \"Leave Room\" button). I can then join your breakout room if needed. Or you can message me directly on chat."
   ]
  }
 ],
 "metadata": {
  "kernelspec": {
   "display_name": "Python 3",
   "language": "python",
   "name": "python3"
  },
  "language_info": {
   "codemirror_mode": {
    "name": "ipython",
    "version": 3
   },
   "file_extension": ".py",
   "mimetype": "text/x-python",
   "name": "python",
   "nbconvert_exporter": "python",
   "pygments_lexer": "ipython3",
   "version": "3.9.1"
  }
 },
 "nbformat": 4,
 "nbformat_minor": 4
}
