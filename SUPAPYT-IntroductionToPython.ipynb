{
 "cells": [
  {
   "cell_type": "markdown",
   "metadata": {},
   "source": [
    "---"
   ]
  },
  {
   "cell_type": "markdown",
   "metadata": {},
   "source": [
    "# SUPAPYT - Introduction to"
   ]
  },
  {
   "cell_type": "markdown",
   "metadata": {},
   "source": [
    "<img src = './SUPAPYT-files/python-logo.jpeg', width = 400>"
   ]
  },
  {
   "cell_type": "markdown",
   "metadata": {},
   "source": [
    "---"
   ]
  },
  {
   "cell_type": "markdown",
   "metadata": {},
   "source": [
    "Welcome to this introductory course in the Python programming language!\n",
    "\n",
    "This course will take you through the basics of Python and hopefully demonstrate it to be a powerful, intuitive, and generally useful means of programming!\n",
    "\n",
    "It's intended to be suitable for novice programmers while still being useful for those with previous experience of other languages, or even of python itself.\n",
    "\n",
    "This course is presented in the form of an ipython notebook, which gives full access to the interactive python interpreter. We'll actually be running real python code as we go through the lectures. \n",
    "\n",
    "Lectures are a terrible way to teach anything, especially programming, so all the material is available [online](https://mannymoo.github.io/IntroductionToPython/), in static form. You can also download the [source](https://github.com/MannyMoo/IntroductionToPython). If you then install [ipython](https://ipython.org/) you can use the interactive form of the notes. I encourage you to do so, and, if you have a laptop, follow the material interactively during the lectures, play about, and ask questions as we go. "
   ]
  },
  {
   "cell_type": "markdown",
   "metadata": {},
   "source": [
    "## Schedule"
   ]
  },
  {
   "cell_type": "markdown",
   "metadata": {},
   "source": [
    "There will be 4 lectures and 2 hands-on lab sessions:\n",
    "\n",
    "- Lecture 1: 16/01/16, 3pm\n",
    "- Lecture 2: 18/01/16, 3pm\n",
    "- Lab 1: 20/01/16, 11am - 1 pm\n",
    "- Lecture 3: 23/01/16, 3pm\n",
    "- Lecture 4: 25/01/16, 3pm\n",
    "- Lab 2: 27/01/16, 11am - 1pm\n",
    "\n",
    "The lectures are webcast and recordings are accessible through [MySUPA](http://my.supa.ac.uk/course/view.php?id=129). \n",
    "\n",
    "The lab sessions are held at Glasgow (instructions on getting here are also available on [MySUPA](http://my.supa.ac.uk/mod/wiki/view.php?id=14564)).\n",
    "\n",
    "These allow you to work through [examples](https://mannymoo.github.io/IntroductionToPython/SUPAPYT-LabProblems.html), experiment with Python, and discuss any queries with demonstrators and fellow students. \n",
    "\n",
    "If you bring your laptop you can also get help setting it up with Python.\n",
    "\n",
    "Let me know if you'll bring a laptop - there's plenty space in the computer lab.\n",
    "\n",
    "You may be able to claim back any expenses incurred by your attendance! (Ask your group secretary).\n",
    "\n",
    "Also let me know if you can't attend either session."
   ]
  },
  {
   "cell_type": "markdown",
   "metadata": {},
   "source": [
    "## Assessment"
   ]
  },
  {
   "cell_type": "markdown",
   "metadata": {},
   "source": [
    "- There will be an assignment set by the time of the second lab session, which is all that's required to get credit.\n",
    "- Details TBC. The deadline will be ~2 weeks after the second lab. "
   ]
  },
  {
   "cell_type": "markdown",
   "metadata": {},
   "source": [
    "## Contents"
   ]
  },
  {
   "cell_type": "markdown",
   "metadata": {},
   "source": [
    "- [Introduction](#Introduction)\n",
    "    - [What is Python?](#What-is-Python?)\n",
    "    - [What does Object Oriented mean?](#What-does-Object-Oriented-mean?)\n",
    "    - [What are the benefits of python?](#What-are-the-benefits-of-python?)\n",
    "    - [Which python?](#Which-python?)\n",
    "- [Starting the python interpreter](#Starting-the-python-interpreter)\n",
    "    - [Python Scripts](#Python-Scripts)\n",
    "        - [Executable Scripts - Linux](#Executable-Scripts---Linux)\n",
    "        - [Executable Scripts - Windows](#Executable-Scripts---Windows)\n",
    "        - [Writing Scripts with Emacs](#Writing-Scripts-with-Emacs)\n",
    "- [Simple Calculations](#Simple-Calculations)\n",
    "- [Assignment to variables](#Assignment-to-variables)\n",
    "- [Basic Data Types](#Basic-Data-Types)\n",
    "    - [Numbers](#Numbers)\n",
    "    - [Booleans](#Booleans)\n",
    "    - [Strings](#Strings)\n",
    "    - [None](#None)\n",
    "- [Casting between types](#Casting-between-types)\n",
    "- [Sequences](#Sequences)\n",
    "    - [Lists](#Lists)\n",
    "    - [Tuples](#Tuples)\n",
    "    - [Dictionaries](#Dictionaries)\n",
    "    - [Sets](#Sets)\n",
    "- [Introspection](#Introspection)\n",
    "    - [`dir`](#dir)\n",
    "    - [`help`](#help)\n",
    "- [Flow Control](#Flow-Control)\n",
    "- [Looping](#Looping)\n",
    "    - [`while` Statements](#while-Statements)\n",
    "    - [`for` Loops](#for-Loops)\n",
    "- [Functions](#Functions)\n",
    "- [Classes](#Classes)\n",
    "    - [The Empty Class](#The-Empty-Class)\n",
    "    - [A Basic Class](#A-Basic-Class)\n",
    "    - [Inheritance](#Inheritance)\n",
    "    - [Class attributes](#Class-attributes)\n",
    "- [Modules](#Modules)\n",
    "    - [Importing Modules](#Importing-Modules)\n",
    "    - [Writing Your Own Modules](#Writing-Your-Own-Modules)\n",
    "    - [Importing or Executing as Main](#Importing-or-Executing-as-Main)\n",
    "- [Files, Input & Output](#Files,-Input-&-Output)\n",
    "    - [Reading & Writing Files](#Reading-&-Writing-Files)\n",
    "    - [The `with` Statement](#The-with-Statement)\n",
    "    - [File Parsing](#File-Parsing)\n",
    "    - [Data Persistency](#Data-Persistency)\n",
    "    - [Pickling](#Pickling)\n",
    "    - [Commandline Arguments](#Commandline-Arguments)\n",
    "- [Exceptions](#Exceptions)\n",
    "- [More Useful Builtin Functionality](#More-Useful-Builtin-Functionality)\n",
    "    - [Lambda Methods](#Lambda-Methods)\n",
    "    - [Sequence Manipulation](#Sequence-Manipulation)\n",
    "    - [More Ways to Iterate.](#More-Ways-to-Iterate.)\n",
    "    - [OS Interface](#OS-Interface)\n",
    "- [A Few Tips](#A-Few-Tips)\n",
    "- [Further Reading](#Further-Reading)\n",
    "- [The End](#The-End)"
   ]
  },
  {
   "cell_type": "markdown",
   "metadata": {},
   "source": [
    "## Introduction"
   ]
  },
  {
   "cell_type": "markdown",
   "metadata": {},
   "source": [
    "### What is Python?"
   ]
  },
  {
   "cell_type": "markdown",
   "metadata": {},
   "source": [
    "- Python is an Object Oriented (OO) scripting language. \n",
    "    - Everything in Python is an \"object\"!\n",
    "- Invented by Guido van Rossum.\n",
    "    - First release in 1991, still under constant development.\n",
    "    - Now managed by the not-for-profit [Python Software Foundation](http://www.python.org/psf/).\n",
    "- The official homepage is [http://www.python.org](http://www.python.org/).\n",
    "    - It has a detailed [tutorial](http://docs.python.org/2/tutorial/), which this course roughly follows, in condensed form."
   ]
  },
  {
   "cell_type": "markdown",
   "metadata": {},
   "source": [
    "### What does Object Oriented mean?"
   ]
  },
  {
   "cell_type": "markdown",
   "metadata": {},
   "source": [
    "- Mainly a means of organising and structuring code.\n",
    "- Data and functionality are contained in \"objects\", which are instances of \"classes\".\n",
    "- A class can be defined to contain whatever data you need (\"member data/attributes\") and perform operations on those data (using \"member methods\").\n",
    "- Each instance of a class then has the same data attributes, but can take different values for them.\n",
    "    - Eg, an employer might use database software with an Employee class with name, office no., and salary attributes.\n",
    "    - Each person in the database is then represented by an instance of the Employee class.\n",
    "    - Member methods of the Employee class might perform actions like printing info, changing salary, calculating tax, etc.\n",
    "    - These methods can then be called on a specific instance of Employee.\n",
    "- The benefits of object orientation are: \n",
    "    - A change to the class definition is propagated to every instance of that class.\n",
    "    - Eg, a home address member might be added to the Employee class definition, and all instances of that class can then contain that info. \n",
    "    - Similary, a change to the algorithm for calculating tax need only be made in the class definition and is then used by every class instance.\n",
    "    - Classes can be as simple or complicated as necessary.\n",
    "    - This allows you to break down a given problem into its most basic components, write a class for each, then build greater complexity on top using instances of these classes.\n",
    "- Allows you to structure your code so it's maintainable, flexible and extensible (and consequently less prone to bugs). "
   ]
  },
  {
   "cell_type": "markdown",
   "metadata": {},
   "source": [
    "### What are the benefits of python?"
   ]
  },
  {
   "cell_type": "markdown",
   "metadata": {},
   "source": [
    "- Syntax is simple and easy to learn.\n",
    "- It's interpreted - no compilation step needed.\n",
    "- Runs identically on almost any machine!\n",
    "- It's interactive - more intuitive alternative to shell scripts (eg, bash), ideal for interactive data analysis.\n",
    "- It's introspective - python objects can tell you a lot about themselves!\n",
    "- Dynamically typed (no explicit type declarations needed). \n",
    "- Extensive standard library provides lots of functionality.\n",
    "- Easily extensible.\n",
    "- It's a \"high-level\" language.\n",
    "- Complex computations often executed by a few simple commands.\n",
    "- Normally no need to worry about memory management.\n"
   ]
  },
  {
   "cell_type": "markdown",
   "metadata": {},
   "source": [
    "### Which python?"
   ]
  },
  {
   "cell_type": "markdown",
   "metadata": {},
   "source": [
    "- Two versions of python exist: v2.x and v3.x.\n",
    "- Python v2.x is stable, no more major releases are planned, only bugfixes.\n",
    "- The latest major release was v2.7 in 2010, there are still a few bugfix releases per year with the latest, v2.7.13, in Dec. 2016.\n",
    "- There are some [good arguments](http://python-notes.curiousefficiency.org/en/latest/python3/questions_and_answers.html#why-is-python-3-considered-a-better-language-to-teach-beginning-programmers) as to why v3.x might be better to teach, but as v2.x is still most widely distributed and used this course covers v2.x. Most content applies to both v2.x and v3.x.\n",
    "- v3.x has various improvements and additional features, and is still being developed.\n",
    "- It's the future of python, but is not fully backwards compatible.\n",
    "- v2.x is slowly being phased out, eg, in future Ubuntu aims to make [v3.x the default](https://wiki.ubuntu.com/Python).\n",
    "- See [here](https://wiki.python.org/moin/Python2orPython3) for more info on the differences between v2.x and v3.x."
   ]
  },
  {
   "cell_type": "markdown",
   "metadata": {},
   "source": [
    "## Starting the python interpreter"
   ]
  },
  {
   "cell_type": "markdown",
   "metadata": {},
   "source": [
    "- Python is installed by default with most linux distributions, eg, MacOS, Ubuntu, Debian, ...\n",
    "- Easy to install on Windows by selecting the relevant installer [here](http://www.python.org/download/).\n",
    "    - Make sure you add the directory containing python.exe to your \"Path\" environment variable (instructions [here](http://www.computerhope.com/issues/ch000549.htm)).\n",
    "    - The standard command prompt on Windows isn't very good, so you may wish to consider alternatives like [ConEmu](https://conemu.github.io/), or [ConsoleZ](https://github.com/cbucher/console), or if you want a linux style environment there's [Cygwin](http://www.cygwin.com/)."
   ]
  },
  {
   "cell_type": "markdown",
   "metadata": {},
   "source": [
    "- To start the python interpreter all you need to do is open a terminal and execute the command:"
   ]
  },
  {
   "cell_type": "raw",
   "metadata": {},
   "source": [
    "python"
   ]
  },
  {
   "cell_type": "markdown",
   "metadata": {},
   "source": [
    "- Then you'll be presented with the interactive python interpreter, which, in this notebook, looks like this:"
   ]
  },
  {
   "cell_type": "code",
   "execution_count": null,
   "metadata": {
    "collapsed": false
   },
   "outputs": [],
   "source": []
  },
  {
   "cell_type": "markdown",
   "metadata": {},
   "source": [
    "- Any valid python statement can then be entered for immediate evaluation.\n",
    "- The canonical example is a programme that simply outputs the statement \"Hello World!\".\n",
    "- In python this is just:"
   ]
  },
  {
   "cell_type": "code",
   "execution_count": null,
   "metadata": {
    "collapsed": false
   },
   "outputs": [],
   "source": [
    "print \"Hello World!\""
   ]
  },
  {
   "cell_type": "markdown",
   "metadata": {},
   "source": [
    "- In a terminal this will look more like this:\n",
    "\n",
    "<img src = './SUPAPYT-files/Python-Terminal.png', width = 450>"
   ]
  },
  {
   "cell_type": "markdown",
   "metadata": {},
   "source": [
    "- Here's your first python command: \"print\", which converts objects to text and outputs them to the console.\n",
    "- When you start the interactive interpreter the version of python you're using is normally shown (2.7.9 here). You can also check the version with\n"
   ]
  },
  {
   "cell_type": "code",
   "execution_count": null,
   "metadata": {
    "collapsed": false
   },
   "outputs": [],
   "source": [
    "!python --version"
   ]
  },
  {
   "cell_type": "markdown",
   "metadata": {},
   "source": [
    "- Note that, in ipython, a \"!\" in front of a command passes the command to the system shell, rather than the python interpreter, so the above is the equivalent of just entering \"`python --version`\" at the commandilne."
   ]
  },
  {
   "cell_type": "markdown",
   "metadata": {},
   "source": [
    "- At the interactive prompt you can actually omit the \"print\", which is more like asking the interpreter \"what is this object?\", rather than necessarily outputing it in human readable format:"
   ]
  },
  {
   "cell_type": "code",
   "execution_count": null,
   "metadata": {
    "collapsed": false
   },
   "outputs": [],
   "source": [
    "\"Hello World!\""
   ]
  },
  {
   "cell_type": "markdown",
   "metadata": {},
   "source": [
    "- More on what exactly the difference is later.\n",
    "- This means the interactive prompt is also a handy calculator:"
   ]
  },
  {
   "cell_type": "code",
   "execution_count": null,
   "metadata": {
    "collapsed": false
   },
   "outputs": [],
   "source": [
    "10+3"
   ]
  },
  {
   "cell_type": "markdown",
   "metadata": {},
   "source": [
    "- You can then do ctrl-D on linux or ctrl-Z on Windows, or call the exit() method, to exit the interactive prompt."
   ]
  },
  {
   "cell_type": "markdown",
   "metadata": {},
   "source": [
    "### Python Scripts"
   ]
  },
  {
   "cell_type": "markdown",
   "metadata": {},
   "source": [
    "- The interactive prompt is fine for simple commands, but not much use for more involved work as you can't save code, or go back and edit it.\n",
    "- For this you want to write your code into a plain text file, normally referred to as a \"script\", which can then be passed to the python interpreter.\n",
    "- Any decent text editor can be used to do this, eg, [emacs](http://www.gnu.org/software/emacs/) or [vim](http://www.vim.org/), both of which are also available for Windows, or any of the many other options. \n",
    "- Python scripts are usually suffixed with .py (though they don't have to be).\n",
    "- To put the \"Hello world!\" command into a script first open a text file with an appropriate name by doing, eg, if you're using emacs:"
   ]
  },
  {
   "cell_type": "raw",
   "metadata": {},
   "source": [
    "emacs hello_world.py"
   ]
  },
  {
   "cell_type": "markdown",
   "metadata": {},
   "source": [
    "- And write your commands into it, so it contains:"
   ]
  },
  {
   "cell_type": "code",
   "execution_count": null,
   "metadata": {
    "collapsed": false
   },
   "outputs": [],
   "source": [
    "%%writefile hello_world.py\n",
    "print \"Hello world!\""
   ]
  },
  {
   "cell_type": "markdown",
   "metadata": {},
   "source": [
    "- Here \"`%% writefile`\" is just an ipython trick for writing to a file. "
   ]
  },
  {
   "cell_type": "markdown",
   "metadata": {},
   "source": [
    "- Check the contents of the file:"
   ]
  },
  {
   "cell_type": "code",
   "execution_count": null,
   "metadata": {
    "collapsed": false
   },
   "outputs": [],
   "source": [
    "!cat hello_world.py"
   ]
  },
  {
   "cell_type": "markdown",
   "metadata": {},
   "source": [
    "- Then pass it to the python interpreter by doing:"
   ]
  },
  {
   "cell_type": "code",
   "execution_count": null,
   "metadata": {
    "collapsed": false
   },
   "outputs": [],
   "source": [
    "# Again, ignore the !\n",
    "!python hello_world.py"
   ]
  },
  {
   "cell_type": "markdown",
   "metadata": {},
   "source": [
    "- Note that, unlike at the interactive prompt, if you omit the print statement in a script you don't get any output."
   ]
  },
  {
   "cell_type": "markdown",
   "metadata": {},
   "source": [
    "- You can also direct the output into a file in the usual way by doing:"
   ]
  },
  {
   "cell_type": "code",
   "execution_count": null,
   "metadata": {
    "collapsed": false
   },
   "outputs": [],
   "source": [
    "!python hello_world.py > hello_world.log"
   ]
  },
  {
   "cell_type": "markdown",
   "metadata": {},
   "source": [
    "- Then check the contents of the log file:"
   ]
  },
  {
   "cell_type": "code",
   "execution_count": null,
   "metadata": {
    "collapsed": false
   },
   "outputs": [],
   "source": [
    "!cat hello_world.log"
   ]
  },
  {
   "cell_type": "markdown",
   "metadata": {},
   "source": [
    "- Or to execute a script and then enter interactive mode using:"
   ]
  },
  {
   "cell_type": "raw",
   "metadata": {},
   "source": [
    "python -i hello_world.py"
   ]
  },
  {
   "cell_type": "markdown",
   "metadata": {},
   "source": [
    "- Other options are available, check them out with:"
   ]
  },
  {
   "cell_type": "code",
   "execution_count": null,
   "metadata": {
    "collapsed": false
   },
   "outputs": [],
   "source": [
    "!python -h"
   ]
  },
  {
   "cell_type": "markdown",
   "metadata": {},
   "source": [
    "#### Executable Scripts - Linux"
   ]
  },
  {
   "cell_type": "markdown",
   "metadata": {},
   "source": [
    "- On a linux machine you can make the script executable by adding the \"shebang\" line at the start of the script:"
   ]
  },
  {
   "cell_type": "code",
   "execution_count": null,
   "metadata": {
    "collapsed": false
   },
   "outputs": [],
   "source": [
    "%%writefile hello_world.py\n",
    "#!/bin/env python\n",
    "print 'Hello world!'"
   ]
  },
  {
   "cell_type": "markdown",
   "metadata": {},
   "source": [
    "- On OSX you might need to use:"
   ]
  },
  {
   "cell_type": "raw",
   "metadata": {},
   "source": [
    "#!/usr/bin/env python"
   ]
  },
  {
   "cell_type": "markdown",
   "metadata": {},
   "source": [
    "- Though you can always put a link in `/bin` to make it compatible with other linux distros by doing:"
   ]
  },
  {
   "cell_type": "raw",
   "metadata": {},
   "source": [
    "sudo ln -s /usr/bin/env /bin/env"
   ]
  },
  {
   "cell_type": "markdown",
   "metadata": {},
   "source": [
    "- You can then make the script executable by doing:"
   ]
  },
  {
   "cell_type": "code",
   "execution_count": null,
   "metadata": {
    "collapsed": false
   },
   "outputs": [],
   "source": [
    "!chmod +x hello_world.py"
   ]
  },
  {
   "cell_type": "markdown",
   "metadata": {},
   "source": [
    "- So it can be called simply by doing (remember to ignore the ! when working on the commandline):"
   ]
  },
  {
   "cell_type": "code",
   "execution_count": null,
   "metadata": {
    "collapsed": false
   },
   "outputs": [],
   "source": [
    "!./hello_world.py"
   ]
  },
  {
   "cell_type": "markdown",
   "metadata": {},
   "source": [
    "#### Executable Scripts - Windows"
   ]
  },
  {
   "cell_type": "markdown",
   "metadata": {},
   "source": [
    "- In Windows any file ending in .py should automatically be executable from the commandline in this way (the \"shebang\" is just interpreted as a comment and ignored).\n",
    "- You can also execute a script in Windows simply by double clicking the file as usual.\n",
    "    - This will normally open a terminal, execute the script, then immediately close the terminal, so isn't so useful if you want to view output."
   ]
  },
  {
   "cell_type": "markdown",
   "metadata": {},
   "source": [
    "#### Writing Scripts with Emacs"
   ]
  },
  {
   "cell_type": "markdown",
   "metadata": {},
   "source": [
    "- Emacs has the functionality to simultaneously edit a script and run the interactive prompt. \n",
    "- Open a script in emacs, select the \"Python\" menu, then click \"Start interpreter\" (the exact menu layout may differ depending on which version of emacs you use):\n",
    "\n",
    "<img src = './SUPAPYT-files/Emacs-1-StartInterpreter.png', width = 450>"
   ]
  },
  {
   "cell_type": "markdown",
   "metadata": {},
   "source": [
    "- This starts the python interpreter within emacs, in a separate frame:\n",
    "\n",
    "<img src = './SUPAPYT-files/Emacs-2-InterpreterOpen.png', width = 450>"
   ]
  },
  {
   "cell_type": "markdown",
   "metadata": {},
   "source": [
    "- Then, selecting the original frame again, open the Python menu and select \"Eval buffer\" (or do ctrl-C ctrl-C):\n",
    "\n",
    "<img src = './SUPAPYT-files/Emacs-3-EvalBuffer.png', width = 450>"
   ]
  },
  {
   "cell_type": "markdown",
   "metadata": {},
   "source": [
    "- This executes the whole script in the interpreter frame, and displays any output:\n",
    "\n",
    "<img src = './SUPAPYT-files/Emacs-4-BufferEvaled.png', width = 450>"
   ]
  },
  {
   "cell_type": "markdown",
   "metadata": {},
   "source": [
    "- This allows you to easily edit, execute and debug a script in one place.\n",
    "- You can also execute a specific section of code by highlighting it and selecting \"Eval region\".\n",
    "- Various other Integrated Development Environments (IDEs) are available for python. Which to use is largely a matter of taste. "
   ]
  },
  {
   "cell_type": "markdown",
   "metadata": {},
   "source": [
    "## Simple Calculations"
   ]
  },
  {
   "cell_type": "markdown",
   "metadata": {},
   "source": [
    "All the standard operators are available:\n",
    "\n",
    "    +    add\n",
    "\n",
    "    -    subtract\n",
    "\n",
    "    *    multiply\n",
    "\n",
    "    /    divide\n",
    "\n",
    "    %    remainder\n",
    "\n",
    "    **   exponentiate\n",
    "\n",
    "As said, the interactive prompt is handy as a simple calculator:"
   ]
  },
  {
   "cell_type": "code",
   "execution_count": null,
   "metadata": {
    "collapsed": false
   },
   "outputs": [],
   "source": [
    "2+2"
   ]
  },
  {
   "cell_type": "code",
   "execution_count": null,
   "metadata": {
    "collapsed": false
   },
   "outputs": [],
   "source": [
    "# Integer (int) division returns the floor (hashes precede a  \n",
    "# comment - text that's ignored by the interpreter)\n",
    "3/2"
   ]
  },
  {
   "cell_type": "code",
   "execution_count": null,
   "metadata": {
    "collapsed": false
   },
   "outputs": [],
   "source": [
    "-3/2"
   ]
  },
  {
   "cell_type": "code",
   "execution_count": null,
   "metadata": {
    "collapsed": false
   },
   "outputs": [],
   "source": [
    "# A number containing a decimal point is interpreted as a \n",
    "# floating point number (\"float\" for short).\n",
    "3/2."
   ]
  },
  {
   "cell_type": "code",
   "execution_count": null,
   "metadata": {
    "collapsed": false
   },
   "outputs": [],
   "source": [
    "# The usual operator precedence applies\n",
    "1 + 2 * 3"
   ]
  },
  {
   "cell_type": "code",
   "execution_count": null,
   "metadata": {
    "collapsed": false
   },
   "outputs": [],
   "source": [
    "# As do parenthesis rules\n",
    "(1 + 2) * 3"
   ]
  },
  {
   "cell_type": "code",
   "execution_count": null,
   "metadata": {
    "collapsed": false
   },
   "outputs": [],
   "source": [
    "# Integer remainder\n",
    "15 % 10"
   ]
  },
  {
   "cell_type": "code",
   "execution_count": null,
   "metadata": {
    "collapsed": false
   },
   "outputs": [],
   "source": [
    "# Remainder also works on floats\n",
    "print 5.4 % 2"
   ]
  },
  {
   "cell_type": "code",
   "execution_count": null,
   "metadata": {
    "collapsed": false
   },
   "outputs": [],
   "source": [
    "# If all variables are ints the result is an int\n",
    "(6-2)**2"
   ]
  },
  {
   "cell_type": "code",
   "execution_count": null,
   "metadata": {
    "collapsed": false
   },
   "outputs": [],
   "source": [
    "# If one is a float, the result is a float\n",
    "(6-2)**2."
   ]
  },
  {
   "cell_type": "code",
   "execution_count": null,
   "metadata": {
    "collapsed": false
   },
   "outputs": [],
   "source": [
    "# At the interactive prompt the last value that was output is assigned to \n",
    "# the variable \"_\", which can simplify calculations.\n",
    "_"
   ]
  },
  {
   "cell_type": "code",
   "execution_count": null,
   "metadata": {
    "collapsed": false
   },
   "outputs": [],
   "source": [
    "_ + 7.5"
   ]
  },
  {
   "cell_type": "code",
   "execution_count": null,
   "metadata": {
    "collapsed": false
   },
   "outputs": [],
   "source": [
    "_ * 1.204"
   ]
  },
  {
   "cell_type": "markdown",
   "metadata": {},
   "source": [
    "## Assignment to variables"
   ]
  },
  {
   "cell_type": "code",
   "execution_count": null,
   "metadata": {
    "collapsed": false
   },
   "outputs": [],
   "source": [
    "# As simple as this, no type declaration is needed. Just name the\n",
    "# variable and give it a value with =.\n",
    "width = 5\n",
    "length = 2\n",
    "area = width * length\n",
    "area"
   ]
  },
  {
   "cell_type": "code",
   "execution_count": null,
   "metadata": {
    "collapsed": false
   },
   "outputs": [],
   "source": [
    "# You can assign variables from other variables.\n",
    "area2 = area\n",
    "area2"
   ]
  },
  {
   "cell_type": "code",
   "execution_count": null,
   "metadata": {
    "collapsed": false
   },
   "outputs": [],
   "source": [
    "# The same value can be assigned to several variables simultaneously \n",
    "# like this:\n",
    "x = y = z = 0.\n",
    "x, y, z"
   ]
  },
  {
   "cell_type": "code",
   "execution_count": null,
   "metadata": {
    "collapsed": false
   },
   "outputs": [],
   "source": [
    "# Or to give different values separate them with commas\n",
    "x, y, z = 1, 2, 3\n",
    "x, y, z"
   ]
  },
  {
   "cell_type": "code",
   "execution_count": null,
   "metadata": {
    "collapsed": false
   },
   "outputs": [],
   "source": [
    "# Several commands on one line can be separated by semi-colons\n",
    "x = 4; y = 5; z = 6;\n",
    "x, y, z"
   ]
  },
  {
   "cell_type": "markdown",
   "metadata": {},
   "source": [
    "## Basic Data Types"
   ]
  },
  {
   "cell_type": "markdown",
   "metadata": {},
   "source": [
    "### Numbers"
   ]
  },
  {
   "cell_type": "code",
   "execution_count": null,
   "metadata": {
    "collapsed": false
   },
   "outputs": [],
   "source": [
    "# A number without a decimal point is an int\n",
    "x = 123\n",
    "\n",
    "# You can check the type of any variable using the \"type\" method.\n",
    "# A method is called (excuted) using brackets which contain the \n",
    "# arguments that're passed to the method.\n",
    "\n",
    "# You can also pass several arguments to a \"print\" statement by separating\n",
    "# them with commas.\n",
    "# They're then output with a single space between them.\n",
    "print x, type(x)"
   ]
  },
  {
   "cell_type": "code",
   "execution_count": null,
   "metadata": {
    "collapsed": false
   },
   "outputs": [],
   "source": [
    "# Suffix an int with \"l\" or \"L\" to make a long int (allows larger values)\n",
    "# Note that python lets you change the type of the variable x without \n",
    "# complaint\n",
    "x = 123456789L\n",
    "print x, type(x)"
   ]
  },
  {
   "cell_type": "code",
   "execution_count": null,
   "metadata": {
    "collapsed": false
   },
   "outputs": [],
   "source": [
    "# A 0 prefix causes a number to be interpreted as an octal number,\n",
    "# though it's converted to base 10 and stored as a regular int. \n",
    "x = 010\n",
    "print x, type(x)"
   ]
  },
  {
   "cell_type": "code",
   "execution_count": null,
   "metadata": {
    "collapsed": false
   },
   "outputs": [],
   "source": [
    "# Similarly for hexidecimal numbers prefix with 0x\n",
    "x = 0xF\n",
    "print x, type(x)"
   ]
  },
  {
   "cell_type": "code",
   "execution_count": null,
   "metadata": {
    "collapsed": false
   },
   "outputs": [],
   "source": [
    "# Anything with a decimal point or in scientific notation is a float.\n",
    "# In python all floats are \"double\" precision (normally 16 d.p.), \n",
    "# \"single\" precision float doesn't exist.\n",
    "x = 123.\n",
    "print x, type(x)\n",
    "# \"e\" or \"E\" is allowed for scientific notation\n",
    "x = 1e6\n",
    "print x, type(x)"
   ]
  },
  {
   "cell_type": "code",
   "execution_count": null,
   "metadata": {
    "collapsed": false
   },
   "outputs": [],
   "source": [
    "# Python also has a builtin complex number class.\n",
    "# \"j\" or \"J\" is valid.\n",
    "x = 1 + 2j\n",
    "print x, type(x)"
   ]
  },
  {
   "cell_type": "code",
   "execution_count": null,
   "metadata": {
    "collapsed": false
   },
   "outputs": [],
   "source": [
    "# You can also use the complex class constructor.\n",
    "x = complex(3,4)\n",
    "print x, type(x)"
   ]
  },
  {
   "cell_type": "code",
   "execution_count": null,
   "metadata": {
    "collapsed": false
   },
   "outputs": [],
   "source": [
    "# Real and imaginary parts are stored as floats.\n",
    "# Access member \"attributes\" of an object with '.'\n",
    "print x.real, type(x.real)\n",
    "print x.imag, type(x.imag)"
   ]
  },
  {
   "cell_type": "code",
   "execution_count": null,
   "metadata": {
    "collapsed": false
   },
   "outputs": [],
   "source": [
    "# Also use '.' for member methods.\n",
    "y = x.conjugate()\n",
    "print y, type(y)"
   ]
  },
  {
   "cell_type": "markdown",
   "metadata": {},
   "source": [
    "### Booleans"
   ]
  },
  {
   "cell_type": "code",
   "execution_count": null,
   "metadata": {
    "collapsed": false
   },
   "outputs": [],
   "source": [
    "# Boolean types start with capital letters\n",
    "x = True\n",
    "y = False\n",
    "print x, type(x)\n",
    "print y, type(y)"
   ]
  },
  {
   "cell_type": "code",
   "execution_count": null,
   "metadata": {
    "collapsed": false
   },
   "outputs": [],
   "source": [
    "# Particularly relevant for comparisons\n",
    "print 1==1\n",
    "print 1==0"
   ]
  },
  {
   "cell_type": "code",
   "execution_count": null,
   "metadata": {
    "collapsed": false
   },
   "outputs": [],
   "source": [
    "# You can also assign from comparisons\n",
    "x = (1==1)\n",
    "print x, type(x)"
   ]
  },
  {
   "cell_type": "code",
   "execution_count": null,
   "metadata": {
    "collapsed": false
   },
   "outputs": [],
   "source": [
    "# Be careful of using builtin types as variable names.\n",
    "# Python will happily accept it, but you then lose access to the builtin \n",
    "# type.\n",
    "True = 123\n",
    "print True, type(True)"
   ]
  },
  {
   "cell_type": "code",
   "execution_count": null,
   "metadata": {
    "collapsed": false
   },
   "outputs": [],
   "source": [
    "# Comparisons still return the expected type though.\n",
    "print 1==1"
   ]
  },
  {
   "cell_type": "code",
   "execution_count": null,
   "metadata": {
    "collapsed": false
   },
   "outputs": [],
   "source": [
    "# And you can recover the builtin type by deleting the variable \n",
    "# of the same name with the \"del\" keyword\n",
    "del True\n",
    "print True, type(True)"
   ]
  },
  {
   "cell_type": "markdown",
   "metadata": {},
   "source": [
    "### Strings"
   ]
  },
  {
   "cell_type": "code",
   "execution_count": null,
   "metadata": {
    "collapsed": false
   },
   "outputs": [],
   "source": [
    "# We already saw a string in 'Hello world!'\n",
    "# They can be defined using single or double quotes.\n",
    "name = 'Sir Gallahad'\n",
    "print name"
   ]
  },
  {
   "cell_type": "code",
   "execution_count": null,
   "metadata": {
    "collapsed": false
   },
   "outputs": [],
   "source": [
    "name = \"Brave Sir Robin\"\n",
    "print name"
   ]
  },
  {
   "cell_type": "code",
   "execution_count": null,
   "metadata": {
    "collapsed": false
   },
   "outputs": [],
   "source": [
    "# A string can contain quotation marks.\n",
    "# If they're the same as the enclosing quotation marks they need to be \n",
    "# \"escaped\" with a backslash, if they're different they don't need to  \n",
    "# be escaped.\n",
    "\"He's running away\""
   ]
  },
  {
   "cell_type": "code",
   "execution_count": null,
   "metadata": {
    "collapsed": false
   },
   "outputs": [],
   "source": [
    "'He\\'s chickening out'"
   ]
  },
  {
   "cell_type": "code",
   "execution_count": null,
   "metadata": {
    "collapsed": false
   },
   "outputs": [],
   "source": [
    "# You can continue a string onto the next line with a backslash\n",
    "lyric = 'Brave Sir Robin \\\n",
    "ran away'\n",
    "lyric"
   ]
  },
  {
   "cell_type": "code",
   "execution_count": null,
   "metadata": {
    "collapsed": false
   },
   "outputs": [],
   "source": [
    "# Multi-line strings use triple quotes - can also use '''\n",
    "lyric = \"\"\"Boldly ran\n",
    " away\n",
    "  away ...\"\"\"\n",
    "# \\n is the newline character\n",
    "lyric"
   ]
  },
  {
   "cell_type": "code",
   "execution_count": null,
   "metadata": {
    "collapsed": false
   },
   "outputs": [],
   "source": [
    "# Spaces at the start of lines are kept\n",
    "print lyric"
   ]
  },
  {
   "cell_type": "code",
   "execution_count": null,
   "metadata": {
    "collapsed": false
   },
   "outputs": [],
   "source": [
    "# If not assigned to a variable (and not the only thing in a script)\n",
    "# a multi-line string can be used as a multi-line comment - python is \n",
    "# clever enough to ignore it and not allocate any memory to it.\n",
    "'''This is a \n",
    "multi-line comment'''\n",
    "lyric = ''"
   ]
  },
  {
   "cell_type": "code",
   "execution_count": null,
   "metadata": {
    "collapsed": false
   },
   "outputs": [],
   "source": [
    "# You can concatenate strings with +\n",
    "'Spam ' + 'and eggs'"
   ]
  },
  {
   "cell_type": "code",
   "execution_count": null,
   "metadata": {
    "collapsed": false
   },
   "outputs": [],
   "source": [
    "# You can optionally omit the + as python implicitly concatenates two strings declared\n",
    "# side-by-side (the case above is explicit concatenation).\n",
    "'Spam ' 'and eggs'"
   ]
  },
  {
   "cell_type": "code",
   "execution_count": null,
   "metadata": {
    "collapsed": false
   },
   "outputs": [],
   "source": [
    "# Again single or double quotes doesn't matter.\n",
    "'Spam ' \"and eggs\""
   ]
  },
  {
   "cell_type": "code",
   "execution_count": null,
   "metadata": {
    "collapsed": false
   },
   "outputs": [],
   "source": [
    "# You can also multiply strings by integers\n",
    "'Spam ' * 3"
   ]
  },
  {
   "cell_type": "code",
   "execution_count": null,
   "metadata": {
    "collapsed": false
   },
   "outputs": [],
   "source": [
    "# Strings have lots of member methods, eg\n",
    "menu = 'Spam and eggs'\n",
    "menu.upper()"
   ]
  },
  {
   "cell_type": "code",
   "execution_count": null,
   "metadata": {
    "collapsed": false
   },
   "outputs": [],
   "source": [
    "# Note that these methods return new strings, and don't change the original.\n",
    "menu2 = menu.replace('eggs', 'spam')\n",
    "menu2"
   ]
  },
  {
   "cell_type": "code",
   "execution_count": null,
   "metadata": {
    "collapsed": false
   },
   "outputs": [],
   "source": [
    "menu"
   ]
  },
  {
   "cell_type": "code",
   "execution_count": null,
   "metadata": {
    "collapsed": false
   },
   "outputs": [],
   "source": [
    "# You can access single characters in a string using indexing\n",
    "# with square brackets.\n",
    "# Access the 4th character from the start (indices start at 0)\n",
    "menu[3]"
   ]
  },
  {
   "cell_type": "code",
   "execution_count": null,
   "metadata": {
    "collapsed": false
   },
   "outputs": [],
   "source": [
    "# Python also allows negative indices, which count from the end \n",
    "# of the string (or other indexable object).\n",
    "# eg, access the 4th character from the end:\n",
    "menu[-4]"
   ]
  },
  {
   "cell_type": "code",
   "execution_count": null,
   "metadata": {
    "collapsed": false
   },
   "outputs": [],
   "source": [
    "# You can also access slices of a string like so:\n",
    "menu[1:3]"
   ]
  },
  {
   "cell_type": "code",
   "execution_count": null,
   "metadata": {
    "collapsed": false
   },
   "outputs": [],
   "source": [
    "# Omitting the first index is equivalent to it being 0\n",
    "menu[:3]"
   ]
  },
  {
   "cell_type": "code",
   "execution_count": null,
   "metadata": {
    "collapsed": false
   },
   "outputs": [],
   "source": [
    "# Omitting the second index is the same as it being equal to the nubmer of characters in the \n",
    "# string.\n",
    "menu[3:]"
   ]
  },
  {
   "cell_type": "code",
   "execution_count": null,
   "metadata": {
    "collapsed": false
   },
   "outputs": [],
   "source": [
    "# So this returns the original string:\n",
    "menu[:3] + menu[3:]"
   ]
  },
  {
   "cell_type": "code",
   "execution_count": null,
   "metadata": {
    "collapsed": false
   },
   "outputs": [],
   "source": [
    "# Negative indices are also allowed when slicing.\n",
    "# This gives the last 3 characters:\n",
    "menu[-3:]"
   ]
  },
  {
   "cell_type": "code",
   "execution_count": null,
   "metadata": {
    "collapsed": false
   },
   "outputs": [],
   "source": [
    "# This gives everything but the last 3 characters.\n",
    "menu[:-3]"
   ]
  },
  {
   "cell_type": "code",
   "execution_count": null,
   "metadata": {
    "collapsed": false
   },
   "outputs": [],
   "source": [
    "# If the index range is negative, or beyond the length of \n",
    "# the string, you get an empty string.\n",
    "menu[10:2]"
   ]
  },
  {
   "cell_type": "code",
   "execution_count": null,
   "metadata": {
    "collapsed": false
   },
   "outputs": [],
   "source": [
    "menu[23:45]"
   ]
  },
  {
   "cell_type": "code",
   "execution_count": null,
   "metadata": {
    "collapsed": false
   },
   "outputs": [],
   "source": [
    "# Strings have various formatting methods that're very useful for making \n",
    "# output more easily readable.\n",
    "# Old style formatting, similar to the printf method in C, using % as a \n",
    "# flag. This rounds the float to 2 d.p. then pads the string from the left\n",
    "# with spaces til it's 8 characters long (if it's more than 8 characters to\n",
    "# begin with it doesn't add any spaces).\n",
    "print 'Result: %8.2f' % 1.435"
   ]
  },
  {
   "cell_type": "code",
   "execution_count": null,
   "metadata": {
    "collapsed": false
   },
   "outputs": [],
   "source": [
    "# Multiple formatting parameters can be passed inside brackets.\n",
    "print 'Result: %8.2f +/- %4.2f' % (1.435, 0.035)"
   ]
  },
  {
   "cell_type": "code",
   "execution_count": null,
   "metadata": {
    "collapsed": false
   },
   "outputs": [],
   "source": [
    "# Python style formatting uses the \"format\" member method of strings.\n",
    "# Curly brackets are replaced by the arguments of format.\n",
    "print 'Result: {} +/- {}'.format(1.435, 0.035)"
   ]
  },
  {
   "cell_type": "code",
   "execution_count": null,
   "metadata": {
    "collapsed": false
   },
   "outputs": [],
   "source": [
    "# If you put indices in the curly brackets they're replaced by the \n",
    "# argument of the same index.\n",
    "# This is particulary useful if you use an argument more than once.\n",
    "print '{0} and {1} and {0}'.format('spam', 'eggs')"
   ]
  },
  {
   "cell_type": "code",
   "execution_count": null,
   "metadata": {
    "collapsed": false
   },
   "outputs": [],
   "source": [
    "# You can use C style formatting flags within the curly brackets, after \n",
    "# a colon. Firstly without indices.\n",
    "print 'Result: {:8.2f} +/- {:4.2f}'.format(1.435, 0.035)"
   ]
  },
  {
   "cell_type": "code",
   "execution_count": null,
   "metadata": {
    "collapsed": false
   },
   "outputs": [],
   "source": [
    "# And with indices.\n",
    "print 'Result: {1:8.2f} +/- {0:4.2f}'.format(0.035, 1.435)"
   ]
  },
  {
   "cell_type": "code",
   "execution_count": null,
   "metadata": {
    "collapsed": false
   },
   "outputs": [],
   "source": [
    "# Yet another alternative is using 'keywords'. Rather than an index, \n",
    "# use a word to label each argument.\n",
    "print 'Result: {value:8.2f} +/- {error:4.2f}'.format(value = 1.435, \n",
    "                                                     error = 0.035)"
   ]
  },
  {
   "cell_type": "code",
   "execution_count": null,
   "metadata": {
    "collapsed": false
   },
   "outputs": [],
   "source": [
    "# You don't need to format a string at initialisation. The format method \n",
    "# actually returns a new string, which you can assign to a new variable.\n",
    "genericResult = 'Result: {:8.2f} +/- {:4.2f}'\n",
    "result1 = genericResult.format(3.2432, 0.2234)\n",
    "result2 = genericResult.format(2.8982, 0.0879)\n",
    "print genericResult\n",
    "print result1\n",
    "print result2"
   ]
  },
  {
   "cell_type": "markdown",
   "metadata": {},
   "source": [
    "- For a full description of the formatting syntax see [here](http://docs.python.org/2/library/string.html#formatstrings), and [here](http://docs.python.org/2/library/string.html#formatspec) for a description of the various flags available.\n",
    "- Various other useful formatting methods exist for strings, eg: rjust, ljust, center, rstrip, lstrip, zfill ..."
   ]
  },
  {
   "cell_type": "markdown",
   "metadata": {},
   "source": [
    "### None"
   ]
  },
  {
   "cell_type": "markdown",
   "metadata": {},
   "source": [
    "`None` is the null type, and is useful for comparisons or as a default value for something that may be assigned later."
   ]
  },
  {
   "cell_type": "code",
   "execution_count": null,
   "metadata": {
    "collapsed": false
   },
   "outputs": [],
   "source": [
    "result = None\n",
    "print result, (result==None)"
   ]
  },
  {
   "cell_type": "code",
   "execution_count": null,
   "metadata": {
    "collapsed": false
   },
   "outputs": [],
   "source": [
    "result = 10.\n",
    "result==None"
   ]
  },
  {
   "cell_type": "markdown",
   "metadata": {},
   "source": [
    "## Casting between types"
   ]
  },
  {
   "cell_type": "markdown",
   "metadata": {},
   "source": [
    "- Since python allows you to change the type of a variable, variables aren't implicitly cast in assignment.\n",
    "- To switch types you need to call the constructor of your desired type."
   ]
  },
  {
   "cell_type": "code",
   "execution_count": null,
   "metadata": {
    "collapsed": false
   },
   "outputs": [],
   "source": [
    "# Everything can be converted to a string in some way, using str(), this \n",
    "# is done when an object is printed.\n",
    "str(123), str(True), str(4.), str(None)"
   ]
  },
  {
   "cell_type": "code",
   "execution_count": null,
   "metadata": {
    "collapsed": false
   },
   "outputs": [],
   "source": [
    "# Many things can also be converted to ints.\n",
    "int('1'), int(4.5), int(True), int(False), int(1e12)"
   ]
  },
  {
   "cell_type": "code",
   "execution_count": null,
   "metadata": {
    "collapsed": false
   },
   "outputs": [],
   "source": [
    "# If the number being converted is too large to store as a regular int\n",
    "# the call to the int constructor returns a long int.\n",
    "print type(int(1e18)), type(int(1e19))"
   ]
  },
  {
   "cell_type": "code",
   "execution_count": null,
   "metadata": {
    "collapsed": false
   },
   "outputs": [],
   "source": [
    "# Using the long constructor always returns a long int, regardless of its\n",
    "# size.\n",
    "long(2)"
   ]
  },
  {
   "cell_type": "code",
   "execution_count": null,
   "metadata": {
    "collapsed": false
   },
   "outputs": [],
   "source": [
    "# When casting from string to int (or long) you can define the base to \n",
    "# use by passing a second argument to int()\n",
    "print int('11'), int('11', 8), int('11', 2)\n",
    "# Hexadecimal notation is also allowed.\n",
    "print long('F', 16)"
   ]
  },
  {
   "cell_type": "code",
   "execution_count": null,
   "metadata": {
    "collapsed": false
   },
   "outputs": [],
   "source": [
    "# Some strings can't be interpreted as ints though, and then int() raises \n",
    "# an exception.\n",
    "int('spam')"
   ]
  },
  {
   "cell_type": "markdown",
   "metadata": {},
   "source": [
    "- Exceptions are raised when python fails to evaluate an expression and can't continue.\n",
    "- There are various types of Exception for different problems. \n",
    "- Normally they give some information on what the problem is.\n",
    "- More on exceptions later."
   ]
  },
  {
   "cell_type": "code",
   "execution_count": null,
   "metadata": {
    "collapsed": false
   },
   "outputs": [],
   "source": [
    "# Casting to float works similarly.\n",
    "float(123), float('34.2'), float(True), float(False)"
   ]
  },
  {
   "cell_type": "code",
   "execution_count": null,
   "metadata": {
    "collapsed": false
   },
   "outputs": [],
   "source": [
    "# And fails under similar conditions.\n",
    "float('eggs')"
   ]
  },
  {
   "cell_type": "code",
   "execution_count": null,
   "metadata": {
    "collapsed": false
   },
   "outputs": [],
   "source": [
    "# The complex class can also cast from strings.\n",
    "complex('1+2j')"
   ]
  },
  {
   "cell_type": "code",
   "execution_count": null,
   "metadata": {
    "collapsed": false
   },
   "outputs": [],
   "source": [
    "# Any non-zero number is cast to a bool as True.\n",
    "bool(), bool(None), bool(0), bool(1), bool(23.2), bool(-6L), bool(3.3+5.4j)"
   ]
  },
  {
   "cell_type": "code",
   "execution_count": null,
   "metadata": {
    "collapsed": false
   },
   "outputs": [],
   "source": [
    "# Any non-empty string (or other iterable object) is also cast to True, \n",
    "# regradless of content.\n",
    "bool(''), bool('spam'), bool('True'), bool('False')"
   ]
  },
  {
   "cell_type": "markdown",
   "metadata": {},
   "source": [
    "- So all very straight forward so far.\n",
    "\n",
    "<img src = 'http://imgs.xkcd.com/comics/python.png', width = 450>"
   ]
  },
  {
   "cell_type": "markdown",
   "metadata": {},
   "source": [
    "- Try `import antigravity` from the python prompt! (Available from python 2.7 - more on importing later)."
   ]
  },
  {
   "cell_type": "markdown",
   "metadata": {},
   "source": [
    "## Sequences"
   ]
  },
  {
   "cell_type": "markdown",
   "metadata": {},
   "source": [
    "- Sequences are similar to arrays, they contain other objects, but have much more built-in functionality.\n",
    "- Strings are just sequences of characters.\n",
    "- Elements of a sequence can be iterated over in order.\n",
    "- Almost every script will use a sequence in some way."
   ]
  },
  {
   "cell_type": "markdown",
   "metadata": {},
   "source": [
    "### Lists"
   ]
  },
  {
   "cell_type": "markdown",
   "metadata": {},
   "source": [
    "- \"Lists\" are like __mutable__ arrays, ie, their contents can be changed.\n",
    "- They can contain objects of different types."
   ]
  },
  {
   "cell_type": "code",
   "execution_count": null,
   "metadata": {
    "collapsed": false
   },
   "outputs": [],
   "source": [
    "# Lists are represented by square brackets.\n",
    "# Create an empty list:\n",
    "L1 = []\n",
    "L2 = list()\n",
    "print L1, L1==L2"
   ]
  },
  {
   "cell_type": "code",
   "execution_count": null,
   "metadata": {
    "collapsed": false
   },
   "outputs": [],
   "source": [
    "# Lists can contain objects of any type:\n",
    "x = 3.4 + 6.8j\n",
    "L1 = [1, 2, 3.5, 'spam', x, True, None]\n",
    "print L1\n",
    "# Get the length of a sequence with len()\n",
    "print len(L1)"
   ]
  },
  {
   "cell_type": "code",
   "execution_count": null,
   "metadata": {
    "collapsed": false
   },
   "outputs": [],
   "source": [
    "# Add a single element to a list using append.\n",
    "L = [1, 2, 3]\n",
    "L.append(4)\n",
    "print L\n",
    "L.append('spam')\n",
    "print L\n",
    "# An element of a list can be another list.\n",
    "L.append([5, 6])\n",
    "print L"
   ]
  },
  {
   "cell_type": "code",
   "execution_count": null,
   "metadata": {
    "collapsed": false
   },
   "outputs": [],
   "source": [
    "# Add one or more elements to a list using extend.\n",
    "# extend iterates over the object passed to it and adds each \n",
    "# element to the list.\n",
    "L = [1, 2, 3]\n",
    "L.extend([4, 5])\n",
    "print L\n",
    "L.extend([6])\n",
    "print L\n",
    "L.extend('spam')\n",
    "print L"
   ]
  },
  {
   "cell_type": "code",
   "execution_count": null,
   "metadata": {
    "collapsed": false
   },
   "outputs": [],
   "source": [
    "# Lists can be concatenated with +\n",
    "L1 = [3, 2, 1, 0]\n",
    "L2 = L1 + [-1, -2]\n",
    "print L2\n",
    "# The += operator behaves similarly to extend, \n",
    "# but only works when adding on another list.\n",
    "L1 += [-1, -2, -3]\n",
    "print L1"
   ]
  },
  {
   "cell_type": "code",
   "execution_count": null,
   "metadata": {
    "collapsed": false
   },
   "outputs": [],
   "source": [
    "# Lists can also be multplied by integers to repeat them.\n",
    "L1 = [1, 2] * 3\n",
    "print L1"
   ]
  },
  {
   "cell_type": "code",
   "execution_count": null,
   "metadata": {
    "collapsed": false
   },
   "outputs": [],
   "source": [
    "# Elements or slices can be accessed just like strings.\n",
    "L = [3, 2, 1, 0, -1, -2, -3]\n",
    "print L[0]\n",
    "print L[1:3]"
   ]
  },
  {
   "cell_type": "code",
   "execution_count": null,
   "metadata": {
    "collapsed": false
   },
   "outputs": [],
   "source": [
    "# Lists are \"mutable\", meaning you can change their elements.\n",
    "L[0] = ['a', 'b']\n",
    "print L"
   ]
  },
  {
   "cell_type": "code",
   "execution_count": null,
   "metadata": {
    "collapsed": false
   },
   "outputs": [],
   "source": [
    "# This is not so for strings, they're \"immutable\", so you can't\n",
    "# change an element. If you try you get an exception.\n",
    "name = 'Sir Lancelot'\n",
    "name[0] = 's'"
   ]
  },
  {
   "cell_type": "code",
   "execution_count": null,
   "metadata": {
    "collapsed": false
   },
   "outputs": [],
   "source": [
    "# The pop method removes an element and returns its value.\n",
    "L = [3, 2, 1, 0, -1, -2, -3]\n",
    "# By default it's the last element in the list.\n",
    "elm1 = L.pop()\n",
    "print L, elm1\n",
    "# pop can also take an index as argument to remove a specific element.\n",
    "elm2 = L.pop(0)\n",
    "print L, elm2"
   ]
  },
  {
   "cell_type": "code",
   "execution_count": null,
   "metadata": {
    "collapsed": false
   },
   "outputs": [],
   "source": [
    "# You can simply delete elements or slices from the list using del\n",
    "L = [3, 2, 1, 0, -1, -2, -3]\n",
    "del L[0]\n",
    "del L[:2]\n",
    "print L"
   ]
  },
  {
   "cell_type": "code",
   "execution_count": null,
   "metadata": {
    "collapsed": false
   },
   "outputs": [],
   "source": [
    "# You can check if a list contains an object with the 'in' \n",
    "# keyword\n",
    "print 0 in L\n",
    "print 3 in L"
   ]
  },
  {
   "cell_type": "markdown",
   "metadata": {},
   "source": [
    "### Tuples"
   ]
  },
  {
   "cell_type": "markdown",
   "metadata": {},
   "source": [
    "- \"Tuples\" are very similar to lists but are \"immutable\".\n",
    "- Like strings, this means you can't modify the elements of a tuple.\n",
    "- So if you intend to change a sequence later use a list, if you want it to be impossible to change use a tuple."
   ]
  },
  {
   "cell_type": "code",
   "execution_count": null,
   "metadata": {
    "collapsed": false
   },
   "outputs": [],
   "source": [
    "# Tuples are represented by regular brackets ().\n",
    "# An empty tuple:\n",
    "t1 = ()\n",
    "t2 = tuple()\n",
    "print t1, t1==t2"
   ]
  },
  {
   "cell_type": "code",
   "execution_count": null,
   "metadata": {
    "collapsed": false
   },
   "outputs": [],
   "source": [
    "# Otherwise elements of a tuple are separated by commas.\n",
    "# You can put previously assigned variables into any\n",
    "# sequence.\n",
    "x = [3,4]\n",
    "t = (1, 2, 3.5, 'a', x, True, None)\n",
    "print t"
   ]
  },
  {
   "cell_type": "code",
   "execution_count": null,
   "metadata": {
    "collapsed": false
   },
   "outputs": [],
   "source": [
    "# To create a single element tuple you need to add a comma\n",
    "# This just assigns zero to t1\n",
    "t1 = (0)\n",
    "# While this makes a single element tuple\n",
    "t2 = (0,)\n",
    "print t1, type(t1), t2, type(t2)"
   ]
  },
  {
   "cell_type": "code",
   "execution_count": null,
   "metadata": {
    "collapsed": false
   },
   "outputs": [],
   "source": [
    "# If you omit the brackets any sequence of objects separated by\n",
    "# commas is made into a tuple on-the-fly.\n",
    "t1 = 1, 2, 3, 4\n",
    "print t1, type(t1)"
   ]
  },
  {
   "cell_type": "code",
   "execution_count": null,
   "metadata": {
    "collapsed": false
   },
   "outputs": [],
   "source": [
    "# You can get the number of elements using len as with a list.\n",
    "len(t1)"
   ]
  },
  {
   "cell_type": "code",
   "execution_count": null,
   "metadata": {
    "collapsed": false
   },
   "outputs": [],
   "source": [
    "# Concatenation work in the same way as lists.\n",
    "t2 = t1 + (5, 6)\n",
    "print t2\n",
    "t3 = (1, 2) * 3\n",
    "print t3"
   ]
  },
  {
   "cell_type": "code",
   "execution_count": null,
   "metadata": {
    "collapsed": false
   },
   "outputs": [],
   "source": [
    "# As with access to elements or slices.\n",
    "print t2[0] \n",
    "print t2[1:3] \n",
    "print t2[-1]"
   ]
  },
  {
   "cell_type": "code",
   "execution_count": null,
   "metadata": {
    "collapsed": false
   },
   "outputs": [],
   "source": [
    "# Though, as with strings, if you try to change an element \n",
    "# you get an exception\n",
    "t2[0] = 'eggs'"
   ]
  },
  {
   "cell_type": "code",
   "execution_count": null,
   "metadata": {
    "collapsed": false
   },
   "outputs": [],
   "source": [
    "# Similarly, no pop method exists, and you can't delete \n",
    "# elements or slices of a tuple using del. Though you \n",
    "# can delete the whole tuple like so:\n",
    "del t2"
   ]
  },
  {
   "cell_type": "code",
   "execution_count": null,
   "metadata": {
    "collapsed": false
   },
   "outputs": [],
   "source": [
    "# You can \"unpack\" a tuple or list, or any other iterable, \n",
    "# and assign their elements to individual variables, like so:\n",
    "t = 1, 2, 3\n",
    "x, y, z = t\n",
    "print x, y, z"
   ]
  },
  {
   "cell_type": "code",
   "execution_count": null,
   "metadata": {
    "collapsed": false
   },
   "outputs": [],
   "source": [
    "# This also works for strings.\n",
    "s = 'abc'\n",
    "a, b, c = s\n",
    "print a, b, c"
   ]
  },
  {
   "cell_type": "code",
   "execution_count": null,
   "metadata": {
    "collapsed": false
   },
   "outputs": [],
   "source": [
    "# Swapping the contents of variables is then trivial:\n",
    "a, b = 1, 2\n",
    "b, a = a, b\n",
    "print a, b"
   ]
  },
  {
   "cell_type": "markdown",
   "metadata": {},
   "source": [
    "### Dictionaries"
   ]
  },
  {
   "cell_type": "markdown",
   "metadata": {},
   "source": [
    "- \"Dictionaries\" store elements in pairs of (key, element), and are then indexed by keys, whereas lists and tuples are indexed by integers.\n",
    "- A key can be any type of object (so long as it's immutable), as can elements.\n",
    "- The (key, element) pairs are __unordered__, ie, are not necessarily stored in the same order as they're added to a dictionary."
   ]
  },
  {
   "cell_type": "code",
   "execution_count": null,
   "metadata": {
    "collapsed": false
   },
   "outputs": [],
   "source": [
    "# Dictionaries are represented by curly brackets {}.\n",
    "# Make an empty dictionary like so:\n",
    "d1 = {}\n",
    "d2 = dict()\n",
    "print d1, d1==d2"
   ]
  },
  {
   "cell_type": "code",
   "execution_count": null,
   "metadata": {
    "collapsed": false
   },
   "outputs": [],
   "source": [
    "# The syntax for creating a dictionary is:\n",
    "# d = {key1 : element1, key2 : element2, ...}\n",
    "# Strings are often used as keys:\n",
    "d = {'None' : 0, 'a' : 1, 'b' : 'second'}\n",
    "print d\n",
    "# The value of an element is then retrieved using the \n",
    "# relevant key as the index.\n",
    "print d['a']\n",
    "# You can also store a key in a variable and use the \n",
    "# variable as index:\n",
    "key = 'b'\n",
    "print 'Key:', key, ', element:', d[key]\n",
    "# len works as on lists and tuples.\n",
    "print 'Length of d is', len(d)"
   ]
  },
  {
   "cell_type": "markdown",
   "metadata": {},
   "source": [
    "- Note that the order in which the keys and elements are printed are is not the same as the order in which they were originally declared."
   ]
  },
  {
   "cell_type": "code",
   "execution_count": null,
   "metadata": {
    "collapsed": false
   },
   "outputs": [],
   "source": [
    "# You don't have to use strings as keys.\n",
    "d = {None : 'nothing', 2+3j : 84L, 3.4 : 6}\n",
    "print d\n",
    "print d[3.4]\n",
    "print d[None]"
   ]
  },
  {
   "cell_type": "code",
   "execution_count": null,
   "metadata": {
    "collapsed": false
   },
   "outputs": [],
   "source": [
    "phonebook = {'Me' : 1000, 'Sir Robin' : 2000, \n",
    "            'Sir Gallahad' : 3000}\n",
    "# Get a list of keys with the keys() member method.\n",
    "print phonebook.keys()\n",
    "# or a list of the element values with values()\n",
    "print phonebook.values()"
   ]
  },
  {
   "cell_type": "code",
   "execution_count": null,
   "metadata": {
    "collapsed": false
   },
   "outputs": [],
   "source": [
    "# Check if a dictionary has a given key with has_key:\n",
    "print phonebook.has_key('Sir Robin')\n",
    "print phonebook.has_key('Sir Lancelot')"
   ]
  },
  {
   "cell_type": "code",
   "execution_count": null,
   "metadata": {
    "collapsed": false
   },
   "outputs": [],
   "source": [
    "# Or with the \"in\" keyword, which can be used on any sequence:\n",
    "print 'Me' in phonebook\n",
    "print 1 in (2, 3, 4)"
   ]
  },
  {
   "cell_type": "code",
   "execution_count": null,
   "metadata": {
    "collapsed": false
   },
   "outputs": [],
   "source": [
    "# Dictionaries are mutable, so you can change the elements \n",
    "# as with lists:\n",
    "phonebook['Sir Robin'] = 2345\n",
    "# Or you can add a new (key, element) pair by assigning a \n",
    "# value to a key that isn't in the dict:\n",
    "phonebook['Sir Lancelot'] = 8734\n",
    "print phonebook"
   ]
  },
  {
   "cell_type": "code",
   "execution_count": null,
   "metadata": {
    "collapsed": false
   },
   "outputs": [],
   "source": [
    "# As you might expect, if you try to access a key that doesn't \n",
    "# exist you get an exception.\n",
    "phonebook['spam']"
   ]
  },
  {
   "cell_type": "code",
   "execution_count": null,
   "metadata": {
    "collapsed": false
   },
   "outputs": [],
   "source": [
    "# Again, similarly to lists, you can delete elements by key:\n",
    "del phonebook['Me']\n",
    "print phonebook"
   ]
  },
  {
   "cell_type": "code",
   "execution_count": null,
   "metadata": {
    "collapsed": false
   },
   "outputs": [],
   "source": [
    "# Or clear it using the clear() method:\n",
    "phonebook.clear()\n",
    "print phonebook"
   ]
  },
  {
   "cell_type": "code",
   "execution_count": null,
   "metadata": {
    "collapsed": false
   },
   "outputs": [],
   "source": [
    "# Or delete it entirely.\n",
    "del phonebook"
   ]
  },
  {
   "cell_type": "markdown",
   "metadata": {},
   "source": [
    "### Sets"
   ]
  },
  {
   "cell_type": "markdown",
   "metadata": {},
   "source": [
    "- The last kind of builtin sequence in python, sets are __unordered__ sequences of unique elements."
   ]
  },
  {
   "cell_type": "code",
   "execution_count": null,
   "metadata": {
    "collapsed": false
   },
   "outputs": [],
   "source": [
    "# You can declare them like a list or tuple using \n",
    "# curly brackets\n",
    "s = {1,2,3}\n",
    "print s"
   ]
  },
  {
   "cell_type": "code",
   "execution_count": null,
   "metadata": {
    "collapsed": false
   },
   "outputs": [],
   "source": [
    "# Or you can use the set constructor, which takes any \n",
    "# iterable object as argument, from which unique elements\n",
    "# are added.\n",
    "s = set([4,5,6,4,5,6])\n",
    "print s"
   ]
  },
  {
   "cell_type": "code",
   "execution_count": null,
   "metadata": {
    "collapsed": false
   },
   "outputs": [],
   "source": [
    "# If you make a set from a string it selects unique \n",
    "# characters from it, though their order isn't \n",
    "# retained.\n",
    "s = set('spam and eggs')\n",
    "print s"
   ]
  },
  {
   "cell_type": "code",
   "execution_count": null,
   "metadata": {
    "collapsed": false
   },
   "outputs": [],
   "source": [
    "# Note that to make an empty set you need to use the set\n",
    "# constructor as {} gives you an empty dictionary.\n",
    "print set(), type(set())\n",
    "print {}, type({})"
   ]
  },
  {
   "cell_type": "code",
   "execution_count": null,
   "metadata": {
    "collapsed": false
   },
   "outputs": [],
   "source": [
    "# Unlike a list or tuple, you can't access elements by index\n",
    "s = set('spam and eggs')\n",
    "s[0]"
   ]
  },
  {
   "cell_type": "code",
   "execution_count": null,
   "metadata": {
    "collapsed": false
   },
   "outputs": [],
   "source": [
    "# But you can check if a set contains an object in \n",
    "# the same way.\n",
    "print 'e' in s\n",
    "print 42 in s"
   ]
  },
  {
   "cell_type": "code",
   "execution_count": null,
   "metadata": {
    "collapsed": false
   },
   "outputs": [],
   "source": [
    "# You can add or remove elements using the add and remove\n",
    "# member methods.\n",
    "s.add('k')\n",
    "print s\n",
    "print 'k' in s"
   ]
  },
  {
   "cell_type": "code",
   "execution_count": null,
   "metadata": {
    "collapsed": false
   },
   "outputs": [],
   "source": [
    "s.remove('e')\n",
    "print s\n",
    "print 'e' in s"
   ]
  },
  {
   "cell_type": "markdown",
   "metadata": {},
   "source": [
    "- Sets support many other operations like mathematical sets, eg intesection, union, difference, etc. "
   ]
  },
  {
   "cell_type": "code",
   "execution_count": null,
   "metadata": {
    "collapsed": false
   },
   "outputs": [],
   "source": [
    "print s.difference(set('spam and eggs'))"
   ]
  },
  {
   "cell_type": "markdown",
   "metadata": {},
   "source": [
    "## Introspection"
   ]
  },
  {
   "cell_type": "markdown",
   "metadata": {},
   "source": [
    "- We've now seen a few more complicated objects that have various attributes and member methods: str, complex, list, tuple, dict, set.\n",
    "- In other languages you normally have to look up a reference library or examine source code to find the full list of attributes and functions for a given class.\n",
    "- In python, however, documentation is built in, and an object can provide almost all the info you'll need on it interactively!"
   ]
  },
  {
   "cell_type": "markdown",
   "metadata": {},
   "source": [
    "### `dir`"
   ]
  },
  {
   "cell_type": "markdown",
   "metadata": {},
   "source": [
    "- Firstly the `dir()` method.\n",
    "- Called without an argument it returns a list of all variables that're available in the current scope.\n",
    "- Called on an object it returns a list of attributes of that object."
   ]
  },
  {
   "cell_type": "markdown",
   "metadata": {},
   "source": [
    "- On a fresh python prompt the same variables are always available:"
   ]
  },
  {
   "cell_type": "raw",
   "metadata": {},
   "source": [
    "dir()\n",
    "['__builtins__', '__doc__', '__name__', '__package__']"
   ]
  },
  {
   "cell_type": "markdown",
   "metadata": {},
   "source": [
    "- Any variable prefixed with underscores is normally not meant to be accessed directly, only internally, though you can still access them should you have need.\n",
    "- \"builtins\" contains all the default classes and functions available in python.\n",
    "- \"doc\" contains the in-built documentation on the current module. \n",
    "- \"name\" and \"package\" are the name of the current module and the package to which it belongs."
   ]
  },
  {
   "cell_type": "code",
   "execution_count": null,
   "metadata": {
    "collapsed": false
   },
   "outputs": [],
   "source": [
    "# As we've declared many things in the process of this course dir \n",
    "# returns rather more now.\n",
    "print dir()"
   ]
  },
  {
   "cell_type": "code",
   "execution_count": null,
   "metadata": {
    "collapsed": false
   },
   "outputs": [],
   "source": [
    "# You can see the full list of built-in functionality available by doing\n",
    "print dir(__builtins__)"
   ]
  },
  {
   "cell_type": "code",
   "execution_count": null,
   "metadata": {
    "collapsed": false
   },
   "outputs": [],
   "source": [
    "# You can call dir on a class type or an instance of a class.\n",
    "print dir(complex)"
   ]
  },
  {
   "cell_type": "markdown",
   "metadata": {},
   "source": [
    "- Again we see lots of variables with underscores before and after their names.\n",
    "- We also see the 'real' and 'imag' members we used before, as well as the 'conjugate' method."
   ]
  },
  {
   "cell_type": "markdown",
   "metadata": {},
   "source": [
    "- Many of the 'hidden' (underscored) methods are called behind the scenes when operators are used. \n",
    "- Eg, the `__add__` method is what's used by the + operator."
   ]
  },
  {
   "cell_type": "code",
   "execution_count": null,
   "metadata": {
    "collapsed": false
   },
   "outputs": [],
   "source": [
    "# These are all equivalent:\n",
    "print 1 + 2\n",
    "print (1).__add__(2)\n",
    "x, y = 1, 2\n",
    "print x.__add__(2)"
   ]
  },
  {
   "cell_type": "markdown",
   "metadata": {},
   "source": [
    "- More on the significance of double underscored methods later."
   ]
  },
  {
   "cell_type": "markdown",
   "metadata": {},
   "source": [
    "### `help`"
   ]
  },
  {
   "cell_type": "markdown",
   "metadata": {},
   "source": [
    "- So `dir` is good for finding names of attributes, but doesn't tell you anything about them\n",
    "- For that you need the `help` method, which accesses the internal documentation."
   ]
  },
  {
   "cell_type": "code",
   "execution_count": null,
   "metadata": {
    "collapsed": false
   },
   "outputs": [],
   "source": [
    "# For instance, the dir method has its own built-in documentation:\n",
    "help(dir)"
   ]
  },
  {
   "cell_type": "code",
   "execution_count": null,
   "metadata": {
    "collapsed": false
   },
   "outputs": [],
   "source": [
    "# Or for the conjugate method of the complex class:\n",
    "help(complex.conjugate)"
   ]
  },
  {
   "cell_type": "code",
   "execution_count": null,
   "metadata": {
    "collapsed": false
   },
   "outputs": [],
   "source": [
    "# You can also enter interactive help mode by calling help without an \n",
    "# argument. You can then enter any class or method name for help on it, \n",
    "# or search for a specific word, etc.\n",
    "help()"
   ]
  },
  {
   "cell_type": "markdown",
   "metadata": {},
   "source": [
    "- This looks slightly different on the interactive prompt, rather than in this notebook, but the functionality is all the same."
   ]
  },
  {
   "cell_type": "markdown",
   "metadata": {},
   "source": [
    "- We already saw that you can determine the type of an object using the `type` method.\n",
    "- You can also check if an object is of a certain type using `isinstance`:"
   ]
  },
  {
   "cell_type": "code",
   "execution_count": null,
   "metadata": {
    "collapsed": false
   },
   "outputs": [],
   "source": [
    "print isinstance(1, int)\n",
    "print isinstance(3., int)"
   ]
  },
  {
   "cell_type": "markdown",
   "metadata": {},
   "source": [
    "- This is useful if you want to handle different types of objects differently.\n",
    "- You can also pass a tuple as the second argument to `isinstance`, in which case it returns `True` if the object is of any of the types in the tuple:"
   ]
  },
  {
   "cell_type": "code",
   "execution_count": null,
   "metadata": {
    "collapsed": false
   },
   "outputs": [],
   "source": [
    "# Check if something is a numerical type:\n",
    "print isinstance(.234, (int, long, float))\n",
    "print isinstance('spam', (int, long, float))"
   ]
  },
  {
   "cell_type": "markdown",
   "metadata": {},
   "source": [
    "- For further info try `dir` or `help` on any object, class name, method, type specification, or indeed anything!"
   ]
  },
  {
   "cell_type": "markdown",
   "metadata": {},
   "source": [
    "## Flow Control"
   ]
  },
  {
   "cell_type": "code",
   "execution_count": null,
   "metadata": {
    "collapsed": false
   },
   "outputs": [],
   "source": [
    "# Evaluate a boolean expression and perform certain actions accordingly.\n",
    "# The 'else' is optional.\n",
    "yesNo = True\n",
    "if yesNo :\n",
    "    print 'Yes'\n",
    "else :\n",
    "    print 'No'"
   ]
  },
  {
   "cell_type": "code",
   "execution_count": null,
   "metadata": {
    "collapsed": false
   },
   "outputs": [],
   "source": [
    "# If you only have a single expression to evaluate it can be on \n",
    "# the same line as the if/elif/else statement.\n",
    "if yesNo : print 'Yes'\n",
    "else : print 'No'"
   ]
  },
  {
   "cell_type": "code",
   "execution_count": null,
   "metadata": {
    "collapsed": false
   },
   "outputs": [],
   "source": [
    "# An if statement can be followed by an arbitrary number of elif \n",
    "# statements. Each boolean expression is evaluated in turn until one is \n",
    "# found to be True. Then the associated code block is evaluated and the \n",
    "# sequence terminates. If all booleans evaluate to False then the 'else' \n",
    "# block is evaluated.\n",
    "x = 10 \n",
    "if x < 0 :\n",
    "    print 'Negative'\n",
    "elif x == 0 : \n",
    "    print 'Zero'\n",
    "else :\n",
    "    print 'Positive'"
   ]
  },
  {
   "cell_type": "code",
   "execution_count": null,
   "metadata": {
    "collapsed": false
   },
   "outputs": [],
   "source": [
    "# Boolean statements can be combined using \"and\" and \"or\":\n",
    "x = 3456.\n",
    "if x > 2000. and x < 4000. :\n",
    "    print 'x is in the signal region'\n",
    "elif x < 1000. or x > 5000. :\n",
    "    print 'x is in the background region'"
   ]
  },
  {
   "cell_type": "markdown",
   "metadata": {},
   "source": [
    "- Indentation is python's way of defining code blocks (groups of statements). \n",
    "- Note that spaces aren't the same as tabs (though most text editors convert tabs to spaces).\n",
    "- Groups of statements with the same amount of indentation make a code block.\n",
    "- A colon is always followed by an increase in indentation (unless it's a one-liner).\n",
    "- Blocks can also be nested:"
   ]
  },
  {
   "cell_type": "code",
   "execution_count": null,
   "metadata": {
    "collapsed": false
   },
   "outputs": [],
   "source": [
    "x = -324\n",
    "if x < 0 :\n",
    "    if x < -100 :\n",
    "        print 'x < -100'\n",
    "    else :\n",
    "        print '-100 <= x < 0'"
   ]
  },
  {
   "cell_type": "markdown",
   "metadata": {},
   "source": [
    "- The standard convention is 4 spaces indentation for a block.\n",
    "- This makes code easily readable by other users.\n",
    "- The commonly prescribed to coding convention for python is [PEP-8](http://www.python.org/dev/peps/pep-0008/).\n",
    "- It includes other guidelines for writing easily human readable code.\n",
    "- Python accepts any level of indentation though, provided it's consistent within a block, so it's a matter of personal preference."
   ]
  },
  {
   "cell_type": "code",
   "execution_count": null,
   "metadata": {
    "collapsed": false
   },
   "outputs": [],
   "source": [
    "# Eg, using 2 spaces.\n",
    "x = 1e6\n",
    "if x < 0 :\n",
    "  print 'Negative'\n",
    "elif x == 0 :\n",
    "  print 'Zero'\n",
    "else :\n",
    "  print 'Positive'"
   ]
  },
  {
   "cell_type": "markdown",
   "metadata": {},
   "source": [
    "- A common comment is that it might be better to enclose code blocks in braces, `{ ... }`, but to get the developers' opinion just try \n",
    "\n",
    "`from __future__ import braces`\n",
    "\n",
    "and\n",
    "\n",
    "`import this`"
   ]
  },
  {
   "cell_type": "markdown",
   "metadata": {},
   "source": [
    "## Looping"
   ]
  },
  {
   "cell_type": "markdown",
   "metadata": {},
   "source": [
    "### `while` Statements"
   ]
  },
  {
   "cell_type": "markdown",
   "metadata": {},
   "source": [
    "- A `while` statement takes a boolean expression followed by an indented block of code.\n",
    "- If the boolean expression is `True` the indented code block is evaluated.\n",
    "- The boolean is then re-evaluated and the process repeats until the expression is found to be `False`, at which point the loop terminates."
   ]
  },
  {
   "cell_type": "code",
   "execution_count": null,
   "metadata": {
    "collapsed": false
   },
   "outputs": [],
   "source": [
    "i = 0\n",
    "while i < 10 :\n",
    "    # Note the trailing comma on the print statement.\n",
    "    # This prevents a newline character being added,\n",
    "    # so all output appears on the same line.\n",
    "    print i,\n",
    "    i += 1\n",
    "# Printing an empty string means the newline is now\n",
    "# printed.\n",
    "print ''\n",
    "print i, i < 10"
   ]
  },
  {
   "cell_type": "code",
   "execution_count": null,
   "metadata": {
    "collapsed": false
   },
   "outputs": [],
   "source": [
    "# Use the fact that a non-empty list evaluates to True\n",
    "# and an empty one to False.\n",
    "# Loops backwards over the list.\n",
    "L = [1, 2, 3, 4, 5]\n",
    "while L :\n",
    "    print L.pop(),"
   ]
  },
  {
   "cell_type": "markdown",
   "metadata": {},
   "source": [
    "### `for` Loops"
   ]
  },
  {
   "cell_type": "markdown",
   "metadata": {},
   "source": [
    "- The \"`range`\" built-in method returns a list of integers."
   ]
  },
  {
   "cell_type": "code",
   "execution_count": null,
   "metadata": {
    "collapsed": false
   },
   "outputs": [],
   "source": [
    "# If only one argument is given to range the list goes\n",
    "# from 0 up to the argument minus 1.\n",
    "print range(10)"
   ]
  },
  {
   "cell_type": "code",
   "execution_count": null,
   "metadata": {
    "collapsed": false
   },
   "outputs": [],
   "source": [
    "# If two are given range returns a list of integers\n",
    "# with values between the two.\n",
    "print range(1, 4)"
   ]
  },
  {
   "cell_type": "code",
   "execution_count": null,
   "metadata": {
    "collapsed": false
   },
   "outputs": [],
   "source": [
    "# A third argument gives the step size between elements.\n",
    "print range(-8, 10, 2)"
   ]
  },
  {
   "cell_type": "markdown",
   "metadata": {},
   "source": [
    "- The syntax for looping over any sequence is \"`for element in sequence :`\", eg:"
   ]
  },
  {
   "cell_type": "code",
   "execution_count": null,
   "metadata": {
    "collapsed": false
   },
   "outputs": [],
   "source": [
    "# Iterate over the list of integers returned by range:\n",
    "for i in range(1, 4) :\n",
    "    print i,"
   ]
  },
  {
   "cell_type": "code",
   "execution_count": null,
   "metadata": {
    "collapsed": false
   },
   "outputs": [],
   "source": [
    "# Iterate over characters in a string:\n",
    "for char in 'eggs' :\n",
    "    print char"
   ]
  },
  {
   "cell_type": "code",
   "execution_count": null,
   "metadata": {
    "collapsed": false
   },
   "outputs": [],
   "source": [
    "# Iterate over a tuple:\n",
    "my_tuple = (1, 2, 3, 'a', (8,9), True, None)\n",
    "for elm in my_tuple :\n",
    "    print elm,"
   ]
  },
  {
   "cell_type": "code",
   "execution_count": null,
   "metadata": {
    "collapsed": false
   },
   "outputs": [],
   "source": [
    "# Iterate over indices of the tuple.\n",
    "for i in range(len(my_tuple)) :\n",
    "    print i, my_tuple[i]"
   ]
  },
  {
   "cell_type": "markdown",
   "metadata": {},
   "source": [
    "- `continue`, `break` and `pass` can be used to control loop behaviour."
   ]
  },
  {
   "cell_type": "code",
   "execution_count": null,
   "metadata": {
    "collapsed": false
   },
   "outputs": [],
   "source": [
    "for i in range(10, -100, -1) :\n",
    "    if i == 0 :\n",
    "        # Continue with the next iteration.\n",
    "        continue\n",
    "    elif i % 2 == 1 :\n",
    "        # The pass statement means \"do nothing\".\n",
    "        pass\n",
    "    else :\n",
    "        print i,\n",
    "        \n",
    "    if i < -10 :\n",
    "        # Stop the enclosing loop entirely.\n",
    "        break"
   ]
  },
  {
   "cell_type": "markdown",
   "metadata": {},
   "source": [
    "## Functions"
   ]
  },
  {
   "cell_type": "markdown",
   "metadata": {},
   "source": [
    "- For any repeated operations you want to define a function.\n",
    "- This is done with the `def` keyword.\n",
    "- There's no need for a separate header file - declare and implement as needed.\n",
    "- No return type specified, nor argument types (if there are any arguments).\n",
    "- In fact no need to specify if the function returns anything!"
   ]
  },
  {
   "cell_type": "code",
   "execution_count": null,
   "metadata": {
    "collapsed": false
   },
   "outputs": [],
   "source": [
    "# Put \"Hello world!\" into a function.\n",
    "def hello_world() :\n",
    "    print 'Hello world!'"
   ]
  },
  {
   "cell_type": "code",
   "execution_count": null,
   "metadata": {
    "collapsed": false
   },
   "outputs": [],
   "source": [
    "# Then call it.\n",
    "hello_world()"
   ]
  },
  {
   "cell_type": "code",
   "execution_count": null,
   "metadata": {
    "collapsed": false
   },
   "outputs": [],
   "source": [
    "# A simple function with two arguments.\n",
    "# Return values are specified with the \"return\" keyword.\n",
    "def sum_of_squares(x, y) :\n",
    "    return x**2 + y**2"
   ]
  },
  {
   "cell_type": "code",
   "execution_count": null,
   "metadata": {
    "collapsed": false
   },
   "outputs": [],
   "source": [
    "# Call the function.\n",
    "a, b = 2, 3\n",
    "c = sum_of_squares(a, b)\n",
    "print c"
   ]
  },
  {
   "cell_type": "code",
   "execution_count": null,
   "metadata": {
    "collapsed": false
   },
   "outputs": [],
   "source": [
    "# A function with no return value actually returns None\n",
    "var = hello_world()\n",
    "print var"
   ]
  },
  {
   "cell_type": "markdown",
   "metadata": {},
   "source": [
    "- Functions are also objects, and so can be assigned to variables."
   ]
  },
  {
   "cell_type": "code",
   "execution_count": null,
   "metadata": {
    "collapsed": false
   },
   "outputs": [],
   "source": [
    "print type(sum_of_squares)\n",
    "radius_sq = sum_of_squares\n",
    "print radius_sq == sum_of_squares"
   ]
  },
  {
   "cell_type": "markdown",
   "metadata": {},
   "source": [
    "- As with the simple calculations we saw before, the type returned depends on the types of the arguments."
   ]
  },
  {
   "cell_type": "code",
   "execution_count": null,
   "metadata": {
    "collapsed": false
   },
   "outputs": [],
   "source": [
    "# Call the variable assigned to the function just\n",
    "# as you do the original function.\n",
    "x = radius_sq(1, 2)\n",
    "print type(x)\n",
    "x = radius_sq(3, 4.)\n",
    "print type(x)\n",
    "x = radius_sq(3+4j, 6.)\n",
    "print type(x)"
   ]
  },
  {
   "cell_type": "markdown",
   "metadata": {},
   "source": [
    "- Recursive functions (functions that call themselves) work as usual."
   ]
  },
  {
   "cell_type": "code",
   "execution_count": null,
   "metadata": {
    "collapsed": false
   },
   "outputs": [],
   "source": [
    "def fibonacci(n) :\n",
    "    if n < 3 :\n",
    "        return 1\n",
    "    return fibonacci(n-1) + fibonacci(n-2)"
   ]
  },
  {
   "cell_type": "code",
   "execution_count": null,
   "metadata": {
    "collapsed": false
   },
   "outputs": [],
   "source": [
    "for i in range(1, 11) :\n",
    "    print fibonacci(i),"
   ]
  },
  {
   "cell_type": "markdown",
   "metadata": {},
   "source": [
    "- The built-in documentation accessed by the `help` method is stored in a function's \"doc string\" as part of the function definition.\n",
    "- Any string declared at the top of a function/class/module definition is taken as being the doc string."
   ]
  },
  {
   "cell_type": "code",
   "execution_count": null,
   "metadata": {
    "collapsed": false
   },
   "outputs": [],
   "source": [
    "# Redefine the method with a doc string.\n",
    "def sum_of_squares(x, y) :\n",
    "    '''Returns the sum of squares.\n",
    "    \n",
    "    Takes two arguments.'''\n",
    "    return x**2 + y**2"
   ]
  },
  {
   "cell_type": "code",
   "execution_count": null,
   "metadata": {
    "collapsed": false
   },
   "outputs": [],
   "source": [
    "help(sum_of_squares)"
   ]
  },
  {
   "cell_type": "code",
   "execution_count": null,
   "metadata": {
    "collapsed": false
   },
   "outputs": [],
   "source": [
    "# The doc string is stored in the __doc__ attribute \n",
    "# of an object.\n",
    "print sum_of_squares.__doc__"
   ]
  },
  {
   "cell_type": "markdown",
   "metadata": {},
   "source": [
    "- Always add a doc string where possible!\n",
    "- It's easily done - write doc as you go.\n",
    "- Allows someone else (or yourself in future) to find out what your code does easily.\n",
    "- Without it `help` is useless."
   ]
  },
  {
   "cell_type": "markdown",
   "metadata": {},
   "source": [
    "- Functions can be written to accept variable numbers of arguments in very flexible ways using \"`*args`\" and \"`**kwargs`\" as arguments.\n",
    "- See the hands-on exercises for more details."
   ]
  },
  {
   "cell_type": "markdown",
   "metadata": {},
   "source": [
    "## Classes"
   ]
  },
  {
   "cell_type": "markdown",
   "metadata": {},
   "source": [
    "- As mentioned at the beginning of the course, classes are a means of sensibly organising and grouping data and functionality.\n",
    "- A class contains member data (\"attributes\") and member functions.\n",
    "- Every instance of a class has the same data structure and can call the same functions."
   ]
  },
  {
   "cell_type": "markdown",
   "metadata": {},
   "source": [
    "### The Empty Class"
   ]
  },
  {
   "cell_type": "markdown",
   "metadata": {},
   "source": [
    "- As with everything in python classes can be declared and used in a very versatile manner.\n",
    "- They're declared with the `class` keyword, followed by the class name and an indented block of code defining the class.\n",
    "- The most basic class is just an empty one - you don't have to declare a constructor, data members or functions."
   ]
  },
  {
   "cell_type": "code",
   "execution_count": null,
   "metadata": {
    "collapsed": false
   },
   "outputs": [],
   "source": [
    "class Minimal :\n",
    "    pass"
   ]
  },
  {
   "cell_type": "code",
   "execution_count": null,
   "metadata": {
    "collapsed": false
   },
   "outputs": [],
   "source": [
    "# Then make an instance of the class like so:\n",
    "m = Minimal()"
   ]
  },
  {
   "cell_type": "code",
   "execution_count": null,
   "metadata": {
    "collapsed": false
   },
   "outputs": [],
   "source": [
    "# Attributes can then be assigned dynamically.\n",
    "m.spam = 'eggs'\n",
    "# They're accessed in the usual way.\n",
    "print m.spam"
   ]
  },
  {
   "cell_type": "code",
   "execution_count": null,
   "metadata": {
    "collapsed": false
   },
   "outputs": [],
   "source": [
    "# You can check if an object has an attribute with \"hasattr\"\n",
    "print hasattr(m, 'spam')\n",
    "print hasattr(m, 'bla')"
   ]
  },
  {
   "cell_type": "code",
   "execution_count": null,
   "metadata": {
    "collapsed": false
   },
   "outputs": [],
   "source": [
    "# \"getattr\" retrieves an attribute.\n",
    "# This is the same as m.spam\n",
    "print getattr(m, 'spam')"
   ]
  },
  {
   "cell_type": "code",
   "execution_count": null,
   "metadata": {
    "collapsed": false
   },
   "outputs": [],
   "source": [
    "# Attributes can be removed using del\n",
    "del m.spam\n",
    "print hasattr(m, 'spam')"
   ]
  },
  {
   "cell_type": "markdown",
   "metadata": {},
   "source": [
    "- Accessing attributes of a class instance is thus a lot like accessing elements of a dictionary, but with slightly different syntax. Also, the attribute names must always be strings."
   ]
  },
  {
   "cell_type": "markdown",
   "metadata": {},
   "source": [
    "### A Basic Class"
   ]
  },
  {
   "cell_type": "markdown",
   "metadata": {},
   "source": [
    "- Now for a class designed for a specific purpose."
   ]
  },
  {
   "cell_type": "code",
   "execution_count": null,
   "metadata": {
    "collapsed": false
   },
   "outputs": [],
   "source": [
    "class Bird :\n",
    "    # Remember doc strings!\n",
    "    '''A class to describe bird characteristics.'''\n",
    "    \n",
    "    # A constructor is optionally declared with __init__.\n",
    "    # This can initialise any default attributes.\n",
    "    # The first argument must always be \"self\", which \n",
    "    # represents the instance on which the method is\n",
    "    # being called.\n",
    "    # Any other arguments can then follow.\n",
    "    def __init__(self, species) :\n",
    "        '''Constructor. Sets the species of this Bird.'''\n",
    "        # \"self\" is then used to assign/access attributes.\n",
    "        self.species = species\n",
    "    \n",
    "    # Member methods are declared within the class definition\n",
    "    # like regular methods. Again, \"self\" must be the first\n",
    "    # argument.\n",
    "    def about_me(self) :\n",
    "        '''Print info about this Bird'''\n",
    "        print 'Species:', self.species\n",
    "    \n",
    "    def get_species(self) :\n",
    "        '''Get the species of this Bird'''\n",
    "        return self.species\n",
    "    \n",
    "    def is_species(self, species) :\n",
    "        '''Check if this Bird is of the given species.'''\n",
    "        # Internal calls to member methods are also via \"self\"\n",
    "        return species == self.get_species()\n",
    "    "
   ]
  },
  {
   "cell_type": "code",
   "execution_count": null,
   "metadata": {
    "collapsed": false
   },
   "outputs": [],
   "source": [
    "# Then make an instance of Bird.\n",
    "# When the constructor/member methods are called then\n",
    "# \"self\" argument is omitted.\n",
    "duck = Bird('Duck')\n",
    "duck.about_me()\n",
    "print duck.is_species('Swallow')\n",
    "print dir(duck)"
   ]
  },
  {
   "cell_type": "code",
   "execution_count": null,
   "metadata": {
    "collapsed": false
   },
   "outputs": [],
   "source": [
    "swallow = Bird('Swallow')\n",
    "swallow.about_me()\n",
    "print swallow.species"
   ]
  },
  {
   "cell_type": "code",
   "execution_count": null,
   "metadata": {
    "collapsed": false
   },
   "outputs": [],
   "source": [
    "# Again doc strings are stored in the __doc__ attribute.\n",
    "help(Bird)"
   ]
  },
  {
   "cell_type": "code",
   "execution_count": null,
   "metadata": {
    "collapsed": false
   },
   "outputs": [],
   "source": [
    "help(Bird.is_species)"
   ]
  },
  {
   "cell_type": "code",
   "execution_count": null,
   "metadata": {
    "collapsed": false
   },
   "outputs": [],
   "source": [
    "print Bird.is_species.__doc__"
   ]
  },
  {
   "cell_type": "markdown",
   "metadata": {},
   "source": [
    "### Inheritance"
   ]
  },
  {
   "cell_type": "markdown",
   "metadata": {},
   "source": [
    "- Inheritance also exists in python.\n",
    "- A derived class builds on the base class, retains all its attributes and functionality, and can add more."
   ]
  },
  {
   "cell_type": "code",
   "execution_count": null,
   "metadata": {
    "collapsed": false
   },
   "outputs": [],
   "source": [
    "# The base class goes in brackets following the name\n",
    "# of the derived class.\n",
    "class Swallow(Bird) :\n",
    "    '''A class describing a Swallow.'''\n",
    "    \n",
    "    # Re-implement the constructor.\n",
    "    def __init__(self, velocity) :\n",
    "        '''Constructor. Sets the velocity of the Swallow.'''\n",
    "\n",
    "        # Access methods of the base class, eg\n",
    "        # the constructor.\n",
    "        # In this case \"self\" must be included.\n",
    "        Bird.__init__(self, 'Swallow')\n",
    "        \n",
    "        # Add new attributes.\n",
    "        self.velocity = velocity\n",
    "        \n",
    "    # Methods of the base class can be re-defined.\n",
    "    # The definition in the most derived class is\n",
    "    # always the one used.\n",
    "    def about_me(self) :\n",
    "        '''Print info about this Swallow'''\n",
    "        print 'Species:', self.species\n",
    "        print 'Wind-speed-velocity (unladen): ' \\\n",
    "        '{:.2g} m/s'.format(self.velocity)"
   ]
  },
  {
   "cell_type": "code",
   "execution_count": null,
   "metadata": {
    "collapsed": false
   },
   "outputs": [],
   "source": [
    "# Instantiate as before.\n",
    "swallow = Swallow(3.43)\n",
    "print dir(swallow)"
   ]
  },
  {
   "cell_type": "markdown",
   "metadata": {},
   "source": [
    "- You can see that the derived class has all the attributes of the base class, and the additional \"velocity\" attribute."
   ]
  },
  {
   "cell_type": "code",
   "execution_count": null,
   "metadata": {
    "collapsed": false
   },
   "outputs": [],
   "source": [
    "# Now call some.\n",
    "# This uses the definition in the Bird base class.\n",
    "print swallow.is_species('Duck')"
   ]
  },
  {
   "cell_type": "code",
   "execution_count": null,
   "metadata": {
    "collapsed": false
   },
   "outputs": [],
   "source": [
    "# While this uses the definition in the Swallow derived class.\n",
    "swallow.about_me()"
   ]
  },
  {
   "cell_type": "markdown",
   "metadata": {},
   "source": [
    "- Python has a builtin generic base class called \"`object`\". "
   ]
  },
  {
   "cell_type": "code",
   "execution_count": null,
   "metadata": {
    "collapsed": false
   },
   "outputs": [],
   "source": [
    "print dir(object)"
   ]
  },
  {
   "cell_type": "markdown",
   "metadata": {},
   "source": [
    "- This adds some useful functionality to classes inheriting from `object`.\n",
    "- It's recommended that any class you write should inherit from `object`.\n",
    "- One benefit is that it allows you to define the `__slots__` attribute, which defines the names of the allowed attributes of the class."
   ]
  },
  {
   "cell_type": "code",
   "execution_count": null,
   "metadata": {
    "collapsed": false
   },
   "outputs": [],
   "source": [
    "# Eg, this typo passes slilently:\n",
    "\n",
    "swallow.veloctiy = 8.9"
   ]
  },
  {
   "cell_type": "code",
   "execution_count": null,
   "metadata": {
    "collapsed": false
   },
   "outputs": [],
   "source": [
    "# But redefining the base class as inheriting from object and using \n",
    "# __slots__ catches the typo:\n",
    "\n",
    "class Bird(object) :\n",
    "    '''A class to describe bird characteristics.'''\n",
    "\n",
    "    __slots__ = ('species',)\n",
    "    \n",
    "    def __init__(self, species) :\n",
    "        '''Constructor. Sets the species of this Bird.'''\n",
    "        self.species = species\n",
    "    \n",
    "    def about_me(self) :\n",
    "        '''Print info about this Bird'''\n",
    "        print 'Species:', self.species\n",
    "    \n",
    "    def get_species(self) :\n",
    "        '''Get the species of this Bird'''\n",
    "        return self.species\n",
    "    \n",
    "    def is_species(self, species) :\n",
    "        '''Check if this Bird is of the given species.'''\n",
    "        return species == self.get_species()\n",
    "    \n",
    "class Swallow(Bird) :\n",
    "    '''A class describing a Swallow.'''\n",
    "    \n",
    "    __slots__ = ('velocity',)\n",
    "\n",
    "    def __init__(self, velocity) :\n",
    "        '''Constructor. Sets the velocity of the Swallow.'''\n",
    "\n",
    "        Bird.__init__(self, 'Swallow')\n",
    "        self.velocity = velocity\n",
    "        \n",
    "    def about_me(self) :\n",
    "        '''Print info about this Swallow'''\n",
    "        print 'Species:', self.species\n",
    "        print 'Wind-speed-velocity (unladen): ' \\\n",
    "        '{:.2g} m/s'.format(self.velocity)\n",
    "\n",
    "swallow = Swallow(3.43)\n",
    "swallow.veloctiy = 8.9"
   ]
  },
  {
   "cell_type": "markdown",
   "metadata": {},
   "source": [
    "- Inheriting from `object` also lets you implement more versatile and efficient attribute access through \"descriptors\" using [`property`](https://docs.python.org/2/library/functions.html#property), as well as static and class function definitions through [`staticmethod`](https://docs.python.org/2/library/functions.html#staticmethod) and [`classmethod`](https://docs.python.org/2/library/functions.html#classmethod)."
   ]
  },
  {
   "cell_type": "markdown",
   "metadata": {},
   "source": [
    "### Class attributes"
   ]
  },
  {
   "cell_type": "markdown",
   "metadata": {},
   "source": [
    "- An attribute declared outside a member method is a \"class attribute\" (similar to a static member in C++ or Java), rather than an instance attribute - its value is shared between all instances of the class."
   ]
  },
  {
   "cell_type": "code",
   "execution_count": null,
   "metadata": {
    "collapsed": false
   },
   "outputs": [],
   "source": [
    "class Swallow(Bird) :\n",
    "    '''A class describing a Swallow.'''\n",
    "    \n",
    "    __slots__ = ('velocity',)\n",
    "\n",
    "    # This is a class attribute\n",
    "    verbose = False\n",
    "    \n",
    "    def __init__(self, velocity) :\n",
    "        '''Constructor. Sets the velocity of the Swallow.'''\n",
    "\n",
    "        Bird.__init__(self, 'Swallow')\n",
    "        self.velocity = velocity\n",
    "        # Access the class attribute using the class name or \n",
    "        # an instance of the class as prefix.\n",
    "        if Swallow.verbose :\n",
    "            print 'Initialised a swallow:'\n",
    "            self.about_me()\n",
    "            \n",
    "    def about_me(self) :\n",
    "        '''Print info about this Swallow'''\n",
    "        print 'Species:', self.species\n",
    "        print 'Wind-speed-velocity (unladen): ' \\\n",
    "        '{:.2g} m/s'.format(self.velocity)"
   ]
  },
  {
   "cell_type": "code",
   "execution_count": null,
   "metadata": {
    "collapsed": false
   },
   "outputs": [],
   "source": [
    "swallow1 = Swallow(9.2)\n",
    "print Swallow.verbose\n",
    "print swallow1.verbose"
   ]
  },
  {
   "cell_type": "code",
   "execution_count": null,
   "metadata": {
    "collapsed": false
   },
   "outputs": [],
   "source": [
    "# Change the value of the class attribute like so:\n",
    "Swallow.verbose = True\n",
    "swallow2 = Swallow(5.4)"
   ]
  },
  {
   "cell_type": "code",
   "execution_count": null,
   "metadata": {
    "collapsed": false
   },
   "outputs": [],
   "source": [
    "# The value of the attribute is the same for all instances \n",
    "# of the class.\n",
    "print Swallow.verbose \n",
    "print swallow1.verbose\n",
    "print swallow2.verbose"
   ]
  },
  {
   "cell_type": "markdown",
   "metadata": {},
   "source": [
    "## Modules"
   ]
  },
  {
   "cell_type": "markdown",
   "metadata": {},
   "source": [
    "- Modules are python's equivalent of libraries in other languages.\n",
    "- They provide a simple way of grouping related functionality.\n",
    "- They're the main means of extending python (adding functionality)."
   ]
  },
  {
   "cell_type": "markdown",
   "metadata": {},
   "source": [
    "- Modules define their namespace.\n",
    "    - Variables defined in one module don't interfere with variables of the same name in another module.\n",
    "    - That is, unless they're imported into the same namespace."
   ]
  },
  {
   "cell_type": "markdown",
   "metadata": {},
   "source": [
    "- There're different types of modules:\n",
    "    - Built-in modules:\n",
    "        - Always available.\n",
    "        - Popular examples are: sys, math, time.\n",
    "    - Standard library modules:\n",
    "        - Come with a standard python install.\n",
    "        - Eg: os, urllib.\n",
    "    - Third-party modules:\n",
    "        - Written & maintained by someone other than the python foundation.\n",
    "        - Eg: PyRoot (a python port of the ROOT c++ library), numpy, matplotlib.\n",
    "    - User defined modules:\n",
    "        - Whatever code you need!\n",
    "        - Easily distributed."
   ]
  },
  {
   "cell_type": "markdown",
   "metadata": {},
   "source": [
    "### Importing Modules"
   ]
  },
  {
   "cell_type": "markdown",
   "metadata": {},
   "source": [
    "- Importing modules is simply done using the `import` keyword:"
   ]
  },
  {
   "cell_type": "code",
   "execution_count": null,
   "metadata": {
    "collapsed": false
   },
   "outputs": [],
   "source": [
    "# The built-in math module\n",
    "import math\n",
    "print dir(math)"
   ]
  },
  {
   "cell_type": "code",
   "execution_count": null,
   "metadata": {
    "collapsed": false
   },
   "outputs": [],
   "source": [
    "# Call a method or access a variable contained in a module.\n",
    "print math.sin(math.pi/2.)\n",
    "print math.sin(math.pi)"
   ]
  },
  {
   "cell_type": "markdown",
   "metadata": {},
   "source": [
    "- There're various ways of importing."
   ]
  },
  {
   "cell_type": "code",
   "execution_count": null,
   "metadata": {
    "collapsed": false
   },
   "outputs": [],
   "source": [
    "# import a specific function/variable from a module.\n",
    "from math import sin\n",
    "from math import cos, pi\n",
    "# They're then accessible in the \"local namespace\"\n",
    "# so you can drop the math. prefix\n",
    "print sin(pi/4.), cos(pi/4.)"
   ]
  },
  {
   "cell_type": "code",
   "execution_count": null,
   "metadata": {
    "collapsed": false
   },
   "outputs": [],
   "source": [
    "# You can also rename a variable at import using the\n",
    "# 'as' keyword.\n",
    "# Sometimes desirable to avoid confusion over variables.\n",
    "from math import sqrt as my_sqrt\n",
    "print my_sqrt(4)"
   ]
  },
  {
   "cell_type": "code",
   "execution_count": null,
   "metadata": {
    "collapsed": false
   },
   "outputs": [],
   "source": [
    "# Import everything from a module into the global\n",
    "# namespace.\n",
    "# Use with care! For large modules this is slow &\n",
    "# memory intensive. It's much more efficient to \n",
    "# import only what you need.\n",
    "from math import *\n",
    "print e\n",
    "print log(e)"
   ]
  },
  {
   "cell_type": "code",
   "execution_count": null,
   "metadata": {
    "collapsed": false
   },
   "outputs": [],
   "source": [
    "# Import a sub-module from a module.\n",
    "from os import path\n",
    "print dir(path)"
   ]
  },
  {
   "cell_type": "code",
   "execution_count": null,
   "metadata": {
    "collapsed": false
   },
   "outputs": [],
   "source": [
    "# Import a method/variable from a sub-module.\n",
    "from os.path import exists\n",
    "print exists('./Hello_world.py')"
   ]
  },
  {
   "cell_type": "markdown",
   "metadata": {},
   "source": [
    "- The standard `import` actually calls the built-in `__import__` method in the background.\n",
    "- `__import__` takes a string as argument, which allows you to programmatically import."
   ]
  },
  {
   "cell_type": "code",
   "execution_count": null,
   "metadata": {
    "collapsed": false
   },
   "outputs": [],
   "source": [
    "# The __import__ method actually returns the module.\n",
    "# Modules are objects too!\n",
    "math_module = __import__('math')\n",
    "print dir(math_module)"
   ]
  },
  {
   "cell_type": "code",
   "execution_count": null,
   "metadata": {
    "collapsed": false
   },
   "outputs": [],
   "source": [
    "# If you alternatively want to use the cmath module,\n",
    "# which supports maths with complex numbers.\n",
    "math_module = __import__('cmath')\n",
    "print dir(math_module)"
   ]
  },
  {
   "cell_type": "code",
   "execution_count": null,
   "metadata": {
    "collapsed": false
   },
   "outputs": [],
   "source": [
    "# Alternatively, using the exec keyword achieves \n",
    "# similar results.\n",
    "# exec can be followed by any python statement in\n",
    "# a string to execute it.\n",
    "exec 'import os.path'\n",
    "print dir(path)"
   ]
  },
  {
   "cell_type": "markdown",
   "metadata": {},
   "source": [
    "- This allows you to very flexibly import (or execute any python statement).\n",
    "- See also the `eval` built-in method."
   ]
  },
  {
   "cell_type": "markdown",
   "metadata": {},
   "source": [
    "- Be careful of importing variables with the same name, as the latest import can overwrite previous ones.\n",
    "- Eg, both `math` and `cmath` modules contain `sin`, `cos`, etc, methods.\n",
    "- Both `array` and `numpy` modules contain an `array` class."
   ]
  },
  {
   "cell_type": "code",
   "execution_count": null,
   "metadata": {
    "collapsed": false
   },
   "outputs": [],
   "source": [
    "from array import array\n",
    "myArray = array('d', [0.] * 3)\n",
    "print myArray"
   ]
  },
  {
   "cell_type": "code",
   "execution_count": null,
   "metadata": {
    "collapsed": false
   },
   "outputs": [],
   "source": [
    "# Executing the same code after importing the numpy array \n",
    "# class crashes, as the constructors take different \n",
    "# arguments.\n",
    "from numpy import array\n",
    "myArray = array('d', [0.] * 3)\n",
    "print myArray"
   ]
  },
  {
   "cell_type": "markdown",
   "metadata": {},
   "source": [
    "- The Standard Library contains many different modules.\n",
    "- Some popular ones are:\n",
    "    - `sys`, `glob`\n",
    "    - `os`, `commands`, `shutil`\n",
    "    - `math`, `cmath`, `array`\n",
    "    - `datetime`\n",
    "    - `StringIO`, `re`\n",
    "    - `getopt`, `argparse`\n",
    "    - `webbrowser`, `urllib2`\n",
    "    - `timeit`\n",
    "- Check them out by importing and trying `help` on them.\n",
    "- You can normally find out which module you want for any given task via a quick web search."
   ]
  },
  {
   "cell_type": "markdown",
   "metadata": {},
   "source": [
    "### Writing Your Own Modules"
   ]
  },
  {
   "cell_type": "markdown",
   "metadata": {},
   "source": [
    "- Any python script can be imported as a module.\n",
    "- The module name is simply the name of the file.\n",
    "- Eg, putting the `Bird` and `Swallow` class definitions in a file called Birds.py, so it contains:"
   ]
  },
  {
   "cell_type": "code",
   "execution_count": null,
   "metadata": {
    "collapsed": false
   },
   "outputs": [],
   "source": [
    "%%writefile Birds.py \n",
    "\n",
    "'''A set of classes to describe different species of bird.'''\n",
    "\n",
    "class Bird(object) :\n",
    "    '''A class to describe bird characteristics.'''\n",
    "\n",
    "    __slots__ = ('species',)\n",
    "\n",
    "    def __init__(self, species) :\n",
    "        '''Constructor. Sets the species of this Bird.'''\n",
    "        self.species = species\n",
    "\n",
    "    def about_me(self) :\n",
    "        '''Print info about this Bird'''\n",
    "        print 'Species:', self.species\n",
    "\n",
    "    def get_species(self) :\n",
    "        '''Get the species of this Bird'''\n",
    "        return self.species\n",
    "\n",
    "    def is_species(self, species) :\n",
    "        '''Check if this Bird is of the given species.'''\n",
    "        return species == self.get_species()\n",
    "\n",
    "class Swallow(Bird) :\n",
    "    '''A class describing a Swallow.'''\n",
    "\n",
    "    __slots__ = ('velocity',)\n",
    "\n",
    "    def __init__(self, velocity) :\n",
    "        '''Constructor. Sets the velocity of the Swallow.'''\n",
    "\n",
    "        Bird.__init__(self, 'Swallow')\n",
    "        self.velocity = velocity\n",
    "\n",
    "    def about_me(self) :\n",
    "        '''Print info about this Swallow'''\n",
    "        print 'Species:', self.species\n",
    "        print 'Wind-speed-velocity (unladen): ' \\\n",
    "        '{:.2g} m/s'.format(self.velocity)\n",
    "        "
   ]
  },
  {
   "cell_type": "code",
   "execution_count": null,
   "metadata": {
    "collapsed": false
   },
   "outputs": [],
   "source": [
    "import Birds\n",
    "print Birds.__name__, Birds.__file__\n",
    "# The string at the top of the file is the doc string\n",
    "# for the module itself.\n",
    "print Birds.__doc__\n",
    "print dir(Birds)"
   ]
  },
  {
   "cell_type": "markdown",
   "metadata": {},
   "source": [
    "- So by putting variable/method/class definitions into separate files you create modules that can be imported and re-used.\n",
    "- The environment variable `PYTHONPATH` is a list of directories where python looks for modules.\n",
    "    - We can import the `Birds` module because the file `Birds.py` is in our current working directory.\n",
    "    - If we wanted to `import Birds` when working in another directory we'd need to add the directory containing `Birds.py` to `PYTHONPATH`.\n",
    "    - Any python modules in directories contained in `PYTHONPATH` are thus available system wide.\n",
    "- Within python, `PYTHONPATH` is stored in the `path` variable in the `sys` module.\n",
    "- You can also access and edit this at runtime:"
   ]
  },
  {
   "cell_type": "code",
   "execution_count": null,
   "metadata": {
    "collapsed": false
   },
   "outputs": [],
   "source": [
    "import sys\n",
    "print sys.path"
   ]
  },
  {
   "cell_type": "code",
   "execution_count": null,
   "metadata": {
    "collapsed": false
   },
   "outputs": [],
   "source": [
    "# Eg, to add a directory and make the modules there\n",
    "# available.\n",
    "sys.path.append('/some/path/')\n",
    "print sys.path"
   ]
  },
  {
   "cell_type": "markdown",
   "metadata": {},
   "source": [
    "- This can be useful if you want to only make some modules available at runtime, eg, if they're still being debugged, or are not often used."
   ]
  },
  {
   "cell_type": "markdown",
   "metadata": {},
   "source": [
    "### Importing or Executing as Main"
   ]
  },
  {
   "cell_type": "markdown",
   "metadata": {},
   "source": [
    "- When a module is imported all code in it is executed.\n",
    "- This means you tend to want to keep only definitions in module files, and no main code.\n",
    "- One trick to get around this is that whatever script is executed as the main code will have name (contained in the `__name__` variable) set to `'__main__'`, rather than the file name.\n",
    "- So if we add, at the end of Birds.py, the lines:"
   ]
  },
  {
   "cell_type": "code",
   "execution_count": null,
   "metadata": {
    "collapsed": false
   },
   "outputs": [],
   "source": [
    "%%writefile -a Birds.py\n",
    "\n",
    "if __name__ == '__main__' :\n",
    "    sw = Swallow(1.23)\n",
    "    sw.about_me()"
   ]
  },
  {
   "cell_type": "markdown",
   "metadata": {},
   "source": [
    "- This section of code is only executed in the case that Birds.py is the main file passed to the python interpreter.\n",
    "- Ie, like:"
   ]
  },
  {
   "cell_type": "code",
   "execution_count": null,
   "metadata": {
    "collapsed": false
   },
   "outputs": [],
   "source": [
    "!python Birds.py"
   ]
  },
  {
   "cell_type": "markdown",
   "metadata": {},
   "source": [
    "- However, when importing Birds into another script the `__name__` variable within `Birds` is set to `'Birds'`, not `'__main__'`, and we get no output."
   ]
  },
  {
   "cell_type": "code",
   "execution_count": null,
   "metadata": {
    "collapsed": false
   },
   "outputs": [],
   "source": [
    "from Birds import Swallow"
   ]
  },
  {
   "cell_type": "markdown",
   "metadata": {},
   "source": [
    "- This is very handy for testing code, as you can put test code after the \"`if __name__ == '__main__'`\" statement, and call the script directly only when testing.\n",
    "- Even if your script is only intended to be executed as the main programme it's a good idea to use this trick to separate any other functionality defined in the script from the main code."
   ]
  },
  {
   "cell_type": "markdown",
   "metadata": {},
   "source": [
    "## Files, Input & Output"
   ]
  },
  {
   "cell_type": "markdown",
   "metadata": {},
   "source": [
    "### Reading & Writing Files"
   ]
  },
  {
   "cell_type": "markdown",
   "metadata": {},
   "source": [
    "- Text files are handled in python via the `file` built-in class.\n",
    "- The preferred way to open a file (the most generic) is using the `open` built-in method:"
   ]
  },
  {
   "cell_type": "code",
   "execution_count": null,
   "metadata": {
    "collapsed": false
   },
   "outputs": [],
   "source": [
    "# The open method takes a name for the file and a mode\n",
    "# in which to open it.\n",
    "# The mode can be 'r' for read, 'w' for write, or 'a'\n",
    "# for append. 'r' is default. If 'w' or 'a' is used for\n",
    "# a file that doesn't exist the file is created.\n",
    "f = open('movie_titles.txt', 'w')\n",
    "print f, type(f)"
   ]
  },
  {
   "cell_type": "code",
   "execution_count": null,
   "metadata": {
    "collapsed": false
   },
   "outputs": [],
   "source": [
    "# You can write to a file like so, for a single line:\n",
    "# Note you have to explicitly add the newline character.\n",
    "f.write('The Quest\\n')\n",
    "# Or several lines at once, contained in a sequence:\n",
    "f.writelines(['for the\\n', 'Holy Grail\\n'])\n",
    "# Then close the file:\n",
    "f.close()"
   ]
  },
  {
   "cell_type": "code",
   "execution_count": null,
   "metadata": {
    "collapsed": false
   },
   "outputs": [],
   "source": [
    "# Then open the file and read its contents.\n",
    "f = open('movie_titles.txt', 'r')\n",
    "lines = f.readlines()\n",
    "print lines"
   ]
  },
  {
   "cell_type": "code",
   "execution_count": null,
   "metadata": {
    "collapsed": false
   },
   "outputs": [],
   "source": [
    "# By reading all lines in the file the \"cursor\" \n",
    "# is at the end of the file, and another call to \n",
    "# readlines returns an empty list.\n",
    "lines = f.readlines()\n",
    "print lines"
   ]
  },
  {
   "cell_type": "code",
   "execution_count": null,
   "metadata": {
    "collapsed": false
   },
   "outputs": [],
   "source": [
    "# You can skip to a specific place in a file using \n",
    "# the \"seek\" method.\n",
    "f.seek(0)\n",
    "lines = f.readlines()\n",
    "print lines"
   ]
  },
  {
   "cell_type": "code",
   "execution_count": null,
   "metadata": {
    "collapsed": false
   },
   "outputs": [],
   "source": [
    "# You can also iterate directly over the lines \n",
    "# in a file.\n",
    "# So the easiest way to 'print' a file is this:\n",
    "for line in open('movie_titles.txt') :\n",
    "    print line,"
   ]
  },
  {
   "cell_type": "markdown",
   "metadata": {},
   "source": [
    "### The `with` Statement"
   ]
  },
  {
   "cell_type": "markdown",
   "metadata": {},
   "source": [
    "- The `with` keyword is useful when dealing with files.\n",
    "- It enables automatic cleanup actions to be performed.\n",
    "- In the case of files this simply closes the file."
   ]
  },
  {
   "cell_type": "code",
   "execution_count": null,
   "metadata": {
    "collapsed": false
   },
   "outputs": [],
   "source": [
    "# Cleanup actions are performed after the block of code\n",
    "# following the with statement is executed.\n",
    "with open('movie_titles.txt', 'w') as f :\n",
    "    f.writelines(['The Quest\\n', 'for the\\n', 'Holy Grail\\n'])"
   ]
  },
  {
   "cell_type": "code",
   "execution_count": null,
   "metadata": {
    "collapsed": false
   },
   "outputs": [],
   "source": [
    "# Note that the variable f is still in scope, but is\n",
    "# a closed file.\n",
    "print type(f)\n",
    "print f.closed"
   ]
  },
  {
   "cell_type": "markdown",
   "metadata": {},
   "source": [
    "- With files this just means you don't have to remember to always call `f.close()`.\n",
    "- Cleanup actions are performed even if the code following the `with` statement raises an exception.\n",
    "- This is particularly useful if dealing with files in loops, as open files can eat up memory, and there's generally a limit on how many files a system can have open at once."
   ]
  },
  {
   "cell_type": "markdown",
   "metadata": {},
   "source": [
    "### File Parsing"
   ]
  },
  {
   "cell_type": "markdown",
   "metadata": {},
   "source": [
    "- The ease of manipulating files and strings in python makes it ideal for parsing files."
   ]
  },
  {
   "cell_type": "code",
   "execution_count": null,
   "metadata": {
    "collapsed": false
   },
   "outputs": [],
   "source": [
    "# Lets make a file.\n",
    "with open('phonebook.txt', 'w') as f :\n",
    "    f.write('''Sir Lancelot 2343\n",
    "Sir Robin 8945\n",
    "Sir Gallahad 2302''')"
   ]
  },
  {
   "cell_type": "code",
   "execution_count": null,
   "metadata": {
    "collapsed": false
   },
   "outputs": [],
   "source": [
    "# Now open it.\n",
    "phonebook = {}\n",
    "with open('phonebook.txt') as f :\n",
    "    # Loop over lines in the file.\n",
    "    for line in f :\n",
    "        # The 'split' method divides a string into a list\n",
    "        # of words.\n",
    "        splitLine = line.split()\n",
    "        name = splitLine[0] + ' ' + splitLine[1]\n",
    "        number = int(splitLine[2])\n",
    "        # To demonstrate the update method, which takes\n",
    "        # a sequence of (key, value) pairs.\n",
    "        phonebook.update([(name, number)])\n",
    "        # Alternatively you could just do:\n",
    "        # phonebook[name] = number\n",
    "print phonebook"
   ]
  },
  {
   "cell_type": "markdown",
   "metadata": {},
   "source": [
    "- The applications of this are limitless!"
   ]
  },
  {
   "cell_type": "markdown",
   "metadata": {},
   "source": [
    "### Data Persistency"
   ]
  },
  {
   "cell_type": "markdown",
   "metadata": {},
   "source": [
    "- It's very easy to read and write strings from files, but what about python objects?\n",
    "- All built-in types support casting to string.\n",
    "- One way to go is simply to convert to a string and write it to a file in python some readable format.\n",
    "- However, here you need to be aware of the difference between `str()` and `repr()`.\n",
    "- This is best demonstrated using a `float` with a large number of d.p.s:"
   ]
  },
  {
   "cell_type": "code",
   "execution_count": null,
   "metadata": {
    "collapsed": false
   },
   "outputs": [],
   "source": [
    "from math import pi\n",
    "# If we just output pi at the prompt no precision is lost.\n",
    "pi"
   ]
  },
  {
   "cell_type": "code",
   "execution_count": null,
   "metadata": {
    "collapsed": false
   },
   "outputs": [],
   "source": [
    "# But if we print it we lose precision.\n",
    "print pi"
   ]
  },
  {
   "cell_type": "markdown",
   "metadata": {},
   "source": [
    "- The difference here is that, by default, printing a value uses `str()` to convert an object to a string, while outputting at the prompt uses `repr()`.\n",
    "- `str()` is meant to return a fairly human-readable string representation of an object.\n",
    "- `repr()`, on the other hand, is meant to return a python readable representation of an object, which can be used to exactly reproduce the object (if possible).\n",
    "- As such, `str()` truncates the float to a more manageable precision, while `repr()` doesn't."
   ]
  },
  {
   "cell_type": "code",
   "execution_count": null,
   "metadata": {
    "collapsed": false
   },
   "outputs": [],
   "source": [
    "# For example:\n",
    "print pi == float(str(pi))\n",
    "print pi == float(repr(pi))"
   ]
  },
  {
   "cell_type": "markdown",
   "metadata": {},
   "source": [
    "- So in terms of data persistency it's generally better to use `repr()` than `str()`."
   ]
  },
  {
   "cell_type": "markdown",
   "metadata": {},
   "source": [
    "- To then save to a file you can do something like:"
   ]
  },
  {
   "cell_type": "code",
   "execution_count": null,
   "metadata": {
    "collapsed": false
   },
   "outputs": [],
   "source": [
    "with open('pi_value.py','w') as f :\n",
    "    f.write('pi = ' + repr(pi) + '\\n')"
   ]
  },
  {
   "cell_type": "markdown",
   "metadata": {},
   "source": [
    "- Check the contents of `pi_value.py`:"
   ]
  },
  {
   "cell_type": "code",
   "execution_count": null,
   "metadata": {
    "collapsed": false
   },
   "outputs": [],
   "source": [
    "!cat pi_value.py"
   ]
  },
  {
   "cell_type": "markdown",
   "metadata": {},
   "source": [
    "- As pi_value.py is then a python readable file, it can be imported like a module:"
   ]
  },
  {
   "cell_type": "code",
   "execution_count": null,
   "metadata": {
    "collapsed": false
   },
   "outputs": [],
   "source": [
    "import pi_value\n",
    "print pi_value.pi\n",
    "print pi_value.pi == pi"
   ]
  },
  {
   "cell_type": "markdown",
   "metadata": {},
   "source": [
    "- This has the advantage that the saved file is python readable without any extra work.\n",
    "- However, the technique of writing files in a python readable manner is prone to error.\n",
    "- Also, while `repr()` works on all built-in types, it doesn't work on everything.\n",
    "- For user-defined types you'd need to implement a `__repr__` member method.\n",
    "- So a more versatile method is desirable."
   ]
  },
  {
   "cell_type": "markdown",
   "metadata": {},
   "source": [
    "### Pickling"
   ]
  },
  {
   "cell_type": "markdown",
   "metadata": {},
   "source": [
    "- The `pickle` module provides such a method.\n",
    "- It can write all built-in and most user definted types to a string or file."
   ]
  },
  {
   "cell_type": "code",
   "execution_count": null,
   "metadata": {
    "collapsed": false
   },
   "outputs": [],
   "source": [
    "# First write to a file with pickle.dump\n",
    "import pickle\n",
    "with open('pi_value.pkl', 'w') as f :\n",
    "    pickle.dump(pi, f)"
   ]
  },
  {
   "cell_type": "markdown",
   "metadata": {},
   "source": [
    "- Check the contents of `pi_value.pkl`:"
   ]
  },
  {
   "cell_type": "code",
   "execution_count": null,
   "metadata": {
    "collapsed": false
   },
   "outputs": [],
   "source": [
    "!cat pi_value.pkl"
   ]
  },
  {
   "cell_type": "markdown",
   "metadata": {},
   "source": [
    "- You can also dump the pickled object to a string rather than a file using `dumps`:"
   ]
  },
  {
   "cell_type": "code",
   "execution_count": null,
   "metadata": {
    "collapsed": false
   },
   "outputs": [],
   "source": [
    "pi_str = pickle.dumps(pi)\n",
    "pi_str"
   ]
  },
  {
   "cell_type": "markdown",
   "metadata": {},
   "source": [
    "- Then recover the object with `load`, or `loads`:"
   ]
  },
  {
   "cell_type": "code",
   "execution_count": null,
   "metadata": {
    "collapsed": false
   },
   "outputs": [],
   "source": [
    "with open('pi_value.pkl') as f :\n",
    "    pi_value = pickle.load(f)\n",
    "print pi_value == pi"
   ]
  },
  {
   "cell_type": "code",
   "execution_count": null,
   "metadata": {
    "collapsed": false
   },
   "outputs": [],
   "source": [
    "pi_value = pickle.loads(pi_str)\n",
    "print pi_value == pi"
   ]
  },
  {
   "cell_type": "markdown",
   "metadata": {},
   "source": [
    "- For a user defined type:"
   ]
  },
  {
   "cell_type": "code",
   "execution_count": null,
   "metadata": {
    "collapsed": false
   },
   "outputs": [],
   "source": [
    "from Birds import Swallow\n",
    "s = Swallow(8.23)\n",
    "with open('PickledSwallow.pkl', 'w') as f :\n",
    "    pickle.dump(s, f, -1) "
   ]
  },
  {
   "cell_type": "markdown",
   "metadata": {},
   "source": [
    "- Note the `-1` argument here, which tells pickle to use the \"best\" protocol for pickling the object. This may use a protocol that's not compatible with very old versions of python, though it's the fastest and most efficient one.\n",
    "- In order to use the default pickling protocol for classes that defines `__slots__` you need to define the `__getstate__` and `__setstate__` member methods, more info [here](https://docs.python.org/2/library/pickle.html#the-pickle-protocol).\n",
    "- One advantage of pickling is that you don't necessarily need to know the type of the object you're unpickling - the relevant class will be automatically imported (though obviously it must be possible to import the class)."
   ]
  },
  {
   "cell_type": "code",
   "execution_count": null,
   "metadata": {
    "collapsed": false
   },
   "outputs": [],
   "source": [
    "with open('PickledSwallow.pkl') as f :\n",
    "    s2 = pickle.load(f)\n",
    "s2.about_me()\n",
    "print s2.velocity == s.velocity"
   ]
  },
  {
   "cell_type": "markdown",
   "metadata": {},
   "source": [
    "- You can dump and load several objects to and from the same file.\n",
    "- This lets you save, store & send objects in a very generic manner."
   ]
  },
  {
   "cell_type": "markdown",
   "metadata": {},
   "source": [
    "### Commandline Arguments"
   ]
  },
  {
   "cell_type": "markdown",
   "metadata": {},
   "source": [
    "- In addition to reading in data from a file, data can be passed at execution of a script via commandline arguments.\n",
    "- This is done by following your script name with whatever arguments you want to pass to it:"
   ]
  },
  {
   "cell_type": "raw",
   "metadata": {},
   "source": [
    "python my_script.py arg1 arg2 arg3 ..."
   ]
  },
  {
   "cell_type": "code",
   "execution_count": null,
   "metadata": {
    "collapsed": false
   },
   "outputs": [],
   "source": [
    "# Arguments are then stored as a list of strings\n",
    "# in the argv variable of the sys module.\n",
    "import sys\n",
    "print sys.argv"
   ]
  },
  {
   "cell_type": "markdown",
   "metadata": {},
   "source": [
    "- We see that when the python interpreter was started for this notebook various arguments were passed to it.\n",
    "- You can access `sys.argv` like you would any other `list`.\n",
    "- This allows you to write more generic and useful scripts, which can be configured by commandline arguments at execution."
   ]
  },
  {
   "cell_type": "markdown",
   "metadata": {},
   "source": [
    "- Eg, a simple script to list a directory's contents:"
   ]
  },
  {
   "cell_type": "code",
   "execution_count": null,
   "metadata": {
    "collapsed": false
   },
   "outputs": [],
   "source": [
    "%%writefile listdir.py\n",
    "\n",
    "import os, sys\n",
    "\n",
    "print os.listdir(sys.argv[1])\n"
   ]
  },
  {
   "cell_type": "markdown",
   "metadata": {},
   "source": [
    "- Note that the first element in `sys.argv` is always the name of the script being called, as that's the first argument passed to the python interpreter.\n",
    "- This can then be called like:"
   ]
  },
  {
   "cell_type": "code",
   "execution_count": null,
   "metadata": {
    "collapsed": false
   },
   "outputs": [],
   "source": [
    "!python listdir.py ~/Documents/Projects"
   ]
  },
  {
   "cell_type": "markdown",
   "metadata": {},
   "source": [
    "- Which prints a list containing the contents of ~/Documents."
   ]
  },
  {
   "cell_type": "markdown",
   "metadata": {},
   "source": [
    "- The `ArgumentParser` class in the [`argparse`](https://docs.python.org/2/library/argparse.html#module-argparse) module provides useful functionality for parsing commandline arguments.\n",
    "- I use it in almost every script I write!"
   ]
  },
  {
   "cell_type": "markdown",
   "metadata": {},
   "source": [
    "## Exceptions"
   ]
  },
  {
   "cell_type": "markdown",
   "metadata": {},
   "source": [
    "- We've seen a few types of exception already.\n",
    "- These are raised when python can't evaluate an expression, and terminates execution of the script."
   ]
  },
  {
   "cell_type": "code",
   "execution_count": null,
   "metadata": {
    "collapsed": false
   },
   "outputs": [],
   "source": [
    "print roderick"
   ]
  },
  {
   "cell_type": "code",
   "execution_count": null,
   "metadata": {
    "collapsed": false
   },
   "outputs": [],
   "source": [
    "int('a')"
   ]
  },
  {
   "cell_type": "code",
   "execution_count": null,
   "metadata": {
    "collapsed": false
   },
   "outputs": [],
   "source": [
    "import math\n",
    "math.sqrt('a')"
   ]
  },
  {
   "cell_type": "code",
   "execution_count": null,
   "metadata": {
    "collapsed": false
   },
   "outputs": [],
   "source": [
    "1/0"
   ]
  },
  {
   "cell_type": "code",
   "execution_count": null,
   "metadata": {
    "collapsed": false
   },
   "outputs": [],
   "source": [
    "(-1)**.5"
   ]
  },
  {
   "cell_type": "code",
   "execution_count": null,
   "metadata": {
    "collapsed": false
   },
   "outputs": [],
   "source": [
    "'Don't forget to escape!'"
   ]
  },
  {
   "cell_type": "markdown",
   "metadata": {},
   "source": [
    "- Exceptions are actually class objects as well.\n",
    "- Users can thus define their own exception classes.\n",
    "- Built-in exceptions are contained in the `exceptions` module."
   ]
  },
  {
   "cell_type": "code",
   "execution_count": null,
   "metadata": {
    "collapsed": false
   },
   "outputs": [],
   "source": [
    "import exceptions\n",
    "print dir(exceptions)"
   ]
  },
  {
   "cell_type": "markdown",
   "metadata": {},
   "source": [
    "- As ever, you can use `help` on any exception for more info.\n",
    "- User defined exceptions normally inherit from the generic `exceptions.Exception` class."
   ]
  },
  {
   "cell_type": "markdown",
   "metadata": {},
   "source": [
    "- In some cases you don't want your code to terminate (at least immediately) on encountering an exception.\n",
    "- You may want to examine what went wrong, or try something else instead.\n",
    "- To catch exceptions python has the `try/except` syntax.\n",
    "- It's fairly similar to that of `if/elif/else`."
   ]
  },
  {
   "cell_type": "code",
   "execution_count": null,
   "metadata": {
    "collapsed": false
   },
   "outputs": [],
   "source": [
    "def print_inverse(x) :\n",
    "    try :\n",
    "        print 1./x\n",
    "    except TypeError :\n",
    "        print x, 'is a', type(x), \\\n",
    "        ', not a number!'\n",
    "    except ZeroDivisionError :\n",
    "        print \"Can't divide by zero!\""
   ]
  },
  {
   "cell_type": "code",
   "execution_count": null,
   "metadata": {
    "collapsed": false
   },
   "outputs": [],
   "source": [
    "print_inverse(6.)"
   ]
  },
  {
   "cell_type": "code",
   "execution_count": null,
   "metadata": {
    "collapsed": false
   },
   "outputs": [],
   "source": [
    "print_inverse('6.')"
   ]
  },
  {
   "cell_type": "code",
   "execution_count": null,
   "metadata": {
    "collapsed": false
   },
   "outputs": [],
   "source": [
    "print_inverse(0.)"
   ]
  },
  {
   "cell_type": "markdown",
   "metadata": {},
   "source": [
    "- To catch any exception do:"
   ]
  },
  {
   "cell_type": "code",
   "execution_count": null,
   "metadata": {
    "collapsed": false
   },
   "outputs": [],
   "source": [
    "def print_inverse(x) :\n",
    "    try :\n",
    "        print 1./x\n",
    "    except :\n",
    "        print \"That didn't work!\""
   ]
  },
  {
   "cell_type": "code",
   "execution_count": null,
   "metadata": {
    "collapsed": false
   },
   "outputs": [],
   "source": [
    "print_inverse(0.)"
   ]
  },
  {
   "cell_type": "markdown",
   "metadata": {},
   "source": [
    "- You can raise an exception with the `raise` keyword followed by an exception instance."
   ]
  },
  {
   "cell_type": "code",
   "execution_count": null,
   "metadata": {
    "collapsed": false
   },
   "outputs": [],
   "source": [
    "def print_inverse(x) :\n",
    "    if not isinstance(x, (int, long, float)) :\n",
    "        # The TypeError constructor takes a string \n",
    "        # message that's printed when raised.\n",
    "        raise TypeError('{0} is a {1}, not a number!'\\\n",
    "                        .format(x, type(x)))\n",
    "    else :\n",
    "        print 1./x"
   ]
  },
  {
   "cell_type": "code",
   "execution_count": null,
   "metadata": {
    "collapsed": false
   },
   "outputs": [],
   "source": [
    "print_inverse('spam')"
   ]
  },
  {
   "cell_type": "markdown",
   "metadata": {},
   "source": [
    "- The keywords `as`, `finally`, and `else` can also be used when handling exceptions.\n",
    "- You can also write your own exception classes, normally inheriting from the generic `Exception` built-in class.\n",
    "- To find out more see [here](http://docs.python.org/2/tutorial/errors.html)."
   ]
  },
  {
   "cell_type": "markdown",
   "metadata": {},
   "source": [
    "## More Useful Builtin Functionality"
   ]
  },
  {
   "cell_type": "markdown",
   "metadata": {},
   "source": [
    "### Lambda Methods"
   ]
  },
  {
   "cell_type": "markdown",
   "metadata": {},
   "source": [
    "- These allow for slick, inline declaration of simple functions, using the `lambda` keyword."
   ]
  },
  {
   "cell_type": "code",
   "execution_count": null,
   "metadata": {
    "collapsed": false
   },
   "outputs": [],
   "source": [
    "# So this:\n",
    "def inverse(x) :\n",
    "    return 1./x"
   ]
  },
  {
   "cell_type": "code",
   "execution_count": null,
   "metadata": {
    "collapsed": false
   },
   "outputs": [],
   "source": [
    "# Becomes this:\n",
    "inverse = lambda x : 1./x"
   ]
  },
  {
   "cell_type": "code",
   "execution_count": null,
   "metadata": {
    "collapsed": false
   },
   "outputs": [],
   "source": [
    "print inverse(8.)"
   ]
  },
  {
   "cell_type": "code",
   "execution_count": null,
   "metadata": {
    "collapsed": false
   },
   "outputs": [],
   "source": [
    "# A lambda function with two arguments:\n",
    "sum_of_squares = lambda x, y : x**2 + y**2"
   ]
  },
  {
   "cell_type": "code",
   "execution_count": null,
   "metadata": {
    "collapsed": false
   },
   "outputs": [],
   "source": [
    "sum_of_squares(3, 4)"
   ]
  },
  {
   "cell_type": "markdown",
   "metadata": {},
   "source": [
    "- The main advantage of this over functions declared with `def` is that they can be declared inline."
   ]
  },
  {
   "cell_type": "code",
   "execution_count": null,
   "metadata": {
    "collapsed": false
   },
   "outputs": [],
   "source": [
    "# Declare and call a lambda method in the\n",
    "# same expression:\n",
    "(lambda x, y : x**2 + y**2)(3, 4)"
   ]
  },
  {
   "cell_type": "markdown",
   "metadata": {},
   "source": [
    "- This is particularly useful when used in conjunction with methods that expect functions as arguments.\n",
    "- Eg, the `filter` and `map` builtin methods."
   ]
  },
  {
   "cell_type": "code",
   "execution_count": null,
   "metadata": {
    "collapsed": false
   },
   "outputs": [],
   "source": [
    "help(filter)"
   ]
  },
  {
   "cell_type": "code",
   "execution_count": null,
   "metadata": {
    "collapsed": false
   },
   "outputs": [],
   "source": [
    "# So we could do:\n",
    "def test(x) :\n",
    "    return x%2 == 0\n",
    "\n",
    "filter(test, range(-10, 11))"
   ]
  },
  {
   "cell_type": "code",
   "execution_count": null,
   "metadata": {
    "collapsed": false
   },
   "outputs": [],
   "source": [
    "# Or, using a lambda method:\n",
    "filter(lambda x : x%2 == 0, range(-10, 11))"
   ]
  },
  {
   "cell_type": "markdown",
   "metadata": {},
   "source": [
    "### Sequence Manipulation"
   ]
  },
  {
   "cell_type": "markdown",
   "metadata": {},
   "source": [
    "- Many other builtin methods are useful for manipulating sequences."
   ]
  },
  {
   "cell_type": "code",
   "execution_count": null,
   "metadata": {
    "collapsed": false
   },
   "outputs": [],
   "source": [
    "# Map one sequence to another, element by element\n",
    "# using the given method.\n",
    "map(lambda x : x**2, range(10))"
   ]
  },
  {
   "cell_type": "code",
   "execution_count": null,
   "metadata": {
    "collapsed": false
   },
   "outputs": [],
   "source": [
    "# Get the sum of elements in a sequence.\n",
    "sum(range(10))"
   ]
  },
  {
   "cell_type": "code",
   "execution_count": null,
   "metadata": {
    "collapsed": false
   },
   "outputs": [],
   "source": [
    "# Reduce a sequence via recursive method calls.\n",
    "reduce(lambda x, y : x * y, range(1, 11))"
   ]
  },
  {
   "cell_type": "code",
   "execution_count": null,
   "metadata": {
    "collapsed": false
   },
   "outputs": [],
   "source": [
    "# sum only works for numerical types, but reduce\n",
    "# can be used to concatenate sequences of strings.\n",
    "reduce(lambda x, y : x + ' ' + y, \n",
    "       ('The', 'Life', 'of', 'Brian'))"
   ]
  },
  {
   "cell_type": "code",
   "execution_count": null,
   "metadata": {
    "collapsed": false
   },
   "outputs": [],
   "source": [
    "# Alternatively you can use the str.join method:\n",
    "' '.join(('The', 'Life', 'of', 'Brian'))"
   ]
  },
  {
   "cell_type": "code",
   "execution_count": null,
   "metadata": {
    "collapsed": false
   },
   "outputs": [],
   "source": [
    "# Merge two or more sequences into a list.\n",
    "zip(range(5), range(5,10))"
   ]
  },
  {
   "cell_type": "markdown",
   "metadata": {},
   "source": [
    "- Many other useful builtin methods exist.\n",
    "- See what's available with `dir(__builtins__)` and use `help` to find out more."
   ]
  },
  {
   "cell_type": "markdown",
   "metadata": {},
   "source": [
    "### More Ways to Iterate."
   ]
  },
  {
   "cell_type": "markdown",
   "metadata": {},
   "source": [
    "- You can unpack as you iterate:"
   ]
  },
  {
   "cell_type": "code",
   "execution_count": null,
   "metadata": {
    "collapsed": false
   },
   "outputs": [],
   "source": [
    "pairs = zip(range(5), range(5,10))\n",
    "for a, b in pairs :\n",
    "    print a, b"
   ]
  },
  {
   "cell_type": "code",
   "execution_count": null,
   "metadata": {
    "collapsed": false
   },
   "outputs": [],
   "source": [
    "# Which is equivalent to :\n",
    "for elm in pairs :\n",
    "    a, b = elm[0], elm[1]\n",
    "    print a, b"
   ]
  },
  {
   "cell_type": "markdown",
   "metadata": {},
   "source": [
    "- Sequences can also be constructed using the `for` syntax."
   ]
  },
  {
   "cell_type": "code",
   "execution_count": null,
   "metadata": {
    "collapsed": false
   },
   "outputs": [],
   "source": [
    "# For a list:\n",
    "list(str(i) for i in range(10))"
   ]
  },
  {
   "cell_type": "code",
   "execution_count": null,
   "metadata": {
    "collapsed": false
   },
   "outputs": [],
   "source": [
    "# Also for tuples:\n",
    "tuple(i%3 for i in range(10))"
   ]
  },
  {
   "cell_type": "code",
   "execution_count": null,
   "metadata": {
    "collapsed": false
   },
   "outputs": [],
   "source": [
    "# And for dictionaries, iterating over a \n",
    "# sequence of pairs:\n",
    "dict((i, j) for i, j in zip('abcde', range(5)))"
   ]
  },
  {
   "cell_type": "code",
   "execution_count": null,
   "metadata": {
    "collapsed": false
   },
   "outputs": [],
   "source": [
    "# For lists this can also be put in square brackets\n",
    "# for the same result.\n",
    "[i**2 for i in range(10)]"
   ]
  },
  {
   "cell_type": "markdown",
   "metadata": {},
   "source": [
    "- You can also add an optional `if`:"
   ]
  },
  {
   "cell_type": "code",
   "execution_count": null,
   "metadata": {
    "collapsed": false
   },
   "outputs": [],
   "source": [
    "tuple(i for i in range(10) if i%2 == 0)"
   ]
  },
  {
   "cell_type": "markdown",
   "metadata": {},
   "source": [
    "- So python provides many slick ways of constructing and iterating over sequences!"
   ]
  },
  {
   "cell_type": "markdown",
   "metadata": {},
   "source": [
    "- For more ways of using fast, memory efficient iteration check out [generator expressions and methods](http://docs.python.org/2/tutorial/classes.html#generators)."
   ]
  },
  {
   "cell_type": "markdown",
   "metadata": {},
   "source": [
    "### OS Interface"
   ]
  },
  {
   "cell_type": "markdown",
   "metadata": {},
   "source": [
    "- The `os` module provides lots of functionality for communicating with the operating system, eg:\n",
    "    - `listdir` - list a directory's contents.\n",
    "    - `mkidr` and `makedirs` - make a directory/directories.\n",
    "    - `getcwd`, `chdir` - get or change the current working directory.\n",
    "    - `fchmod`, `fchown`- change a file's permissions & ownership.\n",
    "- The `os.path` submodule is great for file path manipulations.\n",
    "    - `exists`, `isdir`, `islink` - check if a file exists, is a directory or a link.\n",
    "    - `abspath` - get the absolute path of a file.\n",
    "    - `split` - split directory and file name parts of a path.\n",
    "    - `join` - join file/directory names, adding separators as needed."
   ]
  },
  {
   "cell_type": "markdown",
   "metadata": {},
   "source": [
    "- The `subprocess` module allows you to call system commands.\n",
    "    - `call` - call a command and wait for it to complete.\n",
    "    - `Popen` - call a command in the background."
   ]
  },
  {
   "cell_type": "markdown",
   "metadata": {},
   "source": [
    "- As ever, you can find out more with `dir` and `help`.\n",
    "- Many other useful modules and methods exist - find them with a quick web search!"
   ]
  },
  {
   "cell_type": "markdown",
   "metadata": {},
   "source": [
    "## A Few Tips"
   ]
  },
  {
   "cell_type": "markdown",
   "metadata": {},
   "source": [
    "- There's lots of advice out there, but here're a few points I keep in mind when writing in python (and most other languages):\n",
    "    - Plan your code. Think about how to break your problem down into its most fundamental parts and tackle each individually. \n",
    "    - Make it versatile. Don't hard code something if there's any chance you may want to change it in future. Consider how your code might handle possible variants of your current problem.\n",
    "    - Use functions extensively. Most of your code probably wants to be contained in fuctions so you can reuse it. If you find yourself copy-and-pasting a code block then write a function containing that code instead. This also makes your code more versatile.\n",
    "    - Exploit object orientation. If you have a set of related data, and possibly some fuctions to manipulate those data, then put them in a class - that's what classes are for!\n",
    "    - Well structured code is less bug prone. If you want to change part of your code, ideally you should only need to change it in one place.\n",
    "    - Don't be afraid to rewrite if necessary. If you think of a way to improve your code to make it more versatile/functional/easy to use but it requires a significant rewrite then it's often worth taking the time to do so. Building more code on top of poorly written code will only cause you worse headaches down the line. A prime example of this philosophy is python v3!\n",
    "    - Don't reinvent the wheel. Before you write anything, do a quick search to see if someone's already written something that fulfils your needs. Google is your friend!"
   ]
  },
  {
   "cell_type": "markdown",
   "metadata": {},
   "source": [
    "## Further Reading"
   ]
  },
  {
   "cell_type": "markdown",
   "metadata": {},
   "source": [
    "- Official python homepage - [www.python.org](http://www.python.org)\n",
    "    - Tutorial: [docs.python.org/2/tutorial](http://docs.python.org/2/tutorial/)\n",
    "- Alternative doc - [www.diveintopython.net](http://www.diveintopython.net)\n",
    "\n",
    "\n",
    "- `ipython` - [www.ipython.org](http://www.ipython.org)\n",
    "    - The enhanced interactive python interpreter.\n",
    "    - Lots of handy additional functionality built on the standard python interpreter.\n",
    "    - Info on using the ipython notebook (like this one): [www.ipython.org/notebook](http://ipython.org/notebook.html)\n",
    "\n",
    "\n",
    "- PyPI - [pypi.python.org/pypi](https://pypi.python.org/pypi)\n",
    "    - The Python Package Index. Official repository of 3rd party python packages.\n",
    "- `uncertainties` - [pypi.python.org/pypi/uncertainties](https://pypi.python.org/pypi/uncertainties)\n",
    "    - An extremely useful package for handling the propagation of uncertainties, as is often performed in scientific analyses.\n",
    "\n",
    "\n",
    "- NumPy - [www.numpy.org](http://www.numpy.org/) \n",
    "    - Mathematical package.\n",
    "    - Not Standard Library, but does come as part of most python installs.\n",
    "    - Arrays & matrices, linear algebra, fourier transforms ...\n",
    "- MatPlotLib - [www.matplotlib.org](http://www.matplotlib.org)\n",
    "    - 2D plotting package for publication quality figures.\n",
    "- SciPy - [www.scipy.org](http://scipy.org/)\n",
    "    - SciPy package for scientific computing - numerical integration, optimisation ...\n",
    "    - Contains Sympy package for symbolic maths.\n",
    "    - Also includes NumPy and MatPlotLib.\n",
    "\n",
    "\n",
    "- PyX - [pyx.sourceforge.net](http://pyx.sourceforge.net/)\n",
    "    - Produce PDF and PostScript documents.\n",
    "    - Latex integration.\n",
    "- Sage - [www.sagemath.org](http://www.sagemath.org)\n",
    "    - Free, open source Mathematica/Maple/Matlab alternative with a python interface.\n",
    "    \n",
    "    \n",
    "- Software carpentry - [software-carpentry.org](http://software-carpentry.org/)\n",
    "    - Some excellent resources on building and using software (generally not python specific, though there is a [python tutorial](http://swcarpentry.github.io/python-novice-inflammation/)).\n",
    "    - There's a [SUPA course](http://my.supa.ac.uk/enrol/index.php?id=400) which will take place in April at Glasgow - I suggest you attend if you can!\n",
    "    \n",
    "    \n",
    "- And many others! \n",
    "- Python has a very rich and active community, which is yours to exploit!"
   ]
  },
  {
   "cell_type": "markdown",
   "metadata": {},
   "source": [
    "# The End"
   ]
  },
  {
   "cell_type": "markdown",
   "metadata": {},
   "source": [
    "[Happy Pythonising!](https://www.youtube.com/watch?v=W3rP-8mWWeY)"
   ]
  }
 ],
 "metadata": {
  "kernelspec": {
   "display_name": "Python 2",
   "language": "python",
   "name": "python2"
  },
  "language_info": {
   "codemirror_mode": {
    "name": "ipython",
    "version": 2
   },
   "file_extension": ".py",
   "mimetype": "text/x-python",
   "name": "python",
   "nbconvert_exporter": "python",
   "pygments_lexer": "ipython2",
   "version": "2.7.13"
  }
 },
 "nbformat": 4,
 "nbformat_minor": 0
}
