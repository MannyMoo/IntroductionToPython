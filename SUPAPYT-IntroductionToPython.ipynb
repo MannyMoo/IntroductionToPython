{
 "cells": [
  {
   "cell_type": "markdown",
   "metadata": {},
   "source": [
    "---"
   ]
  },
  {
   "cell_type": "markdown",
   "metadata": {},
   "source": [
    "# SUPAPYT - Introduction to"
   ]
  },
  {
   "cell_type": "markdown",
   "metadata": {},
   "source": [
    "<img src = './SUPAPYT-files/python-logo.jpeg' alt = 'python logo' width = 400>"
   ]
  },
  {
   "cell_type": "markdown",
   "metadata": {},
   "source": [
    "---"
   ]
  },
  {
   "cell_type": "markdown",
   "metadata": {},
   "source": [
    "Welcome to this introductory course in the Python programming language!\n",
    "\n",
    "This course will take you through the basics of Python and hopefully demonstrate it to be a powerful, intuitive, and generally useful means of programming!\n",
    "\n",
    "It's intended to be suitable for novice programmers while still being useful for those with previous experience of other languages, or even of python itself.\n",
    "\n",
    "This course is presented in the form of a [Jupyter notebook](https://jupyter.org/), which gives full access to the interactive python interpreter. We'll actually be running real python code as we go through the lectures. \n",
    "\n",
    "All the material is available [online](https://mannymoo.github.io/IntroductionToPython/), in static form. You can also download the [source](https://github.com/MannyMoo/IntroductionToPython). If you then follow these [Jupyter installation instructions](https://mannymoo.github.io/IntroductionToPython/SUPAPYT-Installation-Instructions.html) you can use the interactive form of the notes. I encourage you to do so, and, if you have a laptop, follow the material interactively during the lectures, play about, and ask questions as we go. "
   ]
  },
  {
   "cell_type": "markdown",
   "metadata": {},
   "source": [
    "## Schedule"
   ]
  },
  {
   "cell_type": "markdown",
   "metadata": {},
   "source": [
    "There will be 4 lectures and 2 hands-on lab sessions:\n",
    "\n",
    "- Lecture 1: 14/01/19, 3pm\n",
    "- Lecture 2: 16/01/19, 3pm\n",
    "- Lab 1: 18/01/19, 11am - 1 pm\n",
    "- Lecture 3: 21/01/19, 3pm \n",
    "- Lecture 4: 23/01/19, 3pm\n",
    "- Lab 2: 25/01/19, 11am - 1pm\n",
    "\n",
    "The lectures are webcast and recordings are accessible through [MySUPA](http://my.supa.ac.uk/course/view.php?id=129). \n",
    "\n",
    "The lab sessions are held at Glasgow (instructions on getting here are also available on [MySUPA](http://my.supa.ac.uk/mod/wiki/view.php?id=14564)).\n",
    "\n",
    "These allow you to work through [examples](https://mannymoo.github.io/IntroductionToPython/SUPAPYT-LabProblems.html), experiment with Python, and discuss any queries with demonstrators and fellow students. \n",
    "\n",
    "If you bring your laptop you can also get help setting it up with python and Jupyter.\n",
    "\n",
    "Let me know if you'll bring a laptop - there's plenty space in the computer lab.\n",
    "\n",
    "You may be able to claim back any expenses incurred by your attendance! (Ask your group secretary).\n",
    "\n",
    "Also let me know if you can't attend either session."
   ]
  },
  {
   "cell_type": "markdown",
   "metadata": {},
   "source": [
    "## Assessment"
   ]
  },
  {
   "cell_type": "markdown",
   "metadata": {},
   "source": [
    "- There will be an assignment set by the time of the second lab session, which is all that's required to get credit.\n",
    "- Details TBC. The deadline will be ~2 weeks after the second lab. "
   ]
  },
  {
   "cell_type": "markdown",
   "metadata": {},
   "source": [
    "## Contents"
   ]
  },
  {
   "cell_type": "markdown",
   "metadata": {},
   "source": [
    " - [Introduction](#Introduction)\n",
    "    - [What is Python?](#What-is-Python?)\n",
    "    - [What does Object Oriented mean?](#What-does-Object-Oriented-mean?)\n",
    "    - [What are the benefits of python?](#What-are-the-benefits-of-python?)\n",
    "    - [Which python?](#Which-python?)\n",
    " - [Starting the python interpreter](#Starting-the-python-interpreter)\n",
    "    - [Python Scripts](#Python-Scripts)\n",
    "        - [Executable Scripts - Linux](#Executable-Scripts---Linux)\n",
    "        - [Executable Scripts - Windows](#Executable-Scripts---Windows)\n",
    "        - [Integrated Development Environments (IDEs)](#Integrated-Development-Environments-(IDEs))\n",
    " - [Simple Calculations](#Simple-Calculations)\n",
    " - [Assignment to variables](#Assignment-to-variables)\n",
    " - [Basic Data Types](#Basic-Data-Types)\n",
    "    - [Numbers](#Numbers)\n",
    "    - [Booleans](#Booleans)\n",
    "    - [Strings](#Strings)\n",
    "    - [None](#None)\n",
    " - [Casting between types](#Casting-between-types)\n",
    " - [Flow Control](#Flow-Control)\n",
    " - [Functions](#Functions)\n",
    " - [Sequences](#Sequences)\n",
    "    - [Lists](#Lists)\n",
    "    - [Tuples](#Tuples)\n",
    "    - [Dictionaries](#Dictionaries)\n",
    "    - [Sets](#Sets)\n",
    " - [Looping](#Looping)\n",
    "    - [`while` Statements](#`while`-Statements)\n",
    "    - [`for` Loops](#`for`-Loops)\n",
    " - [Introspection](#Introspection)\n",
    "    - [`dir`](#`dir`)\n",
    "    - [`help`](#`help`)\n",
    "    - [Type checking](#Type-checking)\n",
    " - [Classes](#Classes)\n",
    "    - [The Empty Class](#The-Empty-Class)\n",
    "    - [A Basic Class](#A-Basic-Class)\n",
    "    - [Inheritance](#Inheritance)\n",
    "    - [Class attributes](#Class-attributes)\n",
    " - [Modules](#Modules)\n",
    "    - [Importing Modules](#Importing-Modules)\n",
    "    - [Writing Your Own Modules](#Writing-Your-Own-Modules)\n",
    "    - [Importing or Executing as Main](#Importing-or-Executing-as-Main)\n",
    " - [Packages](#Packages)\n",
    " - [Files, Input & Output](#Files,-Input-&-Output)\n",
    "    - [Reading & Writing Files](#Reading-&-Writing-Files)\n",
    "    - [The `with` Statement](#The-`with`-Statement)\n",
    "    - [File Parsing](#File-Parsing)\n",
    "    - [Data Persistency](#Data-Persistency)\n",
    "    - [Pickling](#Pickling)\n",
    "    - [Commandline Arguments](#Commandline-Arguments)\n",
    " - [Exceptions](#Exceptions)\n",
    " - [More Useful Builtin Functionality](#More-Useful-Builtin-Functionality)\n",
    "    - [Lambda Methods](#Lambda-Methods)\n",
    "    - [Sequence Manipulation](#Sequence-Manipulation)\n",
    "    - [More Ways to Iterate.](#More-Ways-to-Iterate.)\n",
    "    - [OS Interface](#OS-Interface)\n",
    " - [A Few Tips](#A-Few-Tips)\n",
    " - [Further Reading](#Further-Reading)\n",
    " - [The End](#The-End)"
   ]
  },
  {
   "cell_type": "markdown",
   "metadata": {},
   "source": [
    "## Introduction"
   ]
  },
  {
   "cell_type": "markdown",
   "metadata": {},
   "source": [
    "### What is Python?"
   ]
  },
  {
   "cell_type": "markdown",
   "metadata": {},
   "source": [
    "- Python is an [Object Oriented](https://en.wikipedia.org/wiki/Object-oriented_programming) (OO) scripting language. \n",
    "    - Everything in Python is an \"object\"!\n",
    "- Invented by Guido van Rossum.\n",
    "    - First release in 1991, still under constant development.\n",
    "    - Now managed by the not-for-profit [Python Software Foundation](http://www.python.org/psf/).\n",
    "    - Named after [Monty Python](https://en.wikipedia.org/wiki/Monty_Python).\n",
    "- The official homepage is [http://www.python.org](http://www.python.org/).\n",
    "    - It has a detailed [tutorial](http://docs.python.org/2/tutorial/), which this course roughly follows, in condensed form."
   ]
  },
  {
   "cell_type": "markdown",
   "metadata": {},
   "source": [
    "### What does Object Oriented mean?"
   ]
  },
  {
   "cell_type": "markdown",
   "metadata": {},
   "source": [
    "- [This](https://medium.freecodecamp.org/object-oriented-programming-concepts-21bb035f7260) gives a decent explanation of the main concepts.\n",
    "- Mainly a means of organising and structuring code.\n",
    "- Data and functionality are contained in \"objects\", which are instances of \"classes\".\n",
    "- A class can be defined to contain whatever data you need (\"attributes\") and perform operations on those data (using \"member methods\").\n",
    "- Objects normally interact via their methods, and don't directly access each other's attributes.\n",
    "- Each instance of a class then has the same data attributes, but can take different values for them.\n",
    "    - Eg, an employer might use database software with an Employee class with name, office no., and salary attributes.\n",
    "    - Each person in the database is then represented by an instance of the Employee class.\n",
    "    - Member methods of the Employee class might perform actions like printing info, changing salary, calculating tax, etc.\n",
    "    - These methods can then be called on a specific instance of Employee. "
   ]
  },
  {
   "cell_type": "markdown",
   "metadata": {},
   "source": [
    "- The benefits of object orientation are:\n",
    "    - Classes provide an interface for manipulating data without the user needing to know the implementation specifics.\n",
    "    - A change to the class definition is propagated to every instance of that class.\n",
    "    - Eg, a home address member might be added to the Employee class definition, and all instances of that class can then contain that info. \n",
    "    - Similary, a change to the algorithm for calculating tax need only be made in the class definition and is then used by every class instance.\n",
    "    - Classes can be as simple or complicated as necessary.\n",
    "    - This allows you to break down a given problem into its most basic components, write a class for each, then build greater complexity on top using instances of these classes.\n",
    "    - You can structure your code so it's maintainable, flexible and extensible (and consequently less prone to bugs)."
   ]
  },
  {
   "cell_type": "markdown",
   "metadata": {},
   "source": [
    "### What are the benefits of python?"
   ]
  },
  {
   "cell_type": "markdown",
   "metadata": {},
   "source": [
    "- Syntax is simple and easy to learn.\n",
    "- It's interpreted - no compilation step needed.\n",
    "- Runs identically on almost any machine!\n",
    "- It's interactive - more intuitive alternative to shell scripts (eg, bash), ideal for interactive data analysis.\n",
    "- It's introspective - python objects can tell you a lot about themselves!\n",
    "- Dynamically typed (no explicit type declarations needed). \n",
    "- Extensive standard library provides lots of functionality.\n",
    "- Easily extensible.\n",
    "- It's a \"high-level\" language.\n",
    "- Complex computations often executed by a few simple commands.\n",
    "- Normally no need to worry about memory management.\n"
   ]
  },
  {
   "cell_type": "markdown",
   "metadata": {},
   "source": [
    "### Which python?"
   ]
  },
  {
   "cell_type": "markdown",
   "metadata": {},
   "source": [
    "- Two versions of python exist: v2 and v3.\n",
    "- Python v2 is still widely used and is the default on many machines, but will not be supported [beyond 2020-01-01](https://pythonclock.org/), so we'll use v3.\n",
    "- v3 has various improvements and additional features, and is still being developed.\n",
    "- The latest release is v3.7.2 from 2018-12-24.\n",
    "- It's not fully backwards compatible with v2, but it's quite easy to convert v2 code to v3 using [2to3](https://docs.python.org/3.1/library/2to3.html).\n",
    "- See [here](https://wiki.python.org/moin/Python2orPython3) for more info on the differences between v2 and v3."
   ]
  },
  {
   "cell_type": "markdown",
   "metadata": {},
   "source": [
    "## Starting the python interpreter"
   ]
  },
  {
   "cell_type": "markdown",
   "metadata": {},
   "source": [
    "- Python is installed by default with most linux distributions, eg, MacOS, Ubuntu, Debian, ...\n",
    "- Easy to install on Windows by selecting the relevant installer [here](http://www.python.org/download/).\n",
    "    - Make sure you add the directory containing python.exe to your \"Path\" environment variable (instructions [here](http://www.computerhope.com/issues/ch000549.htm)).\n",
    "    - The standard command prompt on Windows isn't very good, so you may wish to consider alternatives like [ConEmu](https://conemu.github.io/), or [ConsoleZ](https://github.com/cbucher/console), or if you want a linux style environment there's [Cygwin](http://www.cygwin.com/).\n",
    "- A basic python installation will suit most use cases.\n",
    "- However, ipython and jupyter add a lot of useful interactive functionality on top of basic python (such as the notebook format used for these lectures). See [here](https://mannymoo.github.io/IntroductionToPython/SUPAPYT-Installation-Instructions.html) for installation instructions."
   ]
  },
  {
   "cell_type": "markdown",
   "metadata": {},
   "source": [
    "- We'll be working with python through the command line. If you're unfamiliar with using the command line see [here](https://tutorial.djangogirls.org/en/intro_to_command_line/) for a brief introduction."
   ]
  },
  {
   "cell_type": "markdown",
   "metadata": {},
   "source": [
    "- First, check which version of python you're using by opening a terminal and executing the command:"
   ]
  },
  {
   "cell_type": "raw",
   "metadata": {},
   "source": [
    "python --version"
   ]
  },
  {
   "cell_type": "markdown",
   "metadata": {},
   "source": [
    "- You should see something like:"
   ]
  },
  {
   "cell_type": "raw",
   "metadata": {},
   "source": [
    "Python 3.7.2"
   ]
  },
  {
   "cell_type": "markdown",
   "metadata": {},
   "source": [
    "- If instead you see something like:"
   ]
  },
  {
   "cell_type": "raw",
   "metadata": {},
   "source": [
    "Python 2.7.15"
   ]
  },
  {
   "cell_type": "markdown",
   "metadata": {},
   "source": [
    "you have v2 set as the default. You should still be able to use v3 with the `python3` executable. Try:"
   ]
  },
  {
   "cell_type": "raw",
   "metadata": {},
   "source": [
    "python3 --version"
   ]
  },
  {
   "cell_type": "markdown",
   "metadata": {},
   "source": [
    "- To start the python interpreter all you need to do is open a terminal and execute the command:"
   ]
  },
  {
   "cell_type": "raw",
   "metadata": {},
   "source": [
    "python"
   ]
  },
  {
   "cell_type": "markdown",
   "metadata": {},
   "source": [
    "or if v2 is the default on your machine, use:"
   ]
  },
  {
   "cell_type": "raw",
   "metadata": {},
   "source": [
    "python3"
   ]
  },
  {
   "cell_type": "markdown",
   "metadata": {},
   "source": [
    "- Then you'll be presented with the interactive python interpreter, which, in this notebook, looks like this:"
   ]
  },
  {
   "cell_type": "code",
   "execution_count": null,
   "metadata": {},
   "outputs": [],
   "source": []
  },
  {
   "cell_type": "markdown",
   "metadata": {},
   "source": [
    "- Any valid python statement can then be entered for immediate evaluation.\n",
    "- The canonical example is a programme that simply outputs the statement \"Hello World!\".\n",
    "- In python this is just:"
   ]
  },
  {
   "cell_type": "code",
   "execution_count": 1,
   "metadata": {},
   "outputs": [
    {
     "name": "stdout",
     "output_type": "stream",
     "text": [
      "Hello World!\n"
     ]
    }
   ],
   "source": [
    "print(\"Hello World!\")"
   ]
  },
  {
   "cell_type": "markdown",
   "metadata": {},
   "source": [
    "- In a terminal this will look more like this:\n",
    "\n",
    "<img src = './SUPAPYT-files/Python-Terminal.png' width = 450 alt = 'python terminal'>"
   ]
  },
  {
   "cell_type": "markdown",
   "metadata": {},
   "source": [
    "- Here's your first python method: \"print\", which converts objects to text and outputs them to the console.\n",
    "\n",
    "- You can pass several arguments to `print` by separating them with commas within the brackets, then they're printed on the same line with spaces between them:"
   ]
  },
  {
   "cell_type": "code",
   "execution_count": 2,
   "metadata": {},
   "outputs": [
    {
     "name": "stdout",
     "output_type": "stream",
     "text": [
      "1 2 3\n"
     ]
    }
   ],
   "source": [
    "print(1, 2, 3)"
   ]
  },
  {
   "cell_type": "markdown",
   "metadata": {},
   "source": [
    "- At the interactive prompt you can actually omit the \"print\", which is more like asking the interpreter \"what is this object?\", rather than necessarily outputing it in human readable format:"
   ]
  },
  {
   "cell_type": "code",
   "execution_count": 3,
   "metadata": {},
   "outputs": [
    {
     "data": {
      "text/plain": [
       "'Hello World!'"
      ]
     },
     "execution_count": 3,
     "metadata": {},
     "output_type": "execute_result"
    }
   ],
   "source": [
    "\"Hello World!\""
   ]
  },
  {
   "cell_type": "markdown",
   "metadata": {},
   "source": [
    "- More on what exactly the difference is later.\n",
    "- This means the interactive prompt is also a handy calculator:"
   ]
  },
  {
   "cell_type": "code",
   "execution_count": 4,
   "metadata": {},
   "outputs": [
    {
     "data": {
      "text/plain": [
       "13"
      ]
     },
     "execution_count": 4,
     "metadata": {},
     "output_type": "execute_result"
    }
   ],
   "source": [
    "10+3"
   ]
  },
  {
   "cell_type": "code",
   "execution_count": 5,
   "metadata": {},
   "outputs": [],
   "source": [
    "# A has symbol precedes a comment, which is ignored\n",
    "# by the interpreter, so this does nothing."
   ]
  },
  {
   "cell_type": "markdown",
   "metadata": {},
   "source": [
    "- You can then do ctrl-D on linux or ctrl-Z on Windows, or call the exit() method, to exit the interactive prompt."
   ]
  },
  {
   "cell_type": "markdown",
   "metadata": {},
   "source": [
    "### Python Scripts"
   ]
  },
  {
   "cell_type": "markdown",
   "metadata": {},
   "source": [
    "- The interactive prompt is fine for simple commands, but not much use for more involved work as you can't save code, or go back and edit it.\n",
    "- For this you want to write your code into a plain text file, normally referred to as a \"script\", which can then be passed to the python interpreter.\n",
    "- Any decent text editor can be used to do this, eg, [emacs](http://www.gnu.org/software/emacs/) or [vim](http://www.vim.org/), both of which are installed by default for most Linux distros, and also available for Windows. Many other options are available.\n",
    "- Python scripts are usually suffixed with .py (though they don't have to be).\n",
    "- To put the \"Hello world!\" command into a script first open a text file with an appropriate name by doing, eg, if you're using emacs:"
   ]
  },
  {
   "cell_type": "raw",
   "metadata": {},
   "source": [
    "emacs hello_world.py"
   ]
  },
  {
   "cell_type": "markdown",
   "metadata": {},
   "source": [
    "- And write your commands into it, so it looks like:\n",
    "\n",
    "<img src = './SUPAPYT-files/Emacs-HelloWorld.png' alt = 'emacs hello world' width = 450>"
   ]
  },
  {
   "cell_type": "markdown",
   "metadata": {},
   "source": [
    "- Then pass it to the python interpreter by doing:"
   ]
  },
  {
   "cell_type": "raw",
   "metadata": {
    "collapsed": true
   },
   "source": [
    "python hello_world.py"
   ]
  },
  {
   "cell_type": "markdown",
   "metadata": {},
   "source": [
    "- So you get:\n",
    "\n",
    "<img src = './SUPAPYT-files/Python-HelloWorld-Terminal.png' alt = 'hello world terminal' width = 450>"
   ]
  },
  {
   "cell_type": "markdown",
   "metadata": {},
   "source": [
    "- Note that, unlike at the interactive prompt, if you omit the print statement in a script you don't get any output.\n",
    "- So if your file looks like:\n",
    "\n",
    "<img src = './SUPAPYT-files/Emacs-HelloWorld-NoPrint.png' alt = 'emacs hello world' width = 450>"
   ]
  },
  {
   "cell_type": "markdown",
   "metadata": {},
   "source": [
    "then you get no output when you execute it:\n",
    "\n",
    "<img src = './SUPAPYT-files/Python-HelloWorld-NoPrint.png' alt = 'emacs hello world' width = 450>"
   ]
  },
  {
   "cell_type": "markdown",
   "metadata": {},
   "source": [
    "- You can also direct the output into a file in the usual way by doing:"
   ]
  },
  {
   "cell_type": "raw",
   "metadata": {
    "collapsed": true
   },
   "source": [
    "python hello_world.py > hello_world.log"
   ]
  },
  {
   "cell_type": "markdown",
   "metadata": {},
   "source": [
    "<img src = './SUPAPYT-files/Python-HelloWorld-Log.png' alt = 'emacs hello world' width = 450>"
   ]
  },
  {
   "cell_type": "markdown",
   "metadata": {},
   "source": [
    "- Then check the contents of the log file with:\n",
    "\n",
    "<img src = './SUPAPYT-files/Cat-HelloWorld-Log.png' alt = 'emacs hello world' width = 450>"
   ]
  },
  {
   "cell_type": "markdown",
   "metadata": {},
   "source": [
    "- Or to execute a script and then enter interactive mode using:"
   ]
  },
  {
   "cell_type": "raw",
   "metadata": {},
   "source": [
    "python -i hello_world.py"
   ]
  },
  {
   "cell_type": "markdown",
   "metadata": {},
   "source": [
    "<img src = './SUPAPYT-files/Python-HelloWorld-Interactive.png' alt = 'emacs hello world' width = 450>"
   ]
  },
  {
   "cell_type": "markdown",
   "metadata": {},
   "source": [
    "- Other options are available, check them out with:"
   ]
  },
  {
   "cell_type": "raw",
   "metadata": {
    "collapsed": true
   },
   "source": [
    "python -h"
   ]
  },
  {
   "cell_type": "markdown",
   "metadata": {},
   "source": [
    "#### Executable Scripts - Linux"
   ]
  },
  {
   "cell_type": "markdown",
   "metadata": {},
   "source": [
    "- On a linux machine you can make the script executable by adding the \"shebang\" line at the start of the script:"
   ]
  },
  {
   "cell_type": "raw",
   "metadata": {
    "collapsed": true
   },
   "source": [
    "#!/usr/bin/env python"
   ]
  },
  {
   "cell_type": "markdown",
   "metadata": {},
   "source": [
    "<img src = './SUPAPYT-files/Emacs-HelloWorld-Shebang.png' alt = 'emacs hello world' width = 450>"
   ]
  },
  {
   "cell_type": "markdown",
   "metadata": {},
   "source": [
    "- You can then make the script executable by doing (only once):"
   ]
  },
  {
   "cell_type": "raw",
   "metadata": {
    "collapsed": true
   },
   "source": [
    "chmod +x hello_world.py"
   ]
  },
  {
   "cell_type": "markdown",
   "metadata": {},
   "source": [
    "- So it can be called simply by doing:"
   ]
  },
  {
   "cell_type": "raw",
   "metadata": {
    "collapsed": true
   },
   "source": [
    "./hello_world.py"
   ]
  },
  {
   "cell_type": "markdown",
   "metadata": {},
   "source": [
    "<img src = './SUPAPYT-files/Python-HelloWorld-Exe.png' alt = 'emacs hello world' width = 450>"
   ]
  },
  {
   "cell_type": "markdown",
   "metadata": {},
   "source": [
    "- This is generally helpful for scripts on linux as it means you don't need to know that it's a python script (or any other type) to be able to execute it."
   ]
  },
  {
   "cell_type": "markdown",
   "metadata": {},
   "source": [
    "#### Executable Scripts - Windows"
   ]
  },
  {
   "cell_type": "markdown",
   "metadata": {},
   "source": [
    "- In Windows any file ending in .py should automatically be executable from the commandline in this way (the \"shebang\" is just interpreted as a comment and ignored).\n",
    "- You can also execute a script in Windows simply by double clicking the file as usual.\n",
    "    - This will normally open a terminal, execute the script, then immediately close the terminal, so isn't so useful if you want to view output."
   ]
  },
  {
   "cell_type": "markdown",
   "metadata": {},
   "source": [
    "#### Integrated Development Environments (IDEs)"
   ]
  },
  {
   "cell_type": "markdown",
   "metadata": {},
   "source": [
    "- Jupyter notebooks have their limitations (though they're very useful for teaching!), so for most coding you'll likely write scripts rather than notebooks.\n",
    "- [IDEs](https://en.wikipedia.org/wiki/Integrated_development_environment) provide enhanced editing functionality over plain text editors - they make common tasks much easier.\n",
    "- [IDLE](https://docs.python.org/3/library/idle.html) is python's Integrated Development and Learning Environment, which comes with a standard python installation.\n",
    "- Many other IDEs [are available](https://wiki.python.org/moin/IntegratedDevelopmentEnvironments) - which to use, if any, is a matter of taste.\n",
    "- You can also get plugins for text editors to add IDE-like functionality, eg, for [emacs](https://www.emacswiki.org/emacs/PythonProgrammingInEmacs#) or [vim](https://realpython.com/vim-and-python-a-match-made-in-heaven/)."
   ]
  },
  {
   "cell_type": "markdown",
   "metadata": {},
   "source": [
    "## Simple Calculations"
   ]
  },
  {
   "cell_type": "markdown",
   "metadata": {},
   "source": [
    "All the standard operators are available:\n",
    "\n",
    "    +    add\n",
    "\n",
    "    -    subtract\n",
    "\n",
    "    *    multiply\n",
    "\n",
    "    /    divide\n",
    "    \n",
    "    //   divide and round down\n",
    "\n",
    "    %    remainder\n",
    "\n",
    "    **   exponentiate\n",
    "\n",
    "As said, the interactive prompt is handy as a simple calculator:"
   ]
  },
  {
   "cell_type": "code",
   "execution_count": 6,
   "metadata": {},
   "outputs": [
    {
     "data": {
      "text/plain": [
       "4"
      ]
     },
     "execution_count": 6,
     "metadata": {},
     "output_type": "execute_result"
    }
   ],
   "source": [
    "# Addition\n",
    "2+2"
   ]
  },
  {
   "cell_type": "code",
   "execution_count": 7,
   "metadata": {},
   "outputs": [
    {
     "data": {
      "text/plain": [
       "1.5"
      ]
     },
     "execution_count": 7,
     "metadata": {},
     "output_type": "execute_result"
    }
   ],
   "source": [
    "# Division\n",
    "3/2"
   ]
  },
  {
   "cell_type": "code",
   "execution_count": 8,
   "metadata": {},
   "outputs": [
    {
     "data": {
      "text/plain": [
       "1"
      ]
     },
     "execution_count": 8,
     "metadata": {},
     "output_type": "execute_result"
    }
   ],
   "source": [
    "# Floor division\n",
    "3//2"
   ]
  },
  {
   "cell_type": "code",
   "execution_count": 9,
   "metadata": {},
   "outputs": [
    {
     "data": {
      "text/plain": [
       "-1.5"
      ]
     },
     "execution_count": 9,
     "metadata": {},
     "output_type": "execute_result"
    }
   ],
   "source": [
    "-3/2"
   ]
  },
  {
   "cell_type": "code",
   "execution_count": 10,
   "metadata": {},
   "outputs": [
    {
     "data": {
      "text/plain": [
       "-2"
      ]
     },
     "execution_count": 10,
     "metadata": {},
     "output_type": "execute_result"
    }
   ],
   "source": [
    "-3//2"
   ]
  },
  {
   "cell_type": "code",
   "execution_count": 11,
   "metadata": {},
   "outputs": [
    {
     "data": {
      "text/plain": [
       "7"
      ]
     },
     "execution_count": 11,
     "metadata": {},
     "output_type": "execute_result"
    }
   ],
   "source": [
    "# The usual operator precedence applies\n",
    "1 + 2 * 3"
   ]
  },
  {
   "cell_type": "code",
   "execution_count": 12,
   "metadata": {},
   "outputs": [
    {
     "data": {
      "text/plain": [
       "9"
      ]
     },
     "execution_count": 12,
     "metadata": {},
     "output_type": "execute_result"
    }
   ],
   "source": [
    "# As do parenthesis rules\n",
    "(1 + 2) * 3"
   ]
  },
  {
   "cell_type": "code",
   "execution_count": 13,
   "metadata": {},
   "outputs": [
    {
     "data": {
      "text/plain": [
       "5"
      ]
     },
     "execution_count": 13,
     "metadata": {},
     "output_type": "execute_result"
    }
   ],
   "source": [
    "# Remainder\n",
    "15 % 10"
   ]
  },
  {
   "cell_type": "code",
   "execution_count": 14,
   "metadata": {},
   "outputs": [
    {
     "name": "stdout",
     "output_type": "stream",
     "text": [
      "1.4000000000000004\n"
     ]
    }
   ],
   "source": [
    "# Remainder also works on numbers with decimal points,\n",
    "# but always be careful of rounding errors!\n",
    "print(5.4 % 2)"
   ]
  },
  {
   "cell_type": "code",
   "execution_count": 15,
   "metadata": {},
   "outputs": [
    {
     "data": {
      "text/plain": [
       "16"
      ]
     },
     "execution_count": 15,
     "metadata": {},
     "output_type": "execute_result"
    }
   ],
   "source": [
    "# Exponentiate\n",
    "(6-2)**2"
   ]
  },
  {
   "cell_type": "code",
   "execution_count": 16,
   "metadata": {},
   "outputs": [
    {
     "data": {
      "text/plain": [
       "16"
      ]
     },
     "execution_count": 16,
     "metadata": {},
     "output_type": "execute_result"
    }
   ],
   "source": [
    "# At the interactive prompt the last value that was \n",
    "# output is assigned to the variable \"_\", which can \n",
    "# be useful for repeated calculations. \n",
    "_"
   ]
  },
  {
   "cell_type": "code",
   "execution_count": 17,
   "metadata": {},
   "outputs": [
    {
     "data": {
      "text/plain": [
       "23.5"
      ]
     },
     "execution_count": 17,
     "metadata": {},
     "output_type": "execute_result"
    }
   ],
   "source": [
    "_ + 7.5"
   ]
  },
  {
   "cell_type": "code",
   "execution_count": 18,
   "metadata": {},
   "outputs": [
    {
     "data": {
      "text/plain": [
       "28.294"
      ]
     },
     "execution_count": 18,
     "metadata": {},
     "output_type": "execute_result"
    }
   ],
   "source": [
    "_ * 1.204"
   ]
  },
  {
   "cell_type": "markdown",
   "metadata": {},
   "source": [
    "- Note that the variable \"`_`\" only exists at the interactive prompt, and not in scripts."
   ]
  },
  {
   "cell_type": "markdown",
   "metadata": {},
   "source": [
    "## Assignment to variables"
   ]
  },
  {
   "cell_type": "code",
   "execution_count": 19,
   "metadata": {},
   "outputs": [
    {
     "data": {
      "text/plain": [
       "10"
      ]
     },
     "execution_count": 19,
     "metadata": {},
     "output_type": "execute_result"
    }
   ],
   "source": [
    "# As simple as this, no type declaration is needed. Just name the\n",
    "# variable and give it a value with =.\n",
    "\n",
    "width = 5\n",
    "length = 2\n",
    "area = width * length\n",
    "area"
   ]
  },
  {
   "cell_type": "code",
   "execution_count": 20,
   "metadata": {},
   "outputs": [
    {
     "data": {
      "text/plain": [
       "10"
      ]
     },
     "execution_count": 20,
     "metadata": {},
     "output_type": "execute_result"
    }
   ],
   "source": [
    "# You can assign variables from other variables.\n",
    "\n",
    "area2 = area\n",
    "area2"
   ]
  },
  {
   "cell_type": "code",
   "execution_count": 21,
   "metadata": {},
   "outputs": [
    {
     "data": {
      "text/plain": [
       "(0.0, 0.0, 0.0)"
      ]
     },
     "execution_count": 21,
     "metadata": {},
     "output_type": "execute_result"
    }
   ],
   "source": [
    "# The same value can be assigned to several variables simultaneously \n",
    "# like this:\n",
    "\n",
    "x = y = z = 0.\n",
    "x, y, z"
   ]
  },
  {
   "cell_type": "code",
   "execution_count": 22,
   "metadata": {},
   "outputs": [
    {
     "data": {
      "text/plain": [
       "(1, 2, 3)"
      ]
     },
     "execution_count": 22,
     "metadata": {},
     "output_type": "execute_result"
    }
   ],
   "source": [
    "# Or to give different values separate them with commas\n",
    "\n",
    "x, y, z = 1, 2, 3\n",
    "x, y, z"
   ]
  },
  {
   "cell_type": "code",
   "execution_count": 23,
   "metadata": {},
   "outputs": [],
   "source": [
    "# You can delete a variable with the del keyword\n",
    "\n",
    "del x"
   ]
  },
  {
   "cell_type": "markdown",
   "metadata": {},
   "source": [
    "- There are several reserved keywords in python, which can't be used as variable names.\n",
    "- You can get the full list of keywords like so:"
   ]
  },
  {
   "cell_type": "code",
   "execution_count": 24,
   "metadata": {},
   "outputs": [
    {
     "name": "stdout",
     "output_type": "stream",
     "text": [
      "['False', 'None', 'True', 'and', 'as', 'assert', 'async', 'await', 'break', 'class', 'continue', 'def', 'del', 'elif', 'else', 'except', 'finally', 'for', 'from', 'global', 'if', 'import', 'in', 'is', 'lambda', 'nonlocal', 'not', 'or', 'pass', 'raise', 'return', 'try', 'while', 'with', 'yield']\n"
     ]
    }
   ],
   "source": [
    "import keyword\n",
    "\n",
    "print(keyword.kwlist)"
   ]
  },
  {
   "cell_type": "markdown",
   "metadata": {},
   "source": [
    "- You see that `import` is another keyword.\n",
    "- More on importing [later](#Importing-Modules)."
   ]
  },
  {
   "cell_type": "code",
   "execution_count": 25,
   "metadata": {},
   "outputs": [
    {
     "ename": "NameError",
     "evalue": "name 'x' is not defined",
     "output_type": "error",
     "traceback": [
      "\u001b[0;31m---------------------------------------------------------------------------\u001b[0m",
      "\u001b[0;31mNameError\u001b[0m                                 Traceback (most recent call last)",
      "\u001b[0;32m<ipython-input-25-295c1a8712a5>\u001b[0m in \u001b[0;36m<module>\u001b[0;34m\u001b[0m\n\u001b[1;32m      2\u001b[0m \u001b[0;31m# you get an exception.\u001b[0m\u001b[0;34m\u001b[0m\u001b[0;34m\u001b[0m\u001b[0;34m\u001b[0m\u001b[0m\n\u001b[1;32m      3\u001b[0m \u001b[0;34m\u001b[0m\u001b[0m\n\u001b[0;32m----> 4\u001b[0;31m \u001b[0mx\u001b[0m\u001b[0;34m\u001b[0m\u001b[0;34m\u001b[0m\u001b[0m\n\u001b[0m",
      "\u001b[0;31mNameError\u001b[0m: name 'x' is not defined"
     ]
    }
   ],
   "source": [
    "# If you try to access a variable that doesn't exist,\n",
    "# you get an exception.\n",
    "\n",
    "x"
   ]
  },
  {
   "cell_type": "code",
   "execution_count": 26,
   "metadata": {},
   "outputs": [
    {
     "ename": "SyntaxError",
     "evalue": "invalid syntax (<ipython-input-26-db9bc4af240c>, line 4)",
     "output_type": "error",
     "traceback": [
      "\u001b[0;36m  File \u001b[0;32m\"<ipython-input-26-db9bc4af240c>\"\u001b[0;36m, line \u001b[0;32m4\u001b[0m\n\u001b[0;31m    del = 1\u001b[0m\n\u001b[0m        ^\u001b[0m\n\u001b[0;31mSyntaxError\u001b[0m\u001b[0;31m:\u001b[0m invalid syntax\n"
     ]
    }
   ],
   "source": [
    "# If you try to use a keyword as a variable name,\n",
    "# you also get an exception\n",
    "\n",
    "del = 1"
   ]
  },
  {
   "cell_type": "markdown",
   "metadata": {},
   "source": [
    "- Exceptions are raised when python fails to evaluate an expression and can't continue.\n",
    "- There are various types of Exception for different problems. \n",
    "- Normally they give some information on what the problem is.\n",
    "- More on exceptions [later](#Exceptions)."
   ]
  },
  {
   "cell_type": "markdown",
   "metadata": {},
   "source": [
    "---"
   ]
  },
  {
   "cell_type": "markdown",
   "metadata": {},
   "source": [
    "<img src = 'https://i.redd.it/gfrf55c2jfw01.jpg' alt = 'harry potter python' width = 450>"
   ]
  },
  {
   "cell_type": "markdown",
   "metadata": {},
   "source": [
    "## Basic Data Types"
   ]
  },
  {
   "cell_type": "markdown",
   "metadata": {},
   "source": [
    "### Numbers"
   ]
  },
  {
   "cell_type": "code",
   "execution_count": 27,
   "metadata": {},
   "outputs": [],
   "source": [
    "# A number without a decimal point is an integer, \"int\"\n",
    "\n",
    "x = 123"
   ]
  },
  {
   "cell_type": "code",
   "execution_count": 28,
   "metadata": {},
   "outputs": [
    {
     "name": "stdout",
     "output_type": "stream",
     "text": [
      "123\n",
      "<class 'int'>\n"
     ]
    }
   ],
   "source": [
    "# You can check the type of any variable using the \"type\" method.\n",
    "# A method is called (excuted) using brackets which contain the \n",
    "# arguments that're passed to the method.\n",
    "\n",
    "print(x)\n",
    "print(type(x))"
   ]
  },
  {
   "cell_type": "code",
   "execution_count": 29,
   "metadata": {},
   "outputs": [
    {
     "name": "stdout",
     "output_type": "stream",
     "text": [
      "8\n",
      "<class 'int'>\n"
     ]
    }
   ],
   "source": [
    "# A 0o prefix causes a number to be interpreted as an octal number,\n",
    "# though it's converted to base 10 and stored as a regular int.\n",
    "\n",
    "x = 0o10\n",
    "print(x)\n",
    "print(type(x))"
   ]
  },
  {
   "cell_type": "code",
   "execution_count": 30,
   "metadata": {},
   "outputs": [
    {
     "name": "stdout",
     "output_type": "stream",
     "text": [
      "15\n",
      "<class 'int'>\n"
     ]
    }
   ],
   "source": [
    "# Similarly for hexidecimal numbers prefix with 0x\n",
    "\n",
    "x = 0xF\n",
    "print(x)\n",
    "print(type(x))"
   ]
  },
  {
   "cell_type": "code",
   "execution_count": 31,
   "metadata": {},
   "outputs": [
    {
     "name": "stdout",
     "output_type": "stream",
     "text": [
      "2\n",
      "<class 'int'>\n"
     ]
    }
   ],
   "source": [
    "# Or for binary, use 0b.\n",
    "\n",
    "x = 0b10\n",
    "print(x)\n",
    "print(type(x))"
   ]
  },
  {
   "cell_type": "code",
   "execution_count": 32,
   "metadata": {},
   "outputs": [
    {
     "name": "stdout",
     "output_type": "stream",
     "text": [
      "123.0 <class 'float'>\n"
     ]
    }
   ],
   "source": [
    "# Anything with a decimal point or in scientific notation is a float.\n",
    "# In python all floats are \"double\" precision (normally 16 d.p.), \n",
    "# \"single\" precision float doesn't exist.\n",
    "\n",
    "x = 123.\n",
    "print(x, type(x))"
   ]
  },
  {
   "cell_type": "code",
   "execution_count": 33,
   "metadata": {},
   "outputs": [
    {
     "name": "stdout",
     "output_type": "stream",
     "text": [
      "1000000.0 <class 'float'>\n"
     ]
    }
   ],
   "source": [
    "# \"e\" or \"E\" is allowed for scientific notation\n",
    "\n",
    "x = 1e6\n",
    "print(x, type(x))"
   ]
  },
  {
   "cell_type": "code",
   "execution_count": 34,
   "metadata": {},
   "outputs": [
    {
     "name": "stdout",
     "output_type": "stream",
     "text": [
      "(1+2j) <class 'complex'>\n"
     ]
    }
   ],
   "source": [
    "# Python also has a builtin complex number class.\n",
    "# \"j\" or \"J\" is valid.\n",
    "\n",
    "x = 1 + 2j\n",
    "print(x, type(x))"
   ]
  },
  {
   "cell_type": "code",
   "execution_count": 35,
   "metadata": {},
   "outputs": [
    {
     "name": "stdout",
     "output_type": "stream",
     "text": [
      "(3+4j) <class 'complex'>\n"
     ]
    }
   ],
   "source": [
    "# You can also use the complex class constructor.\n",
    "\n",
    "x = complex(3,4)\n",
    "print(x, type(x))"
   ]
  },
  {
   "cell_type": "code",
   "execution_count": 36,
   "metadata": {},
   "outputs": [
    {
     "name": "stdout",
     "output_type": "stream",
     "text": [
      "3.0 <class 'float'>\n",
      "4.0 <class 'float'>\n"
     ]
    }
   ],
   "source": [
    "# Real and imaginary parts are stored as floats.\n",
    "# Access member \"attributes\" of an object with '.'\n",
    "\n",
    "print(x.real, type(x.real))\n",
    "print(x.imag, type(x.imag))"
   ]
  },
  {
   "cell_type": "code",
   "execution_count": 37,
   "metadata": {},
   "outputs": [
    {
     "name": "stdout",
     "output_type": "stream",
     "text": [
      "(3-4j) <class 'complex'>\n",
      "(6+0j)\n"
     ]
    }
   ],
   "source": [
    "# Also use '.' for member methods.\n",
    "# You need brackets following a method in order\n",
    "# to call (execute) it, even if there are no \n",
    "# arguments.\n",
    "\n",
    "y = x.conjugate()\n",
    "print(y, type(y))\n",
    "print(x + y)"
   ]
  },
  {
   "cell_type": "markdown",
   "metadata": {},
   "source": [
    "- Here're the first examples of two key concepts in object oriented programming:\n",
    "    - Member attributes, which contain the data for the object.\n",
    "    - Member methods, which can access, modify or perform other operations on the attributes.\n",
    "- The `complex` class describes a template for complex numbers: every instance has a value for the `real` and `imag` attributes, can call methods like `conjugate`, and perform basic numerical operations."
   ]
  },
  {
   "cell_type": "markdown",
   "metadata": {},
   "source": [
    "### Booleans"
   ]
  },
  {
   "cell_type": "markdown",
   "metadata": {},
   "source": [
    "- These are simply `True` or `False`.\n",
    "- They're used for [flow control](#Flow-Control) (which we'll discuss a little later), comparing objects, as a flag, and various other applications."
   ]
  },
  {
   "cell_type": "code",
   "execution_count": 38,
   "metadata": {},
   "outputs": [
    {
     "name": "stdout",
     "output_type": "stream",
     "text": [
      "True <class 'bool'>\n",
      "False <class 'bool'>\n"
     ]
    }
   ],
   "source": [
    "# Boolean types start with capital letters\n",
    "\n",
    "x = True\n",
    "y = False\n",
    "print(x, type(x))\n",
    "print(y, type(y))"
   ]
  },
  {
   "cell_type": "code",
   "execution_count": 39,
   "metadata": {},
   "outputs": [
    {
     "name": "stdout",
     "output_type": "stream",
     "text": [
      "True\n",
      "False\n"
     ]
    }
   ],
   "source": [
    "# Particularly relevant for comparisons\n",
    "\n",
    "print(1==1)\n",
    "print(1==0)"
   ]
  },
  {
   "cell_type": "code",
   "execution_count": 40,
   "metadata": {},
   "outputs": [
    {
     "name": "stdout",
     "output_type": "stream",
     "text": [
      "True <class 'bool'>\n"
     ]
    }
   ],
   "source": [
    "# You can also assign from comparisons\n",
    "\n",
    "x = (1==1)\n",
    "print(x, type(x))"
   ]
  },
  {
   "cell_type": "code",
   "execution_count": 41,
   "metadata": {},
   "outputs": [
    {
     "name": "stdout",
     "output_type": "stream",
     "text": [
      "True\n",
      "False\n"
     ]
    }
   ],
   "source": [
    "# Booleans can be combined using 'and' or 'or'\n",
    "\n",
    "x = 123.\n",
    "print(x > 100 and x < 200)\n",
    "print(x < 100 or x > 200)"
   ]
  },
  {
   "cell_type": "markdown",
   "metadata": {},
   "source": [
    "- Any number of `and` or `or` statements can be strung together.\n",
    "- For more complicated expressions, keep in mind that `and` operations have higher precedence than `or` operations.\n",
    "- For a (much) more detailed description, see [here](https://thomas-cokelaer.info/tutorials/python/boolean.html)."
   ]
  },
  {
   "cell_type": "markdown",
   "metadata": {},
   "source": [
    "### Strings"
   ]
  },
  {
   "cell_type": "markdown",
   "metadata": {},
   "source": [
    "- These are sequences of characters.\n",
    "- Python has lots of useful functionality for manipulating strings.\n",
    "- Whenever you `print` something, it's converted to a string (if it isn't one already)."
   ]
  },
  {
   "cell_type": "code",
   "execution_count": 42,
   "metadata": {},
   "outputs": [
    {
     "name": "stdout",
     "output_type": "stream",
     "text": [
      "Sir Gallahad\n"
     ]
    }
   ],
   "source": [
    "# We already saw a string in 'Hello world!'\n",
    "# They can be defined using single or double quotes.\n",
    "\n",
    "name = 'Sir Gallahad'\n",
    "print(name)"
   ]
  },
  {
   "cell_type": "code",
   "execution_count": 43,
   "metadata": {},
   "outputs": [
    {
     "name": "stdout",
     "output_type": "stream",
     "text": [
      "Brave Sir Robin\n"
     ]
    }
   ],
   "source": [
    "name = \"Brave Sir Robin\"\n",
    "print(name)"
   ]
  },
  {
   "cell_type": "code",
   "execution_count": 44,
   "metadata": {},
   "outputs": [
    {
     "data": {
      "text/plain": [
       "\"He's running away\""
      ]
     },
     "execution_count": 44,
     "metadata": {},
     "output_type": "execute_result"
    }
   ],
   "source": [
    "# A string can contain quotation marks.\n",
    "# If they're the same as the enclosing quotation marks they need to be \n",
    "# \"escaped\" with a backslash, if they're different they don't need to  \n",
    "# be escaped.\n",
    "\n",
    "\"He's running away\""
   ]
  },
  {
   "cell_type": "code",
   "execution_count": 45,
   "metadata": {},
   "outputs": [
    {
     "data": {
      "text/plain": [
       "\"He's chickening out\""
      ]
     },
     "execution_count": 45,
     "metadata": {},
     "output_type": "execute_result"
    }
   ],
   "source": [
    "'He\\'s chickening out'"
   ]
  },
  {
   "cell_type": "code",
   "execution_count": 46,
   "metadata": {},
   "outputs": [
    {
     "data": {
      "text/plain": [
       "'Brave Sir Robin ran away'"
      ]
     },
     "execution_count": 46,
     "metadata": {},
     "output_type": "execute_result"
    }
   ],
   "source": [
    "# You can continue a string onto the next line with a backslash\n",
    "\n",
    "lyric = 'Brave Sir Robin \\\n",
    "ran away'\n",
    "lyric"
   ]
  },
  {
   "cell_type": "code",
   "execution_count": 47,
   "metadata": {},
   "outputs": [
    {
     "data": {
      "text/plain": [
       "'Boldly ran\\n away\\n  away ...'"
      ]
     },
     "execution_count": 47,
     "metadata": {},
     "output_type": "execute_result"
    }
   ],
   "source": [
    "# Multi-line strings use triple quotes - can also use '''\n",
    "\n",
    "lyric = \"\"\"Boldly ran\n",
    " away\n",
    "  away ...\"\"\"\n",
    "\n",
    "# \\n is the newline character\n",
    "lyric"
   ]
  },
  {
   "cell_type": "code",
   "execution_count": 48,
   "metadata": {},
   "outputs": [
    {
     "name": "stdout",
     "output_type": "stream",
     "text": [
      "Boldly ran\n",
      " away\n",
      "  away ...\n"
     ]
    }
   ],
   "source": [
    "# Spaces at the start of lines are kept\n",
    "\n",
    "print(lyric)"
   ]
  },
  {
   "cell_type": "code",
   "execution_count": 49,
   "metadata": {},
   "outputs": [],
   "source": [
    "# If not assigned to a variable (and not the only thing in a script)\n",
    "# a multi-line string can be used as a multi-line comment - python is \n",
    "# clever enough to ignore it and not allocate any memory to it.\n",
    "\n",
    "'''This is a \n",
    "multi-line comment'''\n",
    "\n",
    "# In a Jupyter notebook, there has to be something else in the cell\n",
    "# for the string to be interpreted as a comment.\n",
    "lyric = ''"
   ]
  },
  {
   "cell_type": "code",
   "execution_count": 50,
   "metadata": {},
   "outputs": [
    {
     "data": {
      "text/plain": [
       "'Spam and eggs'"
      ]
     },
     "execution_count": 50,
     "metadata": {},
     "output_type": "execute_result"
    }
   ],
   "source": [
    "# You can concatenate strings with +\n",
    "\n",
    "'Spam ' + 'and eggs'"
   ]
  },
  {
   "cell_type": "code",
   "execution_count": 51,
   "metadata": {},
   "outputs": [
    {
     "data": {
      "text/plain": [
       "'Spam and eggs'"
      ]
     },
     "execution_count": 51,
     "metadata": {},
     "output_type": "execute_result"
    }
   ],
   "source": [
    "# You can optionally omit the + as python implicitly concatenates \n",
    "# two strings declared side-by-side (the case above is explicit\n",
    "# concatenation).\n",
    "\n",
    "'Spam ' 'and eggs'"
   ]
  },
  {
   "cell_type": "code",
   "execution_count": 52,
   "metadata": {},
   "outputs": [
    {
     "name": "stdout",
     "output_type": "stream",
     "text": [
      "Spam, spam, spam, spam, spam, spam, spam, and eggs\n"
     ]
    }
   ],
   "source": [
    "# This provides another way of writing a string across \n",
    "# several lines, which can make code easier to read.\n",
    "\n",
    "menu = ('Spam, spam, spam, spam, spam, spam, spam,'\n",
    "        ' and eggs')\n",
    "print(menu)"
   ]
  },
  {
   "cell_type": "code",
   "execution_count": 53,
   "metadata": {},
   "outputs": [
    {
     "data": {
      "text/plain": [
       "'Spam Spam Spam '"
      ]
     },
     "execution_count": 53,
     "metadata": {},
     "output_type": "execute_result"
    }
   ],
   "source": [
    "# You can also multiply strings by integers\n",
    "\n",
    "'Spam ' * 3"
   ]
  },
  {
   "cell_type": "code",
   "execution_count": 54,
   "metadata": {},
   "outputs": [
    {
     "data": {
      "text/plain": [
       "'SPAM AND EGGS'"
      ]
     },
     "execution_count": 54,
     "metadata": {},
     "output_type": "execute_result"
    }
   ],
   "source": [
    "# Strings have lots of member methods, eg\n",
    "\n",
    "menu = 'Spam and eggs'\n",
    "menu.upper()"
   ]
  },
  {
   "cell_type": "code",
   "execution_count": 55,
   "metadata": {},
   "outputs": [
    {
     "data": {
      "text/plain": [
       "'Spam and spam'"
      ]
     },
     "execution_count": 55,
     "metadata": {},
     "output_type": "execute_result"
    }
   ],
   "source": [
    "# Note that these methods return new strings, and don't \n",
    "# change the original.\n",
    "\n",
    "menu2 = menu.replace('eggs', 'spam')\n",
    "menu2"
   ]
  },
  {
   "cell_type": "code",
   "execution_count": 56,
   "metadata": {},
   "outputs": [
    {
     "data": {
      "text/plain": [
       "'Spam and eggs'"
      ]
     },
     "execution_count": 56,
     "metadata": {},
     "output_type": "execute_result"
    }
   ],
   "source": [
    "menu"
   ]
  },
  {
   "cell_type": "code",
   "execution_count": 57,
   "metadata": {},
   "outputs": [
    {
     "data": {
      "text/plain": [
       "'m'"
      ]
     },
     "execution_count": 57,
     "metadata": {},
     "output_type": "execute_result"
    }
   ],
   "source": [
    "# You can access single characters in a string using indexing\n",
    "# with square brackets.\n",
    "# Access the 4th character from the start (indices start at 0)\n",
    "\n",
    "menu[3]"
   ]
  },
  {
   "cell_type": "code",
   "execution_count": 58,
   "metadata": {},
   "outputs": [
    {
     "data": {
      "text/plain": [
       "'e'"
      ]
     },
     "execution_count": 58,
     "metadata": {},
     "output_type": "execute_result"
    }
   ],
   "source": [
    "# Python also allows negative indices, which count from the end \n",
    "# of the string (or other indexable object).\n",
    "# eg, access the 4th character from the end:\n",
    "\n",
    "menu[-4]"
   ]
  },
  {
   "cell_type": "code",
   "execution_count": 59,
   "metadata": {},
   "outputs": [
    {
     "data": {
      "text/plain": [
       "'pa'"
      ]
     },
     "execution_count": 59,
     "metadata": {},
     "output_type": "execute_result"
    }
   ],
   "source": [
    "# You can also access slices of a string like so:\n",
    "\n",
    "menu[1:3]"
   ]
  },
  {
   "cell_type": "code",
   "execution_count": 60,
   "metadata": {},
   "outputs": [
    {
     "data": {
      "text/plain": [
       "'Spa'"
      ]
     },
     "execution_count": 60,
     "metadata": {},
     "output_type": "execute_result"
    }
   ],
   "source": [
    "# Omitting the first index is equivalent to it being 0\n",
    "\n",
    "menu[:3]"
   ]
  },
  {
   "cell_type": "code",
   "execution_count": 61,
   "metadata": {},
   "outputs": [
    {
     "data": {
      "text/plain": [
       "'m and eggs'"
      ]
     },
     "execution_count": 61,
     "metadata": {},
     "output_type": "execute_result"
    }
   ],
   "source": [
    "# Omitting the second index is the same as it being equal to \n",
    "# the nubmer of characters in the string.\n",
    "\n",
    "menu[3:]"
   ]
  },
  {
   "cell_type": "code",
   "execution_count": 62,
   "metadata": {},
   "outputs": [
    {
     "data": {
      "text/plain": [
       "'Spam and eggs'"
      ]
     },
     "execution_count": 62,
     "metadata": {},
     "output_type": "execute_result"
    }
   ],
   "source": [
    "# So this returns the original string:\n",
    "\n",
    "menu[:3] + menu[3:]"
   ]
  },
  {
   "cell_type": "code",
   "execution_count": 63,
   "metadata": {},
   "outputs": [
    {
     "data": {
      "text/plain": [
       "'ggs'"
      ]
     },
     "execution_count": 63,
     "metadata": {},
     "output_type": "execute_result"
    }
   ],
   "source": [
    "# Negative indices are also allowed when slicing.\n",
    "# This gives the last 3 characters:\n",
    "\n",
    "menu[-3:]"
   ]
  },
  {
   "cell_type": "code",
   "execution_count": 64,
   "metadata": {},
   "outputs": [
    {
     "data": {
      "text/plain": [
       "'Spam and e'"
      ]
     },
     "execution_count": 64,
     "metadata": {},
     "output_type": "execute_result"
    }
   ],
   "source": [
    "# This gives everything but the last 3 characters.\n",
    "\n",
    "menu[:-3]"
   ]
  },
  {
   "cell_type": "code",
   "execution_count": 65,
   "metadata": {},
   "outputs": [
    {
     "data": {
      "text/plain": [
       "''"
      ]
     },
     "execution_count": 65,
     "metadata": {},
     "output_type": "execute_result"
    }
   ],
   "source": [
    "# If the index range is negative, or beyond the length of \n",
    "# the string, you get an empty string.\n",
    "\n",
    "menu[10:2]"
   ]
  },
  {
   "cell_type": "code",
   "execution_count": 66,
   "metadata": {},
   "outputs": [
    {
     "data": {
      "text/plain": [
       "''"
      ]
     },
     "execution_count": 66,
     "metadata": {},
     "output_type": "execute_result"
    }
   ],
   "source": [
    "menu[23:45]"
   ]
  },
  {
   "cell_type": "code",
   "execution_count": 67,
   "metadata": {},
   "outputs": [
    {
     "name": "stdout",
     "output_type": "stream",
     "text": [
      "True\n",
      "True\n",
      "False\n"
     ]
    }
   ],
   "source": [
    "# You can use the 'in' keyword to check if a string\n",
    "# contains a character or substring.\n",
    "\n",
    "print('m' in menu)\n",
    "print('Spam' in menu)\n",
    "print('spam' in menu)"
   ]
  },
  {
   "cell_type": "markdown",
   "metadata": {},
   "source": [
    "- Strings have various formatting methods that're very useful for making output more easily readable.\n",
    "- By calling the `format` member method of a string, expressions in braces `{}` are replaced with the arguments of `format`.\n",
    "- Flags can be used inside the braces to define how to format the arguments."
   ]
  },
  {
   "cell_type": "code",
   "execution_count": 68,
   "metadata": {},
   "outputs": [
    {
     "name": "stdout",
     "output_type": "stream",
     "text": [
      "Result: 1.435 +/- 0.035\n"
     ]
    }
   ],
   "source": [
    "# No flags: the braces are replaced with string versions\n",
    "# of the format arguments.\n",
    "\n",
    "print('Result: {} +/- {}'.format(1.435, 0.035))"
   ]
  },
  {
   "cell_type": "code",
   "execution_count": 69,
   "metadata": {},
   "outputs": [
    {
     "name": "stdout",
     "output_type": "stream",
     "text": [
      "spam and eggs and spam\n"
     ]
    }
   ],
   "source": [
    "# If you put indices in the curly brackets they're replaced by the \n",
    "# argument of the same index. Indices count from zero.\n",
    "# This is particulary useful if you use an argument more than once.\n",
    "\n",
    "print('{0} and {1} and {0}'.format('spam', 'eggs'))"
   ]
  },
  {
   "cell_type": "markdown",
   "metadata": {},
   "source": [
    "- A colon inside the braces is followed by the formatting flags.\n",
    "- The first number is the minimum width of the resulting string.\n",
    "- The second number is the precision used to round the number.\n",
    "- The 'f' means floating point representation should be used."
   ]
  },
  {
   "cell_type": "code",
   "execution_count": 70,
   "metadata": {},
   "outputs": [
    {
     "name": "stdout",
     "output_type": "stream",
     "text": [
      "Result:     1.44 +/- 0.04\n"
     ]
    }
   ],
   "source": [
    "print('Result: {:8.2f} +/- {:4.2f}'.format(1.435, 0.035))"
   ]
  },
  {
   "cell_type": "code",
   "execution_count": 71,
   "metadata": {},
   "outputs": [
    {
     "name": "stdout",
     "output_type": "stream",
     "text": [
      "Result:     1.44 +/- 0.04\n"
     ]
    }
   ],
   "source": [
    "# Formatting flags can be combined with indices in front of the\n",
    "# colon.\n",
    "\n",
    "print('Result: {1:8.2f} +/- {0:4.2f}'.format(0.035, 1.435))"
   ]
  },
  {
   "cell_type": "code",
   "execution_count": 72,
   "metadata": {},
   "outputs": [
    {
     "name": "stdout",
     "output_type": "stream",
     "text": [
      "Result:     1.44 +/- 0.04\n"
     ]
    }
   ],
   "source": [
    "# Alternatively, you can use 'keywords' to label the arguments\n",
    "# rather than indices.\n",
    "\n",
    "print('Result: {value:8.2f} +/- {error:4.2f}'.format(value = 1.435, \n",
    "                                                     error = 0.035))"
   ]
  },
  {
   "cell_type": "code",
   "execution_count": 73,
   "metadata": {},
   "outputs": [
    {
     "name": "stdout",
     "output_type": "stream",
     "text": [
      "Result: {:8.2f} +/- {:4.2f}\n",
      "Result:     3.24 +/- 0.22\n",
      "Result:     2.90 +/- 0.09\n"
     ]
    }
   ],
   "source": [
    "# You don't need to format a string at initialisation. The format method \n",
    "# actually returns a new string, which you can assign to a new variable.\n",
    "\n",
    "genericResult = 'Result: {:8.2f} +/- {:4.2f}'\n",
    "result1 = genericResult.format(3.2432, 0.2234)\n",
    "result2 = genericResult.format(2.8982, 0.0879)\n",
    "print(genericResult)\n",
    "print(result1)\n",
    "print(result2)"
   ]
  },
  {
   "cell_type": "markdown",
   "metadata": {},
   "source": [
    "- As said, this is particularly useful for making output more readable - you can, eg, round numbers when they're printed, and arrange output in columns of constant width.\n",
    "- For a full description of the formatting syntax see [here](http://docs.python.org/3/library/string.html#formatstrings), and [here](http://docs.python.org/3/library/string.html#formatspec) for a description of the various flags available.\n",
    "- Various other useful formatting methods exist for strings, eg: rjust, ljust, center, rstrip, lstrip, zfill ..."
   ]
  },
  {
   "cell_type": "markdown",
   "metadata": {},
   "source": [
    "### None"
   ]
  },
  {
   "cell_type": "markdown",
   "metadata": {},
   "source": [
    "`None` is the null type, and is useful for comparisons, as a default value for something that may be assigned later, a return value in the event of a failure, or various other applications."
   ]
  },
  {
   "cell_type": "code",
   "execution_count": 74,
   "metadata": {},
   "outputs": [
    {
     "name": "stdout",
     "output_type": "stream",
     "text": [
      "None\n",
      "True\n"
     ]
    }
   ],
   "source": [
    "result = None\n",
    "print(result)\n",
    "print(result==None)"
   ]
  },
  {
   "cell_type": "code",
   "execution_count": 75,
   "metadata": {},
   "outputs": [
    {
     "data": {
      "text/plain": [
       "False"
      ]
     },
     "execution_count": 75,
     "metadata": {},
     "output_type": "execute_result"
    }
   ],
   "source": [
    "result = 10.\n",
    "result==None"
   ]
  },
  {
   "cell_type": "markdown",
   "metadata": {},
   "source": [
    "## Casting between types"
   ]
  },
  {
   "cell_type": "markdown",
   "metadata": {},
   "source": [
    "- Since python allows you to change the type of a variable, variables aren't implicitly cast in assignment.\n",
    "- To switch types you need to call the constructor of your desired type."
   ]
  },
  {
   "cell_type": "code",
   "execution_count": 76,
   "metadata": {},
   "outputs": [
    {
     "data": {
      "text/plain": [
       "('123', 'True', '4.0', 'None')"
      ]
     },
     "execution_count": 76,
     "metadata": {},
     "output_type": "execute_result"
    }
   ],
   "source": [
    "# Everything can be converted to a string in some way, using str(), this \n",
    "# is done when an object is printed.\n",
    "\n",
    "str(123), str(True), str(4.), str(None)"
   ]
  },
  {
   "cell_type": "code",
   "execution_count": 77,
   "metadata": {},
   "outputs": [
    {
     "name": "stdout",
     "output_type": "stream",
     "text": [
      "1\n",
      "4 -4\n",
      "1 0\n",
      "1000000000000\n"
     ]
    }
   ],
   "source": [
    "# Many things can also be converted to ints.\n",
    "# When converting floats to ints, the fractional part is just\n",
    "# discarded (it doesn't round down)\n",
    "\n",
    "print(int('1'))\n",
    "print(int(4.6), int(-4.6))\n",
    "print(int(True), int(False))\n",
    "print(int(1e12))"
   ]
  },
  {
   "cell_type": "code",
   "execution_count": 78,
   "metadata": {},
   "outputs": [
    {
     "name": "stdout",
     "output_type": "stream",
     "text": [
      "11 9 3\n"
     ]
    }
   ],
   "source": [
    "# When casting from string to int you can define the base to \n",
    "# use by passing a second argument to int()\n",
    "\n",
    "print(int('11'), int('11', 8), int('11', 2))"
   ]
  },
  {
   "cell_type": "code",
   "execution_count": 79,
   "metadata": {},
   "outputs": [
    {
     "name": "stdout",
     "output_type": "stream",
     "text": [
      "15\n"
     ]
    }
   ],
   "source": [
    "# Hexadecimal notation is also allowed.\n",
    "\n",
    "print(int('F', 16))"
   ]
  },
  {
   "cell_type": "code",
   "execution_count": 80,
   "metadata": {},
   "outputs": [
    {
     "ename": "ValueError",
     "evalue": "invalid literal for int() with base 10: 'spam'",
     "output_type": "error",
     "traceback": [
      "\u001b[0;31m---------------------------------------------------------------------------\u001b[0m",
      "\u001b[0;31mValueError\u001b[0m                                Traceback (most recent call last)",
      "\u001b[0;32m<ipython-input-80-80eca41878a9>\u001b[0m in \u001b[0;36m<module>\u001b[0;34m\u001b[0m\n\u001b[1;32m      2\u001b[0m \u001b[0;31m# an exception.\u001b[0m\u001b[0;34m\u001b[0m\u001b[0;34m\u001b[0m\u001b[0;34m\u001b[0m\u001b[0m\n\u001b[1;32m      3\u001b[0m \u001b[0;34m\u001b[0m\u001b[0m\n\u001b[0;32m----> 4\u001b[0;31m \u001b[0mint\u001b[0m\u001b[0;34m(\u001b[0m\u001b[0;34m'spam'\u001b[0m\u001b[0;34m)\u001b[0m\u001b[0;34m\u001b[0m\u001b[0;34m\u001b[0m\u001b[0m\n\u001b[0m",
      "\u001b[0;31mValueError\u001b[0m: invalid literal for int() with base 10: 'spam'"
     ]
    }
   ],
   "source": [
    "# Some strings can't be interpreted as ints though, and then int() raises \n",
    "# an exception.\n",
    "\n",
    "int('spam')"
   ]
  },
  {
   "cell_type": "code",
   "execution_count": 81,
   "metadata": {},
   "outputs": [
    {
     "name": "stdout",
     "output_type": "stream",
     "text": [
      "123.0\n",
      "34.2\n",
      "1.0 0.0\n"
     ]
    }
   ],
   "source": [
    "# Casting to float works similarly.\n",
    "\n",
    "print(float(123))\n",
    "print(float('34.2'))\n",
    "print(float(True), float(False))"
   ]
  },
  {
   "cell_type": "code",
   "execution_count": 82,
   "metadata": {},
   "outputs": [
    {
     "ename": "ValueError",
     "evalue": "could not convert string to float: 'eggs'",
     "output_type": "error",
     "traceback": [
      "\u001b[0;31m---------------------------------------------------------------------------\u001b[0m",
      "\u001b[0;31mValueError\u001b[0m                                Traceback (most recent call last)",
      "\u001b[0;32m<ipython-input-82-2cb4b6574388>\u001b[0m in \u001b[0;36m<module>\u001b[0;34m\u001b[0m\n\u001b[1;32m      1\u001b[0m \u001b[0;31m# And fails under similar conditions.\u001b[0m\u001b[0;34m\u001b[0m\u001b[0;34m\u001b[0m\u001b[0;34m\u001b[0m\u001b[0m\n\u001b[1;32m      2\u001b[0m \u001b[0;34m\u001b[0m\u001b[0m\n\u001b[0;32m----> 3\u001b[0;31m \u001b[0mfloat\u001b[0m\u001b[0;34m(\u001b[0m\u001b[0;34m'eggs'\u001b[0m\u001b[0;34m)\u001b[0m\u001b[0;34m\u001b[0m\u001b[0;34m\u001b[0m\u001b[0m\n\u001b[0m",
      "\u001b[0;31mValueError\u001b[0m: could not convert string to float: 'eggs'"
     ]
    }
   ],
   "source": [
    "# And fails under similar conditions.\n",
    "\n",
    "float('eggs')"
   ]
  },
  {
   "cell_type": "code",
   "execution_count": 83,
   "metadata": {},
   "outputs": [
    {
     "data": {
      "text/plain": [
       "(1+2j)"
      ]
     },
     "execution_count": 83,
     "metadata": {},
     "output_type": "execute_result"
    }
   ],
   "source": [
    "# The complex class can also cast from strings.\n",
    "\n",
    "complex('1+2j')"
   ]
  },
  {
   "cell_type": "code",
   "execution_count": 84,
   "metadata": {},
   "outputs": [
    {
     "name": "stdout",
     "output_type": "stream",
     "text": [
      "False\n",
      "False\n",
      "False True\n",
      "True True True\n"
     ]
    }
   ],
   "source": [
    "# Any non-zero number is cast to a bool as True.\n",
    "\n",
    "print(bool())\n",
    "print(bool(None))\n",
    "print(bool(0), bool(1))\n",
    "print(bool(23.2), bool(-6), bool(3.3+5.4j))"
   ]
  },
  {
   "cell_type": "code",
   "execution_count": 85,
   "metadata": {},
   "outputs": [
    {
     "name": "stdout",
     "output_type": "stream",
     "text": [
      "False\n",
      "True True True\n"
     ]
    }
   ],
   "source": [
    "# Any non-empty string (or other iterable object) is also cast to True, \n",
    "# regradless of content.\n",
    "\n",
    "print(bool(''))\n",
    "print(bool('spam'), bool('True'), bool('False'))"
   ]
  },
  {
   "cell_type": "markdown",
   "metadata": {},
   "source": [
    "## Flow Control"
   ]
  },
  {
   "cell_type": "markdown",
   "metadata": {},
   "source": [
    "- An `if` statement allows you to evaluate a boolean expression and perform certain actions accordingly.\n",
    "- The statement is followed by a colon `:` and then an indented block of code which is evaluated if the boolean evaluates to `True`.\n",
    "- This can be followed by an arbitrary number of `elif` statements, and finally an optional `else` statement, each with their own boolean expression and indented block of code.\n",
    "- Each boolean expression is evaluated in turn until one is found to be `True`. \n",
    "- Then the associated code block is evaluated and the sequence terminates. \n",
    "- If all booleans evaluate to `False` then the optional `else` block is evaluated."
   ]
  },
  {
   "cell_type": "code",
   "execution_count": 86,
   "metadata": {},
   "outputs": [
    {
     "name": "stdout",
     "output_type": "stream",
     "text": [
      "Yes\n"
     ]
    }
   ],
   "source": [
    "yesNo = True\n",
    "if yesNo :\n",
    "    print('Yes')\n",
    "else :\n",
    "    print('No')"
   ]
  },
  {
   "cell_type": "code",
   "execution_count": 87,
   "metadata": {},
   "outputs": [
    {
     "name": "stdout",
     "output_type": "stream",
     "text": [
      "Positive\n"
     ]
    }
   ],
   "source": [
    "x = 10 \n",
    "if x < 0 :\n",
    "    print('Negative')\n",
    "elif x == 0 : \n",
    "    print('Zero')\n",
    "else :\n",
    "    print('Positive')"
   ]
  },
  {
   "cell_type": "markdown",
   "metadata": {},
   "source": [
    "- Boolean statements can be combined using `and` and `or`."
   ]
  },
  {
   "cell_type": "code",
   "execution_count": 88,
   "metadata": {},
   "outputs": [
    {
     "name": "stdout",
     "output_type": "stream",
     "text": [
      "x is in the signal region\n"
     ]
    }
   ],
   "source": [
    "x = 3456.\n",
    "if x > 2000. and x < 4000. :\n",
    "    print('x is in the signal region')\n",
    "elif x < 1000. or x > 5000. :\n",
    "    print('x is in the background region')"
   ]
  },
  {
   "cell_type": "markdown",
   "metadata": {},
   "source": [
    "- Indentation is python's way of defining code blocks (groups of statements). \n",
    "- Note that spaces aren't the same as tabs (though most text editors convert tabs to spaces).\n",
    "- Groups of statements with the same amount of indentation make a code block.\n",
    "- A colon `:` is (almost) always followed by an increase in indentation.\n",
    "- Blocks can also be nested:"
   ]
  },
  {
   "cell_type": "code",
   "execution_count": 89,
   "metadata": {},
   "outputs": [
    {
     "name": "stdout",
     "output_type": "stream",
     "text": [
      "x < -100\n"
     ]
    }
   ],
   "source": [
    "x = -324\n",
    "if x < 0 :\n",
    "    if x < -100 :\n",
    "        print('x < -100')\n",
    "    else :\n",
    "        print('-100 <= x < 0')"
   ]
  },
  {
   "cell_type": "markdown",
   "metadata": {},
   "source": [
    "- The standard convention is 4 spaces indentation for a block.\n",
    "- This makes code easily readable by other users.\n",
    "- The commonly prescribed to coding convention for python is [PEP-8](http://www.python.org/dev/peps/pep-0008/).\n",
    "- It includes other guidelines for writing easily human readable code.\n",
    "- Python accepts any level of indentation though, provided it's consistent within a block, so it's a matter of personal preference."
   ]
  },
  {
   "cell_type": "code",
   "execution_count": 90,
   "metadata": {},
   "outputs": [
    {
     "name": "stdout",
     "output_type": "stream",
     "text": [
      "Positive\n"
     ]
    }
   ],
   "source": [
    "# Eg, using 2 spaces.\n",
    "\n",
    "x = 1e6\n",
    "if x < 0 :\n",
    "  print('Negative')\n",
    "elif x == 0 :\n",
    "  print('Zero')\n",
    "else :\n",
    "  print('Positive')"
   ]
  },
  {
   "cell_type": "markdown",
   "metadata": {},
   "source": [
    "- A common comment is that it might be better to enclose code blocks in braces, `{ ... }`, but to get the developers' opinion just try \n",
    "\n",
    "`from __future__ import braces`\n",
    "\n",
    "and\n",
    "\n",
    "`import this`"
   ]
  },
  {
   "cell_type": "markdown",
   "metadata": {},
   "source": [
    "## Functions"
   ]
  },
  {
   "cell_type": "markdown",
   "metadata": {},
   "source": [
    "- For any repeated operations you want to define a function.\n",
    "- This is done with the `def` keyword followed by the name of the function.\n",
    "- Arguments to the function are put in brackets following the name of the function.\n",
    "- There's no need for a separate header file - declare and implement as needed.\n",
    "- No return type needs to be specified, nor argument types (if there are any arguments).\n",
    "- In fact no need to specify if the function returns anything!"
   ]
  },
  {
   "cell_type": "code",
   "execution_count": 91,
   "metadata": {},
   "outputs": [],
   "source": [
    "# Put \"Hello world!\" into a function.\n",
    "\n",
    "def hello_world() :\n",
    "    print('Hello world!')"
   ]
  },
  {
   "cell_type": "code",
   "execution_count": 92,
   "metadata": {},
   "outputs": [
    {
     "name": "stdout",
     "output_type": "stream",
     "text": [
      "Hello world!\n"
     ]
    }
   ],
   "source": [
    "# Then call it.\n",
    "\n",
    "hello_world()"
   ]
  },
  {
   "cell_type": "markdown",
   "metadata": {},
   "source": [
    "- The return value of a function is specified with the `return` keyword."
   ]
  },
  {
   "cell_type": "code",
   "execution_count": 93,
   "metadata": {},
   "outputs": [],
   "source": [
    "# A simple function with two arguments.\n",
    "\n",
    "def sum_of_squares(x, y) :\n",
    "    return x**2 + y**2"
   ]
  },
  {
   "cell_type": "code",
   "execution_count": 94,
   "metadata": {},
   "outputs": [
    {
     "name": "stdout",
     "output_type": "stream",
     "text": [
      "13\n"
     ]
    }
   ],
   "source": [
    "# Call the function.\n",
    "\n",
    "a, b = 2, 3\n",
    "c = sum_of_squares(a, b)\n",
    "print(c)"
   ]
  },
  {
   "cell_type": "code",
   "execution_count": 95,
   "metadata": {},
   "outputs": [
    {
     "name": "stdout",
     "output_type": "stream",
     "text": [
      "Hello world!\n",
      "None\n"
     ]
    }
   ],
   "source": [
    "# A function with no return value actually returns None\n",
    "\n",
    "var = hello_world()\n",
    "print(var)"
   ]
  },
  {
   "cell_type": "markdown",
   "metadata": {},
   "source": [
    "- Functions are also objects, and so can be assigned to variables."
   ]
  },
  {
   "cell_type": "code",
   "execution_count": 96,
   "metadata": {},
   "outputs": [
    {
     "name": "stdout",
     "output_type": "stream",
     "text": [
      "<class 'function'>\n",
      "True\n"
     ]
    }
   ],
   "source": [
    "print(type(sum_of_squares))\n",
    "radius_sq = sum_of_squares\n",
    "print(radius_sq == sum_of_squares)"
   ]
  },
  {
   "cell_type": "markdown",
   "metadata": {},
   "source": [
    "- As with the simple calculations we saw before, the type returned depends on the types of the arguments."
   ]
  },
  {
   "cell_type": "code",
   "execution_count": 97,
   "metadata": {},
   "outputs": [
    {
     "name": "stdout",
     "output_type": "stream",
     "text": [
      "<class 'int'>\n",
      "<class 'float'>\n",
      "<class 'complex'>\n"
     ]
    }
   ],
   "source": [
    "# Call the variable assigned to the function just\n",
    "# as you do the original function.\n",
    "\n",
    "x = radius_sq(1, 2)\n",
    "print(type(x))\n",
    "x = radius_sq(3, 4.)\n",
    "print(type(x))\n",
    "x = radius_sq(3+4j, 6.)\n",
    "print(type(x))"
   ]
  },
  {
   "cell_type": "markdown",
   "metadata": {},
   "source": [
    "- Recursive functions (functions that call themselves) work as usual."
   ]
  },
  {
   "cell_type": "code",
   "execution_count": 98,
   "metadata": {},
   "outputs": [],
   "source": [
    "def fibonacci(n) :\n",
    "    if n < 3 :\n",
    "        return 1\n",
    "    return fibonacci(n-1) + fibonacci(n-2)"
   ]
  },
  {
   "cell_type": "code",
   "execution_count": 99,
   "metadata": {},
   "outputs": [
    {
     "name": "stdout",
     "output_type": "stream",
     "text": [
      "1 1 2 3 5 "
     ]
    }
   ],
   "source": [
    "# When printing, the default value of 'end' is '\\n',\n",
    "# so each call to print outputs on a new line.\n",
    "# Using end = ' ' means they're printed on the same\n",
    "# line with spaces between them.\n",
    "\n",
    "print(fibonacci(1), end = ' ')\n",
    "print(fibonacci(2), end = ' ')\n",
    "print(fibonacci(3), end = ' ')\n",
    "print(fibonacci(4), end = ' ')\n",
    "print(fibonacci(5), end = ' ')"
   ]
  },
  {
   "cell_type": "markdown",
   "metadata": {},
   "source": [
    "- Functions can be written to accept variable numbers of arguments in very flexible ways using \"`*args`\" and \"`**kwargs`\" as arguments.\n",
    "- See the hands-on exercises for more details."
   ]
  },
  {
   "cell_type": "markdown",
   "metadata": {},
   "source": [
    "## Sequences"
   ]
  },
  {
   "cell_type": "markdown",
   "metadata": {},
   "source": [
    "- Sequences contain other objects.\n",
    "- Strings are just sequences of characters.\n",
    "- Elements of a sequence can be iterated over in order.\n",
    "- There are several different types of sequences in python, each with different functionality and applications.\n",
    "- Almost every script will use a sequence in some way."
   ]
  },
  {
   "cell_type": "markdown",
   "metadata": {},
   "source": [
    "### Lists"
   ]
  },
  {
   "cell_type": "markdown",
   "metadata": {},
   "source": [
    "- \"Lists\" are like __mutable__ arrays, ie, their contents can be changed.\n",
    "- They can contain objects of different types."
   ]
  },
  {
   "cell_type": "code",
   "execution_count": 100,
   "metadata": {},
   "outputs": [
    {
     "name": "stdout",
     "output_type": "stream",
     "text": [
      "[] True\n"
     ]
    }
   ],
   "source": [
    "# Lists are represented by square brackets.\n",
    "# Create an empty list:\n",
    "\n",
    "L1 = []\n",
    "L2 = list()\n",
    "print(L1, L1==L2)"
   ]
  },
  {
   "cell_type": "code",
   "execution_count": 101,
   "metadata": {},
   "outputs": [
    {
     "name": "stdout",
     "output_type": "stream",
     "text": [
      "[1, 2, 3.5, 'spam', (3.4+6.8j), True, None]\n"
     ]
    }
   ],
   "source": [
    "# Lists can contain objects of any type:\n",
    "\n",
    "x = 3.4 + 6.8j\n",
    "L1 = [1, 2, 3.5, 'spam', x, True, None]\n",
    "print(L1)"
   ]
  },
  {
   "cell_type": "code",
   "execution_count": 102,
   "metadata": {},
   "outputs": [
    {
     "name": "stdout",
     "output_type": "stream",
     "text": [
      "7\n"
     ]
    }
   ],
   "source": [
    "# Get the length of a sequence with len()\n",
    "\n",
    "print(len(L1))"
   ]
  },
  {
   "cell_type": "code",
   "execution_count": 103,
   "metadata": {},
   "outputs": [
    {
     "name": "stdout",
     "output_type": "stream",
     "text": [
      "[1, 2, 3, 4]\n",
      "[1, 2, 3, 4, 'spam']\n"
     ]
    }
   ],
   "source": [
    "# Add a single element to a list using append.\n",
    "\n",
    "L = [1, 2, 3]\n",
    "L.append(4)\n",
    "print(L)\n",
    "L.append('spam')\n",
    "print(L)"
   ]
  },
  {
   "cell_type": "code",
   "execution_count": 104,
   "metadata": {},
   "outputs": [
    {
     "name": "stdout",
     "output_type": "stream",
     "text": [
      "[1, 2, 3, 4, 'spam', [5, 6]]\n"
     ]
    }
   ],
   "source": [
    "# An element of a list can be another list.\n",
    "\n",
    "L.append([5, 6])\n",
    "print(L)"
   ]
  },
  {
   "cell_type": "code",
   "execution_count": 105,
   "metadata": {
    "scrolled": true
   },
   "outputs": [
    {
     "name": "stdout",
     "output_type": "stream",
     "text": [
      "[1, 2, 3, 4, 5]\n",
      "[1, 2, 3, 4, 5, 6]\n"
     ]
    }
   ],
   "source": [
    "# Add one or more elements to a list using extend.\n",
    "# extend iterates over the object passed to it and adds each \n",
    "# element to the list.\n",
    "\n",
    "L = [1, 2, 3]\n",
    "L.extend([4, 5])\n",
    "print(L)\n",
    "L.extend([6])\n",
    "print(L)"
   ]
  },
  {
   "cell_type": "code",
   "execution_count": 106,
   "metadata": {},
   "outputs": [
    {
     "name": "stdout",
     "output_type": "stream",
     "text": [
      "[1, 2, 3, 4, 5, 6, 's', 'p', 'a', 'm']\n"
     ]
    }
   ],
   "source": [
    "# Since a string is a sequence, each character is appended to\n",
    "# the list in turn.\n",
    "\n",
    "L.extend('spam')\n",
    "print(L)"
   ]
  },
  {
   "cell_type": "code",
   "execution_count": 107,
   "metadata": {},
   "outputs": [
    {
     "ename": "TypeError",
     "evalue": "'int' object is not iterable",
     "output_type": "error",
     "traceback": [
      "\u001b[0;31m---------------------------------------------------------------------------\u001b[0m",
      "\u001b[0;31mTypeError\u001b[0m                                 Traceback (most recent call last)",
      "\u001b[0;32m<ipython-input-107-773518e080b7>\u001b[0m in \u001b[0;36m<module>\u001b[0;34m\u001b[0m\n\u001b[1;32m      2\u001b[0m \u001b[0;31m# you get an exception.\u001b[0m\u001b[0;34m\u001b[0m\u001b[0;34m\u001b[0m\u001b[0;34m\u001b[0m\u001b[0m\n\u001b[1;32m      3\u001b[0m \u001b[0;34m\u001b[0m\u001b[0m\n\u001b[0;32m----> 4\u001b[0;31m \u001b[0mL\u001b[0m\u001b[0;34m.\u001b[0m\u001b[0mextend\u001b[0m\u001b[0;34m(\u001b[0m\u001b[0;36m5\u001b[0m\u001b[0;34m)\u001b[0m\u001b[0;34m\u001b[0m\u001b[0;34m\u001b[0m\u001b[0m\n\u001b[0m",
      "\u001b[0;31mTypeError\u001b[0m: 'int' object is not iterable"
     ]
    }
   ],
   "source": [
    "# If you pass something that's not iterable to extend then\n",
    "# you get an exception.\n",
    "\n",
    "L.extend(5)"
   ]
  },
  {
   "cell_type": "code",
   "execution_count": 108,
   "metadata": {},
   "outputs": [
    {
     "name": "stdout",
     "output_type": "stream",
     "text": [
      "[3, 2, 1, 0, -1, -2]\n"
     ]
    }
   ],
   "source": [
    "# Lists can be concatenated with +\n",
    "\n",
    "L1 = [3, 2, 1, 0]\n",
    "L2 = L1 + [-1, -2]\n",
    "print(L2)"
   ]
  },
  {
   "cell_type": "code",
   "execution_count": 109,
   "metadata": {},
   "outputs": [
    {
     "name": "stdout",
     "output_type": "stream",
     "text": [
      "[3, 2, 1, 0, -1, -2, -3]\n"
     ]
    }
   ],
   "source": [
    "# The += operator behaves similarly to extend, \n",
    "# but only works when adding on another list,\n",
    "# not just any iterable object.\n",
    "\n",
    "L1 += [-1, -2, -3]\n",
    "print(L1)"
   ]
  },
  {
   "cell_type": "code",
   "execution_count": 110,
   "metadata": {},
   "outputs": [
    {
     "name": "stdout",
     "output_type": "stream",
     "text": [
      "[1, 2, 1, 2, 1, 2]\n"
     ]
    }
   ],
   "source": [
    "# Lists can also be multplied by integers to repeat them.\n",
    "\n",
    "L1 = [1, 2] * 3\n",
    "print(L1)"
   ]
  },
  {
   "cell_type": "code",
   "execution_count": 111,
   "metadata": {},
   "outputs": [
    {
     "name": "stdout",
     "output_type": "stream",
     "text": [
      "3\n",
      "[2, 1]\n"
     ]
    }
   ],
   "source": [
    "# Elements or slices can be accessed by index,\n",
    "# just like strings.\n",
    "\n",
    "L = [3, 2, 1, 0, -1, -2, -3]\n",
    "print(L[0])\n",
    "print(L[1:3])"
   ]
  },
  {
   "cell_type": "code",
   "execution_count": 112,
   "metadata": {},
   "outputs": [
    {
     "name": "stdout",
     "output_type": "stream",
     "text": [
      "[3, 2, 1, 0, -1, -2, -3]\n",
      "[5, 2, 1, 0, -1, -2, -3]\n"
     ]
    }
   ],
   "source": [
    "# Lists are \"mutable\", meaning you can change their elements.\n",
    "\n",
    "print(L)\n",
    "L[0] = 5\n",
    "print(L)"
   ]
  },
  {
   "cell_type": "code",
   "execution_count": 113,
   "metadata": {},
   "outputs": [
    {
     "name": "stdout",
     "output_type": "stream",
     "text": [
      "[5, 2, 1, 0, -1, -2, -3]\n",
      "[5, 2, 1, 0, 1, 2, 3]\n"
     ]
    }
   ],
   "source": [
    "# You can even change slices of the list for another list\n",
    "\n",
    "print(L)\n",
    "L[-3:] = [1,2,3]\n",
    "print(L)"
   ]
  },
  {
   "cell_type": "code",
   "execution_count": 114,
   "metadata": {},
   "outputs": [
    {
     "ename": "TypeError",
     "evalue": "'str' object does not support item assignment",
     "output_type": "error",
     "traceback": [
      "\u001b[0;31m---------------------------------------------------------------------------\u001b[0m",
      "\u001b[0;31mTypeError\u001b[0m                                 Traceback (most recent call last)",
      "\u001b[0;32m<ipython-input-114-d174bc98c6eb>\u001b[0m in \u001b[0;36m<module>\u001b[0;34m\u001b[0m\n\u001b[1;32m      3\u001b[0m \u001b[0;34m\u001b[0m\u001b[0m\n\u001b[1;32m      4\u001b[0m \u001b[0mname\u001b[0m \u001b[0;34m=\u001b[0m \u001b[0;34m'Sir Lancelot'\u001b[0m\u001b[0;34m\u001b[0m\u001b[0;34m\u001b[0m\u001b[0m\n\u001b[0;32m----> 5\u001b[0;31m \u001b[0mname\u001b[0m\u001b[0;34m[\u001b[0m\u001b[0;36m0\u001b[0m\u001b[0;34m]\u001b[0m \u001b[0;34m=\u001b[0m \u001b[0;34m's'\u001b[0m\u001b[0;34m\u001b[0m\u001b[0;34m\u001b[0m\u001b[0m\n\u001b[0m",
      "\u001b[0;31mTypeError\u001b[0m: 'str' object does not support item assignment"
     ]
    }
   ],
   "source": [
    "# This is not so for strings, they're \"immutable\", so you can't\n",
    "# change an element. If you try you get an exception.\n",
    "\n",
    "name = 'Sir Lancelot'\n",
    "name[0] = 's'"
   ]
  },
  {
   "cell_type": "code",
   "execution_count": 115,
   "metadata": {},
   "outputs": [
    {
     "name": "stdout",
     "output_type": "stream",
     "text": [
      "[3, 2, 1, 0, -1, -2]\n",
      "-3\n"
     ]
    }
   ],
   "source": [
    "# The pop method removes an element and returns its value.\n",
    "\n",
    "L = [3, 2, 1, 0, -1, -2, -3]\n",
    "\n",
    "# By default it's the last element in the list.\n",
    "\n",
    "elm1 = L.pop()\n",
    "print(L)\n",
    "print(elm1)"
   ]
  },
  {
   "cell_type": "code",
   "execution_count": 116,
   "metadata": {},
   "outputs": [
    {
     "name": "stdout",
     "output_type": "stream",
     "text": [
      "[2, 1, 0, -1, -2]\n",
      "3\n"
     ]
    }
   ],
   "source": [
    "# pop can also take an index as argument to remove a specific element.\n",
    "\n",
    "elm2 = L.pop(0)\n",
    "print(L)\n",
    "print(elm2)"
   ]
  },
  {
   "cell_type": "code",
   "execution_count": 117,
   "metadata": {},
   "outputs": [
    {
     "name": "stdout",
     "output_type": "stream",
     "text": [
      "[2, 1, 0, -1, -2, -3]\n",
      "[0, -1, -2, -3]\n"
     ]
    }
   ],
   "source": [
    "# You can simply delete elements or slices from the list using del\n",
    "\n",
    "L = [3, 2, 1, 0, -1, -2, -3]\n",
    "del L[0]\n",
    "print(L)\n",
    "del L[:2]\n",
    "print(L)"
   ]
  },
  {
   "cell_type": "code",
   "execution_count": 118,
   "metadata": {},
   "outputs": [
    {
     "name": "stdout",
     "output_type": "stream",
     "text": [
      "True\n",
      "False\n"
     ]
    }
   ],
   "source": [
    "# You can check if a list contains an object with the 'in' \n",
    "# keyword\n",
    "\n",
    "print(0 in L)\n",
    "print(3 in L)"
   ]
  },
  {
   "cell_type": "markdown",
   "metadata": {},
   "source": [
    "### Tuples"
   ]
  },
  {
   "cell_type": "markdown",
   "metadata": {},
   "source": [
    "- \"Tuples\" are very similar to lists but are __immutable__.\n",
    "- Like strings, this means you can't modify the elements of a tuple.\n",
    "- So if you intend to change a sequence later, use a list; if you want it to be impossible to change, use a tuple."
   ]
  },
  {
   "cell_type": "code",
   "execution_count": 119,
   "metadata": {},
   "outputs": [
    {
     "name": "stdout",
     "output_type": "stream",
     "text": [
      "()\n",
      "True\n"
     ]
    }
   ],
   "source": [
    "# Tuples are represented by regular brackets ().\n",
    "# An empty tuple:\n",
    "\n",
    "t1 = ()\n",
    "t2 = tuple()\n",
    "print(t1)\n",
    "print(t1==t2)"
   ]
  },
  {
   "cell_type": "code",
   "execution_count": 120,
   "metadata": {},
   "outputs": [
    {
     "name": "stdout",
     "output_type": "stream",
     "text": [
      "(1, 2, 3.5, 'a', [3, 4], True, None)\n"
     ]
    }
   ],
   "source": [
    "# Otherwise elements of a tuple are separated by commas.\n",
    "# You can put previously assigned variables into any\n",
    "# sequence.\n",
    "\n",
    "x = [3,4]\n",
    "t = (1, 2, 3.5, 'a', x, True, None)\n",
    "print(t)"
   ]
  },
  {
   "cell_type": "code",
   "execution_count": 121,
   "metadata": {},
   "outputs": [
    {
     "name": "stdout",
     "output_type": "stream",
     "text": [
      "0 <class 'int'>\n",
      "(0,) <class 'tuple'>\n"
     ]
    }
   ],
   "source": [
    "# To create a single element tuple you need to add a comma\n",
    "# This just assigns zero to t1\n",
    "\n",
    "t1 = (0)\n",
    "\n",
    "# While this makes a single element tuple\n",
    "\n",
    "t2 = (0,)\n",
    "print(t1, type(t1))\n",
    "print(t2, type(t2))"
   ]
  },
  {
   "cell_type": "code",
   "execution_count": 122,
   "metadata": {},
   "outputs": [
    {
     "name": "stdout",
     "output_type": "stream",
     "text": [
      "(1, 2, 3, 4) <class 'tuple'>\n"
     ]
    }
   ],
   "source": [
    "# If you omit the brackets any sequence of objects separated by\n",
    "# commas is made into a tuple on-the-fly.\n",
    "\n",
    "t1 = 1, 2, 3, 4\n",
    "print(t1, type(t1))"
   ]
  },
  {
   "cell_type": "code",
   "execution_count": 123,
   "metadata": {},
   "outputs": [
    {
     "data": {
      "text/plain": [
       "4"
      ]
     },
     "execution_count": 123,
     "metadata": {},
     "output_type": "execute_result"
    }
   ],
   "source": [
    "# You can get the number of elements using len as with a list.\n",
    "\n",
    "len(t1)"
   ]
  },
  {
   "cell_type": "code",
   "execution_count": 124,
   "metadata": {},
   "outputs": [
    {
     "name": "stdout",
     "output_type": "stream",
     "text": [
      "(1, 2, 3, 4, 5, 6)\n"
     ]
    }
   ],
   "source": [
    "# Concatenation work in the same way as lists.\n",
    "\n",
    "t2 = t1 + (5, 6)\n",
    "print(t2)"
   ]
  },
  {
   "cell_type": "code",
   "execution_count": 125,
   "metadata": {},
   "outputs": [
    {
     "name": "stdout",
     "output_type": "stream",
     "text": [
      "(1, 2, 1, 2, 1, 2)\n"
     ]
    }
   ],
   "source": [
    "# So does multiplication.\n",
    "\n",
    "t3 = (1, 2) * 3\n",
    "print(t3)"
   ]
  },
  {
   "cell_type": "code",
   "execution_count": 126,
   "metadata": {},
   "outputs": [
    {
     "name": "stdout",
     "output_type": "stream",
     "text": [
      "1\n",
      "(2, 3)\n",
      "6\n"
     ]
    }
   ],
   "source": [
    "# As with access to elements or slices.\n",
    "\n",
    "print(t2[0]) \n",
    "print(t2[1:3]) \n",
    "print(t2[-1])"
   ]
  },
  {
   "cell_type": "code",
   "execution_count": 127,
   "metadata": {},
   "outputs": [
    {
     "name": "stdout",
     "output_type": "stream",
     "text": [
      "True\n",
      "False\n"
     ]
    }
   ],
   "source": [
    "# Check if an element is in the tuple with 'in', like lists.\n",
    "\n",
    "print(1 in t3)\n",
    "print(5 in t3)"
   ]
  },
  {
   "cell_type": "code",
   "execution_count": 128,
   "metadata": {},
   "outputs": [
    {
     "ename": "TypeError",
     "evalue": "'tuple' object does not support item assignment",
     "output_type": "error",
     "traceback": [
      "\u001b[0;31m---------------------------------------------------------------------------\u001b[0m",
      "\u001b[0;31mTypeError\u001b[0m                                 Traceback (most recent call last)",
      "\u001b[0;32m<ipython-input-128-73fa24ebf299>\u001b[0m in \u001b[0;36m<module>\u001b[0;34m\u001b[0m\n\u001b[1;32m      2\u001b[0m \u001b[0;31m# you get an exception\u001b[0m\u001b[0;34m\u001b[0m\u001b[0;34m\u001b[0m\u001b[0;34m\u001b[0m\u001b[0m\n\u001b[1;32m      3\u001b[0m \u001b[0;34m\u001b[0m\u001b[0m\n\u001b[0;32m----> 4\u001b[0;31m \u001b[0mt2\u001b[0m\u001b[0;34m[\u001b[0m\u001b[0;36m0\u001b[0m\u001b[0;34m]\u001b[0m \u001b[0;34m=\u001b[0m \u001b[0;34m'eggs'\u001b[0m\u001b[0;34m\u001b[0m\u001b[0;34m\u001b[0m\u001b[0m\n\u001b[0m",
      "\u001b[0;31mTypeError\u001b[0m: 'tuple' object does not support item assignment"
     ]
    }
   ],
   "source": [
    "# Though, as with strings, if you try to change an element \n",
    "# you get an exception\n",
    "\n",
    "t2[0] = 'eggs'"
   ]
  },
  {
   "cell_type": "code",
   "execution_count": 129,
   "metadata": {},
   "outputs": [],
   "source": [
    "# Similarly, no pop method exists, and you can't delete \n",
    "# elements or slices of a tuple using del. Though you \n",
    "# can delete the whole tuple like so:\n",
    "\n",
    "del t2"
   ]
  },
  {
   "cell_type": "code",
   "execution_count": 130,
   "metadata": {},
   "outputs": [
    {
     "name": "stdout",
     "output_type": "stream",
     "text": [
      "1 2 3\n"
     ]
    }
   ],
   "source": [
    "# You can \"unpack\" a tuple or list, or any other iterable, \n",
    "# and assign their elements to individual variables, like so:\n",
    "\n",
    "t = 1, 2, 3\n",
    "x, y, z = t\n",
    "print(x, y, z)"
   ]
  },
  {
   "cell_type": "code",
   "execution_count": 131,
   "metadata": {},
   "outputs": [
    {
     "name": "stdout",
     "output_type": "stream",
     "text": [
      "a\n",
      "b\n",
      "c\n"
     ]
    }
   ],
   "source": [
    "# This also works for strings.\n",
    "\n",
    "s = 'abc'\n",
    "a, b, c = s\n",
    "print(a)\n",
    "print(b)\n",
    "print(c)"
   ]
  },
  {
   "cell_type": "code",
   "execution_count": 132,
   "metadata": {},
   "outputs": [
    {
     "name": "stdout",
     "output_type": "stream",
     "text": [
      "1 2\n",
      "2 1\n"
     ]
    }
   ],
   "source": [
    "# Swapping the contents of variables is then trivial:\n",
    "a, b = 1, 2\n",
    "print(a, b)\n",
    "b, a = a, b\n",
    "print(a, b)"
   ]
  },
  {
   "cell_type": "markdown",
   "metadata": {},
   "source": [
    "### Dictionaries"
   ]
  },
  {
   "cell_type": "markdown",
   "metadata": {},
   "source": [
    "- \"Dictionaries\" store elements in pairs of (key, element).\n",
    "- Elements are then accessed by keys, whereas lists and tuples access elements by integers.\n",
    "- A key can be any type of object (so long as it's immutable), as can elements."
   ]
  },
  {
   "cell_type": "code",
   "execution_count": 133,
   "metadata": {},
   "outputs": [
    {
     "name": "stdout",
     "output_type": "stream",
     "text": [
      "{}\n",
      "True\n"
     ]
    }
   ],
   "source": [
    "# Dictionaries are represented by curly brackets {}.\n",
    "# Make an empty dictionary like so:\n",
    "\n",
    "d1 = {}\n",
    "d2 = dict()\n",
    "print(d1)\n",
    "print(d1==d2)"
   ]
  },
  {
   "cell_type": "markdown",
   "metadata": {},
   "source": [
    "- The syntax for creating a dictionary is: `d = {key1 : element1, key2 : element2, ...}`.\n",
    "- Strings are often used as keys."
   ]
  },
  {
   "cell_type": "code",
   "execution_count": 134,
   "metadata": {},
   "outputs": [
    {
     "name": "stdout",
     "output_type": "stream",
     "text": [
      "{'nothing': 0, 'a': 1, 'b': 'second'}\n"
     ]
    }
   ],
   "source": [
    "d = {'nothing' : 0, \n",
    "     'a' : 1, \n",
    "     'b' : 'second'}\n",
    "print(d)"
   ]
  },
  {
   "cell_type": "code",
   "execution_count": 135,
   "metadata": {},
   "outputs": [
    {
     "name": "stdout",
     "output_type": "stream",
     "text": [
      "1\n"
     ]
    }
   ],
   "source": [
    "# The value of an element is then retrieved using the \n",
    "# relevant key.\n",
    "\n",
    "print(d['a'])"
   ]
  },
  {
   "cell_type": "code",
   "execution_count": 136,
   "metadata": {},
   "outputs": [
    {
     "name": "stdout",
     "output_type": "stream",
     "text": [
      "Key: b , element: second\n"
     ]
    }
   ],
   "source": [
    "# You can also store a key in a variable and use the \n",
    "# variable as index:\n",
    "\n",
    "key = 'b'\n",
    "print('Key:', key, ', element:', d[key])"
   ]
  },
  {
   "cell_type": "code",
   "execution_count": 137,
   "metadata": {},
   "outputs": [
    {
     "name": "stdout",
     "output_type": "stream",
     "text": [
      "Length of d is 3\n"
     ]
    }
   ],
   "source": [
    "# len works as on lists and tuples.\n",
    "\n",
    "print('Length of d is', len(d))"
   ]
  },
  {
   "cell_type": "code",
   "execution_count": 138,
   "metadata": {},
   "outputs": [
    {
     "name": "stdout",
     "output_type": "stream",
     "text": [
      "{None: 'nothing', (2+3j): 84, 3.4: 6}\n",
      "6\n",
      "nothing\n"
     ]
    }
   ],
   "source": [
    "# You don't have to use strings as keys.\n",
    "\n",
    "d = {None : 'nothing', \n",
    "     2+3j : 84, \n",
    "     3.4 : 6}\n",
    "print(d)\n",
    "print(d[3.4])\n",
    "print(d[None])"
   ]
  },
  {
   "cell_type": "code",
   "execution_count": 139,
   "metadata": {},
   "outputs": [
    {
     "name": "stdout",
     "output_type": "stream",
     "text": [
      "['Me', 'Sir Robin', 'Sir Gallahad']\n",
      "[1000, 2000, 3000]\n"
     ]
    }
   ],
   "source": [
    "phonebook = {'Me' : 1000, \n",
    "             'Sir Robin' : 2000, \n",
    "             'Sir Gallahad' : 3000}\n",
    "\n",
    "# Get a sequence of keys with the keys() member method.\n",
    "\n",
    "print(list(phonebook.keys()))\n",
    "\n",
    "# or a sequence of the element values with values()\n",
    "\n",
    "print(list(phonebook.values()))"
   ]
  },
  {
   "cell_type": "code",
   "execution_count": 140,
   "metadata": {},
   "outputs": [
    {
     "name": "stdout",
     "output_type": "stream",
     "text": [
      "True\n",
      "False\n"
     ]
    }
   ],
   "source": [
    "# Check if a dictionary has a given key with 'in' keyword.\n",
    "\n",
    "print('Sir Robin' in phonebook)\n",
    "print('Sir Lancelot' in phonebook)"
   ]
  },
  {
   "cell_type": "code",
   "execution_count": 141,
   "metadata": {},
   "outputs": [],
   "source": [
    "# Dictionaries are mutable, so you can change the elements \n",
    "# as with lists:\n",
    "\n",
    "phonebook['Sir Robin'] = 2345"
   ]
  },
  {
   "cell_type": "code",
   "execution_count": 142,
   "metadata": {},
   "outputs": [
    {
     "name": "stdout",
     "output_type": "stream",
     "text": [
      "{'Me': 1000, 'Sir Robin': 2345, 'Sir Gallahad': 3000, 'Sir Lancelot': 8734}\n"
     ]
    }
   ],
   "source": [
    "# Or you can add a new (key, element) pair by assigning a \n",
    "# value to a key that isn't in the dict:\n",
    "\n",
    "phonebook['Sir Lancelot'] = 8734\n",
    "print(phonebook)"
   ]
  },
  {
   "cell_type": "code",
   "execution_count": 143,
   "metadata": {},
   "outputs": [
    {
     "ename": "KeyError",
     "evalue": "'spam'",
     "output_type": "error",
     "traceback": [
      "\u001b[0;31m---------------------------------------------------------------------------\u001b[0m",
      "\u001b[0;31mKeyError\u001b[0m                                  Traceback (most recent call last)",
      "\u001b[0;32m<ipython-input-143-3f6d98f337b1>\u001b[0m in \u001b[0;36m<module>\u001b[0;34m\u001b[0m\n\u001b[1;32m      2\u001b[0m \u001b[0;31m# exist you get an exception.\u001b[0m\u001b[0;34m\u001b[0m\u001b[0;34m\u001b[0m\u001b[0;34m\u001b[0m\u001b[0m\n\u001b[1;32m      3\u001b[0m \u001b[0;34m\u001b[0m\u001b[0m\n\u001b[0;32m----> 4\u001b[0;31m \u001b[0mphonebook\u001b[0m\u001b[0;34m[\u001b[0m\u001b[0;34m'spam'\u001b[0m\u001b[0;34m]\u001b[0m\u001b[0;34m\u001b[0m\u001b[0;34m\u001b[0m\u001b[0m\n\u001b[0m",
      "\u001b[0;31mKeyError\u001b[0m: 'spam'"
     ]
    }
   ],
   "source": [
    "# As you might expect, if you try to access a key that doesn't \n",
    "# exist you get an exception.\n",
    "\n",
    "phonebook['spam']"
   ]
  },
  {
   "cell_type": "code",
   "execution_count": 144,
   "metadata": {},
   "outputs": [
    {
     "name": "stdout",
     "output_type": "stream",
     "text": [
      "1000\n",
      "4567\n"
     ]
    }
   ],
   "source": [
    "# You can use the dict.get method to return a default\n",
    "# value if the key isn't in the dict\n",
    "\n",
    "print(phonebook.get('Me', 1234))\n",
    "print(phonebook.get('spam', 4567))"
   ]
  },
  {
   "cell_type": "code",
   "execution_count": 145,
   "metadata": {},
   "outputs": [
    {
     "name": "stdout",
     "output_type": "stream",
     "text": [
      "{'Sir Robin': 2345, 'Sir Gallahad': 3000, 'Sir Lancelot': 8734}\n"
     ]
    }
   ],
   "source": [
    "# Again, similarly to lists, you can delete elements by key:\n",
    "\n",
    "del phonebook['Me']\n",
    "print(phonebook)"
   ]
  },
  {
   "cell_type": "code",
   "execution_count": 146,
   "metadata": {},
   "outputs": [
    {
     "name": "stdout",
     "output_type": "stream",
     "text": [
      "{}\n"
     ]
    }
   ],
   "source": [
    "# Or clear it using the clear() method:\n",
    "\n",
    "phonebook.clear()\n",
    "print(phonebook)"
   ]
  },
  {
   "cell_type": "code",
   "execution_count": 147,
   "metadata": {},
   "outputs": [],
   "source": [
    "# Or delete it entirely.\n",
    "\n",
    "del phonebook"
   ]
  },
  {
   "cell_type": "markdown",
   "metadata": {},
   "source": [
    "### Sets"
   ]
  },
  {
   "cell_type": "markdown",
   "metadata": {},
   "source": [
    "- The last kind of builtin sequence in python, sets are __unordered__ sequences of unique elements."
   ]
  },
  {
   "cell_type": "code",
   "execution_count": 148,
   "metadata": {},
   "outputs": [
    {
     "name": "stdout",
     "output_type": "stream",
     "text": [
      "{1, 2, 3}\n"
     ]
    }
   ],
   "source": [
    "# You can declare them like a list or tuple using \n",
    "# curly brackets\n",
    "\n",
    "s = {1,2,3}\n",
    "print(s)"
   ]
  },
  {
   "cell_type": "code",
   "execution_count": 149,
   "metadata": {},
   "outputs": [
    {
     "name": "stdout",
     "output_type": "stream",
     "text": [
      "{4, 5, 6}\n"
     ]
    }
   ],
   "source": [
    "# Or you can use the set constructor, which takes any \n",
    "# iterable object as argument, from which unique elements\n",
    "# are added.\n",
    "\n",
    "s = set([4,5,6,4,5,6])\n",
    "print(s)"
   ]
  },
  {
   "cell_type": "code",
   "execution_count": 150,
   "metadata": {},
   "outputs": [
    {
     "name": "stdout",
     "output_type": "stream",
     "text": [
      "{'p', 'd', 'g', 'n', 'e', 'a', ' ', 's', 'm'}\n"
     ]
    }
   ],
   "source": [
    "# If you make a set from a string it selects unique \n",
    "# characters from it, though their order isn't \n",
    "# retained.\n",
    "\n",
    "s = set('spam and eggs')\n",
    "print(s)"
   ]
  },
  {
   "cell_type": "code",
   "execution_count": 151,
   "metadata": {},
   "outputs": [
    {
     "name": "stdout",
     "output_type": "stream",
     "text": [
      "set() <class 'set'>\n",
      "{} <class 'dict'>\n"
     ]
    }
   ],
   "source": [
    "# Note that to make an empty set you need to use the set\n",
    "# constructor as {} gives you an empty dictionary.\n",
    "\n",
    "print(set(), type(set()))\n",
    "print({}, type({}))"
   ]
  },
  {
   "cell_type": "code",
   "execution_count": 152,
   "metadata": {},
   "outputs": [
    {
     "ename": "TypeError",
     "evalue": "'set' object does not support indexing",
     "output_type": "error",
     "traceback": [
      "\u001b[0;31m---------------------------------------------------------------------------\u001b[0m",
      "\u001b[0;31mTypeError\u001b[0m                                 Traceback (most recent call last)",
      "\u001b[0;32m<ipython-input-152-0eefc1388028>\u001b[0m in \u001b[0;36m<module>\u001b[0;34m\u001b[0m\n\u001b[1;32m      2\u001b[0m \u001b[0;34m\u001b[0m\u001b[0m\n\u001b[1;32m      3\u001b[0m \u001b[0ms\u001b[0m \u001b[0;34m=\u001b[0m \u001b[0mset\u001b[0m\u001b[0;34m(\u001b[0m\u001b[0;34m'spam and eggs'\u001b[0m\u001b[0;34m)\u001b[0m\u001b[0;34m\u001b[0m\u001b[0;34m\u001b[0m\u001b[0m\n\u001b[0;32m----> 4\u001b[0;31m \u001b[0ms\u001b[0m\u001b[0;34m[\u001b[0m\u001b[0;36m0\u001b[0m\u001b[0;34m]\u001b[0m\u001b[0;34m\u001b[0m\u001b[0;34m\u001b[0m\u001b[0m\n\u001b[0m",
      "\u001b[0;31mTypeError\u001b[0m: 'set' object does not support indexing"
     ]
    }
   ],
   "source": [
    "# Unlike a list or tuple, you can't access elements by index\n",
    "\n",
    "s = set('spam and eggs')\n",
    "s[0]"
   ]
  },
  {
   "cell_type": "code",
   "execution_count": 153,
   "metadata": {},
   "outputs": [
    {
     "name": "stdout",
     "output_type": "stream",
     "text": [
      "True\n",
      "False\n"
     ]
    }
   ],
   "source": [
    "# But you can check if a set contains an object in \n",
    "# the same way.\n",
    "\n",
    "print('e' in s)\n",
    "print(42 in s)"
   ]
  },
  {
   "cell_type": "code",
   "execution_count": 154,
   "metadata": {},
   "outputs": [
    {
     "name": "stdout",
     "output_type": "stream",
     "text": [
      "{'k', 'p', 'd', 'g', 'n', 'e', 'a', ' ', 's', 'm'}\n",
      "True\n"
     ]
    }
   ],
   "source": [
    "# You can add or remove elements using the add and remove\n",
    "# member methods.\n",
    "\n",
    "s.add('k')\n",
    "print(s)\n",
    "print('k' in s)"
   ]
  },
  {
   "cell_type": "code",
   "execution_count": 155,
   "metadata": {},
   "outputs": [
    {
     "name": "stdout",
     "output_type": "stream",
     "text": [
      "{'k', 'p', 'd', 'g', 'n', 'a', ' ', 's', 'm'}\n",
      "False\n"
     ]
    }
   ],
   "source": [
    "s.remove('e')\n",
    "print(s)\n",
    "print('e' in s)"
   ]
  },
  {
   "cell_type": "markdown",
   "metadata": {},
   "source": [
    "- Sets support many other operations like mathematical sets, eg intesection, union, difference, etc. "
   ]
  },
  {
   "cell_type": "code",
   "execution_count": 156,
   "metadata": {},
   "outputs": [
    {
     "name": "stdout",
     "output_type": "stream",
     "text": [
      "{'k'}\n"
     ]
    }
   ],
   "source": [
    "print(s.difference(set('spam and eggs')))"
   ]
  },
  {
   "cell_type": "markdown",
   "metadata": {},
   "source": [
    "---"
   ]
  },
  {
   "cell_type": "markdown",
   "metadata": {},
   "source": [
    "<img src = 'http://imgs.xkcd.com/comics/python.png' width = 400 alt = 'xkcd python'>\n",
    "\n",
    "- Try `import antigravity` from the python prompt!"
   ]
  },
  {
   "cell_type": "markdown",
   "metadata": {},
   "source": [
    "## Looping"
   ]
  },
  {
   "cell_type": "markdown",
   "metadata": {},
   "source": [
    "### `while` Statements"
   ]
  },
  {
   "cell_type": "markdown",
   "metadata": {},
   "source": [
    "- A `while` statement takes a boolean expression followed by an indented block of code.\n",
    "- If the boolean expression is `True` the indented code block is evaluated.\n",
    "- The boolean is then re-evaluated and the process repeats until the expression is found to be `False`, at which point the loop terminates."
   ]
  },
  {
   "cell_type": "code",
   "execution_count": 157,
   "metadata": {},
   "outputs": [
    {
     "name": "stdout",
     "output_type": "stream",
     "text": [
      "0 1 2 3 4 5 6 7 8 9 \n",
      "10 False\n"
     ]
    }
   ],
   "source": [
    "i = 0\n",
    "while i < 10 :\n",
    "    print(i, end = ' ')\n",
    "    i += 1\n",
    "# Printing an empty string means the newline is now\n",
    "# printed.\n",
    "print('')\n",
    "print(i, i < 10)"
   ]
  },
  {
   "cell_type": "code",
   "execution_count": 158,
   "metadata": {},
   "outputs": [
    {
     "name": "stdout",
     "output_type": "stream",
     "text": [
      "5 4 3 2 1 "
     ]
    }
   ],
   "source": [
    "# Use the fact that a non-empty list evaluates to True\n",
    "# and an empty one to False.\n",
    "# Loops backwards over the list.\n",
    "\n",
    "L = [1, 2, 3, 4, 5]\n",
    "while L :\n",
    "    print(L.pop(), end = ' ')"
   ]
  },
  {
   "cell_type": "markdown",
   "metadata": {},
   "source": [
    "### `for` Loops"
   ]
  },
  {
   "cell_type": "markdown",
   "metadata": {},
   "source": [
    "- The \"`range`\" built-in method returns a sequence of integers, which is very useful for looping. "
   ]
  },
  {
   "cell_type": "code",
   "execution_count": 159,
   "metadata": {},
   "outputs": [
    {
     "name": "stdout",
     "output_type": "stream",
     "text": [
      "range(0, 10)\n",
      "[0, 1, 2, 3, 4, 5, 6, 7, 8, 9]\n"
     ]
    }
   ],
   "source": [
    "# If only one argument is given to range the sequence goes\n",
    "# from 0 up to the argument -1.\n",
    "\n",
    "print(range(10))\n",
    "\n",
    "# Convert the sequence to a list so we can see its contents.\n",
    "print(list(range(10)))"
   ]
  },
  {
   "cell_type": "code",
   "execution_count": 160,
   "metadata": {},
   "outputs": [
    {
     "name": "stdout",
     "output_type": "stream",
     "text": [
      "[1, 2, 3]\n"
     ]
    }
   ],
   "source": [
    "# If two are given range returns a list of integers\n",
    "# with values between the two.\n",
    "\n",
    "print(list(range(1, 4)))"
   ]
  },
  {
   "cell_type": "code",
   "execution_count": 161,
   "metadata": {},
   "outputs": [
    {
     "name": "stdout",
     "output_type": "stream",
     "text": [
      "[-8, -6, -4, -2, 0, 2, 4, 6, 8]\n"
     ]
    }
   ],
   "source": [
    "# A third argument gives the step size between elements.\n",
    "\n",
    "print(list(range(-8, 10, 2)))"
   ]
  },
  {
   "cell_type": "markdown",
   "metadata": {},
   "source": [
    "- The syntax for looping over any sequence is `for element in sequence :`, eg:"
   ]
  },
  {
   "cell_type": "code",
   "execution_count": 162,
   "metadata": {},
   "outputs": [
    {
     "name": "stdout",
     "output_type": "stream",
     "text": [
      "1 2 3 "
     ]
    }
   ],
   "source": [
    "# Iterate over the sequence of integers returned by range:\n",
    "\n",
    "for i in range(1, 4) :\n",
    "    print(i, end=' ')"
   ]
  },
  {
   "cell_type": "code",
   "execution_count": 163,
   "metadata": {},
   "outputs": [
    {
     "name": "stdout",
     "output_type": "stream",
     "text": [
      "e\n",
      "g\n",
      "g\n",
      "s\n"
     ]
    }
   ],
   "source": [
    "# Iterate over characters in a string:\n",
    "\n",
    "for char in 'eggs' :\n",
    "    print(char)"
   ]
  },
  {
   "cell_type": "code",
   "execution_count": 164,
   "metadata": {},
   "outputs": [
    {
     "name": "stdout",
     "output_type": "stream",
     "text": [
      "1 2 3 a (8, 9) True None "
     ]
    }
   ],
   "source": [
    "# Iterate over a tuple:\n",
    "\n",
    "my_tuple = (1, 2, 3, 'a', (8,9), True, None)\n",
    "for elm in my_tuple :\n",
    "    print(elm, end = ' ')"
   ]
  },
  {
   "cell_type": "code",
   "execution_count": 165,
   "metadata": {},
   "outputs": [
    {
     "name": "stdout",
     "output_type": "stream",
     "text": [
      "0 1\n",
      "1 2\n",
      "2 3\n",
      "3 a\n",
      "4 (8, 9)\n",
      "5 True\n",
      "6 None\n"
     ]
    }
   ],
   "source": [
    "# Iterate over indices of the tuple.\n",
    "\n",
    "for i in range(len(my_tuple)) :\n",
    "    print(i, my_tuple[i])"
   ]
  },
  {
   "cell_type": "markdown",
   "metadata": {},
   "source": [
    "- `continue`, `break` and `pass` can be used to control loop behaviour."
   ]
  },
  {
   "cell_type": "code",
   "execution_count": 167,
   "metadata": {},
   "outputs": [
    {
     "name": "stdout",
     "output_type": "stream",
     "text": [
      "10 8 6 4 2 -2 -4 -6 -8 -10 "
     ]
    }
   ],
   "source": [
    "for i in range(10, -100, -1) :\n",
    "    if i == 0 :\n",
    "        # Continue onto the next iteration.\n",
    "        continue\n",
    "    elif i % 2 == 1 :\n",
    "        # The pass statement means \"do nothing\".\n",
    "        pass\n",
    "    else :\n",
    "        print(i, end=' ')\n",
    "        \n",
    "    if i < -10 :\n",
    "        # Stop the enclosing loop entirely.\n",
    "        break"
   ]
  },
  {
   "cell_type": "markdown",
   "metadata": {},
   "source": [
    "## Introspection"
   ]
  },
  {
   "cell_type": "markdown",
   "metadata": {},
   "source": [
    "- We've now seen a few more complicated objects that have various attributes and member methods: str, complex, list, tuple, dict, set.\n",
    "- In other languages you normally have to look up a reference library or examine source code to find the full list of attributes and functions for a given class.\n",
    "- In python, however, documentation is built in, and an object can provide almost all the info you'll need on it interactively!"
   ]
  },
  {
   "cell_type": "markdown",
   "metadata": {},
   "source": [
    "### `dir`"
   ]
  },
  {
   "cell_type": "markdown",
   "metadata": {},
   "source": [
    "- Firstly the `dir()` method.\n",
    "- Called without an argument it returns a list of all variables that're available in the current scope.\n",
    "- Called on an object it returns a list of attributes of that object."
   ]
  },
  {
   "cell_type": "markdown",
   "metadata": {},
   "source": [
    "- On a fresh python prompt the same variables are always available:"
   ]
  },
  {
   "cell_type": "raw",
   "metadata": {},
   "source": [
    ">>> dir()\n",
    "['__annotations__', '__builtins__', '__doc__', '__loader__', '__name__', '__package__', '__spec__']"
   ]
  },
  {
   "cell_type": "markdown",
   "metadata": {},
   "source": [
    "- Any variable prefixed with underscores is normally not meant to be accessed directly, only internally, though you can still access them should you have need.\n",
    "- \"builtins\" contains all the default classes and functions available in python.\n",
    "- \"doc\" contains the documentation on the current module. \n",
    "- \"name\" and \"package\" are the name of the current module and the package to which it belongs."
   ]
  },
  {
   "cell_type": "code",
   "execution_count": 168,
   "metadata": {},
   "outputs": [
    {
     "name": "stdout",
     "output_type": "stream",
     "text": [
      "['In', 'L', 'L1', 'L2', 'Out', '_', '_10', '_11', '_12', '_123', '_13', '_15', '_16', '_17', '_18', '_19', '_20', '_21', '_22', '_2to3_refactor_cell', '_2to3_refactoring_tool', '_3', '_4', '_44', '_45', '_46', '_47', '_50', '_51', '_53', '_54', '_55', '_56', '_57', '_58', '_59', '_6', '_60', '_61', '_62', '_63', '_64', '_65', '_66', '_7', '_75', '_76', '_8', '_83', '_9', '__', '___', '__builtin__', '__builtins__', '__doc__', '__loader__', '__name__', '__package__', '__spec__', '_dh', '_i', '_i1', '_i10', '_i100', '_i101', '_i102', '_i103', '_i104', '_i105', '_i106', '_i107', '_i108', '_i109', '_i11', '_i110', '_i111', '_i112', '_i113', '_i114', '_i115', '_i116', '_i117', '_i118', '_i119', '_i12', '_i120', '_i121', '_i122', '_i123', '_i124', '_i125', '_i126', '_i127', '_i128', '_i129', '_i13', '_i130', '_i131', '_i132', '_i133', '_i134', '_i135', '_i136', '_i137', '_i138', '_i139', '_i14', '_i140', '_i141', '_i142', '_i143', '_i144', '_i145', '_i146', '_i147', '_i148', '_i149', '_i15', '_i150', '_i151', '_i152', '_i153', '_i154', '_i155', '_i156', '_i157', '_i158', '_i159', '_i16', '_i160', '_i161', '_i162', '_i163', '_i164', '_i165', '_i166', '_i167', '_i168', '_i17', '_i18', '_i19', '_i2', '_i20', '_i21', '_i22', '_i23', '_i24', '_i25', '_i26', '_i27', '_i28', '_i29', '_i3', '_i30', '_i31', '_i32', '_i33', '_i34', '_i35', '_i36', '_i37', '_i38', '_i39', '_i4', '_i40', '_i41', '_i42', '_i43', '_i44', '_i45', '_i46', '_i47', '_i48', '_i49', '_i5', '_i50', '_i51', '_i52', '_i53', '_i54', '_i55', '_i56', '_i57', '_i58', '_i59', '_i6', '_i60', '_i61', '_i62', '_i63', '_i64', '_i65', '_i66', '_i67', '_i68', '_i69', '_i7', '_i70', '_i71', '_i72', '_i73', '_i74', '_i75', '_i76', '_i77', '_i78', '_i79', '_i8', '_i80', '_i81', '_i82', '_i83', '_i84', '_i85', '_i86', '_i87', '_i88', '_i89', '_i9', '_i90', '_i91', '_i92', '_i93', '_i94', '_i95', '_i96', '_i97', '_i98', '_i99', '_ih', '_ii', '_iii', '_oh', 'a', 'area', 'area2', 'b', 'c', 'char', 'd', 'd1', 'd2', 'elm', 'elm1', 'elm2', 'exit', 'fibonacci', 'genericResult', 'get_ipython', 'hello_world', 'i', 'json', 'key', 'keyword', 'length', 'lib2to3', 'lyric', 'menu', 'menu2', 'my_tuple', 'name', 'quit', 'radius_sq', 'result', 'result1', 'result2', 's', 'sum_of_squares', 'sys', 't', 't1', 't3', 'var', 'width', 'x', 'y', 'yesNo', 'z']\n"
     ]
    }
   ],
   "source": [
    "# As we've declared many things in the process of this course dir \n",
    "# returns rather more now.\n",
    "\n",
    "print(dir())"
   ]
  },
  {
   "cell_type": "code",
   "execution_count": 170,
   "metadata": {},
   "outputs": [
    {
     "name": "stdout",
     "output_type": "stream",
     "text": [
      "['ArithmeticError', 'AssertionError', 'AttributeError', 'BaseException', 'BlockingIOError', 'BrokenPipeError', 'BufferError', 'BytesWarning', 'ChildProcessError', 'ConnectionAbortedError', 'ConnectionError', 'ConnectionRefusedError', 'ConnectionResetError', 'DeprecationWarning', 'EOFError', 'Ellipsis', 'EnvironmentError', 'Exception', 'False', 'FileExistsError', 'FileNotFoundError', 'FloatingPointError', 'FutureWarning', 'GeneratorExit', 'IOError', 'ImportError', 'ImportWarning', 'IndentationError', 'IndexError', 'InterruptedError', 'IsADirectoryError', 'KeyError', 'KeyboardInterrupt', 'LookupError', 'MemoryError', 'ModuleNotFoundError', 'NameError', 'None', 'NotADirectoryError', 'NotImplemented', 'NotImplementedError', 'OSError', 'OverflowError', 'PendingDeprecationWarning', 'PermissionError', 'ProcessLookupError', 'RecursionError', 'ReferenceError', 'ResourceWarning', 'RuntimeError', 'RuntimeWarning', 'StopAsyncIteration', 'StopIteration', 'SyntaxError', 'SyntaxWarning', 'SystemError', 'SystemExit', 'TabError', 'TimeoutError', 'True', 'TypeError', 'UnboundLocalError', 'UnicodeDecodeError', 'UnicodeEncodeError', 'UnicodeError', 'UnicodeTranslateError', 'UnicodeWarning', 'UserWarning', 'ValueError', 'Warning', 'ZeroDivisionError', '__IPYTHON__', '__build_class__', '__debug__', '__doc__', '__import__', '__loader__', '__name__', '__package__', '__spec__', 'abs', 'all', 'any', 'ascii', 'bin', 'bool', 'breakpoint', 'bytearray', 'bytes', 'callable', 'chr', 'classmethod', 'compile', 'complex', 'copyright', 'credits', 'delattr', 'dict', 'dir', 'display', 'divmod', 'enumerate', 'eval', 'exec', 'filter', 'float', 'format', 'frozenset', 'get_ipython', 'getattr', 'globals', 'hasattr', 'hash', 'help', 'hex', 'id', 'input', 'int', 'isinstance', 'issubclass', 'iter', 'len', 'license', 'list', 'locals', 'map', 'max', 'memoryview', 'min', 'next', 'object', 'oct', 'open', 'ord', 'pow', 'print', 'property', 'range', 'repr', 'reversed', 'round', 'set', 'setattr', 'slice', 'sorted', 'staticmethod', 'str', 'sum', 'super', 'tuple', 'type', 'vars', 'zip']\n"
     ]
    }
   ],
   "source": [
    "# You can see the full list of built-in functionality \n",
    "# available by doing\n",
    "\n",
    "print(dir(__builtins__))"
   ]
  },
  {
   "cell_type": "code",
   "execution_count": 171,
   "metadata": {},
   "outputs": [
    {
     "name": "stdout",
     "output_type": "stream",
     "text": [
      "['__abs__', '__add__', '__bool__', '__class__', '__delattr__', '__dir__', '__divmod__', '__doc__', '__eq__', '__float__', '__floordiv__', '__format__', '__ge__', '__getattribute__', '__getnewargs__', '__gt__', '__hash__', '__init__', '__init_subclass__', '__int__', '__le__', '__lt__', '__mod__', '__mul__', '__ne__', '__neg__', '__new__', '__pos__', '__pow__', '__radd__', '__rdivmod__', '__reduce__', '__reduce_ex__', '__repr__', '__rfloordiv__', '__rmod__', '__rmul__', '__rpow__', '__rsub__', '__rtruediv__', '__setattr__', '__sizeof__', '__str__', '__sub__', '__subclasshook__', '__truediv__', 'conjugate', 'imag', 'real']\n"
     ]
    }
   ],
   "source": [
    "# You can call dir on a class type or an instance of a class.\n",
    "\n",
    "print(dir(complex))"
   ]
  },
  {
   "cell_type": "markdown",
   "metadata": {},
   "source": [
    "- Again we see lots of variables with underscores before and after their names.\n",
    "- We also see the `real` and `imag` members we used before, as well as the `conjugate` method."
   ]
  },
  {
   "cell_type": "markdown",
   "metadata": {},
   "source": [
    "- Many of the 'hidden' (underscored) methods are called behind the scenes when operators are used. \n",
    "- Eg, the `__add__` method is what's used by the + operator."
   ]
  },
  {
   "cell_type": "code",
   "execution_count": 172,
   "metadata": {},
   "outputs": [
    {
     "name": "stdout",
     "output_type": "stream",
     "text": [
      "3\n",
      "3\n",
      "3\n"
     ]
    }
   ],
   "source": [
    "# These are all equivalent:\n",
    "\n",
    "print(1 + 2)\n",
    "print((1).__add__(2))\n",
    "x, y = 1, 2\n",
    "print(x.__add__(y))"
   ]
  },
  {
   "cell_type": "markdown",
   "metadata": {},
   "source": [
    "- More on the significance of double underscored methods later."
   ]
  },
  {
   "cell_type": "markdown",
   "metadata": {},
   "source": [
    "### `help`"
   ]
  },
  {
   "cell_type": "markdown",
   "metadata": {},
   "source": [
    "- So `dir` is good for finding names of attributes, but doesn't tell you anything about them.\n",
    "- For that you need the `help` method, which accesses the internal documentation."
   ]
  },
  {
   "cell_type": "code",
   "execution_count": 173,
   "metadata": {},
   "outputs": [
    {
     "name": "stdout",
     "output_type": "stream",
     "text": [
      "Help on built-in function dir in module builtins:\n",
      "\n",
      "dir(...)\n",
      "    dir([object]) -> list of strings\n",
      "    \n",
      "    If called without an argument, return the names in the current scope.\n",
      "    Else, return an alphabetized list of names comprising (some of) the attributes\n",
      "    of the given object, and of attributes reachable from it.\n",
      "    If the object supplies a method named __dir__, it will be used; otherwise\n",
      "    the default dir() logic is used and returns:\n",
      "      for a module object: the module's attributes.\n",
      "      for a class object:  its attributes, and recursively the attributes\n",
      "        of its bases.\n",
      "      for any other object: its attributes, its class's attributes, and\n",
      "        recursively the attributes of its class's base classes.\n",
      "\n"
     ]
    }
   ],
   "source": [
    "# For instance, the dir method has its own built-in documentation:\n",
    "\n",
    "help(dir)"
   ]
  },
  {
   "cell_type": "code",
   "execution_count": 174,
   "metadata": {},
   "outputs": [
    {
     "name": "stdout",
     "output_type": "stream",
     "text": [
      "Help on method_descriptor:\n",
      "\n",
      "conjugate(...)\n",
      "    complex.conjugate() -> complex\n",
      "    \n",
      "    Return the complex conjugate of its argument. (3-4j).conjugate() == 3+4j.\n",
      "\n"
     ]
    }
   ],
   "source": [
    "# Or for the conjugate method of the complex class:\n",
    "\n",
    "help(complex.conjugate)"
   ]
  },
  {
   "cell_type": "code",
   "execution_count": 175,
   "metadata": {},
   "outputs": [
    {
     "name": "stdout",
     "output_type": "stream",
     "text": [
      "\n",
      "Welcome to Python 3.7's help utility!\n",
      "\n",
      "If this is your first time using Python, you should definitely check out\n",
      "the tutorial on the Internet at https://docs.python.org/3.7/tutorial/.\n",
      "\n",
      "Enter the name of any module, keyword, or topic to get help on writing\n",
      "Python programs and using Python modules.  To quit this help utility and\n",
      "return to the interpreter, just type \"quit\".\n",
      "\n",
      "To get a list of available modules, keywords, symbols, or topics, type\n",
      "\"modules\", \"keywords\", \"symbols\", or \"topics\".  Each module also comes\n",
      "with a one-line summary of what it does; to list the modules whose name\n",
      "or summary contain a given string such as \"spam\", type \"modules spam\".\n",
      "\n",
      "help> complex.conjugate\n",
      "Help on method_descriptor in complex:\n",
      "\n",
      "complex.conjugate = conjugate(...)\n",
      "    complex.conjugate() -> complex\n",
      "    \n",
      "    Return the complex conjugate of its argument. (3-4j).conjugate() == 3+4j.\n",
      "\n",
      "help> q\n",
      "\n",
      "You are now leaving help and returning to the Python interpreter.\n",
      "If you want to ask for help on a particular object directly from the\n",
      "interpreter, you can type \"help(object)\".  Executing \"help('string')\"\n",
      "has the same effect as typing a particular string at the help> prompt.\n"
     ]
    }
   ],
   "source": [
    "# You can also enter interactive help mode by calling help without an \n",
    "# argument. You can then enter any class or method name for help on it, \n",
    "# or search for a specific word, etc.\n",
    "\n",
    "help()"
   ]
  },
  {
   "cell_type": "markdown",
   "metadata": {},
   "source": [
    "- This looks slightly different on the interactive prompt, rather than in this notebook, but the functionality is all the same."
   ]
  },
  {
   "cell_type": "markdown",
   "metadata": {},
   "source": [
    "- The built-in documentation accessed by the `help` method is stored in a function's \"doc string\" as part of the function definition.\n",
    "- Any string declared at the top of a function/class/module definition is taken as being the doc string."
   ]
  },
  {
   "cell_type": "code",
   "execution_count": 176,
   "metadata": {},
   "outputs": [],
   "source": [
    "# Redefine the method with a doc string.\n",
    "\n",
    "def sum_of_squares(x, y) :\n",
    "    '''Returns the sum of the squares of the two arguments.'''\n",
    "    \n",
    "    return x**2 + y**2"
   ]
  },
  {
   "cell_type": "code",
   "execution_count": 177,
   "metadata": {},
   "outputs": [
    {
     "name": "stdout",
     "output_type": "stream",
     "text": [
      "Help on function sum_of_squares in module __main__:\n",
      "\n",
      "sum_of_squares(x, y)\n",
      "    Returns the sum of the squares of the two arguments.\n",
      "\n"
     ]
    }
   ],
   "source": [
    "help(sum_of_squares)"
   ]
  },
  {
   "cell_type": "code",
   "execution_count": 178,
   "metadata": {},
   "outputs": [
    {
     "name": "stdout",
     "output_type": "stream",
     "text": [
      "Returns the sum of the squares of the two arguments.\n"
     ]
    }
   ],
   "source": [
    "# The doc string is stored in the __doc__ attribute \n",
    "# of an object.\n",
    "print(sum_of_squares.__doc__)"
   ]
  },
  {
   "cell_type": "markdown",
   "metadata": {},
   "source": [
    "- Always add a doc string where possible!\n",
    "- It's easily done - write doc as you go.\n",
    "- Allows someone else (or yourself in future) to find out what your code does easily.\n",
    "- Without it `help` is much less useful."
   ]
  },
  {
   "cell_type": "markdown",
   "metadata": {},
   "source": [
    "### Type checking"
   ]
  },
  {
   "cell_type": "markdown",
   "metadata": {},
   "source": [
    "- We already saw that you can determine the type of an object using the `type` method.\n",
    "- You can also check if an object is of a certain type using `isinstance`:"
   ]
  },
  {
   "cell_type": "code",
   "execution_count": 179,
   "metadata": {},
   "outputs": [
    {
     "name": "stdout",
     "output_type": "stream",
     "text": [
      "True\n",
      "False\n"
     ]
    }
   ],
   "source": [
    "print(isinstance(1, int))\n",
    "print(isinstance(3., int))"
   ]
  },
  {
   "cell_type": "markdown",
   "metadata": {},
   "source": [
    "- This is useful if you want to handle different types of objects differently.\n",
    "- You can also pass a tuple as the second argument to `isinstance`, in which case it returns `True` if the object is of any of the types in the tuple:"
   ]
  },
  {
   "cell_type": "code",
   "execution_count": 180,
   "metadata": {},
   "outputs": [
    {
     "name": "stdout",
     "output_type": "stream",
     "text": [
      "True\n",
      "False\n"
     ]
    }
   ],
   "source": [
    "# Check if something is a numerical type:\n",
    "\n",
    "print(isinstance(.234, (int, float)))\n",
    "print(isinstance('spam', (int, float)))"
   ]
  },
  {
   "cell_type": "markdown",
   "metadata": {},
   "source": [
    "- For further info try `dir` or `help` on any object, class name, method, type specification, or indeed anything!"
   ]
  },
  {
   "cell_type": "markdown",
   "metadata": {},
   "source": [
    "## Classes"
   ]
  },
  {
   "cell_type": "markdown",
   "metadata": {},
   "source": [
    "- As mentioned at the beginning of the course, classes are a means of sensibly organising and grouping data and functionality.\n",
    "- A class contains member data (\"attributes\") and member functions.\n",
    "- Every instance of a class has the same data structure and can call the same functions."
   ]
  },
  {
   "cell_type": "markdown",
   "metadata": {},
   "source": [
    "### The Empty Class"
   ]
  },
  {
   "cell_type": "markdown",
   "metadata": {},
   "source": [
    "- As with everything in python, classes can be declared and used in a very versatile manner.\n",
    "- They're declared with the `class` keyword, followed by the class name and an indented block of code defining the class.\n",
    "- The most basic class is just an empty one - you don't have to declare a constructor, data members or functions."
   ]
  },
  {
   "cell_type": "code",
   "execution_count": 181,
   "metadata": {},
   "outputs": [],
   "source": [
    "class Minimal :\n",
    "    pass"
   ]
  },
  {
   "cell_type": "code",
   "execution_count": 182,
   "metadata": {},
   "outputs": [],
   "source": [
    "# Then make an instance of the class by calling the constructor:\n",
    "\n",
    "m = Minimal()"
   ]
  },
  {
   "cell_type": "code",
   "execution_count": 183,
   "metadata": {},
   "outputs": [
    {
     "name": "stdout",
     "output_type": "stream",
     "text": [
      "eggs\n"
     ]
    }
   ],
   "source": [
    "# Attributes can then be assigned dynamically.\n",
    "\n",
    "m.spam = 'eggs'\n",
    "\n",
    "# They're accessed in the usual way.\n",
    "print(m.spam)"
   ]
  },
  {
   "cell_type": "code",
   "execution_count": 184,
   "metadata": {},
   "outputs": [
    {
     "name": "stdout",
     "output_type": "stream",
     "text": [
      "True\n",
      "False\n"
     ]
    }
   ],
   "source": [
    "# You can check if an object has an attribute with \"hasattr\"\n",
    "\n",
    "print(hasattr(m, 'spam'))\n",
    "print(hasattr(m, 'bla'))"
   ]
  },
  {
   "cell_type": "code",
   "execution_count": 185,
   "metadata": {},
   "outputs": [
    {
     "name": "stdout",
     "output_type": "stream",
     "text": [
      "eggs\n"
     ]
    }
   ],
   "source": [
    "# \"getattr\" retrieves an attribute.\n",
    "# This is the same as m.spam\n",
    "\n",
    "print(getattr(m, 'spam'))"
   ]
  },
  {
   "cell_type": "code",
   "execution_count": 186,
   "metadata": {},
   "outputs": [
    {
     "name": "stdout",
     "output_type": "stream",
     "text": [
      "False\n"
     ]
    }
   ],
   "source": [
    "# Attributes can be removed using del\n",
    "\n",
    "del m.spam\n",
    "print(hasattr(m, 'spam'))"
   ]
  },
  {
   "cell_type": "markdown",
   "metadata": {},
   "source": [
    "- Accessing attributes of a class instance is thus a lot like accessing elements of a dictionary, but with slightly different syntax.\n",
    "- Also, the attribute names must always be strings."
   ]
  },
  {
   "cell_type": "markdown",
   "metadata": {},
   "source": [
    "### A Basic Class"
   ]
  },
  {
   "cell_type": "markdown",
   "metadata": {},
   "source": [
    "- Now for a class designed for a specific purpose.\n",
    "- Member functions are defined like other functions, using `def`, within the `class` code block.\n",
    "- The first argument to any member function must be `self`. This represents the instance of the class on which the function is being called. It may be the only argument to a member function.\n",
    "- Within member functions, `self` is used to access attributes or call other member functions.\n",
    "- The constructor is defined by the `__init__` function. This is called when a new instance of the class is created. It can initialise data members."
   ]
  },
  {
   "cell_type": "code",
   "execution_count": 187,
   "metadata": {},
   "outputs": [],
   "source": [
    "class Bird :\n",
    "    # Doc strings should be put on classes just like functions.\n",
    "    '''A class to describe bird characteristics.'''\n",
    "    \n",
    "    def __init__(self, species) :\n",
    "        '''Constructor. Sets the species of this Bird.'''\n",
    "\n",
    "        self.species = species\n",
    "    \n",
    "    def about_me(self) :\n",
    "        '''Print info about this Bird'''\n",
    "        \n",
    "        print('Species:', self.species)\n",
    "    \n",
    "    def get_species(self) :\n",
    "        '''Get the species of this Bird'''\n",
    "        \n",
    "        return self.species\n",
    "    \n",
    "    def is_species(self, species) :\n",
    "        '''Check if this Bird is of the given species.'''\n",
    "        \n",
    "        return species == self.get_species()"
   ]
  },
  {
   "cell_type": "markdown",
   "metadata": {},
   "source": [
    "- An instance of the class can then be created by calling the name of the class like a function (the constructor).\n",
    "- When the constructor/member methods are called then `self` argument is omitted as it's implicit."
   ]
  },
  {
   "cell_type": "code",
   "execution_count": 188,
   "metadata": {},
   "outputs": [
    {
     "name": "stdout",
     "output_type": "stream",
     "text": [
      "Species: Duck\n",
      "False\n"
     ]
    }
   ],
   "source": [
    "duck = Bird('Duck')\n",
    "duck.about_me()\n",
    "print(duck.is_species('Swallow'))"
   ]
  },
  {
   "cell_type": "markdown",
   "metadata": {},
   "source": [
    "- Introspection works on user defined classes just like builtin classes."
   ]
  },
  {
   "cell_type": "code",
   "execution_count": 189,
   "metadata": {},
   "outputs": [
    {
     "name": "stdout",
     "output_type": "stream",
     "text": [
      "['__class__', '__delattr__', '__dict__', '__dir__', '__doc__', '__eq__', '__format__', '__ge__', '__getattribute__', '__gt__', '__hash__', '__init__', '__init_subclass__', '__le__', '__lt__', '__module__', '__ne__', '__new__', '__reduce__', '__reduce_ex__', '__repr__', '__setattr__', '__sizeof__', '__str__', '__subclasshook__', '__weakref__', 'about_me', 'get_species', 'is_species', 'species']\n"
     ]
    }
   ],
   "source": [
    "print(dir(duck))"
   ]
  },
  {
   "cell_type": "code",
   "execution_count": 190,
   "metadata": {},
   "outputs": [
    {
     "name": "stdout",
     "output_type": "stream",
     "text": [
      "Help on Bird in module __main__ object:\n",
      "\n",
      "class Bird(builtins.object)\n",
      " |  Bird(species)\n",
      " |  \n",
      " |  A class to describe bird characteristics.\n",
      " |  \n",
      " |  Methods defined here:\n",
      " |  \n",
      " |  __init__(self, species)\n",
      " |      Constructor. Sets the species of this Bird.\n",
      " |  \n",
      " |  about_me(self)\n",
      " |      Print info about this Bird\n",
      " |  \n",
      " |  get_species(self)\n",
      " |      Get the species of this Bird\n",
      " |  \n",
      " |  is_species(self, species)\n",
      " |      Check if this Bird is of the given species.\n",
      " |  \n",
      " |  ----------------------------------------------------------------------\n",
      " |  Data descriptors defined here:\n",
      " |  \n",
      " |  __dict__\n",
      " |      dictionary for instance variables (if defined)\n",
      " |  \n",
      " |  __weakref__\n",
      " |      list of weak references to the object (if defined)\n",
      "\n"
     ]
    }
   ],
   "source": [
    "# help(Bird) would also work.\n",
    "\n",
    "help(duck)"
   ]
  },
  {
   "cell_type": "code",
   "execution_count": 191,
   "metadata": {},
   "outputs": [
    {
     "name": "stdout",
     "output_type": "stream",
     "text": [
      "Help on function is_species in module __main__:\n",
      "\n",
      "is_species(self, species)\n",
      "    Check if this Bird is of the given species.\n",
      "\n"
     ]
    }
   ],
   "source": [
    "help(Bird.is_species)"
   ]
  },
  {
   "cell_type": "code",
   "execution_count": 192,
   "metadata": {},
   "outputs": [
    {
     "name": "stdout",
     "output_type": "stream",
     "text": [
      "Check if this Bird is of the given species.\n"
     ]
    }
   ],
   "source": [
    "print(Bird.is_species.__doc__)"
   ]
  },
  {
   "cell_type": "code",
   "execution_count": 193,
   "metadata": {},
   "outputs": [
    {
     "name": "stdout",
     "output_type": "stream",
     "text": [
      "Species: Swallow\n",
      "Swallow\n"
     ]
    }
   ],
   "source": [
    "# Make another instance with different attributes.\n",
    "\n",
    "swallow = Bird('Swallow')\n",
    "swallow.about_me()\n",
    "print(swallow.species)"
   ]
  },
  {
   "cell_type": "markdown",
   "metadata": {},
   "source": [
    "### Inheritance"
   ]
  },
  {
   "cell_type": "markdown",
   "metadata": {},
   "source": [
    "- This is another key component of object oriented programming.\n",
    "- A derived class inherits from the base class, retains all its attributes and functionality, and can add more, or redefine functions.\n",
    "- This is particularly useful if you want a group of different classes to have the same interface (attributes and functions) but with different implementations.\n",
    "- To define a derived class, the name of the base class goes in brackets after the name of the derived class on the `class` line."
   ]
  },
  {
   "cell_type": "markdown",
   "metadata": {},
   "source": [
    "- A function definition in the derived class with the same name as a function in the base class overrides the base class definition.\n",
    "- The definition in the most derived class is always the one that's used.\n",
    "- If you need to call the version from the base class, you can do so by calling `super()` to access the base class.\n",
    "- See [here](https://docs.python.org/3/library/functions.html#super) for more info on `super`."
   ]
  },
  {
   "cell_type": "code",
   "execution_count": 194,
   "metadata": {},
   "outputs": [],
   "source": [
    "class Swallow(Bird) :\n",
    "    '''A class describing a Swallow.'''\n",
    "    \n",
    "    # Re-implement the constructor.\n",
    "    def __init__(self, velocity) :\n",
    "        '''Constructor. Sets the velocity of the Swallow.'''\n",
    "\n",
    "        # Access methods of the base class, eg\n",
    "        # the constructor. Note that 'self' isn't\n",
    "        # passed here.\n",
    "        super().__init__('Swallow')\n",
    "        \n",
    "        # Add new attributes.\n",
    "        self.velocity = velocity\n",
    "        \n",
    "    def about_me(self) :\n",
    "        '''Print info about this Swallow'''\n",
    "\n",
    "        print('Species:', self.species)\n",
    "        print('Airspeed-velocity (unladen): '\n",
    "              '{:.2g} m/s'.format(self.velocity))"
   ]
  },
  {
   "cell_type": "code",
   "execution_count": 196,
   "metadata": {},
   "outputs": [
    {
     "name": "stdout",
     "output_type": "stream",
     "text": [
      "['__class__', '__delattr__', '__dict__', '__dir__', '__doc__', '__eq__', '__format__', '__ge__', '__getattribute__', '__gt__', '__hash__', '__init__', '__init_subclass__', '__le__', '__lt__', '__module__', '__ne__', '__new__', '__reduce__', '__reduce_ex__', '__repr__', '__setattr__', '__sizeof__', '__str__', '__subclasshook__', '__weakref__', 'about_me', 'get_species', 'is_species', 'species', 'velocity']\n"
     ]
    }
   ],
   "source": [
    "# Instantiate as before.\n",
    "swallow = Swallow(3.43)\n",
    "print(dir(swallow))"
   ]
  },
  {
   "cell_type": "markdown",
   "metadata": {},
   "source": [
    "- You can see that the derived class has all the attributes of the base class, and the additional `velocity` attribute."
   ]
  },
  {
   "cell_type": "code",
   "execution_count": 197,
   "metadata": {},
   "outputs": [
    {
     "name": "stdout",
     "output_type": "stream",
     "text": [
      "False\n"
     ]
    }
   ],
   "source": [
    "# Now call some functions.\n",
    "# This uses the definition in the Bird base class.\n",
    "\n",
    "print(swallow.is_species('Duck'))"
   ]
  },
  {
   "cell_type": "code",
   "execution_count": 198,
   "metadata": {},
   "outputs": [
    {
     "name": "stdout",
     "output_type": "stream",
     "text": [
      "Species: Swallow\n",
      "Airspeed-velocity (unladen): 3.4 m/s\n"
     ]
    }
   ],
   "source": [
    "# While this uses the definition in the Swallow derived class.\n",
    "\n",
    "swallow.about_me()"
   ]
  },
  {
   "cell_type": "markdown",
   "metadata": {},
   "source": [
    "### Using `__slots__` to specify attribute names."
   ]
  },
  {
   "cell_type": "markdown",
   "metadata": {},
   "source": [
    "- Python's dynamic assignment of variables can be useful, but can lead to bugs if you're not careful."
   ]
  },
  {
   "cell_type": "code",
   "execution_count": 199,
   "metadata": {},
   "outputs": [],
   "source": [
    "# Eg, this typo passes silently:\n",
    "\n",
    "swallow.veloctiy = 8.9"
   ]
  },
  {
   "cell_type": "code",
   "execution_count": 200,
   "metadata": {},
   "outputs": [
    {
     "name": "stdout",
     "output_type": "stream",
     "text": [
      "Species: Swallow\n",
      "Airspeed-velocity (unladen): 3.4 m/s\n"
     ]
    }
   ],
   "source": [
    "swallow.about_me()"
   ]
  },
  {
   "cell_type": "code",
   "execution_count": 202,
   "metadata": {},
   "outputs": [
    {
     "name": "stdout",
     "output_type": "stream",
     "text": [
      "['__class__', '__delattr__', '__dict__', '__dir__', '__doc__', '__eq__', '__format__', '__ge__', '__getattribute__', '__gt__', '__hash__', '__init__', '__init_subclass__', '__le__', '__lt__', '__module__', '__ne__', '__new__', '__reduce__', '__reduce_ex__', '__repr__', '__setattr__', '__sizeof__', '__str__', '__subclasshook__', '__weakref__', 'about_me', 'get_species', 'is_species', 'species', 'velocity', 'veloctiy']\n"
     ]
    }
   ],
   "source": [
    "print(dir(swallow))"
   ]
  },
  {
   "cell_type": "markdown",
   "metadata": {},
   "source": [
    "- You can restrict attribute names in a class by defining a `__slots__` attribute.\n",
    "- This goes in the main body of the class definition, not in `__init__`."
   ]
  },
  {
   "cell_type": "code",
   "execution_count": 203,
   "metadata": {},
   "outputs": [],
   "source": [
    "# Redefine the class with __slots__.\n",
    "\n",
    "class Bird :\n",
    "    '''A class to describe bird characteristics.'''\n",
    "\n",
    "    __slots__ = ('species',)\n",
    "    \n",
    "    def __init__(self, species) :\n",
    "        '''Constructor. Sets the species of this Bird.'''\n",
    "        self.species = species\n",
    "    \n",
    "    def about_me(self) :\n",
    "        '''Print info about this Bird'''\n",
    "        print('Species:', self.species)\n",
    "    \n",
    "    def get_species(self) :\n",
    "        '''Get the species of this Bird'''\n",
    "        return self.species\n",
    "    \n",
    "    def is_species(self, species) :\n",
    "        '''Check if this Bird is of the given species.'''\n",
    "        return species == self.get_species()"
   ]
  },
  {
   "cell_type": "code",
   "execution_count": 204,
   "metadata": {},
   "outputs": [],
   "source": [
    "# Similarly for the derived class.\n",
    "\n",
    "class Swallow(Bird) :\n",
    "    '''A class describing a Swallow.'''\n",
    "    \n",
    "    __slots__ = ('velocity',)\n",
    "\n",
    "    def __init__(self, velocity) :\n",
    "        '''Constructor. Sets the velocity of the Swallow.'''\n",
    "\n",
    "        super().__init__('Swallow')\n",
    "        self.velocity = velocity\n",
    "        \n",
    "    def about_me(self) :\n",
    "        '''Print info about this Swallow'''\n",
    "\n",
    "        print('Species:', self.species)\n",
    "        print('Airspeed-velocity (unladen): '\n",
    "              '{:.2g} m/s'.format(self.velocity))"
   ]
  },
  {
   "cell_type": "code",
   "execution_count": 205,
   "metadata": {},
   "outputs": [
    {
     "ename": "AttributeError",
     "evalue": "'Swallow' object has no attribute 'veloctiy'",
     "output_type": "error",
     "traceback": [
      "\u001b[0;31m---------------------------------------------------------------------------\u001b[0m",
      "\u001b[0;31mAttributeError\u001b[0m                            Traceback (most recent call last)",
      "\u001b[0;32m<ipython-input-205-420e60e7fe42>\u001b[0m in \u001b[0;36m<module>\u001b[0;34m\u001b[0m\n\u001b[1;32m      2\u001b[0m \u001b[0;34m\u001b[0m\u001b[0m\n\u001b[1;32m      3\u001b[0m \u001b[0mswallow\u001b[0m \u001b[0;34m=\u001b[0m \u001b[0mSwallow\u001b[0m\u001b[0;34m(\u001b[0m\u001b[0;36m3.43\u001b[0m\u001b[0;34m)\u001b[0m\u001b[0;34m\u001b[0m\u001b[0;34m\u001b[0m\u001b[0m\n\u001b[0;32m----> 4\u001b[0;31m \u001b[0mswallow\u001b[0m\u001b[0;34m.\u001b[0m\u001b[0mveloctiy\u001b[0m \u001b[0;34m=\u001b[0m \u001b[0;36m8.9\u001b[0m\u001b[0;34m\u001b[0m\u001b[0;34m\u001b[0m\u001b[0m\n\u001b[0m",
      "\u001b[0;31mAttributeError\u001b[0m: 'Swallow' object has no attribute 'veloctiy'"
     ]
    }
   ],
   "source": [
    "# Now we get an exception from the typo.\n",
    "\n",
    "swallow = Swallow(3.43)\n",
    "swallow.veloctiy = 8.9"
   ]
  },
  {
   "cell_type": "markdown",
   "metadata": {},
   "source": [
    "- See [here](https://docs.python.org/3/reference/datamodel.html#slots) for more info on `__slots__` and other aspects of the data model in python."
   ]
  },
  {
   "cell_type": "markdown",
   "metadata": {},
   "source": [
    "### Class attributes"
   ]
  },
  {
   "cell_type": "markdown",
   "metadata": {},
   "source": [
    "- An attribute declared outside a member method is a \"class attribute\" (similar to a static member in C++ or Java), rather than an instance attribute - its value is shared between all instances of the class.\n",
    "- `__slots__` is an example of this."
   ]
  },
  {
   "cell_type": "code",
   "execution_count": 206,
   "metadata": {},
   "outputs": [],
   "source": [
    "class Swallow(Bird) :\n",
    "    '''A class describing a Swallow.'''\n",
    "    \n",
    "    __slots__ = ('velocity',)\n",
    "\n",
    "    # This is a class attribute\n",
    "    verbose = False\n",
    "    \n",
    "    def __init__(self, velocity) :\n",
    "        '''Constructor. Sets the velocity of the Swallow.'''\n",
    "\n",
    "        super().__init__('Swallow')\n",
    "        self.velocity = velocity\n",
    "        # Access the class attribute using the class name or \n",
    "        # an instance of the class as prefix.\n",
    "        if Swallow.verbose :\n",
    "            print('Initialised a swallow:')\n",
    "            self.about_me()\n",
    "            \n",
    "    def about_me(self) :\n",
    "        '''Print info about this Swallow'''\n",
    "        print('Species:', self.species)\n",
    "        print('Airspeed-velocity (unladen): '\n",
    "              '{:.2g} m/s'.format(self.velocity))"
   ]
  },
  {
   "cell_type": "code",
   "execution_count": 207,
   "metadata": {},
   "outputs": [
    {
     "name": "stdout",
     "output_type": "stream",
     "text": [
      "False\n",
      "False\n"
     ]
    }
   ],
   "source": [
    "swallow1 = Swallow(9.2)\n",
    "print(Swallow.verbose)\n",
    "print(swallow1.verbose)"
   ]
  },
  {
   "cell_type": "code",
   "execution_count": 208,
   "metadata": {},
   "outputs": [
    {
     "name": "stdout",
     "output_type": "stream",
     "text": [
      "Initialised a swallow:\n",
      "Species: Swallow\n",
      "Airspeed-velocity (unladen): 5.4 m/s\n"
     ]
    }
   ],
   "source": [
    "# Change the value of the class attribute like so:\n",
    "Swallow.verbose = True\n",
    "swallow2 = Swallow(5.4)"
   ]
  },
  {
   "cell_type": "code",
   "execution_count": 209,
   "metadata": {},
   "outputs": [
    {
     "name": "stdout",
     "output_type": "stream",
     "text": [
      "True\n",
      "True\n",
      "True\n"
     ]
    }
   ],
   "source": [
    "# The value of the attribute is the same for all instances \n",
    "# of the class.\n",
    "print(Swallow.verbose) \n",
    "print(swallow1.verbose)\n",
    "print(swallow2.verbose)"
   ]
  },
  {
   "cell_type": "markdown",
   "metadata": {},
   "source": [
    "- There are also functions for more versatile and efficient attribute access through \"descriptors\" using [`property`](https://docs.python.org/3/library/functions.html#property), as well as static and class function definitions through [`staticmethod`](https://docs.python.org/3/library/functions.html#staticmethod) and [`classmethod`](https://docs.python.org/3/library/functions.html#classmethod)."
   ]
  },
  {
   "cell_type": "markdown",
   "metadata": {},
   "source": [
    "---"
   ]
  },
  {
   "cell_type": "markdown",
   "metadata": {},
   "source": [
    "<img src = 'https://i.redd.it/c8cw76gmohy11.jpg' alt = 'ancient code' width = 400>"
   ]
  },
  {
   "cell_type": "markdown",
   "metadata": {},
   "source": [
    "## Modules"
   ]
  },
  {
   "cell_type": "markdown",
   "metadata": {},
   "source": [
    "- Modules are python's equivalent of libraries in other languages.\n",
    "- They provide a simple way of grouping related functionality.\n",
    "- They're the main means of extending python (adding functionality)."
   ]
  },
  {
   "cell_type": "markdown",
   "metadata": {},
   "source": [
    "- Modules define their namespace.\n",
    "    - Variables defined in one module don't interfere with variables of the same name in another module.\n",
    "    - That is, unless they're imported into the same namespace."
   ]
  },
  {
   "cell_type": "markdown",
   "metadata": {},
   "source": [
    "- There're different types of modules:\n",
    "    - Built-in modules:\n",
    "        - Always available.\n",
    "        - Popular examples are: sys, math, time.\n",
    "    - Standard library modules:\n",
    "        - Come with a standard python install.\n",
    "        - Eg: os, urllib.\n",
    "    - Third-party modules:\n",
    "        - Written & maintained by someone other than the python foundation.\n",
    "        - Eg: PyRoot (a python port of the ROOT c++ library), numpy, matplotlib.\n",
    "    - User defined modules:\n",
    "        - Whatever code you need!\n",
    "        - Easily distributed."
   ]
  },
  {
   "cell_type": "markdown",
   "metadata": {},
   "source": [
    "### Importing Modules"
   ]
  },
  {
   "cell_type": "markdown",
   "metadata": {},
   "source": [
    "- Importing modules is simply done using the `import` keyword:"
   ]
  },
  {
   "cell_type": "code",
   "execution_count": 210,
   "metadata": {},
   "outputs": [
    {
     "name": "stdout",
     "output_type": "stream",
     "text": [
      "['__doc__', '__file__', '__loader__', '__name__', '__package__', '__spec__', 'acos', 'acosh', 'asin', 'asinh', 'atan', 'atan2', 'atanh', 'ceil', 'copysign', 'cos', 'cosh', 'degrees', 'e', 'erf', 'erfc', 'exp', 'expm1', 'fabs', 'factorial', 'floor', 'fmod', 'frexp', 'fsum', 'gamma', 'gcd', 'hypot', 'inf', 'isclose', 'isfinite', 'isinf', 'isnan', 'ldexp', 'lgamma', 'log', 'log10', 'log1p', 'log2', 'modf', 'nan', 'pi', 'pow', 'radians', 'remainder', 'sin', 'sinh', 'sqrt', 'tan', 'tanh', 'tau', 'trunc']\n"
     ]
    }
   ],
   "source": [
    "# The built-in math module\n",
    "\n",
    "import math\n",
    "print(dir(math))"
   ]
  },
  {
   "cell_type": "code",
   "execution_count": 211,
   "metadata": {},
   "outputs": [
    {
     "name": "stdout",
     "output_type": "stream",
     "text": [
      "3.141592653589793\n",
      "1.0\n",
      "1.2246467991473532e-16\n"
     ]
    }
   ],
   "source": [
    "# Call a method or access a variable contained in a module.\n",
    "\n",
    "print(math.pi)\n",
    "print(math.sin(math.pi/2.))\n",
    "print(math.sin(math.pi))"
   ]
  },
  {
   "cell_type": "markdown",
   "metadata": {},
   "source": [
    "- There're various ways of importing."
   ]
  },
  {
   "cell_type": "code",
   "execution_count": 212,
   "metadata": {},
   "outputs": [
    {
     "name": "stdout",
     "output_type": "stream",
     "text": [
      "0.7071067811865475 0.7071067811865476\n"
     ]
    }
   ],
   "source": [
    "# import a specific function/variable from a module.\n",
    "\n",
    "from math import sin\n",
    "from math import cos, pi\n",
    "\n",
    "# They're then accessible in the \"local namespace\"\n",
    "# so you can drop the math. prefix\n",
    "\n",
    "print(sin(pi/4.), cos(pi/4.))"
   ]
  },
  {
   "cell_type": "code",
   "execution_count": 213,
   "metadata": {},
   "outputs": [
    {
     "name": "stdout",
     "output_type": "stream",
     "text": [
      "2.0\n"
     ]
    }
   ],
   "source": [
    "# You can also rename a variable at import using the\n",
    "# 'as' keyword.\n",
    "# Sometimes desirable to avoid confusion over variables.\n",
    "\n",
    "from math import sqrt as my_sqrt\n",
    "print(my_sqrt(4))"
   ]
  },
  {
   "cell_type": "code",
   "execution_count": 214,
   "metadata": {},
   "outputs": [
    {
     "name": "stdout",
     "output_type": "stream",
     "text": [
      "2.718281828459045\n",
      "1.0\n"
     ]
    }
   ],
   "source": [
    "# Import everything from a module into the current\n",
    "# namespace.\n",
    "# Use with care! For large modules this is slow &\n",
    "# memory intensive. It's much more efficient to \n",
    "# import only what you need.\n",
    "\n",
    "from math import *\n",
    "print(e)\n",
    "print(log(e))"
   ]
  },
  {
   "cell_type": "code",
   "execution_count": 215,
   "metadata": {},
   "outputs": [
    {
     "name": "stdout",
     "output_type": "stream",
     "text": [
      "['__all__', '__builtins__', '__cached__', '__doc__', '__file__', '__loader__', '__name__', '__package__', '__spec__', '_get_sep', '_joinrealpath', '_varprog', '_varprogb', 'abspath', 'altsep', 'basename', 'commonpath', 'commonprefix', 'curdir', 'defpath', 'devnull', 'dirname', 'exists', 'expanduser', 'expandvars', 'extsep', 'genericpath', 'getatime', 'getctime', 'getmtime', 'getsize', 'isabs', 'isdir', 'isfile', 'islink', 'ismount', 'join', 'lexists', 'normcase', 'normpath', 'os', 'pardir', 'pathsep', 'realpath', 'relpath', 'samefile', 'sameopenfile', 'samestat', 'sep', 'split', 'splitdrive', 'splitext', 'stat', 'supports_unicode_filenames', 'sys']\n"
     ]
    }
   ],
   "source": [
    "# Import a sub-module from a module.\n",
    "\n",
    "from os import path\n",
    "print(dir(path))"
   ]
  },
  {
   "cell_type": "code",
   "execution_count": 216,
   "metadata": {},
   "outputs": [
    {
     "name": "stdout",
     "output_type": "stream",
     "text": [
      "True\n"
     ]
    }
   ],
   "source": [
    "# Import a method/variable from a sub-module.\n",
    "\n",
    "from os.path import exists\n",
    "print(exists('./Hello_world.py'))"
   ]
  },
  {
   "cell_type": "markdown",
   "metadata": {},
   "source": [
    "- The standard `import` actually calls the built-in `__import__` method in the background.\n",
    "- `__import__` takes a string as argument, which allows you to import programmatically."
   ]
  },
  {
   "cell_type": "code",
   "execution_count": 217,
   "metadata": {},
   "outputs": [
    {
     "name": "stdout",
     "output_type": "stream",
     "text": [
      "['__doc__', '__file__', '__loader__', '__name__', '__package__', '__spec__', 'acos', 'acosh', 'asin', 'asinh', 'atan', 'atan2', 'atanh', 'ceil', 'copysign', 'cos', 'cosh', 'degrees', 'e', 'erf', 'erfc', 'exp', 'expm1', 'fabs', 'factorial', 'floor', 'fmod', 'frexp', 'fsum', 'gamma', 'gcd', 'hypot', 'inf', 'isclose', 'isfinite', 'isinf', 'isnan', 'ldexp', 'lgamma', 'log', 'log10', 'log1p', 'log2', 'modf', 'nan', 'pi', 'pow', 'radians', 'remainder', 'sin', 'sinh', 'sqrt', 'tan', 'tanh', 'tau', 'trunc']\n"
     ]
    }
   ],
   "source": [
    "# The __import__ method actually returns the module.\n",
    "# Modules are objects too!\n",
    "\n",
    "math_module = __import__('math')\n",
    "print(dir(math_module))"
   ]
  },
  {
   "cell_type": "code",
   "execution_count": 218,
   "metadata": {},
   "outputs": [
    {
     "name": "stdout",
     "output_type": "stream",
     "text": [
      "['__doc__', '__file__', '__loader__', '__name__', '__package__', '__spec__', 'acos', 'acosh', 'asin', 'asinh', 'atan', 'atanh', 'cos', 'cosh', 'e', 'exp', 'inf', 'infj', 'isclose', 'isfinite', 'isinf', 'isnan', 'log', 'log10', 'nan', 'nanj', 'phase', 'pi', 'polar', 'rect', 'sin', 'sinh', 'sqrt', 'tan', 'tanh', 'tau']\n"
     ]
    }
   ],
   "source": [
    "# If you alternatively want to use the cmath module,\n",
    "# which supports maths with complex numbers.\n",
    "\n",
    "math_module = __import__('cmath')\n",
    "print(dir(math_module))"
   ]
  },
  {
   "cell_type": "markdown",
   "metadata": {},
   "source": [
    "- Be careful of importing variables with the same name, as the latest import can overwrite previous ones.\n",
    "- Eg, both `math` and `cmath` modules contain `sin`, `cos`, etc, methods.\n",
    "- Both `array` and `numpy` modules contain an `array` class."
   ]
  },
  {
   "cell_type": "code",
   "execution_count": 220,
   "metadata": {},
   "outputs": [
    {
     "name": "stdout",
     "output_type": "stream",
     "text": [
      "array('d', [0.0, 0.0, 0.0])\n"
     ]
    }
   ],
   "source": [
    "from array import array\n",
    "myArray = array('d', [0.] * 3)\n",
    "print(myArray)"
   ]
  },
  {
   "cell_type": "code",
   "execution_count": 221,
   "metadata": {},
   "outputs": [
    {
     "ename": "TypeError",
     "evalue": "data type not understood",
     "output_type": "error",
     "traceback": [
      "\u001b[0;31m---------------------------------------------------------------------------\u001b[0m",
      "\u001b[0;31mTypeError\u001b[0m                                 Traceback (most recent call last)",
      "\u001b[0;32m<ipython-input-221-dfb138806743>\u001b[0m in \u001b[0;36m<module>\u001b[0;34m\u001b[0m\n\u001b[1;32m      4\u001b[0m \u001b[0;34m\u001b[0m\u001b[0m\n\u001b[1;32m      5\u001b[0m \u001b[0;32mfrom\u001b[0m \u001b[0mnumpy\u001b[0m \u001b[0;32mimport\u001b[0m \u001b[0marray\u001b[0m\u001b[0;34m\u001b[0m\u001b[0;34m\u001b[0m\u001b[0m\n\u001b[0;32m----> 6\u001b[0;31m \u001b[0mmyArray\u001b[0m \u001b[0;34m=\u001b[0m \u001b[0marray\u001b[0m\u001b[0;34m(\u001b[0m\u001b[0;34m'd'\u001b[0m\u001b[0;34m,\u001b[0m \u001b[0;34m[\u001b[0m\u001b[0;36m0.\u001b[0m\u001b[0;34m]\u001b[0m \u001b[0;34m*\u001b[0m \u001b[0;36m3\u001b[0m\u001b[0;34m)\u001b[0m\u001b[0;34m\u001b[0m\u001b[0;34m\u001b[0m\u001b[0m\n\u001b[0m\u001b[1;32m      7\u001b[0m \u001b[0mprint\u001b[0m\u001b[0;34m(\u001b[0m\u001b[0mmyArray\u001b[0m\u001b[0;34m)\u001b[0m\u001b[0;34m\u001b[0m\u001b[0;34m\u001b[0m\u001b[0m\n",
      "\u001b[0;31mTypeError\u001b[0m: data type not understood"
     ]
    }
   ],
   "source": [
    "# Executing the same code after importing the numpy array \n",
    "# class crashes, as the constructors take different \n",
    "# arguments.\n",
    "\n",
    "from numpy import array\n",
    "myArray = array('d', [0.] * 3)\n",
    "print(myArray)"
   ]
  },
  {
   "cell_type": "markdown",
   "metadata": {},
   "source": [
    "- The [Standard Library](https://docs.python.org/3/tutorial/stdlib.html) contains many different modules.\n",
    "- Some popular ones are:\n",
    "    - `sys`, `glob`\n",
    "    - `os`, `commands`, `shutil`\n",
    "    - `math`, `cmath`, `array`\n",
    "    - `datetime`\n",
    "    - `StringIO`, `re`\n",
    "    - `getopt`, `argparse`\n",
    "    - `webbrowser`, `urllib2`\n",
    "    - `timeit`\n",
    "- Check them out by importing and trying `help` on them.\n",
    "- You can normally find out which module you want for any given task via a quick web search."
   ]
  },
  {
   "cell_type": "markdown",
   "metadata": {},
   "source": [
    "### Writing Your Own Modules"
   ]
  },
  {
   "cell_type": "markdown",
   "metadata": {},
   "source": [
    "- Any python script can be imported as a module.\n",
    "- The module name is simply the name of the file.\n",
    "- Eg, putting the `Bird` and `Swallow` class definitions in a file called Birds.py.\n",
    "- In a Jupyter notebook, putting `%%writefile <fname>` at the top of a cell will write the contents of the cell to a file named `<fname>`:"
   ]
  },
  {
   "cell_type": "code",
   "execution_count": 222,
   "metadata": {},
   "outputs": [
    {
     "name": "stdout",
     "output_type": "stream",
     "text": [
      "Overwriting Birds.py\n"
     ]
    }
   ],
   "source": [
    "%%writefile Birds.py \n",
    "\n",
    "'''A set of classes to describe different species of bird.'''\n",
    "\n",
    "class Bird(object) :\n",
    "    '''A class to describe bird characteristics.'''\n",
    "\n",
    "    __slots__ = ('species',)\n",
    "\n",
    "    def __init__(self, species) :\n",
    "        '''Constructor. Sets the species of this Bird.'''\n",
    "        self.species = species\n",
    "\n",
    "    def about_me(self) :\n",
    "        '''Print info about this Bird'''\n",
    "        print('Species:', self.species)\n",
    "\n",
    "    def get_species(self) :\n",
    "        '''Get the species of this Bird'''\n",
    "        return self.species\n",
    "\n",
    "    def is_species(self, species) :\n",
    "        '''Check if this Bird is of the given species.'''\n",
    "        return species == self.get_species()\n",
    "\n",
    "class Swallow(Bird) :\n",
    "    '''A class describing a Swallow.'''\n",
    "\n",
    "    __slots__ = ('velocity',)\n",
    "\n",
    "    def __init__(self, velocity) :\n",
    "        '''Constructor. Sets the velocity of the Swallow.'''\n",
    "\n",
    "        super().__init__('Swallow')\n",
    "        self.velocity = velocity\n",
    "\n",
    "    def about_me(self) :\n",
    "        '''Print info about this Swallow'''\n",
    "        print('Species:', self.species)\n",
    "        print('Airspeed-velocity (unladen): '\n",
    "              '{:.2g} m/s'.format(self.velocity))"
   ]
  },
  {
   "cell_type": "code",
   "execution_count": 224,
   "metadata": {},
   "outputs": [
    {
     "name": "stdout",
     "output_type": "stream",
     "text": [
      "Birds\n",
      "/Users/michaelalexander/cernbox/teaching/SUPAPYT/IntroductionToPython/Birds.py\n"
     ]
    }
   ],
   "source": [
    "# Then we can import it.\n",
    "\n",
    "import Birds\n",
    "print(Birds.__name__)\n",
    "print(Birds.__file__)"
   ]
  },
  {
   "cell_type": "code",
   "execution_count": 225,
   "metadata": {},
   "outputs": [
    {
     "name": "stdout",
     "output_type": "stream",
     "text": [
      "A set of classes to describe different species of bird.\n",
      "['Bird', 'Swallow', '__builtins__', '__cached__', '__doc__', '__file__', '__loader__', '__name__', '__package__', '__spec__']\n"
     ]
    }
   ],
   "source": [
    "# The string at the top of the file is the doc string\n",
    "# for the module itself.\n",
    "\n",
    "print(Birds.__doc__)\n",
    "print(dir(Birds))"
   ]
  },
  {
   "cell_type": "markdown",
   "metadata": {},
   "source": [
    "- So by putting variable/method/class definitions into separate files you create modules that can be imported and re-used.\n",
    "- The environment variable `PYTHONPATH` is a list of directories where python looks for modules.\n",
    "    - We can import the `Birds` module because the file `Birds.py` is in our current working directory.\n",
    "    - If we wanted to `import Birds` when working in another directory we'd need to add the directory containing `Birds.py` to `PYTHONPATH`.\n",
    "    - Any python modules in directories contained in `PYTHONPATH` are thus available system wide."
   ]
  },
  {
   "cell_type": "markdown",
   "metadata": {},
   "source": [
    "- Within python, `PYTHONPATH` is stored in the `path` variable in the `sys` module.\n",
    "- You can also access and edit this at runtime:"
   ]
  },
  {
   "cell_type": "code",
   "execution_count": 226,
   "metadata": {},
   "outputs": [
    {
     "name": "stdout",
     "output_type": "stream",
     "text": [
      "['/Users/michaelalexander/cernbox/teaching/SUPAPYT/IntroductionToPython', '', '/usr/local/Cellar/ipython/7.2.0/libexec/lib/python3.7/site-packages', '/usr/local/Cellar/ipython/7.2.0/libexec/vendor/lib/python3.7/site-packages', '/usr/local/Cellar/python/3.7.2/Frameworks/Python.framework/Versions/3.7/lib/python37.zip', '/usr/local/Cellar/python/3.7.2/Frameworks/Python.framework/Versions/3.7/lib/python3.7', '/usr/local/Cellar/python/3.7.2/Frameworks/Python.framework/Versions/3.7/lib/python3.7/lib-dynload', '/Users/michaelalexander/Library/Python/3.7/lib/python/site-packages', '/usr/local/lib/python3.7/site-packages', '/usr/local/Cellar/ipython/7.2.0/libexec/lib/python3.7/site-packages/IPython/extensions', '/Users/michaelalexander/.ipython', '/Users/michaelalexander/cernbox/projects/G-Fact/src/G-Fact/tools', '/usr/local/Cellar/root/6.12.06_2/lib/root/']\n"
     ]
    }
   ],
   "source": [
    "import sys\n",
    "print(sys.path)"
   ]
  },
  {
   "cell_type": "markdown",
   "metadata": {},
   "source": [
    "- As an example, we can move `Birds.py` to another directory, say called `Ornothology`, and rename it to `OtherBirds.py`.\n",
    "- We can do this using the `os` and `shutil` modules:"
   ]
  },
  {
   "cell_type": "code",
   "execution_count": 227,
   "metadata": {},
   "outputs": [
    {
     "data": {
      "text/plain": [
       "'Ornothology/OtherBirds.py'"
      ]
     },
     "execution_count": 227,
     "metadata": {},
     "output_type": "execute_result"
    }
   ],
   "source": [
    "import os, shutil\n",
    "\n",
    "dirname = 'Ornothology'\n",
    "if not os.path.exists(dirname) :\n",
    "    os.mkdir(dirname)\n",
    "shutil.copy('Birds.py', os.path.join(dirname, 'OtherBirds.py'))"
   ]
  },
  {
   "cell_type": "code",
   "execution_count": 228,
   "metadata": {},
   "outputs": [
    {
     "ename": "ModuleNotFoundError",
     "evalue": "No module named 'OtherBirds'",
     "output_type": "error",
     "traceback": [
      "\u001b[0;31m---------------------------------------------------------------------------\u001b[0m",
      "\u001b[0;31mModuleNotFoundError\u001b[0m                       Traceback (most recent call last)",
      "\u001b[0;32m<ipython-input-228-d8012c1d0ff6>\u001b[0m in \u001b[0;36m<module>\u001b[0;34m\u001b[0m\n\u001b[1;32m      1\u001b[0m \u001b[0;31m# This doesn't currently work.\u001b[0m\u001b[0;34m\u001b[0m\u001b[0;34m\u001b[0m\u001b[0;34m\u001b[0m\u001b[0m\n\u001b[0;32m----> 2\u001b[0;31m \u001b[0;32mimport\u001b[0m \u001b[0mOtherBirds\u001b[0m\u001b[0;34m\u001b[0m\u001b[0;34m\u001b[0m\u001b[0m\n\u001b[0m",
      "\u001b[0;31mModuleNotFoundError\u001b[0m: No module named 'OtherBirds'"
     ]
    }
   ],
   "source": [
    "# This doesn't currently work.\n",
    "import OtherBirds"
   ]
  },
  {
   "cell_type": "code",
   "execution_count": 229,
   "metadata": {},
   "outputs": [],
   "source": [
    "# Add the Ornothology directory to sys.path\n",
    "\n",
    "sys.path.append('./Ornothology')"
   ]
  },
  {
   "cell_type": "code",
   "execution_count": 230,
   "metadata": {},
   "outputs": [],
   "source": [
    "# Then we can import OtherBirds\n",
    "\n",
    "import OtherBirds"
   ]
  },
  {
   "cell_type": "code",
   "execution_count": 231,
   "metadata": {},
   "outputs": [
    {
     "name": "stdout",
     "output_type": "stream",
     "text": [
      "['Bird', 'Swallow', '__builtins__', '__cached__', '__doc__', '__file__', '__loader__', '__name__', '__package__', '__spec__']\n"
     ]
    }
   ],
   "source": [
    "# It contains the same functionality as \n",
    "# Birds.\n",
    "\n",
    "print(dir(OtherBirds))"
   ]
  },
  {
   "cell_type": "markdown",
   "metadata": {},
   "source": [
    "- This can be useful if you want to only make some modules available at runtime, eg, if they're still being debugged, or are not often used."
   ]
  },
  {
   "cell_type": "markdown",
   "metadata": {},
   "source": [
    "### Importing or Executing as Main"
   ]
  },
  {
   "cell_type": "markdown",
   "metadata": {},
   "source": [
    "- When a module is imported, all code in it is executed.\n",
    "- This means you normally want to keep only definitions (functions/classes/constants) in module files, and no \"main\" code (which uses the definitions to do something).\n",
    "- One trick to get around this is that whatever script is executed as the main code will have name (contained in the `__name__` variable) set to `'__main__'`, rather than the file name.\n",
    "- So if we add, at the end of Birds.py, the lines:"
   ]
  },
  {
   "cell_type": "code",
   "execution_count": 232,
   "metadata": {},
   "outputs": [
    {
     "name": "stdout",
     "output_type": "stream",
     "text": [
      "Appending to Birds.py\n"
     ]
    }
   ],
   "source": [
    "%%writefile -a Birds.py\n",
    "\n",
    "if __name__ == '__main__' :\n",
    "    sw = Swallow(1.23)\n",
    "    sw.about_me()"
   ]
  },
  {
   "cell_type": "markdown",
   "metadata": {},
   "source": [
    "- This section of code is only executed in the case that Birds.py is the main file passed to the python interpreter.\n",
    "- In a Jupyter notebook, you can make system calls (as at the commandline) by prefixing a statement with `!`.\n",
    "- So we can execute `Birds.py` as the main file by doing:"
   ]
  },
  {
   "cell_type": "code",
   "execution_count": 233,
   "metadata": {},
   "outputs": [
    {
     "name": "stdout",
     "output_type": "stream",
     "text": [
      "Species: Swallow\r\n",
      "Airspeed-velocity (unladen): 1.2 m/s\r\n"
     ]
    }
   ],
   "source": [
    "!python Birds.py"
   ]
  },
  {
   "cell_type": "markdown",
   "metadata": {},
   "source": [
    "- However, when importing Birds into another script the `__name__` variable within `Birds` is set to `'Birds'`, not `'__main__'`, and we get no output.\n",
    "- Having imported a module, a second `import` of the same module does nothing. If the module has changed, you have to use `importlib.reload` (though this is very rare):"
   ]
  },
  {
   "cell_type": "code",
   "execution_count": 234,
   "metadata": {},
   "outputs": [
    {
     "data": {
      "text/plain": [
       "<module 'Birds' from '/Users/michaelalexander/cernbox/teaching/SUPAPYT/IntroductionToPython/Birds.py'>"
      ]
     },
     "execution_count": 234,
     "metadata": {},
     "output_type": "execute_result"
    }
   ],
   "source": [
    "import importlib\n",
    "\n",
    "# This gives no output.\n",
    "importlib.reload(Birds)"
   ]
  },
  {
   "cell_type": "markdown",
   "metadata": {},
   "source": [
    "- This is very handy for testing code, as you can put test code after the \"`if __name__ == '__main__'`\" statement, and call the script directly only when testing.\n",
    "- Even if your script is only intended to be executed as the main programme it's a good idea to use this trick to separate any other functionality defined in the script from the main code."
   ]
  },
  {
   "cell_type": "markdown",
   "metadata": {},
   "source": [
    "## Packages"
   ]
  },
  {
   "cell_type": "markdown",
   "metadata": {},
   "source": [
    "- Packages are a means of organising groups of modules.\n",
    "- Modules are placed in a package directory, along with a `__init__.py` file.\n",
    "- The presence of the `__init__.py` file signals to python that the directory is a package. \n",
    "- `__init__.py` contains any code you want executed when the package is imported (it can be empty). "
   ]
  },
  {
   "cell_type": "markdown",
   "metadata": {},
   "source": [
    "- We can turn the `Ornothology` directory into a package by adding a `__init__.py` file.\n",
    "- Let's add the `Birds.py` module first:"
   ]
  },
  {
   "cell_type": "code",
   "execution_count": null,
   "metadata": {},
   "outputs": [],
   "source": [
    "import os, shutil\n",
    "\n",
    "# Make the directory.\n",
    "dirname = 'Ornothology'\n",
    "if not os.path.exists(dirname) :\n",
    "    os.mkdir(dirname)\n",
    "    \n",
    "# Copy Birds.py to the directory.\n",
    "shutil.copy('Birds.py', os.path.join(dirname, 'Birds.py'))"
   ]
  },
  {
   "cell_type": "markdown",
   "metadata": {},
   "source": [
    "- Next we make an empty `__init__.py` file. More on manipulating files [in the next section](#Files,-Input-&-Output)."
   ]
  },
  {
   "cell_type": "code",
   "execution_count": null,
   "metadata": {},
   "outputs": [],
   "source": [
    "with open(os.path.join(dirname, '__init__.py'), 'w') as finit :\n",
    "    pass"
   ]
  },
  {
   "cell_type": "code",
   "execution_count": null,
   "metadata": {},
   "outputs": [],
   "source": [
    "# Check the contents of Ornothology\n",
    "\n",
    "os.listdir(dirname)"
   ]
  },
  {
   "cell_type": "code",
   "execution_count": null,
   "metadata": {},
   "outputs": [],
   "source": [
    "# Now we can import the Ornothology package.\n",
    "\n",
    "import Ornothology"
   ]
  },
  {
   "cell_type": "code",
   "execution_count": null,
   "metadata": {},
   "outputs": [],
   "source": [
    "# Packages are treated identically to modules. \n",
    "\n",
    "type(Ornothology)"
   ]
  },
  {
   "cell_type": "code",
   "execution_count": null,
   "metadata": {},
   "outputs": [],
   "source": [
    "# Import the Birds module from the Ornothology package\n",
    "\n",
    "from Ornothology import Birds\n",
    "print(dir(Birds))"
   ]
  },
  {
   "cell_type": "code",
   "execution_count": null,
   "metadata": {},
   "outputs": [],
   "source": [
    "# Import the Swallow class from the OtherBirds submodule of \n",
    "# the Ornothology package.\n",
    "\n",
    "from Ornothology.OtherBirds import Swallow\n",
    "print(dir(Swallow))"
   ]
  },
  {
   "cell_type": "markdown",
   "metadata": {},
   "source": [
    "- Just like modules, any package that resides in a directory included in the `PYTHONPATH` environment variable can be imported. \n",
    "- Since they're just simple directory structures you can easily compress a package into a single file and share it."
   ]
  },
  {
   "cell_type": "markdown",
   "metadata": {},
   "source": [
    "## Files, Input & Output"
   ]
  },
  {
   "cell_type": "markdown",
   "metadata": {},
   "source": [
    "### Reading & Writing Files"
   ]
  },
  {
   "cell_type": "markdown",
   "metadata": {},
   "source": [
    "- You can open a text file using the `open` built-in method.\n",
    "- The open method takes a name for the file and a mode in which to open it.\n",
    "- The mode can be `'r'` for read, `'w'` for write, or `'a'` for append.\n",
    "- `'r'` is default.\n",
    "- If `'w'` or `'a'` is used for a file that doesn't exist then the file is created.\n",
    "- For non-text files, you can open the file in binary mode by adding `'b'` to any of these modes (eg, `'wb'` to write in binary mode). \n",
    "- A file written in binary mode should be read in binary mode (`'rb'`)."
   ]
  },
  {
   "cell_type": "code",
   "execution_count": 2,
   "metadata": {},
   "outputs": [
    {
     "name": "stdout",
     "output_type": "stream",
     "text": [
      "<_io.TextIOWrapper name='movie_titles.txt' mode='w' encoding='UTF-8'>\n",
      "<class '_io.TextIOWrapper'>\n"
     ]
    }
   ],
   "source": [
    "# Open a file in write mode.\n",
    "\n",
    "fmovies = open('movie_titles.txt', 'w')\n",
    "print(fmovies) \n",
    "print(type(fmovies))"
   ]
  },
  {
   "cell_type": "code",
   "execution_count": 3,
   "metadata": {},
   "outputs": [
    {
     "data": {
      "text/plain": [
       "10"
      ]
     },
     "execution_count": 3,
     "metadata": {},
     "output_type": "execute_result"
    }
   ],
   "source": [
    "# You can write to a file like so, for a single string.\n",
    "# Note you have to explicitly add the newline character.\n",
    "\n",
    "fmovies.write('The Quest\\n')"
   ]
  },
  {
   "cell_type": "code",
   "execution_count": 4,
   "metadata": {},
   "outputs": [],
   "source": [
    "# Or several strings at once, contained in a sequence:\n",
    "\n",
    "fmovies.writelines(['for the\\n', 'Holy Grail\\n'])"
   ]
  },
  {
   "cell_type": "code",
   "execution_count": 5,
   "metadata": {},
   "outputs": [],
   "source": [
    "# Then close the file:\n",
    "\n",
    "fmovies.close()"
   ]
  },
  {
   "cell_type": "markdown",
   "metadata": {},
   "source": [
    "- You always have to close a file when you're done with it."
   ]
  },
  {
   "cell_type": "code",
   "execution_count": 11,
   "metadata": {},
   "outputs": [
    {
     "name": "stdout",
     "output_type": "stream",
     "text": [
      "['The Quest\\n', 'for the\\n', 'Holy Grail\\n']\n"
     ]
    }
   ],
   "source": [
    "# Then open the file and read its contents.\n",
    "\n",
    "fmovies = open('movie_titles.txt')\n",
    "lines = fmovies.readlines()\n",
    "print(lines)"
   ]
  },
  {
   "cell_type": "code",
   "execution_count": 12,
   "metadata": {},
   "outputs": [
    {
     "name": "stdout",
     "output_type": "stream",
     "text": [
      "[]\n"
     ]
    }
   ],
   "source": [
    "# By reading all lines in the file the \"cursor\" \n",
    "# is at the end of the file, and another call to \n",
    "# readlines returns an empty list.\n",
    "\n",
    "lines = fmovies.readlines()\n",
    "print(lines)"
   ]
  },
  {
   "cell_type": "code",
   "execution_count": 13,
   "metadata": {},
   "outputs": [
    {
     "name": "stdout",
     "output_type": "stream",
     "text": [
      "['The Quest\\n', 'for the\\n', 'Holy Grail\\n']\n"
     ]
    }
   ],
   "source": [
    "# You can skip to a specific place in a file using \n",
    "# the \"seek\" method. Though it's rare to need to read\n",
    "# the same file more than once.\n",
    "\n",
    "fmovies.seek(0)\n",
    "lines = fmovies.readlines()\n",
    "print(lines)"
   ]
  },
  {
   "cell_type": "code",
   "execution_count": 14,
   "metadata": {},
   "outputs": [
    {
     "data": {
      "text/plain": [
       "'The Quest\\nfor the\\nHoly Grail\\n'"
      ]
     },
     "execution_count": 14,
     "metadata": {},
     "output_type": "execute_result"
    }
   ],
   "source": [
    "# Another way to read the whole file is using 'read',\n",
    "# which returns a single string.\n",
    "\n",
    "fmovies.seek(0)\n",
    "contents = fmovies.read()\n",
    "contents"
   ]
  },
  {
   "cell_type": "code",
   "execution_count": 16,
   "metadata": {},
   "outputs": [
    {
     "name": "stdout",
     "output_type": "stream",
     "text": [
      "['The Quest\\n', 'for the\\n', 'Holy Grail\\n']\n"
     ]
    }
   ],
   "source": [
    "# Alternatively, you can read one line at a time\n",
    "# with 'readline'. When you reach the end of the \n",
    "# file, this returns a blank string.\n",
    "\n",
    "fmovies.seek(0)\n",
    "line = fmovies.readline()\n",
    "lines = []\n",
    "while line :\n",
    "    lines.append(line)\n",
    "    line = fmovies.readline()\n",
    "print(lines)"
   ]
  },
  {
   "cell_type": "code",
   "execution_count": 17,
   "metadata": {},
   "outputs": [],
   "source": [
    "# Again, close the file when you're done with it.\n",
    "\n",
    "fmovies.close()"
   ]
  },
  {
   "cell_type": "code",
   "execution_count": 19,
   "metadata": {},
   "outputs": [
    {
     "name": "stdout",
     "output_type": "stream",
     "text": [
      "The Quest\n",
      "for the\n",
      "Holy Grail\n"
     ]
    }
   ],
   "source": [
    "# You can also iterate directly over the lines \n",
    "# in a file - similar to using 'readline' with\n",
    "# a while loop.\n",
    "\n",
    "fmovies = open('movie_titles.txt')\n",
    "for line in fmovies :\n",
    "    print(line, end='')\n",
    "fmovies.close()"
   ]
  },
  {
   "cell_type": "markdown",
   "metadata": {},
   "source": [
    "- It's often more efficient to loop over each line in a file in turn rather reading the whole file into memory with `read` or `readlines`, particularly if the file is large."
   ]
  },
  {
   "cell_type": "markdown",
   "metadata": {},
   "source": [
    "### The `with` Statement"
   ]
  },
  {
   "cell_type": "markdown",
   "metadata": {},
   "source": [
    "- The `with` keyword is useful when dealing with files.\n",
    "- It enables automatic cleanup actions to be performed.\n",
    "- In the case of files this simply closes the file.\n",
    "- Cleanup actions are performed after the block of code following the `with` statement is executed."
   ]
  },
  {
   "cell_type": "code",
   "execution_count": 22,
   "metadata": {},
   "outputs": [],
   "source": [
    "# Open a file using 'with' and write to it.\n",
    "\n",
    "with open('movie_titles.txt', 'w') as fmovies :\n",
    "    fmovies.writelines(['The Quest\\n', 'for the\\n', 'Holy Grail\\n'])"
   ]
  },
  {
   "cell_type": "code",
   "execution_count": 23,
   "metadata": {},
   "outputs": [
    {
     "name": "stdout",
     "output_type": "stream",
     "text": [
      "<class '_io.TextIOWrapper'>\n",
      "True\n"
     ]
    }
   ],
   "source": [
    "# Note that the variable f is still in scope, but is\n",
    "# a closed file.\n",
    "\n",
    "print(type(fmovies))\n",
    "print(fmovies.closed)"
   ]
  },
  {
   "cell_type": "markdown",
   "metadata": {},
   "source": [
    "- For files, this just means you don't have to remember to always call `f.close()`.\n",
    "- Cleanup actions are performed even if the code following the `with` statement raises an exception.\n",
    "- This is particularly useful if dealing with files in loops, as open files can eat up memory, and there's generally a limit on how many files a system can have open at once."
   ]
  },
  {
   "cell_type": "markdown",
   "metadata": {},
   "source": [
    "### File Parsing"
   ]
  },
  {
   "cell_type": "markdown",
   "metadata": {},
   "source": [
    "- The ease of manipulating files and strings in python makes it ideal for parsing files.\n",
    "- Eg, parsing the contents of a text file into a `dict`:"
   ]
  },
  {
   "cell_type": "code",
   "execution_count": 25,
   "metadata": {},
   "outputs": [],
   "source": [
    "# Lets make a file.\n",
    "\n",
    "with open('phonebook.txt', 'w') as fphone :\n",
    "    fphone.write('''Sir Lancelot 2343\n",
    "Sir Robin 8945\n",
    "Sir Gallahad 2302''')"
   ]
  },
  {
   "cell_type": "code",
   "execution_count": 26,
   "metadata": {},
   "outputs": [
    {
     "name": "stdout",
     "output_type": "stream",
     "text": [
      "{'Sir Lancelot': 2343, 'Sir Robin': 8945, 'Sir Gallahad': 2302}\n"
     ]
    }
   ],
   "source": [
    "# Now open it.\n",
    "\n",
    "phonebook = {}\n",
    "with open('phonebook.txt') as fphone :\n",
    "\n",
    "    # Loop over lines in the file.\n",
    "    for line in fphone :\n",
    "\n",
    "        # The 'split' method divides a string into a list\n",
    "        # of words.\n",
    "        splitLine = line.split()\n",
    "        name = splitLine[0] + ' ' + splitLine[1]\n",
    "        number = int(splitLine[2])\n",
    "        phonebook[name] = number\n",
    "print(phonebook)"
   ]
  },
  {
   "cell_type": "markdown",
   "metadata": {},
   "source": [
    "- This way you can parse text into python objects which can be used elsewhere in your code.\n",
    "- The applications of this are limitless!"
   ]
  },
  {
   "cell_type": "markdown",
   "metadata": {},
   "source": [
    "### Data Persistency"
   ]
  },
  {
   "cell_type": "markdown",
   "metadata": {},
   "source": [
    "- It's very easy to read and write strings from files, but what about python objects?\n",
    "- All built-in types support casting to string.\n",
    "- One way to go is simply to convert to a string and write it to a file in some python readable format.\n",
    "- There are two methods for converting to strings in python: `str()` and `repr()`.\n",
    "- Their behaviour can be different:\n",
    "    - `repr` should yield an unambiguous representation of an object which can be understood by the python interpreter.\n",
    "    - `str` yields a string that's more easily read by humans.\n",
    "- For instance, look at the `datetime.date` class:"
   ]
  },
  {
   "cell_type": "code",
   "execution_count": 27,
   "metadata": {},
   "outputs": [
    {
     "name": "stdout",
     "output_type": "stream",
     "text": [
      "str : 2019-01-23\n",
      "repr: datetime.date(2019, 1, 23)\n"
     ]
    }
   ],
   "source": [
    "import datetime\n",
    "\n",
    "today = datetime.date.today()\n",
    "\n",
    "print('str :', str(today))\n",
    "print('repr:', repr(today))"
   ]
  },
  {
   "cell_type": "markdown",
   "metadata": {},
   "source": [
    "- By default, `print` uses `str`, while output at the interactive prompt uses `repr`."
   ]
  },
  {
   "cell_type": "code",
   "execution_count": 28,
   "metadata": {},
   "outputs": [
    {
     "name": "stdout",
     "output_type": "stream",
     "text": [
      "2019-01-23\n"
     ]
    }
   ],
   "source": [
    "print(today)"
   ]
  },
  {
   "cell_type": "code",
   "execution_count": 29,
   "metadata": {},
   "outputs": [
    {
     "data": {
      "text/plain": [
       "datetime.date(2019, 1, 23)"
      ]
     },
     "execution_count": 29,
     "metadata": {},
     "output_type": "execute_result"
    }
   ],
   "source": [
    "today"
   ]
  },
  {
   "cell_type": "markdown",
   "metadata": {},
   "source": [
    "- The `eval` built-in function takes a string and evaluates it with the python interpreter.\n",
    "- In principle, `eval(repr(obj)) == obj`."
   ]
  },
  {
   "cell_type": "code",
   "execution_count": 30,
   "metadata": {},
   "outputs": [
    {
     "data": {
      "text/plain": [
       "True"
      ]
     },
     "execution_count": 30,
     "metadata": {},
     "output_type": "execute_result"
    }
   ],
   "source": [
    "eval(repr(today)) == today"
   ]
  },
  {
   "cell_type": "markdown",
   "metadata": {},
   "source": [
    "- The string returned by `str` isn't necessarily valid python:"
   ]
  },
  {
   "cell_type": "code",
   "execution_count": 31,
   "metadata": {},
   "outputs": [
    {
     "ename": "SyntaxError",
     "evalue": "invalid token (<string>, line 1)",
     "output_type": "error",
     "traceback": [
      "Traceback \u001b[0;36m(most recent call last)\u001b[0m:\n",
      "  File \u001b[1;32m\"/usr/local/Cellar/ipython/7.2.0/libexec/lib/python3.7/site-packages/IPython/core/interactiveshell.py\"\u001b[0m, line \u001b[1;32m3267\u001b[0m, in \u001b[1;35mrun_code\u001b[0m\n    exec(code_obj, self.user_global_ns, self.user_ns)\n",
      "\u001b[0;36m  File \u001b[0;32m\"<ipython-input-31-5f2f1ba24099>\"\u001b[0;36m, line \u001b[0;32m1\u001b[0;36m, in \u001b[0;35m<module>\u001b[0;36m\u001b[0m\n\u001b[0;31m    eval(str(today)) == today\u001b[0m\n",
      "\u001b[0;36m  File \u001b[0;32m\"<string>\"\u001b[0;36m, line \u001b[0;32m1\u001b[0m\n\u001b[0;31m    2019-01-23\u001b[0m\n\u001b[0m          ^\u001b[0m\n\u001b[0;31mSyntaxError\u001b[0m\u001b[0;31m:\u001b[0m invalid token\n"
     ]
    }
   ],
   "source": [
    "eval(str(today)) == today"
   ]
  },
  {
   "cell_type": "markdown",
   "metadata": {},
   "source": [
    "- So for data persistency, you should use `repr()` rather than `str()`."
   ]
  },
  {
   "cell_type": "markdown",
   "metadata": {},
   "source": [
    "- To then save to a file you can do something like:"
   ]
  },
  {
   "cell_type": "code",
   "execution_count": 32,
   "metadata": {},
   "outputs": [],
   "source": [
    "with open('savethedate.py','w') as fdate :\n",
    "    # The module must import datetime to be able to \n",
    "    # make date objects.\n",
    "    fdate.write('import datetime\\n')\n",
    "    fdate.write('today = ' + repr(today) + '\\n')"
   ]
  },
  {
   "cell_type": "markdown",
   "metadata": {},
   "source": [
    "- Check the contents of `savethedate.py`:"
   ]
  },
  {
   "cell_type": "code",
   "execution_count": 33,
   "metadata": {},
   "outputs": [
    {
     "name": "stdout",
     "output_type": "stream",
     "text": [
      "import datetime\n",
      "today = datetime.date(2019, 1, 23)\n",
      "\n"
     ]
    }
   ],
   "source": [
    "with open('savethedate.py') as fdate :\n",
    "    print(fdate.read())"
   ]
  },
  {
   "cell_type": "markdown",
   "metadata": {},
   "source": [
    "- As `savethedate.py` is then a python readable file, it can be imported as a module:"
   ]
  },
  {
   "cell_type": "code",
   "execution_count": 34,
   "metadata": {},
   "outputs": [
    {
     "name": "stdout",
     "output_type": "stream",
     "text": [
      "2019-01-23\n",
      "True\n"
     ]
    }
   ],
   "source": [
    "import savethedate\n",
    "print(savethedate.today)\n",
    "print(savethedate.today == today)"
   ]
  },
  {
   "cell_type": "markdown",
   "metadata": {},
   "source": [
    "- This has the advantage that the saved file is python readable without any extra work.\n",
    "- However, the technique of writing files in a python readable manner is prone to error.\n",
    "- Also, while `repr()` works on all built-in types, it doesn't work on everything.\n",
    "- For user-defined types you'd need to implement a `__repr__` member method which returns a string representation of the object that can be understood by the python interpreter and will reproduce exactly the same object.\n",
    "- So a more versatile method is desirable."
   ]
  },
  {
   "cell_type": "markdown",
   "metadata": {},
   "source": [
    "### Pickling"
   ]
  },
  {
   "cell_type": "markdown",
   "metadata": {},
   "source": [
    "- The `pickle` module provides such functionality.\n",
    "- It can write all built-in and most user definted types to a string or file.\n",
    "- When using `pickle` to write to a file, it must be opened in binary mode (`'wb'`).\n",
    "- The `dump` and `dumps` functions can be used to save objects, while `load` and `loads` can be used to retrieve them."
   ]
  },
  {
   "cell_type": "code",
   "execution_count": 35,
   "metadata": {},
   "outputs": [],
   "source": [
    "# First write to a file with pickle.dump\n",
    "\n",
    "import pickle\n",
    "\n",
    "with open('savethedate.pkl', 'wb') as fdate :\n",
    "    pickle.dump(today, fdate)"
   ]
  },
  {
   "cell_type": "markdown",
   "metadata": {},
   "source": [
    "- Check the contents of `savethedate.pkl`:"
   ]
  },
  {
   "cell_type": "code",
   "execution_count": 36,
   "metadata": {},
   "outputs": [
    {
     "name": "stdout",
     "output_type": "stream",
     "text": [
      "b'\\x80\\x03cdatetime\\ndate\\nq\\x00C\\x04\\x07\\xe3\\x01\\x17q\\x01\\x85q\\x02Rq\\x03.'\n"
     ]
    }
   ],
   "source": [
    "with open('savethedate.pkl', 'rb') as fdate :\n",
    "    print(fdate.read())"
   ]
  },
  {
   "cell_type": "markdown",
   "metadata": {},
   "source": [
    "- You can also dump the pickled object to a string rather than a file using `dumps`.\n",
    "- This string is what's written to the file when using `dump`."
   ]
  },
  {
   "cell_type": "code",
   "execution_count": 37,
   "metadata": {},
   "outputs": [
    {
     "data": {
      "text/plain": [
       "b'\\x80\\x03cdatetime\\ndate\\nq\\x00C\\x04\\x07\\xe3\\x01\\x17q\\x01\\x85q\\x02Rq\\x03.'"
      ]
     },
     "execution_count": 37,
     "metadata": {},
     "output_type": "execute_result"
    }
   ],
   "source": [
    "today_str = pickle.dumps(today)\n",
    "today_str"
   ]
  },
  {
   "cell_type": "markdown",
   "metadata": {},
   "source": [
    "- Then recover the object with `load` from a file - remember to open in binary mode - or `loads` from a string:"
   ]
  },
  {
   "cell_type": "code",
   "execution_count": 38,
   "metadata": {},
   "outputs": [
    {
     "name": "stdout",
     "output_type": "stream",
     "text": [
      "True\n"
     ]
    }
   ],
   "source": [
    "# Load from the file.\n",
    "\n",
    "with open('savethedate.pkl', 'rb') as fdate :\n",
    "    today_load = pickle.load(fdate)\n",
    "print(today_load == today)"
   ]
  },
  {
   "cell_type": "code",
   "execution_count": 39,
   "metadata": {},
   "outputs": [
    {
     "name": "stdout",
     "output_type": "stream",
     "text": [
      "True\n"
     ]
    }
   ],
   "source": [
    "# Load from a string.\n",
    "\n",
    "today_load = pickle.loads(today_str)\n",
    "print(today_load == today)"
   ]
  },
  {
   "cell_type": "markdown",
   "metadata": {},
   "source": [
    "- For a user defined type:"
   ]
  },
  {
   "cell_type": "code",
   "execution_count": 40,
   "metadata": {},
   "outputs": [],
   "source": [
    "from Birds import Swallow\n",
    "\n",
    "s = Swallow(8.23)\n",
    "with open('PickledSwallow.pkl', 'wb') as fpickle :\n",
    "    pickle.dump(s, fpickle)"
   ]
  },
  {
   "cell_type": "markdown",
   "metadata": {},
   "source": [
    "- One advantage of pickling is that you don't necessarily need to know the type of the object you're unpickling - the relevant class will be automatically imported (though obviously it must be possible to import the class)."
   ]
  },
  {
   "cell_type": "code",
   "execution_count": 41,
   "metadata": {},
   "outputs": [
    {
     "name": "stdout",
     "output_type": "stream",
     "text": [
      "Species: Swallow\n",
      "Airspeed-velocity (unladen): 8.2 m/s\n",
      "True\n"
     ]
    }
   ],
   "source": [
    "# Again, open the file in binary mode.\n",
    "with open('PickledSwallow.pkl', 'rb') as fpickle :\n",
    "    s2 = pickle.load(fpickle)\n",
    "s2.about_me()\n",
    "print(s2.velocity == s.velocity)"
   ]
  },
  {
   "cell_type": "markdown",
   "metadata": {},
   "source": [
    "- You can dump and load several objects to and from the same file.\n",
    "- This lets you save, store & send objects in a very generic manner."
   ]
  },
  {
   "cell_type": "markdown",
   "metadata": {},
   "source": [
    "### Commandline Arguments"
   ]
  },
  {
   "cell_type": "markdown",
   "metadata": {},
   "source": [
    "- In addition to reading in data from a file, data can be passed at execution of a script via commandline arguments.\n",
    "- This is done by following your script name with whatever arguments you want to pass to it:"
   ]
  },
  {
   "cell_type": "raw",
   "metadata": {},
   "source": [
    "python my_script.py arg1 arg2 arg3 ..."
   ]
  },
  {
   "cell_type": "markdown",
   "metadata": {},
   "source": [
    "- Arguments are then stored as a list of strings in the `argv` variable of the `sys` module."
   ]
  },
  {
   "cell_type": "code",
   "execution_count": 42,
   "metadata": {},
   "outputs": [
    {
     "name": "stdout",
     "output_type": "stream",
     "text": [
      "['/usr/local/Cellar/ipython/7.2.0/libexec/vendor/lib/python3.7/site-packages/ipykernel_launcher.py', '-f', '/Users/michaelalexander/Library/Jupyter/runtime/kernel-634b05c1-de93-4c85-b4ae-2b415656b649.json']\n"
     ]
    }
   ],
   "source": [
    "import sys\n",
    "print(sys.argv)"
   ]
  },
  {
   "cell_type": "markdown",
   "metadata": {},
   "source": [
    "- We see that when the python interpreter was started for this notebook various arguments were passed to it.\n",
    "- The first element in `sys.argv` is always the name of the script that was passed to the python interpreter.\n",
    "- You can access `sys.argv` like you would any other `list`.\n",
    "- This allows you to write more generic and useful scripts, which can be configured by commandline arguments at execution."
   ]
  },
  {
   "cell_type": "markdown",
   "metadata": {},
   "source": [
    "- Eg, a simple script to list a directory's contents:"
   ]
  },
  {
   "cell_type": "code",
   "execution_count": 43,
   "metadata": {},
   "outputs": [
    {
     "name": "stdout",
     "output_type": "stream",
     "text": [
      "Overwriting listdir.py\n"
     ]
    }
   ],
   "source": [
    "%%writefile listdir.py\n",
    "\n",
    "import os, sys\n",
    "\n",
    "print(os.listdir(sys.argv[1]))"
   ]
  },
  {
   "cell_type": "markdown",
   "metadata": {},
   "source": [
    "- This can then be called like:"
   ]
  },
  {
   "cell_type": "code",
   "execution_count": 47,
   "metadata": {},
   "outputs": [
    {
     "name": "stdout",
     "output_type": "stream",
     "text": [
      "['personal', '.DS_Store', 'papers', 'projects', 'R1-2Perf', '.owncloudsync.log', 'DSC03480.JPG', 'admin', '._sync_fe4d1d92c5ed.db', '._sync_fe4d1d92c5ed.db-shm', '._sync_fe4d1d92c5ed.db-wal', 'Calibre Library', 'presentations', 'stripping', 'teaching', 'dast', 'keys', '.owncloudsync.log.1', 'travel', 'thinking-rock', 'reviews']\r\n"
     ]
    }
   ],
   "source": [
    "!python listdir.py ~/cernbox"
   ]
  },
  {
   "cell_type": "markdown",
   "metadata": {},
   "source": [
    "- Which prints a list containing the contents of ~/cernbox."
   ]
  },
  {
   "cell_type": "markdown",
   "metadata": {},
   "source": [
    "- The `ArgumentParser` class in the [`argparse`](https://docs.python.org/2/library/argparse.html#module-argparse) module provides useful functionality for parsing commandline arguments.\n",
    "- I use it in almost every script I write!"
   ]
  },
  {
   "cell_type": "markdown",
   "metadata": {},
   "source": [
    "----"
   ]
  },
  {
   "cell_type": "markdown",
   "metadata": {},
   "source": [
    "<img src = 'https://imgs.xkcd.com/comics/new_pet.png' alt = 'new pet' width = 400>"
   ]
  },
  {
   "cell_type": "markdown",
   "metadata": {},
   "source": [
    "## Exceptions"
   ]
  },
  {
   "cell_type": "markdown",
   "metadata": {},
   "source": [
    "- We've seen a few types of exception already.\n",
    "- These are raised when python can't evaluate an expression, and terminates execution of the script."
   ]
  },
  {
   "cell_type": "code",
   "execution_count": 48,
   "metadata": {},
   "outputs": [
    {
     "ename": "NameError",
     "evalue": "name 'roderick' is not defined",
     "output_type": "error",
     "traceback": [
      "\u001b[0;31m---------------------------------------------------------------------------\u001b[0m",
      "\u001b[0;31mNameError\u001b[0m                                 Traceback (most recent call last)",
      "\u001b[0;32m<ipython-input-48-3f21693d9e21>\u001b[0m in \u001b[0;36m<module>\u001b[0;34m\u001b[0m\n\u001b[0;32m----> 1\u001b[0;31m \u001b[0mprint\u001b[0m\u001b[0;34m(\u001b[0m\u001b[0mroderick\u001b[0m\u001b[0;34m)\u001b[0m\u001b[0;34m\u001b[0m\u001b[0;34m\u001b[0m\u001b[0m\n\u001b[0m",
      "\u001b[0;31mNameError\u001b[0m: name 'roderick' is not defined"
     ]
    }
   ],
   "source": [
    "print(roderick)"
   ]
  },
  {
   "cell_type": "code",
   "execution_count": 49,
   "metadata": {},
   "outputs": [
    {
     "ename": "ValueError",
     "evalue": "invalid literal for int() with base 10: 'a'",
     "output_type": "error",
     "traceback": [
      "\u001b[0;31m---------------------------------------------------------------------------\u001b[0m",
      "\u001b[0;31mValueError\u001b[0m                                Traceback (most recent call last)",
      "\u001b[0;32m<ipython-input-49-233884bacd4e>\u001b[0m in \u001b[0;36m<module>\u001b[0;34m\u001b[0m\n\u001b[0;32m----> 1\u001b[0;31m \u001b[0mint\u001b[0m\u001b[0;34m(\u001b[0m\u001b[0;34m'a'\u001b[0m\u001b[0;34m)\u001b[0m\u001b[0;34m\u001b[0m\u001b[0;34m\u001b[0m\u001b[0m\n\u001b[0m",
      "\u001b[0;31mValueError\u001b[0m: invalid literal for int() with base 10: 'a'"
     ]
    }
   ],
   "source": [
    "int('a')"
   ]
  },
  {
   "cell_type": "code",
   "execution_count": 50,
   "metadata": {},
   "outputs": [
    {
     "ename": "TypeError",
     "evalue": "must be real number, not str",
     "output_type": "error",
     "traceback": [
      "\u001b[0;31m---------------------------------------------------------------------------\u001b[0m",
      "\u001b[0;31mTypeError\u001b[0m                                 Traceback (most recent call last)",
      "\u001b[0;32m<ipython-input-50-6f7c8e13f9a5>\u001b[0m in \u001b[0;36m<module>\u001b[0;34m\u001b[0m\n\u001b[1;32m      1\u001b[0m \u001b[0;32mimport\u001b[0m \u001b[0mmath\u001b[0m\u001b[0;34m\u001b[0m\u001b[0;34m\u001b[0m\u001b[0m\n\u001b[0;32m----> 2\u001b[0;31m \u001b[0mmath\u001b[0m\u001b[0;34m.\u001b[0m\u001b[0msqrt\u001b[0m\u001b[0;34m(\u001b[0m\u001b[0;34m'a'\u001b[0m\u001b[0;34m)\u001b[0m\u001b[0;34m\u001b[0m\u001b[0;34m\u001b[0m\u001b[0m\n\u001b[0m",
      "\u001b[0;31mTypeError\u001b[0m: must be real number, not str"
     ]
    }
   ],
   "source": [
    "import math\n",
    "math.sqrt('a')"
   ]
  },
  {
   "cell_type": "code",
   "execution_count": 51,
   "metadata": {},
   "outputs": [
    {
     "ename": "ZeroDivisionError",
     "evalue": "division by zero",
     "output_type": "error",
     "traceback": [
      "\u001b[0;31m---------------------------------------------------------------------------\u001b[0m",
      "\u001b[0;31mZeroDivisionError\u001b[0m                         Traceback (most recent call last)",
      "\u001b[0;32m<ipython-input-51-9e1622b385b6>\u001b[0m in \u001b[0;36m<module>\u001b[0;34m\u001b[0m\n\u001b[0;32m----> 1\u001b[0;31m \u001b[0;36m1\u001b[0m\u001b[0;34m/\u001b[0m\u001b[0;36m0\u001b[0m\u001b[0;34m\u001b[0m\u001b[0;34m\u001b[0m\u001b[0m\n\u001b[0m",
      "\u001b[0;31mZeroDivisionError\u001b[0m: division by zero"
     ]
    }
   ],
   "source": [
    "1/0"
   ]
  },
  {
   "cell_type": "code",
   "execution_count": 53,
   "metadata": {},
   "outputs": [
    {
     "ename": "SyntaxError",
     "evalue": "invalid syntax (<ipython-input-53-8b5bf96cdd43>, line 1)",
     "output_type": "error",
     "traceback": [
      "\u001b[0;36m  File \u001b[0;32m\"<ipython-input-53-8b5bf96cdd43>\"\u001b[0;36m, line \u001b[0;32m1\u001b[0m\n\u001b[0;31m    'Don't forget to escape!'\u001b[0m\n\u001b[0m         ^\u001b[0m\n\u001b[0;31mSyntaxError\u001b[0m\u001b[0;31m:\u001b[0m invalid syntax\n"
     ]
    }
   ],
   "source": [
    "'Don't forget to escape!'"
   ]
  },
  {
   "cell_type": "code",
   "execution_count": 55,
   "metadata": {},
   "outputs": [
    {
     "ename": "ModuleNotFoundError",
     "evalue": "No module named 'spam'",
     "output_type": "error",
     "traceback": [
      "\u001b[0;31m---------------------------------------------------------------------------\u001b[0m",
      "\u001b[0;31mModuleNotFoundError\u001b[0m                       Traceback (most recent call last)",
      "\u001b[0;32m<ipython-input-55-bdb680daeb9f>\u001b[0m in \u001b[0;36m<module>\u001b[0;34m\u001b[0m\n\u001b[0;32m----> 1\u001b[0;31m \u001b[0;32mimport\u001b[0m \u001b[0mspam\u001b[0m\u001b[0;34m\u001b[0m\u001b[0;34m\u001b[0m\u001b[0m\n\u001b[0m",
      "\u001b[0;31mModuleNotFoundError\u001b[0m: No module named 'spam'"
     ]
    }
   ],
   "source": [
    "import spam"
   ]
  },
  {
   "cell_type": "markdown",
   "metadata": {},
   "source": [
    "- Exceptions are actually instances of exception classes as well.\n",
    "- Users can thus define their own exception classes.\n",
    "- All standard exceptions are kept in `builtins`."
   ]
  },
  {
   "cell_type": "code",
   "execution_count": 58,
   "metadata": {},
   "outputs": [
    {
     "name": "stdout",
     "output_type": "stream",
     "text": [
      "['ArithmeticError', 'AssertionError', 'AttributeError', 'BaseException', 'BlockingIOError', 'BrokenPipeError', 'BufferError', 'BytesWarning', 'ChildProcessError', 'ConnectionAbortedError', 'ConnectionError', 'ConnectionRefusedError', 'ConnectionResetError', 'DeprecationWarning', 'EOFError', 'Ellipsis', 'EnvironmentError', 'Exception', 'False', 'FileExistsError', 'FileNotFoundError', 'FloatingPointError', 'FutureWarning', 'GeneratorExit', 'IOError', 'ImportError', 'ImportWarning', 'IndentationError', 'IndexError', 'InterruptedError', 'IsADirectoryError', 'KeyError', 'KeyboardInterrupt', 'LookupError', 'MemoryError', 'ModuleNotFoundError', 'NameError', 'None', 'NotADirectoryError', 'NotImplemented', 'NotImplementedError', 'OSError', 'OverflowError', 'PendingDeprecationWarning', 'PermissionError', 'ProcessLookupError', 'RecursionError', 'ReferenceError', 'ResourceWarning', 'RuntimeError', 'RuntimeWarning', 'StopAsyncIteration', 'StopIteration', 'SyntaxError', 'SyntaxWarning', 'SystemError', 'SystemExit', 'TabError', 'TimeoutError', 'True', 'TypeError', 'UnboundLocalError', 'UnicodeDecodeError', 'UnicodeEncodeError', 'UnicodeError', 'UnicodeTranslateError', 'UnicodeWarning', 'UserWarning', 'ValueError', 'Warning', 'ZeroDivisionError', '__IPYTHON__', '__build_class__', '__debug__', '__doc__', '__import__', '__loader__', '__name__', '__package__', '__spec__', 'abs', 'all', 'any', 'ascii', 'bin', 'bool', 'breakpoint', 'bytearray', 'bytes', 'callable', 'chr', 'classmethod', 'compile', 'complex', 'copyright', 'credits', 'delattr', 'dict', 'dir', 'display', 'divmod', 'enumerate', 'eval', 'exec', 'filter', 'float', 'format', 'frozenset', 'get_ipython', 'getattr', 'globals', 'hasattr', 'hash', 'help', 'hex', 'id', 'input', 'int', 'isinstance', 'issubclass', 'iter', 'len', 'license', 'list', 'locals', 'map', 'max', 'memoryview', 'min', 'next', 'object', 'oct', 'open', 'ord', 'pow', 'print', 'property', 'range', 'repr', 'reversed', 'round', 'set', 'setattr', 'slice', 'sorted', 'staticmethod', 'str', 'sum', 'super', 'tuple', 'type', 'vars', 'zip']\n"
     ]
    }
   ],
   "source": [
    "import builtins\n",
    "print(dir(builtins))"
   ]
  },
  {
   "cell_type": "markdown",
   "metadata": {},
   "source": [
    "- This includes an `Exception` base class. You can inherit from this to define your own exception classes."
   ]
  },
  {
   "cell_type": "code",
   "execution_count": 57,
   "metadata": {},
   "outputs": [
    {
     "name": "stdout",
     "output_type": "stream",
     "text": [
      "Help on class Exception in module builtins:\n",
      "\n",
      "class Exception(BaseException)\n",
      " |  Common base class for all non-exit exceptions.\n",
      " |  \n",
      " |  Method resolution order:\n",
      " |      Exception\n",
      " |      BaseException\n",
      " |      object\n",
      " |  \n",
      " |  Methods defined here:\n",
      " |  \n",
      " |  __init__(self, /, *args, **kwargs)\n",
      " |      Initialize self.  See help(type(self)) for accurate signature.\n",
      " |  \n",
      " |  ----------------------------------------------------------------------\n",
      " |  Static methods defined here:\n",
      " |  \n",
      " |  __new__(*args, **kwargs) from builtins.type\n",
      " |      Create and return a new object.  See help(type) for accurate signature.\n",
      " |  \n",
      " |  ----------------------------------------------------------------------\n",
      " |  Methods inherited from BaseException:\n",
      " |  \n",
      " |  __delattr__(self, name, /)\n",
      " |      Implement delattr(self, name).\n",
      " |  \n",
      " |  __getattribute__(self, name, /)\n",
      " |      Return getattr(self, name).\n",
      " |  \n",
      " |  __reduce__(...)\n",
      " |      Helper for pickle.\n",
      " |  \n",
      " |  __repr__(self, /)\n",
      " |      Return repr(self).\n",
      " |  \n",
      " |  __setattr__(self, name, value, /)\n",
      " |      Implement setattr(self, name, value).\n",
      " |  \n",
      " |  __setstate__(...)\n",
      " |  \n",
      " |  __str__(self, /)\n",
      " |      Return str(self).\n",
      " |  \n",
      " |  with_traceback(...)\n",
      " |      Exception.with_traceback(tb) --\n",
      " |      set self.__traceback__ to tb and return self.\n",
      " |  \n",
      " |  ----------------------------------------------------------------------\n",
      " |  Data descriptors inherited from BaseException:\n",
      " |  \n",
      " |  __cause__\n",
      " |      exception cause\n",
      " |  \n",
      " |  __context__\n",
      " |      exception context\n",
      " |  \n",
      " |  __dict__\n",
      " |  \n",
      " |  __suppress_context__\n",
      " |  \n",
      " |  __traceback__\n",
      " |  \n",
      " |  args\n",
      "\n"
     ]
    }
   ],
   "source": [
    "help(Exception)"
   ]
  },
  {
   "cell_type": "markdown",
   "metadata": {},
   "source": [
    "- As ever, you can use `help` on any exception for more info."
   ]
  },
  {
   "cell_type": "markdown",
   "metadata": {},
   "source": [
    "- In some cases you don't want your code to terminate (at least immediately) on encountering an exception.\n",
    "- You may want to examine what went wrong, or try something else instead.\n",
    "- To catch exceptions python has the `try/except` syntax.\n",
    "- It's fairly similar to that of `if/elif/else`.\n",
    "- The code block following `try` is first evaluated.\n",
    "- If this raises an exception, it can be handled by an `except` statement and following block of code.\n",
    "- An exception type can follow the `except` keyword to handle exceptions of that specific type.\n",
    "- Any number of `except` statements with different exception types can follow a `try` statement."
   ]
  },
  {
   "cell_type": "code",
   "execution_count": 60,
   "metadata": {},
   "outputs": [],
   "source": [
    "def print_inverse(x) :\n",
    "    try :\n",
    "        print(1./x)\n",
    "    # Catch when x is of the wrong type.\n",
    "    except TypeError :\n",
    "        print(x, 'is a', type(x), \\\n",
    "        ', not a number!')\n",
    "    # Catch when x is zero.\n",
    "    except ZeroDivisionError :\n",
    "        print(\"Can't divide by zero!\")"
   ]
  },
  {
   "cell_type": "code",
   "execution_count": 61,
   "metadata": {},
   "outputs": [
    {
     "name": "stdout",
     "output_type": "stream",
     "text": [
      "0.16666666666666666\n"
     ]
    }
   ],
   "source": [
    "print_inverse(6.)"
   ]
  },
  {
   "cell_type": "code",
   "execution_count": 62,
   "metadata": {
    "scrolled": true
   },
   "outputs": [
    {
     "name": "stdout",
     "output_type": "stream",
     "text": [
      "6. is a <class 'str'> , not a number!\n"
     ]
    }
   ],
   "source": [
    "print_inverse('6.')"
   ]
  },
  {
   "cell_type": "code",
   "execution_count": 63,
   "metadata": {},
   "outputs": [
    {
     "name": "stdout",
     "output_type": "stream",
     "text": [
      "Can't divide by zero!\n"
     ]
    }
   ],
   "source": [
    "print_inverse(0.)"
   ]
  },
  {
   "cell_type": "markdown",
   "metadata": {},
   "source": [
    "- To catch any exception you can use `except` without a type specified:"
   ]
  },
  {
   "cell_type": "code",
   "execution_count": 64,
   "metadata": {},
   "outputs": [],
   "source": [
    "def print_inverse(x) :\n",
    "    try :\n",
    "        print(1./x)\n",
    "    except :\n",
    "        print(\"That didn't work!\")"
   ]
  },
  {
   "cell_type": "code",
   "execution_count": 67,
   "metadata": {},
   "outputs": [
    {
     "name": "stdout",
     "output_type": "stream",
     "text": [
      "0.16666666666666666\n",
      "That didn't work!\n",
      "That didn't work!\n"
     ]
    }
   ],
   "source": [
    "print_inverse(6.)\n",
    "print_inverse('6.')\n",
    "print_inverse(0.)"
   ]
  },
  {
   "cell_type": "markdown",
   "metadata": {},
   "source": [
    "- You can raise an exception with the `raise` keyword followed by an exception instance.\n",
    "- Most exception classes take a string as argument to the constructor. This is printed when the exception is raised."
   ]
  },
  {
   "cell_type": "code",
   "execution_count": 70,
   "metadata": {},
   "outputs": [],
   "source": [
    "def print_inverse(x) :\n",
    "    if not isinstance(x, (int, float)) :\n",
    "        # The TypeError constructor takes a string \n",
    "        # message that's printed when raised.\n",
    "        raise TypeError('{0} is a {1}, not a number!'\\\n",
    "                        .format(x, type(x)))\n",
    "    else :\n",
    "        print(1./x)"
   ]
  },
  {
   "cell_type": "code",
   "execution_count": 71,
   "metadata": {},
   "outputs": [
    {
     "ename": "TypeError",
     "evalue": "spam is a <class 'str'>, not a number!",
     "output_type": "error",
     "traceback": [
      "\u001b[0;31m---------------------------------------------------------------------------\u001b[0m",
      "\u001b[0;31mTypeError\u001b[0m                                 Traceback (most recent call last)",
      "\u001b[0;32m<ipython-input-71-783e65b9001e>\u001b[0m in \u001b[0;36m<module>\u001b[0;34m\u001b[0m\n\u001b[0;32m----> 1\u001b[0;31m \u001b[0mprint_inverse\u001b[0m\u001b[0;34m(\u001b[0m\u001b[0;34m'spam'\u001b[0m\u001b[0;34m)\u001b[0m\u001b[0;34m\u001b[0m\u001b[0;34m\u001b[0m\u001b[0m\n\u001b[0m",
      "\u001b[0;32m<ipython-input-70-43c65b8a6e33>\u001b[0m in \u001b[0;36mprint_inverse\u001b[0;34m(x)\u001b[0m\n\u001b[1;32m      4\u001b[0m         \u001b[0;31m# message that's printed when raised.\u001b[0m\u001b[0;34m\u001b[0m\u001b[0;34m\u001b[0m\u001b[0;34m\u001b[0m\u001b[0m\n\u001b[1;32m      5\u001b[0m         raise TypeError('{0} is a {1}, not a number!'\\\n\u001b[0;32m----> 6\u001b[0;31m                         .format(x, type(x)))\n\u001b[0m\u001b[1;32m      7\u001b[0m     \u001b[0;32melse\u001b[0m \u001b[0;34m:\u001b[0m\u001b[0;34m\u001b[0m\u001b[0;34m\u001b[0m\u001b[0m\n\u001b[1;32m      8\u001b[0m         \u001b[0mprint\u001b[0m\u001b[0;34m(\u001b[0m\u001b[0;36m1.\u001b[0m\u001b[0;34m/\u001b[0m\u001b[0mx\u001b[0m\u001b[0;34m)\u001b[0m\u001b[0;34m\u001b[0m\u001b[0;34m\u001b[0m\u001b[0m\n",
      "\u001b[0;31mTypeError\u001b[0m: spam is a <class 'str'>, not a number!"
     ]
    }
   ],
   "source": [
    "print_inverse('spam')"
   ]
  },
  {
   "cell_type": "markdown",
   "metadata": {},
   "source": [
    "- The keywords `as`, `finally`, and `else` can also be used when handling exceptions.\n",
    "- You can also write your own exception classes, normally inheriting from the generic `Exception` built-in class.\n",
    "- To find out more see [here](http://docs.python.org/3/tutorial/errors.html)."
   ]
  },
  {
   "cell_type": "markdown",
   "metadata": {},
   "source": [
    "## More Useful Builtin Functionality"
   ]
  },
  {
   "cell_type": "markdown",
   "metadata": {},
   "source": [
    "### Lambda Methods"
   ]
  },
  {
   "cell_type": "markdown",
   "metadata": {},
   "source": [
    "- These allow for slick, inline declaration of simple functions, using the `lambda` keyword."
   ]
  },
  {
   "cell_type": "code",
   "execution_count": 72,
   "metadata": {},
   "outputs": [],
   "source": [
    "# So this:\n",
    "def inverse(x) :\n",
    "    return 1./x"
   ]
  },
  {
   "cell_type": "code",
   "execution_count": 73,
   "metadata": {},
   "outputs": [],
   "source": [
    "# Becomes this:\n",
    "inverse = lambda x : 1./x"
   ]
  },
  {
   "cell_type": "code",
   "execution_count": 74,
   "metadata": {},
   "outputs": [
    {
     "name": "stdout",
     "output_type": "stream",
     "text": [
      "0.125\n"
     ]
    }
   ],
   "source": [
    "print(inverse(8.))"
   ]
  },
  {
   "cell_type": "code",
   "execution_count": 75,
   "metadata": {},
   "outputs": [],
   "source": [
    "# A lambda function with two arguments:\n",
    "sum_of_squares = lambda x, y : x**2 + y**2"
   ]
  },
  {
   "cell_type": "code",
   "execution_count": 76,
   "metadata": {
    "scrolled": true
   },
   "outputs": [
    {
     "data": {
      "text/plain": [
       "25"
      ]
     },
     "execution_count": 76,
     "metadata": {},
     "output_type": "execute_result"
    }
   ],
   "source": [
    "sum_of_squares(3, 4)"
   ]
  },
  {
   "cell_type": "markdown",
   "metadata": {},
   "source": [
    "- The main advantage of this over functions declared with `def` is that they can be declared inline."
   ]
  },
  {
   "cell_type": "code",
   "execution_count": 77,
   "metadata": {},
   "outputs": [
    {
     "data": {
      "text/plain": [
       "25"
      ]
     },
     "execution_count": 77,
     "metadata": {},
     "output_type": "execute_result"
    }
   ],
   "source": [
    "# Declare and call a lambda method in the\n",
    "# same expression:\n",
    "(lambda x, y : x**2 + y**2)(3, 4)"
   ]
  },
  {
   "cell_type": "markdown",
   "metadata": {},
   "source": [
    "- This is particularly useful when used in conjunction with methods that expect functions as arguments.\n",
    "- Eg, the `filter` and `map` builtin methods."
   ]
  },
  {
   "cell_type": "code",
   "execution_count": 78,
   "metadata": {},
   "outputs": [
    {
     "name": "stdout",
     "output_type": "stream",
     "text": [
      "Help on class filter in module builtins:\n",
      "\n",
      "class filter(object)\n",
      " |  filter(function or None, iterable) --> filter object\n",
      " |  \n",
      " |  Return an iterator yielding those items of iterable for which function(item)\n",
      " |  is true. If function is None, return the items that are true.\n",
      " |  \n",
      " |  Methods defined here:\n",
      " |  \n",
      " |  __getattribute__(self, name, /)\n",
      " |      Return getattr(self, name).\n",
      " |  \n",
      " |  __iter__(self, /)\n",
      " |      Implement iter(self).\n",
      " |  \n",
      " |  __next__(self, /)\n",
      " |      Implement next(self).\n",
      " |  \n",
      " |  __reduce__(...)\n",
      " |      Return state information for pickling.\n",
      " |  \n",
      " |  ----------------------------------------------------------------------\n",
      " |  Static methods defined here:\n",
      " |  \n",
      " |  __new__(*args, **kwargs) from builtins.type\n",
      " |      Create and return a new object.  See help(type) for accurate signature.\n",
      "\n"
     ]
    }
   ],
   "source": [
    "help(filter)"
   ]
  },
  {
   "cell_type": "code",
   "execution_count": 85,
   "metadata": {},
   "outputs": [
    {
     "data": {
      "text/plain": [
       "[-10, -8, -6, -4, -2, 0, 2, 4, 6, 8, 10]"
      ]
     },
     "execution_count": 85,
     "metadata": {},
     "output_type": "execute_result"
    }
   ],
   "source": [
    "# So we could do:\n",
    "\n",
    "def test(x) :\n",
    "    return x%2 == 0\n",
    "\n",
    "list(filter(test, list(range(-10, 11))))"
   ]
  },
  {
   "cell_type": "code",
   "execution_count": 86,
   "metadata": {},
   "outputs": [
    {
     "data": {
      "text/plain": [
       "[-10, -8, -6, -4, -2, 0, 2, 4, 6, 8, 10]"
      ]
     },
     "execution_count": 86,
     "metadata": {},
     "output_type": "execute_result"
    }
   ],
   "source": [
    "# Or, using a lambda method:\n",
    "\n",
    "list(filter(lambda x : x%2 == 0, list(range(-10, 11))))"
   ]
  },
  {
   "cell_type": "markdown",
   "metadata": {},
   "source": [
    "### Sequence Manipulation"
   ]
  },
  {
   "cell_type": "markdown",
   "metadata": {},
   "source": [
    "- Many other builtin methods are useful for manipulating sequences."
   ]
  },
  {
   "cell_type": "code",
   "execution_count": 89,
   "metadata": {},
   "outputs": [
    {
     "data": {
      "text/plain": [
       "[0, 1, 4, 9, 16, 25, 36, 49, 64, 81]"
      ]
     },
     "execution_count": 89,
     "metadata": {},
     "output_type": "execute_result"
    }
   ],
   "source": [
    "# Map one sequence to another, element by element\n",
    "# using the given method.\n",
    "\n",
    "list(map(lambda x : x**2, list(range(10))))"
   ]
  },
  {
   "cell_type": "code",
   "execution_count": 90,
   "metadata": {},
   "outputs": [
    {
     "data": {
      "text/plain": [
       "45"
      ]
     },
     "execution_count": 90,
     "metadata": {},
     "output_type": "execute_result"
    }
   ],
   "source": [
    "# Get the sum of elements in a sequence.\n",
    "\n",
    "sum(range(10))"
   ]
  },
  {
   "cell_type": "code",
   "execution_count": 93,
   "metadata": {},
   "outputs": [
    {
     "data": {
      "text/plain": [
       "3628800"
      ]
     },
     "execution_count": 93,
     "metadata": {},
     "output_type": "execute_result"
    }
   ],
   "source": [
    "# Reduce a sequence via recursive method calls.\n",
    "\n",
    "from functools import reduce\n",
    "\n",
    "reduce(lambda x, y : x * y, list(range(1, 11)))"
   ]
  },
  {
   "cell_type": "code",
   "execution_count": 94,
   "metadata": {},
   "outputs": [
    {
     "data": {
      "text/plain": [
       "'The Life of Brian'"
      ]
     },
     "execution_count": 94,
     "metadata": {},
     "output_type": "execute_result"
    }
   ],
   "source": [
    "# sum only works for numerical types, but reduce\n",
    "# can be used to concatenate sequences of strings.\n",
    "\n",
    "from functools import reduce\n",
    "\n",
    "reduce(lambda x, y : x + ' ' + y, \n",
    "       ('The', 'Life', 'of', 'Brian'))"
   ]
  },
  {
   "cell_type": "code",
   "execution_count": 95,
   "metadata": {},
   "outputs": [
    {
     "data": {
      "text/plain": [
       "'The Life of Brian'"
      ]
     },
     "execution_count": 95,
     "metadata": {},
     "output_type": "execute_result"
    }
   ],
   "source": [
    "# Alternatively you can use the str.join method:\n",
    "\n",
    "' '.join(('The', 'Life', 'of', 'Brian'))"
   ]
  },
  {
   "cell_type": "code",
   "execution_count": 101,
   "metadata": {},
   "outputs": [
    {
     "data": {
      "text/plain": [
       "[(0, 5), (1, 6), (2, 7), (3, 8), (4, 9)]"
      ]
     },
     "execution_count": 101,
     "metadata": {},
     "output_type": "execute_result"
    }
   ],
   "source": [
    "# Merge two or more sequences into a list of tuples.\n",
    "\n",
    "list(zip(range(5), range(5,10)))"
   ]
  },
  {
   "cell_type": "markdown",
   "metadata": {},
   "source": [
    "- Many other useful builtin methods exist.\n",
    "- See what's available with `import builtins` and `dir(builtins)`, and use `help` to find out more."
   ]
  },
  {
   "cell_type": "markdown",
   "metadata": {},
   "source": [
    "### More Ways to Iterate."
   ]
  },
  {
   "cell_type": "markdown",
   "metadata": {},
   "source": [
    "- You can unpack as you iterate:"
   ]
  },
  {
   "cell_type": "code",
   "execution_count": 102,
   "metadata": {},
   "outputs": [
    {
     "name": "stdout",
     "output_type": "stream",
     "text": [
      "0 5\n",
      "1 6\n",
      "2 7\n",
      "3 8\n",
      "4 9\n"
     ]
    }
   ],
   "source": [
    "pairs = list(zip(range(5), range(5,10)))\n",
    "for a, b in pairs :\n",
    "    print(a, b)"
   ]
  },
  {
   "cell_type": "code",
   "execution_count": 103,
   "metadata": {},
   "outputs": [
    {
     "name": "stdout",
     "output_type": "stream",
     "text": [
      "0 5\n",
      "1 6\n",
      "2 7\n",
      "3 8\n",
      "4 9\n"
     ]
    }
   ],
   "source": [
    "# Which is equivalent to :\n",
    "for elm in pairs :\n",
    "    a, b = elm[0], elm[1]\n",
    "    print(a, b)"
   ]
  },
  {
   "cell_type": "markdown",
   "metadata": {},
   "source": [
    "- Sequences can also be constructed using the `for` syntax."
   ]
  },
  {
   "cell_type": "code",
   "execution_count": 104,
   "metadata": {},
   "outputs": [
    {
     "data": {
      "text/plain": [
       "['0', '1', '2', '3', '4', '5', '6', '7', '8', '9']"
      ]
     },
     "execution_count": 104,
     "metadata": {},
     "output_type": "execute_result"
    }
   ],
   "source": [
    "# For a list:\n",
    "\n",
    "list(str(i) for i in range(10))"
   ]
  },
  {
   "cell_type": "code",
   "execution_count": 105,
   "metadata": {},
   "outputs": [
    {
     "data": {
      "text/plain": [
       "(0, 1, 2, 0, 1, 2, 0, 1, 2, 0)"
      ]
     },
     "execution_count": 105,
     "metadata": {},
     "output_type": "execute_result"
    }
   ],
   "source": [
    "# Also for tuples:\n",
    "\n",
    "tuple(i%3 for i in range(10))"
   ]
  },
  {
   "cell_type": "code",
   "execution_count": 106,
   "metadata": {},
   "outputs": [
    {
     "data": {
      "text/plain": [
       "[0, 1, 4, 9, 16, 25, 36, 49, 64, 81]"
      ]
     },
     "execution_count": 106,
     "metadata": {},
     "output_type": "execute_result"
    }
   ],
   "source": [
    "# For lists this can also be put in square brackets\n",
    "# for the same result.\n",
    "\n",
    "[i**2 for i in range(10)]"
   ]
  },
  {
   "cell_type": "markdown",
   "metadata": {},
   "source": [
    "- You can also add an optional `if`:"
   ]
  },
  {
   "cell_type": "code",
   "execution_count": 107,
   "metadata": {},
   "outputs": [
    {
     "data": {
      "text/plain": [
       "(0, 2, 4, 6, 8)"
      ]
     },
     "execution_count": 107,
     "metadata": {},
     "output_type": "execute_result"
    }
   ],
   "source": [
    "tuple(i for i in range(10) if i%2 == 0)"
   ]
  },
  {
   "cell_type": "markdown",
   "metadata": {},
   "source": [
    "- So python provides many slick ways of constructing and iterating over sequences!"
   ]
  },
  {
   "cell_type": "markdown",
   "metadata": {},
   "source": [
    "- For more ways of using fast, memory efficient iteration check out [generator expressions and methods](http://docs.python.org/2/tutorial/classes.html#generators)."
   ]
  },
  {
   "cell_type": "markdown",
   "metadata": {},
   "source": [
    "### OS Interface"
   ]
  },
  {
   "cell_type": "markdown",
   "metadata": {},
   "source": [
    "- The `os` module provides lots of functionality for communicating with the operating system, eg:\n",
    "    - `listdir` - list a directory's contents.\n",
    "    - `mkidr` and `makedirs` - make a directory/directories.\n",
    "    - `getcwd`, `chdir` - get or change the current working directory.\n",
    "    - `fchmod`, `fchown`- change a file's permissions & ownership.\n",
    "- The `os.path` submodule is great for file path manipulations.\n",
    "    - `exists`, `isdir`, `islink` - check if a file exists, is a directory or a link.\n",
    "    - `abspath` - get the absolute path of a file.\n",
    "    - `split` - split directory and file name parts of a path.\n",
    "    - `join` - join file/directory names, adding separators as needed."
   ]
  },
  {
   "cell_type": "markdown",
   "metadata": {},
   "source": [
    "- The `subprocess` module allows you to call system commands.\n",
    "    - `call` - call a command and wait for it to complete.\n",
    "    - `Popen` - call a command in the background."
   ]
  },
  {
   "cell_type": "markdown",
   "metadata": {},
   "source": [
    "- As ever, you can find out more with `dir` and `help`.\n",
    "- Many other useful modules and methods exist - find them with a quick web search!"
   ]
  },
  {
   "cell_type": "markdown",
   "metadata": {},
   "source": [
    "## A Few Tips"
   ]
  },
  {
   "cell_type": "markdown",
   "metadata": {},
   "source": [
    "- Before you write anything, think through how to structure your code.\n",
    "- Don't reinvent the wheel - code may already exist that fits your needs. \n",
    "- Break the problem into its most basic components and write/use a class or function for each.\n",
    "- Don't copy & paste. Use functions, classes, modules & packages to reuse code. \n",
    "- Avoid hard coding anything - make it configurable. \n",
    "- Use version control, like [github](https://github.com/).\n",
    "- Don't be afraid to rewrite if necessary - better that than continue to build on poorly structured code. "
   ]
  },
  {
   "cell_type": "markdown",
   "metadata": {},
   "source": [
    "## Further Reading"
   ]
  },
  {
   "cell_type": "markdown",
   "metadata": {},
   "source": [
    "- Official python homepage - [www.python.org](http://www.python.org)\n",
    "    - Tutorial: [docs.python.org/3/tutorial](http://docs.python.org/3/tutorial/)\n",
    "\n",
    "- Jupyter - [jupyter.org](http://jupyter.org/)\n",
    "    - Built on [`ipython`](http://ipython.org/) - the enhanced interactive python interpreter.\n",
    "    - Lots of handy additional functionality built on the standard python interpreter.\n",
    "    - Notebook interface, like we've been using."
   ]
  },
  {
   "cell_type": "markdown",
   "metadata": {},
   "source": [
    "- PyPI - [pypi.python.org/pypi](https://pypi.python.org/pypi)\n",
    "    - The Python Package Index. Official repository of 3rd party python packages.\n",
    "    - A huge number of packages for all purposes are available.\n",
    "    - You can use the python package manager, [pip](https://pypi.python.org/pypi/pip) to easily install packages from PyPI (though if you're already using a different package manager for your python install stick with that). \n",
    "- `uncertainties` - [pypi.python.org/pypi/uncertainties](https://pypi.python.org/pypi/uncertainties)\n",
    "    - An extremely useful package for handling the propagation of uncertainties, as is often performed in scientific analyses."
   ]
  },
  {
   "cell_type": "markdown",
   "metadata": {},
   "source": [
    "- NumPy - [www.numpy.org](http://www.numpy.org/) \n",
    "    - Mathematical package.\n",
    "    - Not Standard Library, but does come as part of most python installs.\n",
    "    - Arrays & matrices, linear algebra, fourier transforms ...\n",
    "- MatPlotLib - [www.matplotlib.org](http://www.matplotlib.org)\n",
    "    - 2D plotting package for publication quality figures.\n",
    "- SciPy - [www.scipy.org](http://scipy.org/)\n",
    "    - SciPy package for scientific computing - numerical integration, optimisation ...\n",
    "    - Contains Sympy package for symbolic maths.\n",
    "    - Also includes NumPy and MatPlotLib.\n"
   ]
  },
  {
   "cell_type": "markdown",
   "metadata": {},
   "source": [
    "- PyX - [pyx.sourceforge.net](http://pyx.sourceforge.net/)\n",
    "    - Produce PDF and PostScript documents.\n",
    "    - Latex integration.\n",
    "- Sage - [www.sagemath.org](http://www.sagemath.org)\n",
    "    - Free, open source Mathematica/Maple/Matlab alternative with a python interface.\n"
   ]
  },
  {
   "cell_type": "markdown",
   "metadata": {},
   "source": [
    "- Software carpentry - [software-carpentry.org](http://software-carpentry.org/)\n",
    "    - Some excellent resources on building and using software (generally not python specific, though there is a [python tutorial](http://swcarpentry.github.io/python-novice-inflammation/)).\n",
    "    - There's also a [SUPA course](https://my.supa.ac.uk/course/view.php?id=400) which I suggest you enrol on (and is based on python).\n",
    "    \n",
    "    "
   ]
  },
  {
   "cell_type": "markdown",
   "metadata": {},
   "source": [
    "- And many others! \n",
    "- Python has a very rich and active community, which is yours to exploit!"
   ]
  },
  {
   "cell_type": "markdown",
   "metadata": {},
   "source": [
    "# The End"
   ]
  },
  {
   "cell_type": "markdown",
   "metadata": {},
   "source": [
    "[Happy Pythonising!](https://www.youtube.com/watch?v=W3rP-8mWWeY)"
   ]
  }
 ],
 "metadata": {
  "kernelspec": {
   "display_name": "Python 3",
   "language": "python",
   "name": "python3"
  },
  "language_info": {
   "codemirror_mode": {
    "name": "ipython",
    "version": 3
   },
   "file_extension": ".py",
   "mimetype": "text/x-python",
   "name": "python",
   "nbconvert_exporter": "python",
   "pygments_lexer": "ipython3",
   "version": "3.7.2"
  }
 },
 "nbformat": 4,
 "nbformat_minor": 1
}
