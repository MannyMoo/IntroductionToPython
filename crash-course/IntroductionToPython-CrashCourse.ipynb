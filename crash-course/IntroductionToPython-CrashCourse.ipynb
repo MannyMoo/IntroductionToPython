{
 "cells": [
  {
   "cell_type": "markdown",
   "metadata": {},
   "source": [
    "---\n",
    "# Introduction to"
   ]
  },
  {
   "cell_type": "markdown",
   "metadata": {},
   "source": [
    "<img src = '../SUPAPYT-files/python-logo.jpeg', width = 400>"
   ]
  },
  {
   "cell_type": "markdown",
   "metadata": {},
   "source": [
    "# <p style='text-align: right;'> - Crash Course </p> \n",
    "---"
   ]
  },
  {
   "cell_type": "markdown",
   "metadata": {},
   "source": [
    "Welcome to this brief, introductory couse in the python programming language!\n",
    "\n",
    "It's intended to take a few hours and to be suitable for novice programmers.\n",
    "\n",
    "More in depth materials are available at the [python homepage](https://www.python.org), including a [beginners' guide](https://www.python.org/about/gettingstarted/) and a longer [tutorial](https://docs.python.org/3/tutorial/)."
   ]
  },
  {
   "cell_type": "markdown",
   "metadata": {
    "collapsed": true
   },
   "source": [
    "# Jupyter notebooks\n",
    "\n",
    "This course is presented in the form of a [Jupyter notebook](http://jupyter.org/), which provides a web browser based interface to the python interpreter, so you can execute code, as well as text formatting and other nice features. This is particularly useful for teaching, though there are several other ways to interact with the python interpreter. Which to use depends on your use case.\n",
    "\n",
    "Jupyter notebooks are best navigated with the keyboard. They're arranged in cells, which can be text to be displayed or code to be evaluated. To evaluate a cell, use `Shift+Enter`. This displays the output of the cell and moves you on to the next cell, creating one if necessary.\n",
    "\n",
    "There are two modes in a notebook: \n",
    " - Command mode, accessed by pressing `Esc`. In this mode you can create a new cell below the current one by pressing `B` or above it with `A`. You can also change the type of a cell to code with `Y` or text with `M`. You can also scroll through cells using the arrow keys.\n",
    " - Edit mode, accessed by pressing `Enter`. This allows you to edit the contents of a cell.\n",
    " \n",
    "You can evaluate a cell with `Shift+Enter` in either mode.\n",
    "\n",
    "Various other keyboard shortcuts are available, which you can view under Help $\\to$ Keyboard Shortcuts on the menu bar at the top of the page.\n",
    "\n",
    "Work through this notebook by evaluating the cells in turn. Some are left blank so you can try things out. You can also edit any cell or add new cells as you like."
   ]
  },
  {
   "cell_type": "markdown",
   "metadata": {},
   "source": [
    "# Table of Contents"
   ]
  },
  {
   "cell_type": "markdown",
   "metadata": {},
   "source": [
    " - [Basic python](#Basic-python)\n",
    "    - [Numbers](#Numbers)\n",
    "    - [Strings](#Strings)\n",
    "    - [Booleans](#Booleans)\n",
    "    - [None](#None)\n",
    "    - [Lists](#Lists)\n",
    "    - [Tuples](#Tuples)\n",
    "    - [Dictionaries](#Dictionaries)\n",
    "    - [Sets](#Sets)\n",
    "    - [Iteration](#Iteration)\n",
    "    - [Casting between types](#Casting-between-types)\n",
    "    - [Introspection](#Introspection)\n",
    " - [Not so basic python](#Not-so-basic-python)\n",
    "    - [Classes](#Classes)\n",
    "    - [Modules](#Modules)\n",
    "    - [Input & output](#Input-&-output)\n",
    "    - [Exceptions](#Exceptions)\n",
    " - [Further reading](#Further-reading)"
   ]
  },
  {
   "cell_type": "markdown",
   "metadata": {},
   "source": [
    "# Basic python"
   ]
  },
  {
   "cell_type": "markdown",
   "metadata": {},
   "source": [
    "Python is designed to be intuitive, easy to learn and easy to read.\n",
    "\n",
    "It's an \"interpreted\" language, meaning that you can pass any statement to the interpreter for immediate evaluation. This is compared to a \"compiled\" language where an intermediate \"compiler\" step translates human readable code into code that's understood by the computer."
   ]
  },
  {
   "cell_type": "markdown",
   "metadata": {},
   "source": [
    "## Numbers"
   ]
  },
  {
   "cell_type": "markdown",
   "metadata": {},
   "source": [
    "The python interpreter is useful as a simple calculator:"
   ]
  },
  {
   "cell_type": "code",
   "execution_count": null,
   "metadata": {},
   "outputs": [],
   "source": [
    "1 + 5"
   ]
  },
  {
   "cell_type": "code",
   "execution_count": null,
   "metadata": {},
   "outputs": [],
   "source": [
    "24 * 365"
   ]
  },
  {
   "cell_type": "code",
   "execution_count": null,
   "metadata": {},
   "outputs": [],
   "source": [
    "60**2"
   ]
  },
  {
   "cell_type": "markdown",
   "metadata": {},
   "source": [
    "The basic mathematical operations available are:\n",
    "\n",
    "    +    add\n",
    "\n",
    "    -    subtract\n",
    "\n",
    "    *    multiply\n",
    "\n",
    "    /    divide\n",
    "\n",
    "    %    remainder\n",
    "\n",
    "    **   exponentiate (raise to a power)\n"
   ]
  },
  {
   "cell_type": "markdown",
   "metadata": {},
   "source": [
    "You can create named variables and give them a value like so:"
   ]
  },
  {
   "cell_type": "code",
   "execution_count": null,
   "metadata": {
    "collapsed": true
   },
   "outputs": [],
   "source": [
    "a = 12.5\n",
    "b = 42."
   ]
  },
  {
   "cell_type": "markdown",
   "metadata": {},
   "source": [
    "Note that this doesn't give any output - that only happens if you have an expression on the last line of a cell that's not assigned to a variable. You can then check the value of the variables like so:"
   ]
  },
  {
   "cell_type": "code",
   "execution_count": null,
   "metadata": {},
   "outputs": [],
   "source": [
    "a"
   ]
  },
  {
   "cell_type": "code",
   "execution_count": null,
   "metadata": {},
   "outputs": [],
   "source": [
    "b"
   ]
  },
  {
   "cell_type": "markdown",
   "metadata": {},
   "source": [
    "You can also use the `print` function to output the value of a variable at any point in a cell:"
   ]
  },
  {
   "cell_type": "code",
   "execution_count": null,
   "metadata": {},
   "outputs": [],
   "source": [
    "a = 264.3\n",
    "print(a)\n",
    "b = 33.3\n",
    "print(b)"
   ]
  },
  {
   "cell_type": "markdown",
   "metadata": {},
   "source": [
    "Note that changing the value of a variable is done in the same way as declaring a new variable. \n",
    "\n",
    "You can assign several variables the same value at once with, eg:"
   ]
  },
  {
   "cell_type": "code",
   "execution_count": null,
   "metadata": {},
   "outputs": [],
   "source": [
    "x = y = z = 0.\n",
    "x, y, z"
   ]
  },
  {
   "cell_type": "markdown",
   "metadata": {},
   "source": [
    "or different values with:"
   ]
  },
  {
   "cell_type": "code",
   "execution_count": null,
   "metadata": {},
   "outputs": [],
   "source": [
    "x, y, z = 1, 2, 3\n",
    "print(x, y, z)"
   ]
  },
  {
   "cell_type": "markdown",
   "metadata": {},
   "source": [
    "Having defined some variables, you can use them in expressions just like numbers:"
   ]
  },
  {
   "cell_type": "code",
   "execution_count": null,
   "metadata": {},
   "outputs": [],
   "source": [
    "a * b"
   ]
  },
  {
   "cell_type": "markdown",
   "metadata": {},
   "source": [
    "or assign new variables from the value of expressions including other variables:"
   ]
  },
  {
   "cell_type": "code",
   "execution_count": null,
   "metadata": {},
   "outputs": [],
   "source": [
    "c = 5 * a**2 + b/34.5\n",
    "c"
   ]
  },
  {
   "cell_type": "markdown",
   "metadata": {},
   "source": [
    "So it's straightforward to do basic calculations, eg, work out the kinetic energy of a 65 kg pro cyclist travelling at 17 m/s (~60 kph) and that of a 75 kg commuter cyclist travelling at 5.6 m/s (~20 kph), then work out the ratio of the two ($E = \\frac{1}{2} m v^2)$:"
   ]
  },
  {
   "cell_type": "code",
   "execution_count": null,
   "metadata": {
    "collapsed": true
   },
   "outputs": [],
   "source": []
  },
  {
   "cell_type": "markdown",
   "metadata": {},
   "source": [
    "If you want to repeat a calculation with different input values, you can define a function using the `def` keyword, like so:"
   ]
  },
  {
   "cell_type": "code",
   "execution_count": null,
   "metadata": {
    "collapsed": true
   },
   "outputs": [],
   "source": [
    "def kinetic_energy(mass, velocity) :\n",
    "    return 0.5 * mass * velocity**2"
   ]
  },
  {
   "cell_type": "markdown",
   "metadata": {},
   "source": [
    "Following `def` you have:\n",
    "- The name of the function \n",
    "- In brackets, the names of the arguments of the function separated by commas\n",
    "- A colon at the end of the definition line\n",
    "- An indented block of code. This is what's evaluated when the function is called. It can be as many lines as needed. All lines within the function must have the same indentation (number of spaces) at the start of the line.\n",
    "- The `return` keyword followed by the value returned by the function.\n",
    "\n",
    "Having defined a function, you can now call it, passing the argument values between the bracket, and (optionally) assign a variable from the return value:"
   ]
  },
  {
   "cell_type": "code",
   "execution_count": null,
   "metadata": {},
   "outputs": [],
   "source": [
    "ek_pro = kinetic_energy(65, 17)\n",
    "print(ek_pro)"
   ]
  },
  {
   "cell_type": "markdown",
   "metadata": {},
   "source": [
    "(Note that `print` is a built-in function which outputs to the console the arguments passed to it.)\n",
    "\n",
    "This way, for repeated calculations, you only need to write the function definition once and then you can use it anywhere you need it. \n",
    "\n",
    "This avoids the need to copy-and-paste the same expression to several places. If you find yourself copy-and-pasting a block of code, you should probably put it in a function instead. Then, if you need to change the expression at all, you only need to do so in one place!\n",
    "\n",
    "Using the above function, you can easily redo the question of the cyclists' kinetic energies for any input values."
   ]
  },
  {
   "cell_type": "code",
   "execution_count": null,
   "metadata": {
    "collapsed": true
   },
   "outputs": [],
   "source": []
  },
  {
   "cell_type": "markdown",
   "metadata": {},
   "source": [
    "## Strings"
   ]
  },
  {
   "cell_type": "markdown",
   "metadata": {},
   "source": [
    "Apart from numbers, there are several other basic data types in python. \"Strings\" are sequences of characters, and are defined using either single or double quotes:"
   ]
  },
  {
   "cell_type": "code",
   "execution_count": null,
   "metadata": {},
   "outputs": [],
   "source": [
    "str1 = \"A string with double quotes\"\n",
    "str1"
   ]
  },
  {
   "cell_type": "code",
   "execution_count": null,
   "metadata": {},
   "outputs": [],
   "source": [
    "str2 = 'A string with single quotes'\n",
    "str2"
   ]
  },
  {
   "cell_type": "code",
   "execution_count": null,
   "metadata": {},
   "outputs": [],
   "source": [
    "print(str1)\n",
    "print(str2)"
   ]
  },
  {
   "cell_type": "markdown",
   "metadata": {},
   "source": [
    "Note that putting the string at the end of a cell gives a different output to printing it. In the first case, it shows the python representation of the variable, while `print` shows the human readable version (a little more on that later).\n",
    "\n",
    "Python doesn't care whether you use single or double quotes, so long as you use the same type at the start and end of the string.\n",
    "\n",
    "If you want to declare a string that contains quote marks of the same type as those enclosing it, you need to \"escape\" the contained quotes with a backslash:"
   ]
  },
  {
   "cell_type": "code",
   "execution_count": null,
   "metadata": {},
   "outputs": [],
   "source": [
    "'This won't work"
   ]
  },
  {
   "cell_type": "markdown",
   "metadata": {},
   "source": [
    "Here we have our first \"exception\" - these are raised when python encounters a problem and can't continue. In this case, you get a `SyntaxError` since the given expression can't be understood by the interpreter."
   ]
  },
  {
   "cell_type": "code",
   "execution_count": null,
   "metadata": {},
   "outputs": [],
   "source": [
    "'This isn\\'t a problem'"
   ]
  },
  {
   "cell_type": "code",
   "execution_count": null,
   "metadata": {},
   "outputs": [],
   "source": [
    "\"This isn't a problem either\""
   ]
  },
  {
   "cell_type": "markdown",
   "metadata": {},
   "source": [
    "You can declare multi-line strings using triple quotes:"
   ]
  },
  {
   "cell_type": "code",
   "execution_count": null,
   "metadata": {},
   "outputs": [],
   "source": [
    "multi = \"\"\"This\n",
    "is a multi-line\n",
    "string\"\"\"\n",
    "multi"
   ]
  },
  {
   "cell_type": "markdown",
   "metadata": {},
   "source": [
    "Here `\\n` is the newline character."
   ]
  },
  {
   "cell_type": "code",
   "execution_count": null,
   "metadata": {},
   "outputs": [],
   "source": [
    "print(multi)"
   ]
  },
  {
   "cell_type": "markdown",
   "metadata": {},
   "source": [
    "You can also use `\\n` when declaring strings:"
   ]
  },
  {
   "cell_type": "code",
   "execution_count": null,
   "metadata": {},
   "outputs": [],
   "source": [
    "multi = 'A different\\nmulti-line\\nstring'\n",
    "print(multi)"
   ]
  },
  {
   "cell_type": "markdown",
   "metadata": {},
   "source": [
    "Strings can be concatenated with `+` or `+=`:"
   ]
  },
  {
   "cell_type": "code",
   "execution_count": null,
   "metadata": {},
   "outputs": [],
   "source": [
    "line = 'Brave'\n",
    "line2 = line + ' Sir Robin'\n",
    "print(line2)\n",
    "line2 += ' ran away'\n",
    "print(line2)"
   ]
  },
  {
   "cell_type": "markdown",
   "metadata": {},
   "source": [
    "Square brackets give access to single characters or \"slices\" of the string:"
   ]
  },
  {
   "cell_type": "code",
   "execution_count": null,
   "metadata": {},
   "outputs": [],
   "source": [
    "print(line2[0])\n",
    "print(line2[4])\n",
    "print(line2[0:5])"
   ]
  },
  {
   "cell_type": "markdown",
   "metadata": {},
   "source": [
    "The indices start at zero and go up to the length of the string minus 1. \n",
    "\n",
    "When slicing, you give two indices separated by a colon. The returned slice goes from the first index up to but not including the second index. If you omit the first index, the slice starts at the beginning. If you omit the second index, the slice goes to the end."
   ]
  },
  {
   "cell_type": "code",
   "execution_count": null,
   "metadata": {},
   "outputs": [],
   "source": [
    "print(line2[:16])\n",
    "print(line2[16:])"
   ]
  },
  {
   "cell_type": "markdown",
   "metadata": {},
   "source": [
    "Negative indices can also be used, which count backwards from the end of the string:"
   ]
  },
  {
   "cell_type": "code",
   "execution_count": null,
   "metadata": {},
   "outputs": [],
   "source": [
    "print(line2[-8:-4])\n",
    "print(line2[-4:])"
   ]
  },
  {
   "cell_type": "markdown",
   "metadata": {},
   "source": [
    "Strings are mainly used for making output more easily readable (though they have other applications). So, rather than just printing the numerical value, you can add some useful info:"
   ]
  },
  {
   "cell_type": "code",
   "execution_count": null,
   "metadata": {},
   "outputs": [],
   "source": [
    "m = 80.2423\n",
    "v = 10.6543\n",
    "ek = kinetic_energy(m, v)\n",
    "print('The kinetic energy of a', m, 'kg cyclist travelling at', v, 'm/s is', ek, 'J.')"
   ]
  },
  {
   "cell_type": "markdown",
   "metadata": {},
   "source": [
    "However, all those trailing digits aren't really needed. To make things tidier, you can use the `format` method:"
   ]
  },
  {
   "cell_type": "code",
   "execution_count": null,
   "metadata": {},
   "outputs": [],
   "source": [
    "ek_str = '{0:.2f}'.format(ek)\n",
    "print('The kinetic energy of a', m, 'kg cyclist travelling at', v, 'm/s is', ek_str, 'J.')"
   ]
  },
  {
   "cell_type": "markdown",
   "metadata": {},
   "source": [
    "When calling `format` on a string, the parts in curly brackets, {}, are replaced with formatted versions of the arguments given to `format`. Within the curly brackets, you have first the index of the argument passed to format, then a colon, then the formatting arguments. Here, `.2f` means round to 2 decimal places and output as a floating point number.\n",
    "\n",
    "So we can take it further:"
   ]
  },
  {
   "cell_type": "code",
   "execution_count": null,
   "metadata": {},
   "outputs": [],
   "source": [
    "message = 'The kinetic energy of a {0:.1f} kg cyclist travelling at {1:.1f} m/s is {2:.2f} J.'.format(m, v, ek)\n",
    "print(message)"
   ]
  },
  {
   "cell_type": "markdown",
   "metadata": {
    "collapsed": true
   },
   "source": [
    "For a full description of the formatting syntax see [here](http://docs.python.org/3/library/string.html#formatstrings), and [here](http://docs.python.org/3/library/string.html#formatspec) for a description of the various flags available.\n",
    "\n",
    "Various other useful formatting methods exist for strings, eg: rjust, ljust, center, rstrip, lstrip, zfill ...\n",
    "\n",
    "Try making the output of the kinetic energy ratio nicer to read:"
   ]
  },
  {
   "cell_type": "code",
   "execution_count": null,
   "metadata": {
    "collapsed": true
   },
   "outputs": [],
   "source": []
  },
  {
   "cell_type": "markdown",
   "metadata": {},
   "source": [
    "## Booleans"
   ]
  },
  {
   "cell_type": "markdown",
   "metadata": {},
   "source": [
    "These are simply `True` and `False`."
   ]
  },
  {
   "cell_type": "code",
   "execution_count": null,
   "metadata": {},
   "outputs": [],
   "source": [
    "x = True\n",
    "y = False\n",
    "x, y"
   ]
  },
  {
   "cell_type": "markdown",
   "metadata": {},
   "source": [
    "They're often produced through comparisons:"
   ]
  },
  {
   "cell_type": "code",
   "execution_count": null,
   "metadata": {},
   "outputs": [],
   "source": [
    "a = 1\n",
    "b = 2\n",
    "# Lines starting with a hash '#' are comments and are ignored by\n",
    "# the python interpreter.\n",
    "# Double equals '==' yields True if the compared values are the same\n",
    "# and False if not.\n",
    "a == b"
   ]
  },
  {
   "cell_type": "code",
   "execution_count": null,
   "metadata": {},
   "outputs": [],
   "source": [
    "# Not equals '!=' gives the opposite.\n",
    "a != b"
   ]
  },
  {
   "cell_type": "markdown",
   "metadata": {},
   "source": [
    "You can also use the `is` and `not` keywords instead:"
   ]
  },
  {
   "cell_type": "code",
   "execution_count": null,
   "metadata": {},
   "outputs": [],
   "source": [
    "a is b"
   ]
  },
  {
   "cell_type": "code",
   "execution_count": null,
   "metadata": {},
   "outputs": [],
   "source": [
    "a is 1"
   ]
  },
  {
   "cell_type": "code",
   "execution_count": null,
   "metadata": {},
   "outputs": [],
   "source": [
    "a is not 1"
   ]
  },
  {
   "cell_type": "markdown",
   "metadata": {},
   "source": [
    "Variables can be assigned from comparisions too:"
   ]
  },
  {
   "cell_type": "code",
   "execution_count": null,
   "metadata": {},
   "outputs": [],
   "source": [
    "k = (a == b)\n",
    "k"
   ]
  },
  {
   "cell_type": "markdown",
   "metadata": {},
   "source": [
    "Booleans are mainly used for flow control - if certain requirements are satisfied then different bits of code are executed. This is done in conjunction with the `if`, `elif` and `else` keywords."
   ]
  },
  {
   "cell_type": "code",
   "execution_count": null,
   "metadata": {},
   "outputs": [],
   "source": [
    "# First, the 'if' keyword followed by a boolean expression.\n",
    "# If the expression evaluates to True, the indented block of \n",
    "# code following the 'if' is executed.\n",
    "if a == 1 :\n",
    "    print('a is 1')"
   ]
  },
  {
   "cell_type": "code",
   "execution_count": null,
   "metadata": {},
   "outputs": [],
   "source": [
    "# You can add more conditions with 'elif'.\n",
    "# Each boolean expression is evaluated in turn until one\n",
    "# is found to be true, then that block of code is executed.\n",
    "if a == b :\n",
    "    print('a and b are the same')\n",
    "# '<' means 'less than', '>' is 'greater than'.\n",
    "elif a < b :\n",
    "    print('a is less than b')\n",
    "elif a == 1 :\n",
    "    print('a is one')"
   ]
  },
  {
   "cell_type": "markdown",
   "metadata": {},
   "source": [
    "Note that even though `a == 1` would evaulate to `True`, this isn't executed as the expression before is found to be `True` first.\n",
    "\n",
    "You can also use `else` to add a block of code that's evaluated if all the preceding expressions evaluate to `False`."
   ]
  },
  {
   "cell_type": "code",
   "execution_count": null,
   "metadata": {},
   "outputs": [],
   "source": [
    "if a > b :\n",
    "    print('a is greater than b')\n",
    "elif a == 2 :\n",
    "    print('a is 2')\n",
    "else :\n",
    "    print('a =', a)"
   ]
  },
  {
   "cell_type": "markdown",
   "metadata": {},
   "source": [
    "You can use as many `elif` statements as you need. The `else` is optional as well."
   ]
  },
  {
   "cell_type": "markdown",
   "metadata": {},
   "source": [
    "## None"
   ]
  },
  {
   "cell_type": "markdown",
   "metadata": {},
   "source": [
    "In any programming language, it's important to have a null type. In python, this is `None`."
   ]
  },
  {
   "cell_type": "code",
   "execution_count": null,
   "metadata": {
    "collapsed": true
   },
   "outputs": [],
   "source": [
    "a = None\n",
    "a"
   ]
  },
  {
   "cell_type": "markdown",
   "metadata": {},
   "source": [
    "The above gives no output, but you can print `None`:"
   ]
  },
  {
   "cell_type": "code",
   "execution_count": null,
   "metadata": {},
   "outputs": [],
   "source": [
    "print(a)"
   ]
  },
  {
   "cell_type": "markdown",
   "metadata": {},
   "source": [
    "This is also useful for comparisons and flow control:"
   ]
  },
  {
   "cell_type": "code",
   "execution_count": null,
   "metadata": {},
   "outputs": [],
   "source": [
    "if a == None :\n",
    "    print('a is None')\n",
    "else :\n",
    "    print('a is something')"
   ]
  },
  {
   "cell_type": "markdown",
   "metadata": {},
   "source": [
    "Note that `None` is different from zero, since zero is a number type:"
   ]
  },
  {
   "cell_type": "code",
   "execution_count": null,
   "metadata": {},
   "outputs": [],
   "source": [
    "a = None\n",
    "b = 0\n",
    "a == b"
   ]
  },
  {
   "cell_type": "markdown",
   "metadata": {},
   "source": [
    "You can add things to zero to get a new number:"
   ]
  },
  {
   "cell_type": "code",
   "execution_count": null,
   "metadata": {},
   "outputs": [],
   "source": [
    "b += 1\n",
    "b"
   ]
  },
  {
   "cell_type": "markdown",
   "metadata": {},
   "source": [
    "But `None` is just `None`, you can't change it:"
   ]
  },
  {
   "cell_type": "code",
   "execution_count": null,
   "metadata": {},
   "outputs": [],
   "source": [
    "a += 1"
   ]
  },
  {
   "cell_type": "markdown",
   "metadata": {},
   "source": [
    "If you have a function without a `return` statement, it actually returns `None`:"
   ]
  },
  {
   "cell_type": "code",
   "execution_count": null,
   "metadata": {
    "collapsed": true
   },
   "outputs": [],
   "source": [
    "def no_return() :\n",
    "    print('This function does nothing')"
   ]
  },
  {
   "cell_type": "code",
   "execution_count": null,
   "metadata": {},
   "outputs": [],
   "source": [
    "a = no_return()\n",
    "print(a)"
   ]
  },
  {
   "cell_type": "markdown",
   "metadata": {},
   "source": [
    "## Lists"
   ]
  },
  {
   "cell_type": "markdown",
   "metadata": {},
   "source": [
    "These are ordered sequences of objects. They can contain any number and any type of object. They're defined with square brackets '[]':"
   ]
  },
  {
   "cell_type": "code",
   "execution_count": null,
   "metadata": {},
   "outputs": [],
   "source": [
    "l = [1, 2, 3.4, None, 0]\n",
    "l"
   ]
  },
  {
   "cell_type": "markdown",
   "metadata": {},
   "source": [
    "You can access elements of the list with an integer in square brackets, as with strings:"
   ]
  },
  {
   "cell_type": "code",
   "execution_count": null,
   "metadata": {},
   "outputs": [],
   "source": [
    "l[0]"
   ]
  },
  {
   "cell_type": "code",
   "execution_count": null,
   "metadata": {},
   "outputs": [],
   "source": [
    "l[2]"
   ]
  },
  {
   "cell_type": "markdown",
   "metadata": {},
   "source": [
    "Negative indices work too:"
   ]
  },
  {
   "cell_type": "code",
   "execution_count": null,
   "metadata": {},
   "outputs": [],
   "source": [
    "l[-1]"
   ]
  },
  {
   "cell_type": "markdown",
   "metadata": {},
   "source": [
    "And slicing, which returns a sub-list:"
   ]
  },
  {
   "cell_type": "code",
   "execution_count": null,
   "metadata": {},
   "outputs": [],
   "source": [
    "l[2:4]"
   ]
  },
  {
   "cell_type": "code",
   "execution_count": null,
   "metadata": {},
   "outputs": [],
   "source": [
    "l[-3:]"
   ]
  },
  {
   "cell_type": "markdown",
   "metadata": {},
   "source": [
    "You can change the value of an element in a list by accessing the element and assigning it a new value:"
   ]
  },
  {
   "cell_type": "code",
   "execution_count": null,
   "metadata": {},
   "outputs": [],
   "source": [
    "print(l)\n",
    "l[2] = 3000\n",
    "print(l)"
   ]
  },
  {
   "cell_type": "markdown",
   "metadata": {},
   "source": [
    "This also works for slices:"
   ]
  },
  {
   "cell_type": "code",
   "execution_count": null,
   "metadata": {},
   "outputs": [],
   "source": [
    "l[:2] = [32, 64]\n",
    "l"
   ]
  },
  {
   "cell_type": "markdown",
   "metadata": {},
   "source": [
    "You can add an object to a list by calling `append` on it, or remove an object with `pop`:"
   ]
  },
  {
   "cell_type": "code",
   "execution_count": null,
   "metadata": {},
   "outputs": [],
   "source": [
    "l.append(1000)\n",
    "l"
   ]
  },
  {
   "cell_type": "code",
   "execution_count": null,
   "metadata": {},
   "outputs": [],
   "source": [
    "# 'pop' without an argument removes the last element in the list\n",
    "# and returns it.\n",
    "l.pop()"
   ]
  },
  {
   "cell_type": "code",
   "execution_count": null,
   "metadata": {},
   "outputs": [],
   "source": [
    "l"
   ]
  },
  {
   "cell_type": "code",
   "execution_count": null,
   "metadata": {},
   "outputs": [],
   "source": [
    "# 'pop' with an integer argument removes the element with that index.\n",
    "l.pop(1)"
   ]
  },
  {
   "cell_type": "code",
   "execution_count": null,
   "metadata": {},
   "outputs": [],
   "source": [
    "l"
   ]
  },
  {
   "cell_type": "markdown",
   "metadata": {},
   "source": [
    "You can concatenate lists with `+`, or `+=`:"
   ]
  },
  {
   "cell_type": "code",
   "execution_count": null,
   "metadata": {},
   "outputs": [],
   "source": [
    "l2 = l + [365, 247]\n",
    "l2"
   ]
  },
  {
   "cell_type": "code",
   "execution_count": null,
   "metadata": {},
   "outputs": [],
   "source": [
    "l2 += [888, 999]\n",
    "l2"
   ]
  },
  {
   "cell_type": "markdown",
   "metadata": {},
   "source": [
    "The `len` method gives you the number of elements in a `list` (or other sequence):"
   ]
  },
  {
   "cell_type": "code",
   "execution_count": null,
   "metadata": {},
   "outputs": [],
   "source": [
    "len(l)"
   ]
  },
  {
   "cell_type": "code",
   "execution_count": null,
   "metadata": {},
   "outputs": [],
   "source": [
    "len(l2)"
   ]
  },
  {
   "cell_type": "markdown",
   "metadata": {},
   "source": [
    "## Tuples"
   ]
  },
  {
   "cell_type": "markdown",
   "metadata": {},
   "source": [
    "These are essentially the same as lists, except that once you've declared a tuple you can't change the elemets in it. They're declared with round brackets `()`."
   ]
  },
  {
   "cell_type": "code",
   "execution_count": null,
   "metadata": {
    "collapsed": true
   },
   "outputs": [],
   "source": [
    "t = (5, 4, 3, 2, 1)"
   ]
  },
  {
   "cell_type": "code",
   "execution_count": null,
   "metadata": {},
   "outputs": [],
   "source": [
    "# Access an element\n",
    "t[0]"
   ]
  },
  {
   "cell_type": "code",
   "execution_count": null,
   "metadata": {},
   "outputs": [],
   "source": [
    "# Access a slice, which returns a tuple\n",
    "t[1:3]"
   ]
  },
  {
   "cell_type": "code",
   "execution_count": null,
   "metadata": {},
   "outputs": [],
   "source": [
    "# Trying to change an element fails though:\n",
    "t[0] = 6"
   ]
  },
  {
   "cell_type": "markdown",
   "metadata": {},
   "source": [
    "Consequently, tuples don't have `append` or `pop` methods.\n",
    "\n",
    "This is useful if you make a sequence that you don't want anyone to be able to change later."
   ]
  },
  {
   "cell_type": "markdown",
   "metadata": {},
   "source": [
    "## Dictionaries"
   ]
  },
  {
   "cell_type": "markdown",
   "metadata": {},
   "source": [
    "These are sequences of (key, value) pairs. Rather than accessing elements using the index, you access them using keys. \n",
    "\n",
    "You declare them with curly brackets `{}`:"
   ]
  },
  {
   "cell_type": "code",
   "execution_count": null,
   "metadata": {},
   "outputs": [],
   "source": [
    "# The syntax is key : value, repeated as needed.\n",
    "d = {'c' : 42, 'b' : True, 'a' : None}\n",
    "d"
   ]
  },
  {
   "cell_type": "markdown",
   "metadata": {},
   "source": [
    "Then access elements using the key in square brackets:"
   ]
  },
  {
   "cell_type": "code",
   "execution_count": null,
   "metadata": {},
   "outputs": [],
   "source": [
    "d['c']"
   ]
  },
  {
   "cell_type": "markdown",
   "metadata": {},
   "source": [
    "Change the value of an element:"
   ]
  },
  {
   "cell_type": "code",
   "execution_count": null,
   "metadata": {},
   "outputs": [],
   "source": [
    "d['a'] = 99\n",
    "d"
   ]
  },
  {
   "cell_type": "markdown",
   "metadata": {},
   "source": [
    "Add a new element:"
   ]
  },
  {
   "cell_type": "code",
   "execution_count": null,
   "metadata": {},
   "outputs": [],
   "source": [
    "d['f'] = -32\n",
    "d"
   ]
  },
  {
   "cell_type": "markdown",
   "metadata": {},
   "source": [
    "Strings are commonly used as keys, but other types can be used:"
   ]
  },
  {
   "cell_type": "code",
   "execution_count": null,
   "metadata": {},
   "outputs": [],
   "source": [
    "d[3.14] = 'pi'\n",
    "d"
   ]
  },
  {
   "cell_type": "code",
   "execution_count": null,
   "metadata": {},
   "outputs": [],
   "source": [
    "d[3.14]"
   ]
  },
  {
   "cell_type": "markdown",
   "metadata": {},
   "source": [
    "## Sets"
   ]
  },
  {
   "cell_type": "markdown",
   "metadata": {},
   "source": [
    "This is the final type of builtin sequence in python. A set contains unique elements. You declare them like lists or tuples with curly brackets:"
   ]
  },
  {
   "cell_type": "code",
   "execution_count": null,
   "metadata": {},
   "outputs": [],
   "source": [
    "s = {1,2,3}\n",
    "s"
   ]
  },
  {
   "cell_type": "markdown",
   "metadata": {},
   "source": [
    "Any duplicate elements are removed:"
   ]
  },
  {
   "cell_type": "code",
   "execution_count": null,
   "metadata": {},
   "outputs": [],
   "source": [
    "s = {1,2,3,1,2,3}\n",
    "s"
   ]
  },
  {
   "cell_type": "markdown",
   "metadata": {},
   "source": [
    "Alternatively, you can use the `set` constructor, and pass it any other sequence, to select unique elements:"
   ]
  },
  {
   "cell_type": "code",
   "execution_count": null,
   "metadata": {},
   "outputs": [],
   "source": [
    "s = set('spam and eggs')\n",
    "s"
   ]
  },
  {
   "cell_type": "markdown",
   "metadata": {},
   "source": [
    "The `in` keyword can use used to check if a set (or any other sequence) contains an element:"
   ]
  },
  {
   "cell_type": "code",
   "execution_count": null,
   "metadata": {},
   "outputs": [],
   "source": [
    "'a' in s"
   ]
  },
  {
   "cell_type": "code",
   "execution_count": null,
   "metadata": {},
   "outputs": [],
   "source": [
    "'b' in s"
   ]
  },
  {
   "cell_type": "markdown",
   "metadata": {},
   "source": [
    "Add or remove elements with the `add` and `remove` functions:"
   ]
  },
  {
   "cell_type": "code",
   "execution_count": null,
   "metadata": {},
   "outputs": [],
   "source": [
    "s.add('k')\n",
    "print(s)\n",
    "'k' in s"
   ]
  },
  {
   "cell_type": "code",
   "execution_count": null,
   "metadata": {},
   "outputs": [],
   "source": [
    "s.remove('p')\n",
    "print(s)\n",
    "'p' in s"
   ]
  },
  {
   "cell_type": "markdown",
   "metadata": {},
   "source": [
    "Sets support operations like mathematical sets, eg, intersection, union, difference:"
   ]
  },
  {
   "cell_type": "code",
   "execution_count": null,
   "metadata": {},
   "outputs": [],
   "source": [
    "s2 = set('spam and eggs')\n",
    "# Get the set of elements in s2 but not in s\n",
    "s2.difference(s)"
   ]
  },
  {
   "cell_type": "code",
   "execution_count": null,
   "metadata": {},
   "outputs": [],
   "source": [
    "# Get the set of elements in both s and s2\n",
    "s2.intersection(s)"
   ]
  },
  {
   "cell_type": "code",
   "execution_count": null,
   "metadata": {},
   "outputs": [],
   "source": [
    "# Get the set of elements in either s or s2\n",
    "s2.union(s)"
   ]
  },
  {
   "cell_type": "markdown",
   "metadata": {},
   "source": [
    "## Iteration"
   ]
  },
  {
   "cell_type": "markdown",
   "metadata": {},
   "source": [
    "This allows you to repeatedly execute a block of code until some exit condition is met.\n",
    "\n",
    "One type of iteration is via a `while` loop. This takes a boolean expression and executes the code block until the expression evaluates to `False`."
   ]
  },
  {
   "cell_type": "code",
   "execution_count": null,
   "metadata": {},
   "outputs": [],
   "source": [
    "i = 0\n",
    "while i < 10 :\n",
    "    print(i)\n",
    "    i += 1"
   ]
  },
  {
   "cell_type": "markdown",
   "metadata": {},
   "source": [
    "The other option is a `for` loop, which takes a sequence (or other iterable object) and loops over the elements in the sequence, assinging them to a given variable at each iteration. This is one of the main benefits to sequences."
   ]
  },
  {
   "cell_type": "code",
   "execution_count": null,
   "metadata": {},
   "outputs": [],
   "source": [
    "l = [1, 4, 7, 10]\n",
    "for i in l :\n",
    "    print(i)"
   ]
  },
  {
   "cell_type": "markdown",
   "metadata": {},
   "source": [
    "You can loop over any sequence with a `for` loop.\n",
    "\n",
    "The `range` method is very useful for looping, as it returns a sequence of integers:"
   ]
  },
  {
   "cell_type": "code",
   "execution_count": null,
   "metadata": {},
   "outputs": [],
   "source": [
    "# If you give one argument, this yields 0 up to but not including the argument\n",
    "for i in range(10) :\n",
    "    print(i)"
   ]
  },
  {
   "cell_type": "code",
   "execution_count": null,
   "metadata": {},
   "outputs": [],
   "source": [
    "# Two arguments gives you the integers between them (again \n",
    "# up to but not including the second argument)\n",
    "for i in range(5, 10) :\n",
    "    print(i)"
   ]
  },
  {
   "cell_type": "code",
   "execution_count": null,
   "metadata": {},
   "outputs": [],
   "source": [
    "# A third argument sets the step size\n",
    "for i in range(10, 20, 2) :\n",
    "    print(i)"
   ]
  },
  {
   "cell_type": "markdown",
   "metadata": {},
   "source": [
    "Other sequence can be looped over with `for` as well:"
   ]
  },
  {
   "cell_type": "code",
   "execution_count": null,
   "metadata": {},
   "outputs": [],
   "source": [
    "parrot = 'Norwegian Blue'\n",
    "# For a string, you loop over each character in turn.\n",
    "print('Characters:')\n",
    "for c in parrot :\n",
    "    print(c)\n",
    "print()\n",
    "# For a set, you loop over elements (not necessarily in\n",
    "# the original order)\n",
    "print('Unique characters:')\n",
    "s = set(parrot)\n",
    "for c in s :\n",
    "    print(c)"
   ]
  },
  {
   "cell_type": "markdown",
   "metadata": {},
   "source": [
    "If you loop over a dictionary, it gives you the keys:"
   ]
  },
  {
   "cell_type": "code",
   "execution_count": null,
   "metadata": {},
   "outputs": [],
   "source": [
    "d = {'a' : 1, 'b' : 2, 'c' : 3}\n",
    "for key in d :\n",
    "    print(key)\n",
    "    print(d[key])"
   ]
  },
  {
   "cell_type": "markdown",
   "metadata": {},
   "source": [
    "Using the `items` function of dictionaries, you can loop over both keys and values simultaneously:"
   ]
  },
  {
   "cell_type": "code",
   "execution_count": null,
   "metadata": {},
   "outputs": [],
   "source": [
    "for key, value in d.items() :\n",
    "    print(key)\n",
    "    print(value)"
   ]
  },
  {
   "cell_type": "markdown",
   "metadata": {},
   "source": [
    "## Casting between types"
   ]
  },
  {
   "cell_type": "markdown",
   "metadata": {},
   "source": [
    "We've seen that you can, eg, make a `set` from a string or list. Converting (or \"casting\") between other types is easy too.\n",
    "\n",
    "For simple numbers, there are two main types: integers (`int`, whole numbers) and floating point numbers (`float`, anything with a decimal point). Using the `int` and `float` functions you can cast between them."
   ]
  },
  {
   "cell_type": "code",
   "execution_count": null,
   "metadata": {},
   "outputs": [],
   "source": [
    "f = 3.2\n",
    "int(f)"
   ]
  },
  {
   "cell_type": "markdown",
   "metadata": {},
   "source": [
    "When casing `float` to `int`, the numbers following the decimal point are discarded:"
   ]
  },
  {
   "cell_type": "code",
   "execution_count": null,
   "metadata": {},
   "outputs": [],
   "source": [
    "int(3.9)"
   ]
  },
  {
   "cell_type": "code",
   "execution_count": null,
   "metadata": {},
   "outputs": [],
   "source": [
    "int(-3.9)"
   ]
  },
  {
   "cell_type": "markdown",
   "metadata": {},
   "source": [
    "If you want instead to find the nearest integer, use the `round` method:"
   ]
  },
  {
   "cell_type": "code",
   "execution_count": null,
   "metadata": {},
   "outputs": [],
   "source": [
    "round(3.9)"
   ]
  },
  {
   "cell_type": "markdown",
   "metadata": {},
   "source": [
    "This can take a second argument which determines how many decimal points to round to:"
   ]
  },
  {
   "cell_type": "code",
   "execution_count": null,
   "metadata": {},
   "outputs": [],
   "source": [
    "round(3.14, 1)"
   ]
  },
  {
   "cell_type": "markdown",
   "metadata": {},
   "source": [
    "Casting from `int` to `float` works similarly:"
   ]
  },
  {
   "cell_type": "code",
   "execution_count": null,
   "metadata": {},
   "outputs": [],
   "source": [
    "i = 12\n",
    "float(12)"
   ]
  },
  {
   "cell_type": "markdown",
   "metadata": {},
   "source": [
    "Note that, even though the number following the decimal point is zero here we still have a `float` and not an `int`.\n",
    "\n",
    "In most cases, `float` and `int` are interchangable anyway. One exception is if an index is expected, in which case you must use an `int`:"
   ]
  },
  {
   "cell_type": "code",
   "execution_count": null,
   "metadata": {},
   "outputs": [],
   "source": [
    "l = [1,2,3]\n",
    "# So this doesn't work\n",
    "l[1.1]"
   ]
  },
  {
   "cell_type": "code",
   "execution_count": null,
   "metadata": {},
   "outputs": [],
   "source": [
    "# But this does\n",
    "l[int(1.1)]"
   ]
  },
  {
   "cell_type": "code",
   "execution_count": null,
   "metadata": {},
   "outputs": [],
   "source": [
    "# Or this\n",
    "l[round(1.6)]"
   ]
  },
  {
   "cell_type": "markdown",
   "metadata": {},
   "source": [
    "Casting from strings to `int` or `float` works as you'd expect:"
   ]
  },
  {
   "cell_type": "code",
   "execution_count": null,
   "metadata": {},
   "outputs": [],
   "source": [
    "float('3.14')"
   ]
  },
  {
   "cell_type": "code",
   "execution_count": null,
   "metadata": {},
   "outputs": [],
   "source": [
    "int('987')"
   ]
  },
  {
   "cell_type": "code",
   "execution_count": null,
   "metadata": {},
   "outputs": [],
   "source": [
    "# Also for scientific notation\n",
    "float('1.2e4')"
   ]
  },
  {
   "cell_type": "markdown",
   "metadata": {},
   "source": [
    "Some things don't make sense to convert to numbers, so you get an exception:"
   ]
  },
  {
   "cell_type": "code",
   "execution_count": null,
   "metadata": {},
   "outputs": [],
   "source": [
    "float('spam')"
   ]
  },
  {
   "cell_type": "code",
   "execution_count": null,
   "metadata": {},
   "outputs": [],
   "source": [
    "# Trying to convert a float type string to an int also fails\n",
    "int('1.1')"
   ]
  },
  {
   "cell_type": "code",
   "execution_count": null,
   "metadata": {},
   "outputs": [],
   "source": [
    "# But you can convert to float and then int\n",
    "int(float('1.1'))"
   ]
  },
  {
   "cell_type": "markdown",
   "metadata": {},
   "source": [
    "Everything in python can be converted to a string using `str`:"
   ]
  },
  {
   "cell_type": "code",
   "execution_count": null,
   "metadata": {},
   "outputs": [],
   "source": [
    "str(3.4)"
   ]
  },
  {
   "cell_type": "code",
   "execution_count": null,
   "metadata": {},
   "outputs": [],
   "source": [
    "str([1,2,3])"
   ]
  },
  {
   "cell_type": "code",
   "execution_count": null,
   "metadata": {},
   "outputs": [],
   "source": [
    "str(None)"
   ]
  },
  {
   "cell_type": "markdown",
   "metadata": {},
   "source": [
    "This is what's done when `print` is called."
   ]
  },
  {
   "cell_type": "markdown",
   "metadata": {},
   "source": [
    "We saw that you can convert strings or lists to a set. You can actually convert between most sequence types:"
   ]
  },
  {
   "cell_type": "code",
   "execution_count": null,
   "metadata": {},
   "outputs": [],
   "source": [
    "s = {1,2,3}\n",
    "list(s)"
   ]
  },
  {
   "cell_type": "code",
   "execution_count": null,
   "metadata": {},
   "outputs": [],
   "source": [
    "# This is the same as doing:\n",
    "l = []\n",
    "for i in s :\n",
    "    l.append(i)\n",
    "l"
   ]
  },
  {
   "cell_type": "code",
   "execution_count": null,
   "metadata": {},
   "outputs": [],
   "source": [
    "tuple(s)"
   ]
  },
  {
   "cell_type": "markdown",
   "metadata": {},
   "source": [
    "We saw for dictionaries that when you loop over one you get the sequence of keys. Consequently, if you make a `set`, `list` or `tuple` from a `dict`, you get the keys:"
   ]
  },
  {
   "cell_type": "code",
   "execution_count": null,
   "metadata": {},
   "outputs": [],
   "source": [
    "d = {'a' : 1, 'b' : 2, 'c' : 3}\n",
    "list(d)"
   ]
  },
  {
   "cell_type": "markdown",
   "metadata": {},
   "source": [
    "If you use the `items` function on a `dict` and convert to a `list` then you get pairs of (key, value):"
   ]
  },
  {
   "cell_type": "code",
   "execution_count": null,
   "metadata": {},
   "outputs": [],
   "source": [
    "pairs = list(d.items())\n",
    "pairs"
   ]
  },
  {
   "cell_type": "markdown",
   "metadata": {},
   "source": [
    "Any sequence of pairs like this can be converted back to a `dict`:"
   ]
  },
  {
   "cell_type": "code",
   "execution_count": null,
   "metadata": {},
   "outputs": [],
   "source": [
    "dict(pairs)"
   ]
  },
  {
   "cell_type": "markdown",
   "metadata": {},
   "source": [
    "Almost everything can be converted to a boolean (`bool`) as well.\n",
    "\n",
    "Any non-zero number gives `True`:"
   ]
  },
  {
   "cell_type": "code",
   "execution_count": null,
   "metadata": {},
   "outputs": [],
   "source": [
    "bool(1)"
   ]
  },
  {
   "cell_type": "code",
   "execution_count": null,
   "metadata": {},
   "outputs": [],
   "source": [
    "bool(0)"
   ]
  },
  {
   "cell_type": "code",
   "execution_count": null,
   "metadata": {},
   "outputs": [],
   "source": [
    "bool(-3.14)"
   ]
  },
  {
   "cell_type": "markdown",
   "metadata": {},
   "source": [
    "Any non-empty sequence gives true:"
   ]
  },
  {
   "cell_type": "code",
   "execution_count": null,
   "metadata": {},
   "outputs": [],
   "source": [
    "# A list\n",
    "bool([1,2,3])"
   ]
  },
  {
   "cell_type": "code",
   "execution_count": null,
   "metadata": {},
   "outputs": [],
   "source": [
    "# A dict\n",
    "bool({'a' : 1, 'b' : 2, 'c' : 3})"
   ]
  },
  {
   "cell_type": "code",
   "execution_count": null,
   "metadata": {},
   "outputs": [],
   "source": [
    "# A string\n",
    "bool('spam')"
   ]
  },
  {
   "cell_type": "code",
   "execution_count": null,
   "metadata": {},
   "outputs": [],
   "source": [
    "# An emtpy list\n",
    "bool([])"
   ]
  },
  {
   "cell_type": "code",
   "execution_count": null,
   "metadata": {},
   "outputs": [],
   "source": [
    "# Or an empty string\n",
    "bool('')"
   ]
  },
  {
   "cell_type": "markdown",
   "metadata": {},
   "source": [
    "So it's easy to convert between the various types in python!"
   ]
  },
  {
   "cell_type": "markdown",
   "metadata": {},
   "source": [
    "## Introspection"
   ]
  },
  {
   "cell_type": "markdown",
   "metadata": {},
   "source": [
    "We've seen some basic functionality provided by python for the different data types so far. If you want to find the full list of functions for an object, python has some good built-in options.\n",
    "\n",
    "First is the `dir` function. If you call this without any argument, you get a list of all the variables you've declared so far."
   ]
  },
  {
   "cell_type": "code",
   "execution_count": null,
   "metadata": {},
   "outputs": [],
   "source": [
    "dir()"
   ]
  },
  {
   "cell_type": "markdown",
   "metadata": {},
   "source": [
    "The large number of variables starting with underscores (`_`) are used internally, but you also see all the variables we've declared so far.\n",
    "\n",
    "One variable that's always present is `__builtins__`. This contains all the built-in data types and functionality that comes with any python installation. So we can use `dir` on it to see everything that's available by default:"
   ]
  },
  {
   "cell_type": "code",
   "execution_count": null,
   "metadata": {},
   "outputs": [],
   "source": [
    "dir(__builtins__)"
   ]
  },
  {
   "cell_type": "markdown",
   "metadata": {},
   "source": [
    "There're a lot of different `Error` types, for all the various things that can go wrong, and also the types we've already seen like `float`, `int`, `list`, `tuple`, `set` and `dict`.\n",
    "\n",
    "You can use `dir` on a data type, or a variable of a given data type, to get the list of functions available for that type of object:"
   ]
  },
  {
   "cell_type": "code",
   "execution_count": null,
   "metadata": {},
   "outputs": [],
   "source": [
    "# Eg, for lists:\n",
    "dir(list)"
   ]
  },
  {
   "cell_type": "markdown",
   "metadata": {},
   "source": [
    "Here we see the `append` and `pop` functions we used previously, as well as many others.\n",
    "\n",
    "The functions with two underscores (`__`) either side if their name are normally only used internally.\n",
    "\n",
    "If you want to get more information than just the names of the functions, you can use the `help` function:"
   ]
  },
  {
   "cell_type": "code",
   "execution_count": null,
   "metadata": {},
   "outputs": [],
   "source": [
    "help(list)"
   ]
  },
  {
   "cell_type": "markdown",
   "metadata": {},
   "source": [
    "This way, you get some information on what the functions do and how to use them as well.\n",
    "\n",
    "You can use this just on a specific function, eg:"
   ]
  },
  {
   "cell_type": "code",
   "execution_count": null,
   "metadata": {},
   "outputs": [],
   "source": [
    "help(list.append)"
   ]
  },
  {
   "cell_type": "markdown",
   "metadata": {},
   "source": [
    "This also works on variables of any type:"
   ]
  },
  {
   "cell_type": "code",
   "execution_count": null,
   "metadata": {},
   "outputs": [],
   "source": [
    "l = [1,2,3]\n",
    "help(l.append)"
   ]
  },
  {
   "cell_type": "markdown",
   "metadata": {},
   "source": [
    "If you want to find out what type a given variable is, you can use the `type` function:"
   ]
  },
  {
   "cell_type": "code",
   "execution_count": null,
   "metadata": {},
   "outputs": [],
   "source": [
    "type(l)"
   ]
  },
  {
   "cell_type": "markdown",
   "metadata": {},
   "source": [
    "and you can use the the `isinstance` method to check if a variable is of a given type:"
   ]
  },
  {
   "cell_type": "code",
   "execution_count": null,
   "metadata": {},
   "outputs": [],
   "source": [
    "isinstance(l, list)"
   ]
  },
  {
   "cell_type": "code",
   "execution_count": null,
   "metadata": {},
   "outputs": [],
   "source": [
    "isinstance(l, tuple)"
   ]
  },
  {
   "cell_type": "markdown",
   "metadata": {},
   "source": [
    "So you can find out a lot about python objects and what you can do with them using these methods, which makes learnig about new data types easy!"
   ]
  },
  {
   "cell_type": "markdown",
   "metadata": {},
   "source": [
    "To find out more about what you can do with strings, try defining a string with your name then reverse it and make all the consonants lower case and all the vowels upper case. Eg, Eg, `'Brave Sir Robin' => 'nIbOr rIs EvArb'`.\n",
    "\n",
    "Make use of `dir` and `help` to find out what useful members the `str` type has. Note that strings are like tuples - once you've defined one, you can't change the individual characters. You'll need to define a new string and add characters in a loop.\n",
    "\n",
    "Once you've worked out how to do this, put it in a function so you can redo it on any string."
   ]
  },
  {
   "cell_type": "code",
   "execution_count": null,
   "metadata": {
    "collapsed": true
   },
   "outputs": [],
   "source": []
  },
  {
   "cell_type": "markdown",
   "metadata": {},
   "source": [
    "# Not so basic python"
   ]
  },
  {
   "cell_type": "markdown",
   "metadata": {},
   "source": [
    "## Classes"
   ]
  },
  {
   "cell_type": "markdown",
   "metadata": {},
   "source": [
    "The built-in data structures like `list` and `dict` are very useful, but it's often convenient to group data and associated functionality in your own \"class\".\n",
    "\n",
    "Classes have: \n",
    "- Member attributes: the data contained by each instance of a class.\n",
    "- Member functions: perform operations using the contained data.\n",
    "\n",
    "Each instance of a class has the same attributes but they can take different values.\n",
    "\n",
    "Classes are defined using the `class` keyword followed by the name of the class the a colon. The indented block of code then defines the member attributes and functions."
   ]
  },
  {
   "cell_type": "code",
   "execution_count": null,
   "metadata": {
    "collapsed": true
   },
   "outputs": [],
   "source": [
    "class Bird :\n",
    "    '''A simple class descriping bird characteristics.'''\n",
    "    \n",
    "    # A string on the line following use of the \"class\" or \"def\" is\n",
    "    # the \"doc string\". This is what's displayed when you call \n",
    "    # \"help\" on the class.\n",
    "    \n",
    "    # The __init__ method (constructor) is called when a new instance of\n",
    "    # the class is instantiated. It initialises any member attributes of \n",
    "    # the class.\n",
    "    \n",
    "    # The first argument of any member function for a class must always\n",
    "    # be 'self'. This refers to the instance of the class on which the\n",
    "    # function is being called.\n",
    "    \n",
    "    def __init__(self, species, weight, beatfreq, beatlength) :\n",
    "        '''Constructor. Takes the (string) species of the bird, its\n",
    "        weight (kg), its wing beat frequency (Hz), and the distance\n",
    "        travelled per wing beat (m).'''\n",
    "        \n",
    "        # Member attributes are assigned like so:\n",
    "        self.species = species\n",
    "        self.weight = weight\n",
    "        self.beatfreq = beatfreq\n",
    "        self.beatlength = beatlength\n",
    "        \n",
    "    # Member functions are defined much like other functions, but again\n",
    "    # with 'self' as the first argument.\n",
    "    def airspeed_velocity(self) :\n",
    "        '''Get the velocity of this bird.'''\n",
    "        \n",
    "        # Member attributes are accessed like so:\n",
    "        return self.beatfreq * self.beatlength\n",
    "    \n",
    "    def kinetic_energy(self) :\n",
    "        '''Get the kinetic energy of this bird.'''\n",
    "        \n",
    "        # Here we call the member function 'airspeed_velocity'\n",
    "        # on 'self' similarly to, eg, calling 'append' on a list.\n",
    "        return 0.5 * self.weight * self.airspeed_velocity()**2\n",
    "    \n",
    "    def is_species(self, species) :\n",
    "        '''Check if this bird is of the given species.'''\n",
    "        return self.species == species\n",
    "\n",
    "    # If you implement the special __str__ function, this returns\n",
    "    # the string that's obtained when you convert an instance of \n",
    "    # this class to a string.\n",
    "    def __str__(self) :\n",
    "        '''Get a string representation of this bird.'''\n",
    "        \n",
    "        selfstr = '''Species: {0}\n",
    "Weight: {1} kg\n",
    "Beat freq: {2} Hz\n",
    "Beat length {3} m'''.format(self.species, self.weight, self.beatfreq, self.beatlength)\n",
    "        return selfstr\n",
    "    \n",
    "    # The __repr__ method is used to get the python representation\n",
    "    # of this class instance. This is what's used when you output\n",
    "    # an object at the prompt (without using print)\n",
    "    def __repr__(self) :\n",
    "        '''Get the python representation of this bird.'''\n",
    "        \n",
    "        return 'Bird({0!r}, {1!r}, {2!r}, {3!r})'.format(self.species, self.weight, self.beatfreq, self.beatlength)"
   ]
  },
  {
   "cell_type": "markdown",
   "metadata": {},
   "source": [
    "Then you can make instances of your class like so:"
   ]
  },
  {
   "cell_type": "code",
   "execution_count": null,
   "metadata": {
    "collapsed": true
   },
   "outputs": [],
   "source": [
    "eur_swallow = Bird('European Swallow', 0.02, 15, 0.73)\n",
    "afr_swallow = Bird('African Swallow', 0.03, 12, 0.9)"
   ]
  },
  {
   "cell_type": "markdown",
   "metadata": {},
   "source": [
    "Access member attributes:"
   ]
  },
  {
   "cell_type": "code",
   "execution_count": null,
   "metadata": {},
   "outputs": [],
   "source": [
    "eur_swallow.weight"
   ]
  },
  {
   "cell_type": "code",
   "execution_count": null,
   "metadata": {},
   "outputs": [],
   "source": [
    "afr_swallow.beatfreq"
   ]
  },
  {
   "cell_type": "markdown",
   "metadata": {},
   "source": [
    "Call member methods:"
   ]
  },
  {
   "cell_type": "code",
   "execution_count": null,
   "metadata": {},
   "outputs": [],
   "source": [
    "print(eur_swallow.airspeed_velocity())\n",
    "print(afr_swallow.airspeed_velocity())"
   ]
  },
  {
   "cell_type": "code",
   "execution_count": null,
   "metadata": {},
   "outputs": [],
   "source": [
    "eur_swallow.is_species(afr_swallow.species)"
   ]
  },
  {
   "cell_type": "markdown",
   "metadata": {},
   "source": [
    "Convert to a string:"
   ]
  },
  {
   "cell_type": "code",
   "execution_count": null,
   "metadata": {},
   "outputs": [],
   "source": [
    "str(eur_swallow)"
   ]
  },
  {
   "cell_type": "code",
   "execution_count": null,
   "metadata": {},
   "outputs": [],
   "source": [
    "print(eur_swallow)"
   ]
  },
  {
   "cell_type": "markdown",
   "metadata": {},
   "source": [
    "Get the python representation of the object:"
   ]
  },
  {
   "cell_type": "code",
   "execution_count": null,
   "metadata": {},
   "outputs": [],
   "source": [
    "repr(afr_swallow)"
   ]
  },
  {
   "cell_type": "code",
   "execution_count": null,
   "metadata": {},
   "outputs": [],
   "source": [
    "afr_swallow"
   ]
  },
  {
   "cell_type": "markdown",
   "metadata": {},
   "source": [
    "As said, the strings that follow `class` or `def` lines are what's used by `help`:"
   ]
  },
  {
   "cell_type": "code",
   "execution_count": null,
   "metadata": {},
   "outputs": [],
   "source": [
    "help(Bird)"
   ]
  },
  {
   "cell_type": "markdown",
   "metadata": {},
   "source": [
    "In general, if you have some data and some associated functions, it's a good idea to put these in a class. This way, everything's grouped together and can be edited easily if needed. \n",
    "\n",
    "The goal when structuring code is that, if you have to make a change, it should only be necessary to do an edit in one place (so your code is easy to \"maintain\"). Classes make it much easier to achieve this! \n",
    "\n",
    "Also, when writing code, always take a minute to add doc strings to any classes and functions. It makes it much easier for people (including yourself down the line) to find out what your code does and how to use it."
   ]
  },
  {
   "cell_type": "markdown",
   "metadata": {},
   "source": [
    "## Modules"
   ]
  },
  {
   "cell_type": "markdown",
   "metadata": {},
   "source": [
    "These are python's way of grouping data, functions, and classes. Functionality from the `builtins` module is available by default. To use additional functionality you need to `import` the appropriate module. Eg, the `math` module contains a lot of useful mathematical functions."
   ]
  },
  {
   "cell_type": "code",
   "execution_count": null,
   "metadata": {
    "collapsed": true
   },
   "outputs": [],
   "source": [
    "import math"
   ]
  },
  {
   "cell_type": "code",
   "execution_count": null,
   "metadata": {},
   "outputs": [],
   "source": [
    "# You can use dir or help on modules as well to see what they contain.\n",
    "dir(math)"
   ]
  },
  {
   "cell_type": "code",
   "execution_count": null,
   "metadata": {},
   "outputs": [],
   "source": [
    "# Access them using the module name (after you've imported it)\n",
    "print(math.pi)"
   ]
  },
  {
   "cell_type": "code",
   "execution_count": null,
   "metadata": {},
   "outputs": [],
   "source": [
    "# Use the sin method in the math module.\n",
    "for i in range(12) :\n",
    "    print(math.sin(i * math.pi/6))"
   ]
  },
  {
   "cell_type": "markdown",
   "metadata": {},
   "source": [
    "If you don't want always to have to use the module name as prefix, you can import a function, etc, from the module like:"
   ]
  },
  {
   "cell_type": "code",
   "execution_count": null,
   "metadata": {
    "collapsed": true
   },
   "outputs": [],
   "source": [
    "from math import tan, pi"
   ]
  },
  {
   "cell_type": "code",
   "execution_count": null,
   "metadata": {},
   "outputs": [],
   "source": [
    "# Then you can just use tan and pi directly\n",
    "for i in range(12) :\n",
    "    print(tan(i * pi/12 - pi/2.))"
   ]
  },
  {
   "cell_type": "markdown",
   "metadata": {},
   "source": [
    "To import everything from a module you can do, eg"
   ]
  },
  {
   "cell_type": "code",
   "execution_count": null,
   "metadata": {
    "collapsed": true
   },
   "outputs": [],
   "source": [
    "from math import *"
   ]
  },
  {
   "cell_type": "code",
   "execution_count": null,
   "metadata": {},
   "outputs": [],
   "source": [
    "# Then we have everything that was displayed by 'dir' previously\n",
    "cos(pi)"
   ]
  },
  {
   "cell_type": "code",
   "execution_count": null,
   "metadata": {},
   "outputs": [],
   "source": [
    "floor(3.9)"
   ]
  },
  {
   "cell_type": "markdown",
   "metadata": {},
   "source": [
    "You have to be a little careful when importing though, particularly when import everything from a module, as it can overwrite existing variables."
   ]
  },
  {
   "cell_type": "code",
   "execution_count": null,
   "metadata": {},
   "outputs": [],
   "source": [
    "pi = 'pi'\n",
    "print(pi)\n",
    "from math import pi\n",
    "print(pi)"
   ]
  },
  {
   "cell_type": "markdown",
   "metadata": {},
   "source": [
    "The \"Standard Library\" is the set of modules that are available with any standard python installation. There's a huge amount of functionality available, which is listed [here](https://docs.python.org/3/library/). You can rely on these being available on any machine with python installed.\n",
    "\n",
    "Even more functionality is available from the [python package index](https://pypi.org/), any of which can be installed via \"`pip`\" (the python package manager).\n",
    "\n",
    "In order to reuse and share your own code, you can make your own modules simply by putting your code into a plain text file (normally suffixed with .py), as described [here](https://docs.python.org/3/tutorial/modules.html). This also tells you how to create a \"package\" which is just a group of modules. You can even import a Jupyter notebook in the same way as a module, though doing so is quite involved (details [here](https://jupyter-notebook.readthedocs.io/en/stable/examples/Notebook/Importing%20Notebooks.html)), so isn't recommended.\n",
    "\n",
    "Of course, before you start writing a new module, it's always best to check if the Standard Library or package index has something that'll do the job for you!"
   ]
  },
  {
   "cell_type": "markdown",
   "metadata": {},
   "source": [
    "The `datetime` module is very useful for date manipulations. Try using the `date` class from the `datetime` module to work out exactly how old you are in days (using `dir` and `help` as needed)."
   ]
  },
  {
   "cell_type": "code",
   "execution_count": null,
   "metadata": {
    "collapsed": true
   },
   "outputs": [],
   "source": []
  },
  {
   "cell_type": "markdown",
   "metadata": {},
   "source": [
    "Now try to work out on which date you will be/were 10000 days old."
   ]
  },
  {
   "cell_type": "code",
   "execution_count": null,
   "metadata": {
    "collapsed": true
   },
   "outputs": [],
   "source": []
  },
  {
   "cell_type": "markdown",
   "metadata": {},
   "source": [
    "## Input & output"
   ]
  },
  {
   "cell_type": "markdown",
   "metadata": {},
   "source": [
    "Jupyter notebooks are already very good at input & output, but there are some other options.\n",
    "\n",
    "You can easily read and write text files via the `open` builtin function. This takes as arguments the name of the file and the mode in which to open it. The modes are\n",
    "- 'r' (default) for read-only.\n",
    "- 'w' for write. This will overwrite an existing file of the same name.\n",
    "- 'a' for append. This will add to the end of an existing file, or create the file if it doesn't exist."
   ]
  },
  {
   "cell_type": "code",
   "execution_count": null,
   "metadata": {},
   "outputs": [],
   "source": [
    "# Let's write some lines to a file.\n",
    "f = open('movie_titles.txt', 'w')\n",
    "\n",
    "# Write a string to the file. Note that you need to explicitly \n",
    "# include the \\n newline character.\n",
    "f.write('The Quest\\n')\n",
    "\n",
    "# Or write several lines contained in a sequence. You still \n",
    "# need to include the newline character.\n",
    "f.writelines(['for the\\n', 'Holy Grail\\n'])\n",
    "\n",
    "# You need to explicitly close the file once you're done with\n",
    "# it to ensure it's written properly.\n",
    "f.close()"
   ]
  },
  {
   "cell_type": "code",
   "execution_count": null,
   "metadata": {},
   "outputs": [],
   "source": [
    "# Then open the file in read mode.\n",
    "f = open('movie_titles.txt')\n",
    "\n",
    "# Read the whole file into a string.\n",
    "contents = f.read()\n",
    "print(contents)"
   ]
  },
  {
   "cell_type": "code",
   "execution_count": null,
   "metadata": {},
   "outputs": [],
   "source": [
    "# Note that once you've read a file, the 'cursor' is at the end\n",
    "# so another call to read returns nothing.\n",
    "print(f.read())"
   ]
  },
  {
   "cell_type": "code",
   "execution_count": null,
   "metadata": {},
   "outputs": [],
   "source": [
    "# But you can reset the curser with the 'seek' method. Normally\n",
    "# you won't need to do this, since you can store the contents\n",
    "# of the file in a variable from the first call to 'read'.\n",
    "f.seek(0)\n",
    "print(f.read())"
   ]
  },
  {
   "cell_type": "code",
   "execution_count": null,
   "metadata": {},
   "outputs": [],
   "source": [
    "# Another way to read the whole file is to use 'readlines'.\n",
    "# This is handy as it returns a list of lines in the file.\n",
    "f.seek(0)\n",
    "lines = f.readlines()\n",
    "print(lines)"
   ]
  },
  {
   "cell_type": "code",
   "execution_count": null,
   "metadata": {},
   "outputs": [],
   "source": [
    "# Alternatively, you can loop over the file with a 'for' loop,\n",
    "# which gives you each line in sequence. This is handy for line\n",
    "# by line manipulations of the contents of the file, without\n",
    "# having to read the whole thing in one go (particularly for \n",
    "# large files).\n",
    "f.seek(0)\n",
    "i = 0\n",
    "for line in f :\n",
    "    print(i, line)\n",
    "    i += 1"
   ]
  },
  {
   "cell_type": "code",
   "execution_count": null,
   "metadata": {
    "collapsed": true
   },
   "outputs": [],
   "source": [
    "# Then close the file when we're done with it.\n",
    "f.close()"
   ]
  },
  {
   "cell_type": "markdown",
   "metadata": {},
   "source": [
    "When working with files, remembering to close them is tedious. To avoid this, they can be opened using the `with` keyword. Once the block of code following the `with` statement is completed, automatic cleanup actions are performed. For files, this just means closing the file."
   ]
  },
  {
   "cell_type": "code",
   "execution_count": null,
   "metadata": {},
   "outputs": [],
   "source": [
    "# The 'closed' attribute of a file tells you whether it's \n",
    "# closed or not.\n",
    "with open('movie_titles.txt') as f :\n",
    "    lines = f.readlines()\n",
    "    print(f.closed)\n",
    "print(f.closed)\n",
    "print(lines)"
   ]
  },
  {
   "cell_type": "markdown",
   "metadata": {},
   "source": [
    "Work out how to parse the file created below into a dictionary with the names as keys and the numbers as `int` values."
   ]
  },
  {
   "cell_type": "code",
   "execution_count": null,
   "metadata": {
    "collapsed": true
   },
   "outputs": [],
   "source": [
    "# Write the file\n",
    "with open('phonebook.txt', 'w') as f :\n",
    "    f.write('''Sir Lancelot 2343\n",
    "Sir Robin 8945\n",
    "Sir Gallahad 2302''')\n",
    "    \n",
    "# For comparison, this is what you're expected to get:\n",
    "expected = {'Sir Lancelot' : 2343,\n",
    "           'Sir Robin' : 8945,\n",
    "           'Sir Gallahad' : 2302}"
   ]
  },
  {
   "cell_type": "code",
   "execution_count": null,
   "metadata": {
    "collapsed": true
   },
   "outputs": [],
   "source": []
  },
  {
   "cell_type": "markdown",
   "metadata": {},
   "source": [
    "This way, you can quite easily save some results to a file, or read in a data file, parse it into a useful python format, and then do some analysis on it.\n",
    "\n",
    "Various other input and output options are available:\n",
    "\n",
    "- Automatic parsing of common file formats is often available in the Standard Library, eg, the [csv](https://docs.python.org/3/library/csv.html) module for reading and writing .csv files.\n",
    "\n",
    "- For reading and writing more complicated objects to and from a file, check out the [pickle](https://docs.python.org/3/library/pickle.html) module.\n",
    "\n",
    "- If you write a script and want to pass it arguments from the commandline, then have a look at [argparse](https://docs.python.org/3/library/argparse.html) (if you don't know what the commandline is, then don't worry)."
   ]
  },
  {
   "cell_type": "markdown",
   "metadata": {},
   "source": [
    "## Exceptions"
   ]
  },
  {
   "cell_type": "markdown",
   "metadata": {},
   "source": [
    "We've already encountered a few of these while working through this notebook. These occur when the python interpreter encounters a problem and can't continue. There are many different types. They normally point you to the offending piece of code and give you some information on the problem."
   ]
  },
  {
   "cell_type": "code",
   "execution_count": null,
   "metadata": {},
   "outputs": [],
   "source": [
    "# Try to access a variable that doesn't exist\n",
    "roderick"
   ]
  },
  {
   "cell_type": "code",
   "execution_count": null,
   "metadata": {},
   "outputs": [],
   "source": [
    "# Pass a string that can't be converted to a number to 'int'\n",
    "int('a')"
   ]
  },
  {
   "cell_type": "code",
   "execution_count": null,
   "metadata": {},
   "outputs": [],
   "source": [
    "# Or pass the wrong type of argument to a function.\n",
    "import math\n",
    "math.sqrt('a')"
   ]
  },
  {
   "cell_type": "code",
   "execution_count": null,
   "metadata": {},
   "outputs": [],
   "source": [
    "# Divide by zero\n",
    "1/0"
   ]
  },
  {
   "cell_type": "code",
   "execution_count": null,
   "metadata": {},
   "outputs": [],
   "source": [
    "# Take the sqrt of a negative number\n",
    "math.sqrt(-1)"
   ]
  },
  {
   "cell_type": "code",
   "execution_count": null,
   "metadata": {},
   "outputs": [],
   "source": [
    "# Use invalid syntax\n",
    "'Don't forget to escape!"
   ]
  },
  {
   "cell_type": "markdown",
   "metadata": {},
   "source": [
    "The full set of standard exceptions that you can encounter are contained in the `builtins` module, as we saw earlier."
   ]
  },
  {
   "cell_type": "code",
   "execution_count": null,
   "metadata": {},
   "outputs": [],
   "source": [
    "# You can also import builtins, which is the same as __builtins__\n",
    "import builtins\n",
    "dir(builtins)"
   ]
  },
  {
   "cell_type": "markdown",
   "metadata": {},
   "source": [
    "When you encounter an exception, you can \"catch\" it and take some actions, so your code execution doesn't necessarily stop. This is done with the `try`/`except` syntax, which is similar to `if`/`elif`.\n",
    "\n",
    "You first `try` to execute block of code, and if this raises an exception you can handle it with `except`, optionally differently for different types of exception. Eg:"
   ]
  },
  {
   "cell_type": "code",
   "execution_count": null,
   "metadata": {},
   "outputs": [],
   "source": [
    "# You can use several 'except' statements followed by an \n",
    "# exception type to handle different types of exceptions, \n",
    "# or have an except statement without a following type\n",
    "# to catch any type of exception.\n",
    "def print_inverse(x) :\n",
    "    '''Print 1/x.'''\n",
    "    try :\n",
    "        print(1./x)\n",
    "    except TypeError :\n",
    "        print(repr(x), 'is a', type(x),\n",
    "            ', not a number!')\n",
    "    except ZeroDivisionError :\n",
    "        print(\"Can't divide by zero!\")\n",
    "    except :\n",
    "        print(\"Something else went wrong!\")"
   ]
  },
  {
   "cell_type": "code",
   "execution_count": null,
   "metadata": {},
   "outputs": [],
   "source": [
    "print_inverse(3)"
   ]
  },
  {
   "cell_type": "code",
   "execution_count": null,
   "metadata": {},
   "outputs": [],
   "source": [
    "print_inverse(0)"
   ]
  },
  {
   "cell_type": "code",
   "execution_count": null,
   "metadata": {},
   "outputs": [],
   "source": [
    "print_inverse('a')"
   ]
  },
  {
   "cell_type": "markdown",
   "metadata": {},
   "source": [
    "You can also raise exceptions if necessary with the `raise` keyword."
   ]
  },
  {
   "cell_type": "code",
   "execution_count": null,
   "metadata": {
    "collapsed": true
   },
   "outputs": [],
   "source": [
    "def print_inverse(x) :\n",
    "    if not isinstance(x, (int, float)) :\n",
    "        # The TypeError constructor takes a string \n",
    "        # message that's printed when raised.\n",
    "        raise TypeError('{0!r} is a {1}, not a number!'\\\n",
    "                        .format(x, type(x)))\n",
    "    else :\n",
    "        print(1./x)"
   ]
  },
  {
   "cell_type": "code",
   "execution_count": null,
   "metadata": {},
   "outputs": [],
   "source": [
    "print_inverse('spam')"
   ]
  },
  {
   "cell_type": "markdown",
   "metadata": {},
   "source": [
    "The `as`, `finally` and `else` keywords are also useful in exception handling, see [here](https://docs.python.org/3/tutorial/errors.html) for more info."
   ]
  },
  {
   "cell_type": "markdown",
   "metadata": {},
   "source": [
    "# Further reading"
   ]
  },
  {
   "cell_type": "markdown",
   "metadata": {},
   "source": [
    "Hopefully you now know enough to get you started with simple python programming, and have the tools to find out how to do more (if all else fails, google is always a programmer's friend!).\n",
    "\n",
    "As said at the start, the [official python tutorial](https://docs.python.org/3/tutorial/) is a good place to get more in-depth information.\n",
    "\n",
    "I also have my own more detailed course, [here](https://mannymoo.github.io/IntroductionToPython/), which includes some (normally up to date) [installation instructions](https://mannymoo.github.io/IntroductionToPython/SUPAPYT-Installation-Instructions.html) so you can run python and Jupyter on your own machine.\n",
    "\n",
    "There are a lot of resources available to you - we've barely scraped the surface:\n",
    "- [Builtins](https://docs.python.org/3/library/functions.html) gives access to a large number of functions and classes with a wide range of applications. Being familiar with them makes things much easier.\n",
    "- The [Standard Library](https://docs.python.org/3/library/) has a huge amount of other useful functionality.\n",
    "- The [python Package Index](https://pypi.org/) gives you access to even more."
   ]
  },
  {
   "cell_type": "markdown",
   "metadata": {},
   "source": [
    "A specific example is of a useful package for scientific programming is [SciPy](https://scipy.org/), which is available through the [Package Index](https://pypi.org/project/scipy/). It also normally comes with any Jupyter installation. It contains:\n",
    "- Numpy: mathematical functions, particularly for arrays, matrices, linear algebra, etc.\n",
    "- Matplotlib: for graphical data representation.\n",
    "- Pandas: data structures & analysis.\n",
    "- Sympy: for symbolic math (algebra in programming)."
   ]
  },
  {
   "cell_type": "markdown",
   "metadata": {},
   "source": [
    "Another great project for maths is [Sage](http://www.sagemath.org/), which is a free, open-source, python based alternative to the likes of Mathematica or Maple (it builds on SciPy)."
   ]
  },
  {
   "cell_type": "markdown",
   "metadata": {},
   "source": [
    "It's not just about science and maths though, you can also, eg, write [games in python](https://code.tutsplus.com/tutorials/building-games-with-python-3-and-pygame-part-1--cms-30081)."
   ]
  },
  {
   "cell_type": "markdown",
   "metadata": {},
   "source": [
    "You can also interact with web services via python, eg, [twitter](https://pypi.org/project/twitter/)."
   ]
  },
  {
   "cell_type": "markdown",
   "metadata": {},
   "source": [
    "The possibilities are limitless!\n",
    "\n",
    "[Happy Pythonising!](https://www.youtube.com/watch?v=W3rP-8mWWeY)"
   ]
  }
 ],
 "metadata": {
  "kernelspec": {
   "display_name": "Python 3",
   "language": "python",
   "name": "python3"
  },
  "language_info": {
   "codemirror_mode": {
    "name": "ipython",
    "version": 3
   },
   "file_extension": ".py",
   "mimetype": "text/x-python",
   "name": "python",
   "nbconvert_exporter": "python",
   "pygments_lexer": "ipython3",
   "version": "3.6.5"
  }
 },
 "nbformat": 4,
 "nbformat_minor": 2
}
