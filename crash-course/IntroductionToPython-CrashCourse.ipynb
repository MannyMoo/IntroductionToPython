{
 "cells": [
  {
   "cell_type": "markdown",
   "metadata": {},
   "source": [
    "---\n",
    "# Introduction to"
   ]
  },
  {
   "cell_type": "markdown",
   "metadata": {},
   "source": [
    "<img src = '../SUPAPYT-files/python-logo.jpeg', width = 400>"
   ]
  },
  {
   "cell_type": "markdown",
   "metadata": {},
   "source": [
    "# <p style='text-align: right;'> - Crash Course </p> \n",
    "---"
   ]
  },
  {
   "cell_type": "markdown",
   "metadata": {},
   "source": [
    "Welcome to this brief, introductory couse in the python programming language!\n",
    "\n",
    "It's intended to take a few hours and to be suitable for novice programmers.\n",
    "\n",
    "More in depth materials are available at the [python homepage](https://www.python.org), including a [beginners' guide](https://www.python.org/about/gettingstarted/) and a longer [tutorial](https://docs.python.org/3/tutorial/)."
   ]
  },
  {
   "cell_type": "markdown",
   "metadata": {
    "collapsed": true
   },
   "source": [
    "# Jupyter notebooks\n",
    "\n",
    "This course is presented in the form of a [Jupyter notebook](http://jupyter.org/), which provides a web browser based interface to the python interpreter, so you can execute code, as well as text formatting and other nice features. This is particularly useful for teaching, though there are several other ways to interact with the python interpreter. Which to use depends on your use case.\n",
    "\n",
    "Jupyter notebooks are best navigated with the keyboard. They're arranged in cells, which can be text to be displayed or code to be evaluated. To evaluate a cell, use `Shift+Enter`. This displays the output of the cell and moves you on to the next cell, creating one if necessary.\n",
    "\n",
    "There are two modes in a notebook: \n",
    " - Command mode, accessed by pressing `Esc`. In this mode you can create a new cell below the current one by pressing `B` or above it with `A`. You can also change the type of a cell to code with `Y` or text with `M`. You can also scroll through cells using the arrow keys.\n",
    " - Edit mode, accessed by pressing `Enter`. This allows you to edit the contents of a cell.\n",
    " \n",
    "You can evaluate a cell with `Shift+Enter` in either mode.\n",
    "\n",
    "Various other keyboard shortcuts are available, which you can view under Help $\\to$ Keyboard Shortcuts on the menu bar at the top of the page."
   ]
  },
  {
   "cell_type": "markdown",
   "metadata": {},
   "source": [
    "# Basic python"
   ]
  },
  {
   "cell_type": "markdown",
   "metadata": {},
   "source": [
    "Python is designed to be intuitive, easy to learn and easy to read.\n",
    "\n",
    "It's an \"interpreted\" language, meaning that you can pass any statement to the interpreter for immediate evaluation. This is compared to a \"compiled\" language where an intermediate \"compiler\" step translates human readable code into code that's understood by the computer."
   ]
  },
  {
   "cell_type": "markdown",
   "metadata": {},
   "source": [
    "## Numbers"
   ]
  },
  {
   "cell_type": "markdown",
   "metadata": {},
   "source": [
    "The python interpreter is useful as a simple calculator:"
   ]
  },
  {
   "cell_type": "code",
   "execution_count": 1,
   "metadata": {},
   "outputs": [
    {
     "data": {
      "text/plain": [
       "6"
      ]
     },
     "execution_count": 1,
     "metadata": {},
     "output_type": "execute_result"
    }
   ],
   "source": [
    "1 + 5"
   ]
  },
  {
   "cell_type": "code",
   "execution_count": 2,
   "metadata": {},
   "outputs": [
    {
     "data": {
      "text/plain": [
       "8760"
      ]
     },
     "execution_count": 2,
     "metadata": {},
     "output_type": "execute_result"
    }
   ],
   "source": [
    "24 * 365"
   ]
  },
  {
   "cell_type": "code",
   "execution_count": 4,
   "metadata": {},
   "outputs": [
    {
     "data": {
      "text/plain": [
       "3600"
      ]
     },
     "execution_count": 4,
     "metadata": {},
     "output_type": "execute_result"
    }
   ],
   "source": [
    "60**2"
   ]
  },
  {
   "cell_type": "markdown",
   "metadata": {},
   "source": [
    "The basic mathematical operations available are:\n",
    "\n",
    "    +    add\n",
    "\n",
    "    -    subtract\n",
    "\n",
    "    *    multiply\n",
    "\n",
    "    /    divide\n",
    "\n",
    "    %    remainder\n",
    "\n",
    "    **   exponentiate (raise to a power)\n"
   ]
  },
  {
   "cell_type": "markdown",
   "metadata": {},
   "source": [
    "You can create named variables and give them a value like so:"
   ]
  },
  {
   "cell_type": "code",
   "execution_count": 5,
   "metadata": {
    "collapsed": true
   },
   "outputs": [],
   "source": [
    "a = 12.5\n",
    "b = 42."
   ]
  },
  {
   "cell_type": "markdown",
   "metadata": {},
   "source": [
    "Note that this doesn't give any output - that only happens if you have an expression on the last line of a cell that's not assigned to a variable. You can then check the value of the variables like so:"
   ]
  },
  {
   "cell_type": "code",
   "execution_count": 6,
   "metadata": {},
   "outputs": [
    {
     "data": {
      "text/plain": [
       "12.5"
      ]
     },
     "execution_count": 6,
     "metadata": {},
     "output_type": "execute_result"
    }
   ],
   "source": [
    "a"
   ]
  },
  {
   "cell_type": "code",
   "execution_count": 7,
   "metadata": {},
   "outputs": [
    {
     "data": {
      "text/plain": [
       "42.0"
      ]
     },
     "execution_count": 7,
     "metadata": {},
     "output_type": "execute_result"
    }
   ],
   "source": [
    "b"
   ]
  },
  {
   "cell_type": "markdown",
   "metadata": {},
   "source": [
    "You can also use the `print` function to output the value of a variable at any point in a cell:"
   ]
  },
  {
   "cell_type": "code",
   "execution_count": 12,
   "metadata": {},
   "outputs": [
    {
     "name": "stdout",
     "output_type": "stream",
     "text": [
      "264.3\n",
      "33.3\n"
     ]
    }
   ],
   "source": [
    "a = 264.3\n",
    "print(a)\n",
    "b = 33.3\n",
    "print(b)"
   ]
  },
  {
   "cell_type": "markdown",
   "metadata": {},
   "source": [
    "Note that changing the value of a variable is done in the same way as declaring a new variable. \n",
    "\n",
    "You can assign several variables the same value at once with, eg:"
   ]
  },
  {
   "cell_type": "code",
   "execution_count": 17,
   "metadata": {},
   "outputs": [
    {
     "data": {
      "text/plain": [
       "(0.0, 0.0, 0.0)"
      ]
     },
     "execution_count": 17,
     "metadata": {},
     "output_type": "execute_result"
    }
   ],
   "source": [
    "x = y = z = 0.\n",
    "x, y, z"
   ]
  },
  {
   "cell_type": "markdown",
   "metadata": {},
   "source": [
    "or different values with:"
   ]
  },
  {
   "cell_type": "code",
   "execution_count": 19,
   "metadata": {},
   "outputs": [
    {
     "name": "stdout",
     "output_type": "stream",
     "text": [
      "1 2 3\n"
     ]
    }
   ],
   "source": [
    "x, y, z = 1, 2, 3\n",
    "print(x, y, z)"
   ]
  },
  {
   "cell_type": "markdown",
   "metadata": {},
   "source": [
    "Having defined some variables, you can use them in expressions just like numbers:"
   ]
  },
  {
   "cell_type": "code",
   "execution_count": 13,
   "metadata": {},
   "outputs": [
    {
     "data": {
      "text/plain": [
       "8801.19"
      ]
     },
     "execution_count": 13,
     "metadata": {},
     "output_type": "execute_result"
    }
   ],
   "source": [
    "a * b"
   ]
  },
  {
   "cell_type": "markdown",
   "metadata": {},
   "source": [
    "or assign new variables from the value of expressions including other variables:"
   ]
  },
  {
   "cell_type": "code",
   "execution_count": 14,
   "metadata": {},
   "outputs": [
    {
     "data": {
      "text/plain": [
       "349273.41521739133"
      ]
     },
     "execution_count": 14,
     "metadata": {},
     "output_type": "execute_result"
    }
   ],
   "source": [
    "c = 5 * a**2 + b/34.5\n",
    "c"
   ]
  },
  {
   "cell_type": "markdown",
   "metadata": {},
   "source": [
    "So it's straightforward to do basic calculations, eg, work out the kinetic energy of a 65 kg pro cyclist travelling at 17 m/s (~60 kph) and that of a 75 kg commuter cyclist travelling at 5.6 m/s (~20 kph), then work out the ratio of the two ($E = \\frac{1}{2} m v^2)$:"
   ]
  },
  {
   "cell_type": "code",
   "execution_count": null,
   "metadata": {
    "collapsed": true
   },
   "outputs": [],
   "source": []
  },
  {
   "cell_type": "markdown",
   "metadata": {},
   "source": [
    "If you want to repeat a calculation with different input values, you can define a function using the `def` keyword, like so:"
   ]
  },
  {
   "cell_type": "code",
   "execution_count": 2,
   "metadata": {
    "collapsed": true
   },
   "outputs": [],
   "source": [
    "def kinetic_energy(mass, velocity) :\n",
    "    return 0.5 * mass * velocity**2"
   ]
  },
  {
   "cell_type": "markdown",
   "metadata": {},
   "source": [
    "Following `def` you have:\n",
    "- The name of the function \n",
    "- In brackets, the names of the arguments of the function separated by commas\n",
    "- A colon at the end of the definition line\n",
    "- An indented block of code. This is what's evaluated when the function is called. It can be as many lines as needed. All lines within the function must have the same indentation (number of spaces) at the start of the line.\n",
    "- The `return` keyword followed by the value returned by the function.\n",
    "\n",
    "Having defined a function, you can now call it, passing the argument values between the bracket, and (optionally) assign a variable from the return value:"
   ]
  },
  {
   "cell_type": "code",
   "execution_count": 3,
   "metadata": {},
   "outputs": [
    {
     "name": "stdout",
     "output_type": "stream",
     "text": [
      "9392.5\n"
     ]
    }
   ],
   "source": [
    "ek_pro = kinetic_energy(65, 17)\n",
    "print(ek_pro)"
   ]
  },
  {
   "cell_type": "markdown",
   "metadata": {},
   "source": [
    "(Note that `print` is a built-in function which outputs to the console the arguments passed to it.)\n",
    "\n",
    "This way, for repeated calculations, you only need to write the function definition once and then you can use it anywhere you need it. \n",
    "\n",
    "This avoids the need to copy-and-paste the same expression to several places. If you find yourself copy-and-pasting a block of code, you should probably put it in a function instead. Then, if you need to change the expression at all, you only need to do so in one place!\n",
    "\n",
    "Using the above function, you can easily redo the question of the cyclists' kinetic energies for any input values."
   ]
  },
  {
   "cell_type": "code",
   "execution_count": null,
   "metadata": {
    "collapsed": true
   },
   "outputs": [],
   "source": []
  },
  {
   "cell_type": "markdown",
   "metadata": {},
   "source": [
    "## Strings"
   ]
  },
  {
   "cell_type": "markdown",
   "metadata": {},
   "source": [
    "Apart from numbers, there are several other basic data types in python. \"Strings\" are sequences of characters, and are defined using either single or double quotes:"
   ]
  },
  {
   "cell_type": "code",
   "execution_count": 8,
   "metadata": {},
   "outputs": [
    {
     "data": {
      "text/plain": [
       "'A string with double quotes'"
      ]
     },
     "execution_count": 8,
     "metadata": {},
     "output_type": "execute_result"
    }
   ],
   "source": [
    "str1 = \"A string with double quotes\"\n",
    "str1"
   ]
  },
  {
   "cell_type": "code",
   "execution_count": 9,
   "metadata": {},
   "outputs": [
    {
     "data": {
      "text/plain": [
       "'A string with single quotes'"
      ]
     },
     "execution_count": 9,
     "metadata": {},
     "output_type": "execute_result"
    }
   ],
   "source": [
    "str2 = 'A string with single quotes'\n",
    "str2"
   ]
  },
  {
   "cell_type": "code",
   "execution_count": 10,
   "metadata": {},
   "outputs": [
    {
     "name": "stdout",
     "output_type": "stream",
     "text": [
      "A string with double quotes\n",
      "A string with single quotes\n"
     ]
    }
   ],
   "source": [
    "print(str1)\n",
    "print(str2)"
   ]
  },
  {
   "cell_type": "markdown",
   "metadata": {},
   "source": [
    "Note that putting the string at the end of a cell gives a different output to printing it. In the first case, it shows the python representation of the variable, while `print` shows the human readable version (a little more on that later).\n",
    "\n",
    "Python doesn't care whether you use single or double quotes, so long as you use the same type at the start and end of the string.\n",
    "\n",
    "If you want to declare a string that contains quote marks of the same type as those enclosing it, you need to \"escape\" the contained quotes with a backslash:"
   ]
  },
  {
   "cell_type": "code",
   "execution_count": 11,
   "metadata": {},
   "outputs": [
    {
     "ename": "SyntaxError",
     "evalue": "invalid syntax (<ipython-input-11-9f82628e4296>, line 1)",
     "output_type": "error",
     "traceback": [
      "\u001b[0;36m  File \u001b[0;32m\"<ipython-input-11-9f82628e4296>\"\u001b[0;36m, line \u001b[0;32m1\u001b[0m\n\u001b[0;31m    'This won't work\u001b[0m\n\u001b[0m              ^\u001b[0m\n\u001b[0;31mSyntaxError\u001b[0m\u001b[0;31m:\u001b[0m invalid syntax\n"
     ]
    }
   ],
   "source": [
    "'This won't work"
   ]
  },
  {
   "cell_type": "markdown",
   "metadata": {},
   "source": [
    "Here we have our first \"exception\" - these are raised when python encounters a problem and can't continue. In this case, you get a `SyntaxError` since the given expression can't be understood by the interpreter."
   ]
  },
  {
   "cell_type": "code",
   "execution_count": 16,
   "metadata": {},
   "outputs": [
    {
     "data": {
      "text/plain": [
       "\"This isn't a problem\""
      ]
     },
     "execution_count": 16,
     "metadata": {},
     "output_type": "execute_result"
    }
   ],
   "source": [
    "'This isn\\'t a problem'"
   ]
  },
  {
   "cell_type": "code",
   "execution_count": 17,
   "metadata": {},
   "outputs": [
    {
     "data": {
      "text/plain": [
       "\"This isn't a problem either\""
      ]
     },
     "execution_count": 17,
     "metadata": {},
     "output_type": "execute_result"
    }
   ],
   "source": [
    "\"This isn't a problem either\""
   ]
  },
  {
   "cell_type": "markdown",
   "metadata": {},
   "source": [
    "You can declare multi-line strings using triple quotes:"
   ]
  },
  {
   "cell_type": "code",
   "execution_count": 18,
   "metadata": {},
   "outputs": [
    {
     "data": {
      "text/plain": [
       "'This\\nis a multi-line\\nstring'"
      ]
     },
     "execution_count": 18,
     "metadata": {},
     "output_type": "execute_result"
    }
   ],
   "source": [
    "multi = \"\"\"This\n",
    "is a multi-line\n",
    "string\"\"\"\n",
    "multi"
   ]
  },
  {
   "cell_type": "markdown",
   "metadata": {},
   "source": [
    "Here `\\n` is the newline character."
   ]
  },
  {
   "cell_type": "code",
   "execution_count": 19,
   "metadata": {},
   "outputs": [
    {
     "name": "stdout",
     "output_type": "stream",
     "text": [
      "This\n",
      "is a multi-line\n",
      "string\n"
     ]
    }
   ],
   "source": [
    "print(multi)"
   ]
  },
  {
   "cell_type": "markdown",
   "metadata": {},
   "source": [
    "You can also use `\\n` when declaring strings:"
   ]
  },
  {
   "cell_type": "code",
   "execution_count": 20,
   "metadata": {},
   "outputs": [
    {
     "name": "stdout",
     "output_type": "stream",
     "text": [
      "A different\n",
      "multi-line\n",
      "string\n"
     ]
    }
   ],
   "source": [
    "multi = 'A different\\nmulti-line\\nstring'\n",
    "print(multi)"
   ]
  },
  {
   "cell_type": "markdown",
   "metadata": {},
   "source": [
    "Strings can be concatenated with `+` or `+=`:"
   ]
  },
  {
   "cell_type": "code",
   "execution_count": 21,
   "metadata": {},
   "outputs": [
    {
     "name": "stdout",
     "output_type": "stream",
     "text": [
      "Brave Sir Robin\n",
      "Brave Sir Robin ran away\n"
     ]
    }
   ],
   "source": [
    "line = 'Brave'\n",
    "line2 = line + ' Sir Robin'\n",
    "print(line2)\n",
    "line2 += ' ran away'\n",
    "print(line2)"
   ]
  },
  {
   "cell_type": "markdown",
   "metadata": {},
   "source": [
    "Square brackets give access to single characters or \"slices\" of the string:"
   ]
  },
  {
   "cell_type": "code",
   "execution_count": 22,
   "metadata": {},
   "outputs": [
    {
     "name": "stdout",
     "output_type": "stream",
     "text": [
      "B\n",
      "e\n",
      "Brave\n"
     ]
    }
   ],
   "source": [
    "print(line2[0])\n",
    "print(line2[4])\n",
    "print(line2[0:5])"
   ]
  },
  {
   "cell_type": "markdown",
   "metadata": {},
   "source": [
    "The indices start at zero and go up to the length of the string minus 1. \n",
    "\n",
    "When slicing, you give two indices separated by a colon. The returned slice goes from the first index up to but not including the second index. If you omit the first index, the slice starts at the beginning. If you omit the second index, the slice goes to the end."
   ]
  },
  {
   "cell_type": "code",
   "execution_count": 24,
   "metadata": {},
   "outputs": [
    {
     "name": "stdout",
     "output_type": "stream",
     "text": [
      "Brave Sir Robin \n",
      "ran away\n"
     ]
    }
   ],
   "source": [
    "print(line2[:16])\n",
    "print(line2[16:])"
   ]
  },
  {
   "cell_type": "markdown",
   "metadata": {},
   "source": [
    "Negative indices can also be used, which count backwards from the end of the string:"
   ]
  },
  {
   "cell_type": "code",
   "execution_count": 27,
   "metadata": {},
   "outputs": [
    {
     "name": "stdout",
     "output_type": "stream",
     "text": [
      "ran \n",
      "away\n"
     ]
    }
   ],
   "source": [
    "print(line2[-8:-4])\n",
    "print(line2[-4:])"
   ]
  },
  {
   "cell_type": "markdown",
   "metadata": {},
   "source": [
    "Strings are mainly used for making output more easily readable (though they have other applications). So, rather than just printing the numerical value, you can add some useful info:"
   ]
  },
  {
   "cell_type": "code",
   "execution_count": 32,
   "metadata": {},
   "outputs": [
    {
     "name": "stdout",
     "output_type": "stream",
     "text": [
      "The kinetic energy of a 80.2423 kg cyclist travelling at 10.6543 m/s is 4554.316573843563 J.\n"
     ]
    }
   ],
   "source": [
    "m = 80.2423\n",
    "v = 10.6543\n",
    "ek = kinetic_energy(m, v)\n",
    "print('The kinetic energy of a', m, 'kg cyclist travelling at', v, 'm/s is', ek, 'J.')"
   ]
  },
  {
   "cell_type": "markdown",
   "metadata": {},
   "source": [
    "However, all those trailing digits aren't really needed. To make things tidier, you can use the `format` method:"
   ]
  },
  {
   "cell_type": "code",
   "execution_count": 33,
   "metadata": {},
   "outputs": [
    {
     "name": "stdout",
     "output_type": "stream",
     "text": [
      "The kinetic energy of a 80.2423 kg cyclist travelling at 10.6543 m/s is 4554.32 J.\n"
     ]
    }
   ],
   "source": [
    "ek_str = '{0:.2f}'.format(ek)\n",
    "print('The kinetic energy of a', m, 'kg cyclist travelling at', v, 'm/s is', ek_str, 'J.')"
   ]
  },
  {
   "cell_type": "markdown",
   "metadata": {},
   "source": [
    "When calling `format` on a string, the parts in curly brackets, {}, are replaced with formatted versions of the arguments given to `format`. Within the curly brackets, you have first the index of the argument passed to format, then a colon, then the formatting arguments. Here, `.2f` means round to 2 decimal places and output as a floating point number.\n",
    "\n",
    "So we can take it further:"
   ]
  },
  {
   "cell_type": "code",
   "execution_count": 34,
   "metadata": {},
   "outputs": [
    {
     "name": "stdout",
     "output_type": "stream",
     "text": [
      "The kinetic energy of a 80.2 kg cyclist travelling at 10.7 m/s is 4554.32 J.\n"
     ]
    }
   ],
   "source": [
    "message = 'The kinetic energy of a {0:.1f} kg cyclist travelling at {1:.1f} m/s is {2:.2f} J.'.format(m, v, ek)\n",
    "print(message)"
   ]
  },
  {
   "cell_type": "code",
   "execution_count": null,
   "metadata": {
    "collapsed": true
   },
   "outputs": [],
   "source": []
  }
 ],
 "metadata": {
  "kernelspec": {
   "display_name": "Python 3",
   "language": "python",
   "name": "python3"
  },
  "language_info": {
   "codemirror_mode": {
    "name": "ipython",
    "version": 3
   },
   "file_extension": ".py",
   "mimetype": "text/x-python",
   "name": "python",
   "nbconvert_exporter": "python",
   "pygments_lexer": "ipython3",
   "version": "3.6.5"
  }
 },
 "nbformat": 4,
 "nbformat_minor": 2
}
