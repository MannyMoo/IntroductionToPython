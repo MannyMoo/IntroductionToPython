{
 "cells": [
  {
   "cell_type": "markdown",
   "metadata": {},
   "source": [
    "# SUPAPYT - Hands on Exercises"
   ]
  },
  {
   "cell_type": "markdown",
   "metadata": {},
   "source": [
    "- Here're some suggested exercises to help familiarise you with python.\n",
    "- We'll work through them in the labs, but you can of course try them in your own time too."
   ]
  },
  {
   "cell_type": "markdown",
   "metadata": {},
   "source": [
    "## 1)"
   ]
  },
  {
   "cell_type": "markdown",
   "metadata": {},
   "source": [
    "- Make sure you can start the interactive interpreter from the commandline, as discussed [in the lectures](https://mannymoo.github.io/IntroductionToPython/SUPAPYT-IntroductionToPython.html#Starting-the-python-interpreter).\n",
    "- Start the interpeter, evaluate some simple maths expressions and then quit it."
   ]
  },
  {
   "cell_type": "markdown",
   "metadata": {},
   "source": [
    "## 2)"
   ]
  },
  {
   "cell_type": "markdown",
   "metadata": {},
   "source": [
    "- Try writing a simple script and passing it to the interpreter via the commandline ([see here](http://localhost:8888/notebooks/SUPAPYT-IntroductionToPython.ipynb#Python-Scripts)).\n",
    "- This can be as simple as the \"Hello world!\" example in the lectures.\n",
    "- You can do the rest of the exercises at the commandline using a combination of the interactive interpreter and scripts, or using the Jupyter notebook format (if you have Jupyter installed). It's up to you which to use, so long as you know how to do both (or at least the use of the commandline)."
   ]
  },
  {
   "cell_type": "markdown",
   "metadata": {},
   "source": [
    "## 3)"
   ]
  },
  {
   "cell_type": "markdown",
   "metadata": {},
   "source": [
    "- Convert `101010` from binary to base 10."
   ]
  },
  {
   "cell_type": "code",
   "execution_count": 1,
   "metadata": {},
   "outputs": [
    {
     "name": "stdout",
     "output_type": "stream",
     "text": [
      "42\n",
      "42\n"
     ]
    }
   ],
   "source": [
    "# Either prefix with 0b\n",
    "print(0b101010)\n",
    "# Or convert from a string with base 2.\n",
    "print(int('101010', 2))"
   ]
  },
  {
   "cell_type": "markdown",
   "metadata": {},
   "source": [
    "- Convert `2a` from hexidecimal to base 10."
   ]
  },
  {
   "cell_type": "code",
   "execution_count": 2,
   "metadata": {},
   "outputs": [
    {
     "name": "stdout",
     "output_type": "stream",
     "text": [
      "42\n",
      "42\n"
     ]
    }
   ],
   "source": [
    "# Same with 0x\n",
    "print(0x2a)\n",
    "# or base 16.\n",
    "print(int('2a', 16))"
   ]
  },
  {
   "cell_type": "markdown",
   "metadata": {},
   "source": [
    "## 4)"
   ]
  },
  {
   "cell_type": "markdown",
   "metadata": {},
   "source": [
    "- Write a function to calculate the length of the hypotenuse of a right angle triangle given the lengths of the other two sides.\n",
    "- What's the hypotenuse of a right angle triangle with other sides of length 6 and 8?"
   ]
  },
  {
   "cell_type": "code",
   "execution_count": 4,
   "metadata": {},
   "outputs": [
    {
     "data": {
      "text/plain": [
       "10.0"
      ]
     },
     "execution_count": 4,
     "metadata": {},
     "output_type": "execute_result"
    }
   ],
   "source": [
    "def hypotenuse(len1, len2) :\n",
    "    '''Calculate the length of the hypotenuse of a right \n",
    "    angle triangle given the length of the other two sides.'''\n",
    "    \n",
    "    return (len1**2 + len2**2)**.5\n",
    "\n",
    "hypotenuse(6, 8)"
   ]
  },
  {
   "cell_type": "markdown",
   "metadata": {},
   "source": [
    "## 5)"
   ]
  },
  {
   "cell_type": "markdown",
   "metadata": {},
   "source": [
    "- The above is an example of a [Pythagorean triple](https://en.wikipedia.org/wiki/Pythagorean_triple), as all three sides are integers.\n",
    "- Write a function which tests for Pythagorean triples:\n",
    "    - Take the length of the other two sides as arguments.\n",
    "    - Check if they're integers.\n",
    "    - Calculate the hypotenuse.\n",
    "    - Check if it's an integer.\n",
    "    - Return `True` if all three are integers, else `False`.\n",
    "- Verify that (6, 8) is a Pythagorean triple.\n",
    "- Check (32, 46), (161, 240), and (372, 496)."
   ]
  },
  {
   "cell_type": "code",
   "execution_count": 8,
   "metadata": {},
   "outputs": [
    {
     "name": "stdout",
     "output_type": "stream",
     "text": [
      "True\n",
      "False\n",
      "True\n",
      "True\n"
     ]
    }
   ],
   "source": [
    "def test_pythagorean_triple(len1, len2) :\n",
    "    '''Calculate the hypotenuse of a right angle triangle \n",
    "    given the other two sides and check if they form a \n",
    "    Pythagorean triple'''\n",
    "    \n",
    "    if int(len1) != len1 or int(len2) != len2 :\n",
    "        return False\n",
    "    hyp = hypotenuse(len1, len2)\n",
    "    return int(hyp) == hyp\n",
    "\n",
    "print(test_pythagorean_triple(6, 8))\n",
    "print(test_pythagorean_triple(32, 46))\n",
    "print(test_pythagorean_triple(161, 240))\n",
    "print(test_pythagorean_triple(372, 496))"
   ]
  },
  {
   "cell_type": "markdown",
   "metadata": {},
   "source": [
    "## 6)"
   ]
  },
  {
   "cell_type": "markdown",
   "metadata": {},
   "source": [
    "- Using two nested `for` loops, find all Pythagorean triples with hypotenuse < 100.\n",
    "- Put each triple into a `tuple` of length 3 and add it to a list containing all the triples.\n",
    "- Loop over the list of all triples and print them in columns of width three, eg, (6, 8, 10) $\\to$"
   ]
  },
  {
   "cell_type": "raw",
   "metadata": {},
   "source": [
    "  6   8  10"
   ]
  },
  {
   "cell_type": "code",
   "execution_count": 15,
   "metadata": {},
   "outputs": [
    {
     "name": "stdout",
     "output_type": "stream",
     "text": [
      "  3   4   5\n",
      "  5  12  13\n",
      "  6   8  10\n",
      "  7  24  25\n",
      "  8  15  17\n",
      "  9  12  15\n",
      "  9  40  41\n",
      " 10  24  26\n",
      " 11  60  61\n",
      " 12  16  20\n",
      " 12  35  37\n",
      " 13  84  85\n",
      " 14  48  50\n",
      " 15  20  25\n",
      " 15  36  39\n",
      " 16  30  34\n",
      " 16  63  65\n",
      " 18  24  30\n",
      " 18  80  82\n",
      " 20  21  29\n",
      " 20  48  52\n",
      " 21  28  35\n",
      " 21  72  75\n",
      " 24  32  40\n",
      " 24  45  51\n",
      " 24  70  74\n",
      " 25  60  65\n",
      " 27  36  45\n",
      " 28  45  53\n",
      " 30  40  50\n",
      " 30  72  78\n",
      " 32  60  68\n",
      " 33  44  55\n",
      " 33  56  65\n",
      " 35  84  91\n",
      " 36  48  60\n",
      " 36  77  85\n",
      " 39  52  65\n",
      " 39  80  89\n",
      " 40  42  58\n",
      " 40  75  85\n",
      " 42  56  70\n",
      " 45  60  75\n",
      " 48  55  73\n",
      " 48  64  80\n",
      " 51  68  85\n",
      " 54  72  90\n",
      " 57  76  95\n",
      " 60  63  87\n",
      " 65  72  97\n"
     ]
    }
   ],
   "source": [
    "triples = []\n",
    "for len1 in range(1, 99) :\n",
    "    for len2 in range(len1+1, 99) :\n",
    "        hyp = hypotenuse(len1, len2)\n",
    "        if hyp < 100 and int(hyp) == hyp :\n",
    "            triples.append((len1, len2, int(hyp)))\n",
    "\n",
    "for len1, len2, hyp in triples :\n",
    "    print('{0:3d} {1:3d} {2:3d}'.format(len1, len2, hyp))"
   ]
  },
  {
   "cell_type": "markdown",
   "metadata": {},
   "source": [
    "## 7)"
   ]
  },
  {
   "cell_type": "markdown",
   "metadata": {},
   "source": [
    "- Try overriding one of the built-in types, like `list`, `int` or `str` by assigning it another value (normally you should avoid doing this).\n",
    "- Verify that the built-in type is lost.\n",
    "- Can you recover it?"
   ]
  },
  {
   "cell_type": "code",
   "execution_count": 16,
   "metadata": {},
   "outputs": [
    {
     "ename": "TypeError",
     "evalue": "'int' object is not callable",
     "output_type": "error",
     "traceback": [
      "\u001b[0;31m---------------------------------------------------------------------------\u001b[0m",
      "\u001b[0;31mTypeError\u001b[0m                                 Traceback (most recent call last)",
      "\u001b[0;32m<ipython-input-16-2b31bd9594c3>\u001b[0m in \u001b[0;36m<module>\u001b[0;34m\u001b[0m\n\u001b[1;32m      2\u001b[0m \u001b[0mint\u001b[0m \u001b[0;34m=\u001b[0m \u001b[0;36m1\u001b[0m\u001b[0;34m\u001b[0m\u001b[0;34m\u001b[0m\u001b[0m\n\u001b[1;32m      3\u001b[0m \u001b[0;31m# Now we've lost the int constructor.\u001b[0m\u001b[0;34m\u001b[0m\u001b[0;34m\u001b[0m\u001b[0;34m\u001b[0m\u001b[0m\n\u001b[0;32m----> 4\u001b[0;31m \u001b[0mi\u001b[0m \u001b[0;34m=\u001b[0m \u001b[0mint\u001b[0m\u001b[0;34m(\u001b[0m\u001b[0;36m3.2\u001b[0m\u001b[0;34m)\u001b[0m\u001b[0;34m\u001b[0m\u001b[0;34m\u001b[0m\u001b[0m\n\u001b[0m",
      "\u001b[0;31mTypeError\u001b[0m: 'int' object is not callable"
     ]
    }
   ],
   "source": [
    "# Make a variable named 'int'\n",
    "int = 1\n",
    "# Now we've lost the int constructor.\n",
    "i = int(3.2)"
   ]
  },
  {
   "cell_type": "code",
   "execution_count": 18,
   "metadata": {},
   "outputs": [
    {
     "name": "stdout",
     "output_type": "stream",
     "text": [
      "<class 'int'> <class 'type'>\n"
     ]
    }
   ],
   "source": [
    "# Delete the local variable with name 'int'\n",
    "del int\n",
    "# Then the original 'int' is recovered.\n",
    "print(int, type(int))"
   ]
  },
  {
   "cell_type": "markdown",
   "metadata": {},
   "source": [
    "## 8)"
   ]
  },
  {
   "cell_type": "markdown",
   "metadata": {},
   "source": [
    "- We've discussed briefly the idea of \"mutable\" and \"immutable\" objects in python.\n",
    "- All basic types are immutable apart from lists and dictionaries.\n",
    "- See what happens when you assign a variable to the same object, then change the original variable."
   ]
  },
  {
   "cell_type": "code",
   "execution_count": 40,
   "metadata": {},
   "outputs": [
    {
     "name": "stdout",
     "output_type": "stream",
     "text": [
      "2 1\n"
     ]
    }
   ],
   "source": [
    "# Assign a variable to 'a'.\n",
    "a = 1\n",
    "# This assigns variable 'b' to refer to the\n",
    "# same object as 'a'.\n",
    "b = a\n",
    "# But this then assigns a different object\n",
    "# to variable 'a'.\n",
    "a = 2\n",
    "# So b is unchanged by the change to a, as\n",
    "# you might expect.\n",
    "print(a, b)"
   ]
  },
  {
   "cell_type": "code",
   "execution_count": 41,
   "metadata": {},
   "outputs": [
    {
     "name": "stdout",
     "output_type": "stream",
     "text": [
      "['eggs'] ['eggs']\n"
     ]
    }
   ],
   "source": [
    "# Here we do similarly to above with L1 and L2.\n",
    "L1 = ['spam', 'eggs']\n",
    "L2 = L1\n",
    "# However here, rather than assigning a new object\n",
    "# to L1 we modify the underlying object.\n",
    "del L1[0]\n",
    "# As L1 and L2 refer to the same object the change\n",
    "# is apparent to both variables\n",
    "print(L1, L2)"
   ]
  },
  {
   "cell_type": "code",
   "execution_count": 42,
   "metadata": {},
   "outputs": [
    {
     "name": "stdout",
     "output_type": "stream",
     "text": [
      "('spam', 'eggs', 'spam') ('spam', 'eggs')\n"
     ]
    }
   ],
   "source": [
    "t1 = ('spam', 'eggs')\n",
    "t2 = t1\n",
    "# Again, here the difference is that we declare \n",
    "# a new object and assign it to variable t1, so\n",
    "# t1 and t2 no longer refer to the same object.\n",
    "t1 = t1 + ('spam',)\n",
    "print(t1, t2)"
   ]
  },
  {
   "cell_type": "markdown",
   "metadata": {},
   "source": [
    "- In python the variable name and the object to which it refers are distinct.\n",
    "- In c++ terms every variable in python is like a pointer.\n",
    "- For mutable objects you can access and modify the object via any variable assigned to it.\n",
    "- For immutable objects any attempt to change the object either raises an exception or creates a new object and assigns it to the variable. \n",
    "- The `id` built-in method returns a unique integer for every object (try `help(id)`) so you can use it to check if variables refer to the same object, or if an operation has modified an existing object or assigned a new object to the same variable."
   ]
  },
  {
   "cell_type": "code",
   "execution_count": 43,
   "metadata": {},
   "outputs": [
    {
     "name": "stdout",
     "output_type": "stream",
     "text": [
      "4415615992 True\n"
     ]
    }
   ],
   "source": [
    "# The id method returns an integer that's a \n",
    "# unique identifier of a given object.\n",
    "L1 = [1,2,3]\n",
    "L2 = L1\n",
    "# We see that the id of the objects refered to\n",
    "# by L1 and L2 are the same, so they're the same\n",
    "# object.\n",
    "print(id(L1), id(L1) == id(L2))"
   ]
  },
  {
   "cell_type": "code",
   "execution_count": 44,
   "metadata": {},
   "outputs": [
    {
     "name": "stdout",
     "output_type": "stream",
     "text": [
      "['0', 1, 2, 3, '4'] ['0', 1, 2, 3, '4']\n",
      "True\n"
     ]
    }
   ],
   "source": [
    "# Modifying the object doesn't affect what L1 and\n",
    "# L2 refer to.\n",
    "L1.append('4')\n",
    "L2.insert(0, '0')\n",
    "print(L1, L2)\n",
    "print(id(L1) == id(L2))"
   ]
  },
  {
   "cell_type": "code",
   "execution_count": 45,
   "metadata": {},
   "outputs": [
    {
     "name": "stdout",
     "output_type": "stream",
     "text": [
      "['0', 1, 2, 3, '4', 5, 6] ['0', 1, 2, 3, '4']\n",
      "False\n"
     ]
    }
   ],
   "source": [
    "# But this syntax creates a new list and assigns\n",
    "# it to L1, so L1 and L2 no longer refer to the \n",
    "# same object.\n",
    "L1 = L1 + [5, 6]\n",
    "print(L1, L2)\n",
    "print(id(L1) == id(L2))"
   ]
  },
  {
   "cell_type": "code",
   "execution_count": 46,
   "metadata": {},
   "outputs": [
    {
     "name": "stdout",
     "output_type": "stream",
     "text": [
      "True\n"
     ]
    }
   ],
   "source": [
    "# New object creation and assignment is sometimes\n",
    "# hidden. Eg, you might expect the += operator to\n",
    "# modify the original object rather than creating\n",
    "# a new one. For mutable objects this is true:\n",
    "L1 = [1,2,3]\n",
    "oldid = id(L1)\n",
    "L1 += [4, 5, 6]\n",
    "print(id(L1) == oldid)"
   ]
  },
  {
   "cell_type": "code",
   "execution_count": 47,
   "metadata": {},
   "outputs": [
    {
     "name": "stdout",
     "output_type": "stream",
     "text": [
      "False\n"
     ]
    }
   ],
   "source": [
    "# But for immutable objects, like strings, += \n",
    "# actually creates a new string and assigns it\n",
    "# to the original variable.\n",
    "s = 'spam'\n",
    "oldid = id(s)\n",
    "# So this is actually like s = s + ' and eggs'.\n",
    "s += ' and eggs'\n",
    "print(id(s) == oldid)"
   ]
  },
  {
   "cell_type": "markdown",
   "metadata": {},
   "source": [
    "## 9)"
   ]
  },
  {
   "cell_type": "markdown",
   "metadata": {},
   "source": [
    "- Given the above, can you work out how you'd make a copy of a list, rather than creating a new variable that refers to the same list?\n",
    "- There are a few different ways."
   ]
  },
  {
   "cell_type": "code",
   "execution_count": 48,
   "metadata": {},
   "outputs": [
    {
     "name": "stdout",
     "output_type": "stream",
     "text": [
      "True\n"
     ]
    }
   ],
   "source": [
    "# We've seen that this just assigns a new \n",
    "# variable to refer to the same object.\n",
    "L1 = [1,2,3]\n",
    "L2 = L1\n",
    "print(id(L1) == id(L2))"
   ]
  },
  {
   "cell_type": "code",
   "execution_count": 49,
   "metadata": {},
   "outputs": [
    {
     "name": "stdout",
     "output_type": "stream",
     "text": [
      "[1, 2, 3] [1, 2, 3]\n",
      "False\n"
     ]
    }
   ],
   "source": [
    "# You could create a new, empty list and\n",
    "# plug in the values of the original one,\n",
    "# but this is a bit cumbersome.\n",
    "L2 = []\n",
    "for elm in L1 :\n",
    "    L2.append(elm)\n",
    "print(L1, L2)\n",
    "print(id(L1) == id(L2))"
   ]
  },
  {
   "cell_type": "code",
   "execution_count": 50,
   "metadata": {},
   "outputs": [
    {
     "name": "stdout",
     "output_type": "stream",
     "text": [
      "[1, 2, 3] [1, 2, 3]\n",
      "False\n"
     ]
    }
   ],
   "source": [
    "# One alternative is to use slicing, but\n",
    "# take a slice containing every element in the\n",
    "# list, as a slice of a list returns a new \n",
    "# list object.\n",
    "L2 = L1[:]\n",
    "print(L1, L2)\n",
    "print(id(L1) == id(L2))"
   ]
  },
  {
   "cell_type": "code",
   "execution_count": 51,
   "metadata": {},
   "outputs": [
    {
     "name": "stdout",
     "output_type": "stream",
     "text": [
      "[1, 2, 3] [1, 2, 3]\n",
      "False\n"
     ]
    }
   ],
   "source": [
    "# Or else you can simply pass the original\n",
    "# list to the list constructor.\n",
    "L2 = list(L1)\n",
    "print(L1, L2)\n",
    "print(id(L1) == id(L2))"
   ]
  },
  {
   "cell_type": "markdown",
   "metadata": {},
   "source": [
    "## 10)"
   ]
  },
  {
   "cell_type": "markdown",
   "metadata": {},
   "source": [
    "- When slicing sequences (where supported) you can give a thrid int after a second colon, eg "
   ]
  },
  {
   "cell_type": "code",
   "execution_count": 52,
   "metadata": {},
   "outputs": [
    {
     "name": "stdout",
     "output_type": "stream",
     "text": [
      "[2, 3, 4]\n"
     ]
    }
   ],
   "source": [
    "l = [1,2,3,4,5]\n",
    "print(l[1:4:1])"
   ]
  },
  {
   "cell_type": "markdown",
   "metadata": {},
   "source": [
    "- Try to work out what this third int means. What happens if you give it a negative value?"
   ]
  },
  {
   "cell_type": "code",
   "execution_count": 53,
   "metadata": {},
   "outputs": [
    {
     "name": "stdout",
     "output_type": "stream",
     "text": [
      "[1, 3, 5]\n"
     ]
    }
   ],
   "source": [
    "# The third int represents the step size when \n",
    "# selecting elements from the list. So to select\n",
    "# every other element you can do:\n",
    "print(l[0:len(l):2])"
   ]
  },
  {
   "cell_type": "code",
   "execution_count": 54,
   "metadata": {},
   "outputs": [
    {
     "name": "stdout",
     "output_type": "stream",
     "text": [
      "[1, 3, 5]\n"
     ]
    }
   ],
   "source": [
    "# Which is the same as:\n",
    "print(l[::2])"
   ]
  },
  {
   "cell_type": "code",
   "execution_count": 55,
   "metadata": {},
   "outputs": [
    {
     "name": "stdout",
     "output_type": "stream",
     "text": [
      "[]\n",
      "[5, 4, 3]\n"
     ]
    }
   ],
   "source": [
    "# Using a negative value for the step size means \n",
    "# it steps backwards through the list. However,\n",
    "# then the first index must be larger than the \n",
    "# second, else you just get an empty list:\n",
    "print(l[1:4:-1])\n",
    "print(l[4:1:-1])"
   ]
  },
  {
   "cell_type": "code",
   "execution_count": 56,
   "metadata": {},
   "outputs": [
    {
     "name": "stdout",
     "output_type": "stream",
     "text": [
      "[5, 4, 3, 2, 1]\n"
     ]
    }
   ],
   "source": [
    "# That means you can easily reverse a list (or\n",
    "# other sequence that supports slicing) by doing:\n",
    "print(l[::-1])"
   ]
  },
  {
   "cell_type": "markdown",
   "metadata": {},
   "source": [
    "## 11)"
   ]
  },
  {
   "cell_type": "markdown",
   "metadata": {},
   "source": [
    "- Define a string with your name with your name and write a script to provide your name in reverse with all vowels capitalised and all consonants lower case.\n",
    "- Eg, `'Brave Sir Robin' => 'nIbOr rIs EvArb'`"
   ]
  },
  {
   "cell_type": "code",
   "execution_count": 57,
   "metadata": {},
   "outputs": [
    {
     "ename": "TypeError",
     "evalue": "'str' object does not support item assignment",
     "output_type": "error",
     "traceback": [
      "\u001b[0;31m---------------------------------------------------------------------------\u001b[0m\n\u001b[0;31mTypeError\u001b[0m                                 Traceback (most recent call last)",
      "\u001b[0;32m<ipython-input-57-0dedf87058f4>\u001b[0m in \u001b[0;36m<module>\u001b[0;34m()\u001b[0m\n\u001b[1;32m      4\u001b[0m \u001b[0;31m# an exception, as strings are immutable.\u001b[0m\u001b[0;34m\u001b[0m\u001b[0;34m\u001b[0m\u001b[0m\n\u001b[1;32m      5\u001b[0m \u001b[0mname\u001b[0m \u001b[0;34m=\u001b[0m \u001b[0;34m'Brave Sir Robin'\u001b[0m\u001b[0;34m\u001b[0m\u001b[0m\n\u001b[0;32m----> 6\u001b[0;31m \u001b[0mname\u001b[0m\u001b[0;34m[\u001b[0m\u001b[0;36m0\u001b[0m\u001b[0;34m]\u001b[0m \u001b[0;34m=\u001b[0m \u001b[0mname\u001b[0m\u001b[0;34m[\u001b[0m\u001b[0;36m0\u001b[0m\u001b[0;34m]\u001b[0m\u001b[0;34m.\u001b[0m\u001b[0mlower\u001b[0m\u001b[0;34m(\u001b[0m\u001b[0;34m)\u001b[0m\u001b[0;34m\u001b[0m\u001b[0m\n\u001b[0m",
      "\u001b[0;31mTypeError\u001b[0m: 'str' object does not support item assignment"
     ]
    }
   ],
   "source": [
    "# Again there are a few options in doing this.\n",
    "# The main pitfall here is that attempting to\n",
    "# modify a single character in a string raises\n",
    "# an exception, as strings are immutable.\n",
    "name = 'Brave Sir Robin'\n",
    "name[0] = name[0].lower()"
   ]
  },
  {
   "cell_type": "code",
   "execution_count": 58,
   "metadata": {},
   "outputs": [
    {
     "name": "stdout",
     "output_type": "stream",
     "text": [
      "nIbOr rIs EvArb\n"
     ]
    }
   ],
   "source": [
    "# So you need to declare a new string\n",
    "# to contain your modified string.\n",
    "newname = ''\n",
    "# Then you could loop backwards over \n",
    "# characters in the original string and\n",
    "# add them to the new string one by one.\n",
    "vowels = 'aeiou'\n",
    "for i in range(len(name)-1, -1, -1) :\n",
    "    c = name[i].lower()\n",
    "    if c in vowels :\n",
    "        c = c.upper()\n",
    "    newname += c\n",
    "# This is effective but requires several\n",
    "# lines of code.\n",
    "print(newname)"
   ]
  },
  {
   "cell_type": "code",
   "execution_count": 59,
   "metadata": {},
   "outputs": [
    {
     "name": "stdout",
     "output_type": "stream",
     "text": [
      "Bae\n",
      "BaeSrRbn\n"
     ]
    }
   ],
   "source": [
    "# We can use slicing on strings similarly to\n",
    "# lists.\n",
    "# Eg, taking every other character over the\n",
    "# first 5 characters.\n",
    "print(name[0:5:2])\n",
    "# Or over the whole string\n",
    "print(name[::2])"
   ]
  },
  {
   "cell_type": "code",
   "execution_count": 60,
   "metadata": {},
   "outputs": [
    {
     "name": "stdout",
     "output_type": "stream",
     "text": [
      "niboR riS evarB\n"
     ]
    }
   ],
   "source": [
    "# And to reverse the string:\n",
    "print(name[::-1])"
   ]
  },
  {
   "cell_type": "code",
   "execution_count": 61,
   "metadata": {},
   "outputs": [
    {
     "name": "stdout",
     "output_type": "stream",
     "text": [
      "nIbOr rIs EvArb\n"
     ]
    }
   ],
   "source": [
    "# Then all that remains is to make the consonants\n",
    "# lower case and vowels upper case.\n",
    "# First reverse the string and make everything\n",
    "# lower case.\n",
    "newname = name[::-1].lower()\n",
    "# Then you can string together replace calls for\n",
    "# the vowels.\n",
    "newname = newname.replace('a', 'A').replace('e', 'E')\\\n",
    ".replace('i', 'I').replace('o', 'O').replace('u', 'U')\n",
    "# Which is also effective, but isn't very flexible with\n",
    "# the replace calls strung together like that.\n",
    "print(newname)"
   ]
  },
  {
   "cell_type": "code",
   "execution_count": 62,
   "metadata": {},
   "outputs": [
    {
     "name": "stdout",
     "output_type": "stream",
     "text": [
      "nIbOr rIs EvArb\n"
     ]
    }
   ],
   "source": [
    "# Alternatively you can loop over the vowels and\n",
    "# replace each in turn. This is preferable as \n",
    "# you can more easily change which letters are\n",
    "# made upper case.\n",
    "newname = name[::-1].lower()\n",
    "for vowel in 'aeiou' :\n",
    "    newname = newname.replace(vowel, vowel.upper())\n",
    "# Which does the job.\n",
    "print(newname)"
   ]
  },
  {
   "cell_type": "code",
   "execution_count": 63,
   "metadata": {},
   "outputs": [
    {
     "name": "stdout",
     "output_type": "stream",
     "text": [
      "nIbOr rIs EvArb\n"
     ]
    }
   ],
   "source": [
    "from functools import reduce\n",
    "# Alternatively, you can use the reduce builtin\n",
    "# method for repeated operations, which does \n",
    "# exactly the same as above.\n",
    "newname = reduce(lambda name, vowel : name.replace(vowel, vowel.upper()), \n",
    "                 'aeiou', name[::-1].lower())\n",
    "print(newname)"
   ]
  },
  {
   "cell_type": "code",
   "execution_count": 64,
   "metadata": {},
   "outputs": [
    {
     "name": "stdout",
     "output_type": "stream",
     "text": [
      "nIbOr rIs EvArb\n"
     ]
    }
   ],
   "source": [
    "# The regular expressions module 're' also provides \n",
    "# very flexible means of replacing expressions in \n",
    "# strings.\n",
    "import re\n",
    "newname = re.sub('a|e|i|o|u', lambda x : x.string[x.start()].upper(), name[::-1].lower())\n",
    "print(newname)"
   ]
  },
  {
   "cell_type": "markdown",
   "metadata": {},
   "source": [
    "## 12)"
   ]
  },
  {
   "cell_type": "markdown",
   "metadata": {},
   "source": [
    "- In addition to supporting function arguments of any type, python also has syntax for functions that can take a variable number of arguments.\n",
    "- For unnamed arguments this is done like so:"
   ]
  },
  {
   "cell_type": "code",
   "execution_count": 102,
   "metadata": {},
   "outputs": [],
   "source": [
    "def arguments(*args) :\n",
    "    print('args =', args)"
   ]
  },
  {
   "cell_type": "markdown",
   "metadata": {},
   "source": [
    "- Try calling this function with different numbers of arguments (including none).\n",
    "- What is the type of `args` within the function?"
   ]
  },
  {
   "cell_type": "code",
   "execution_count": 103,
   "metadata": {},
   "outputs": [
    {
     "name": "stdout",
     "output_type": "stream",
     "text": [
      "args = ()\n"
     ]
    }
   ],
   "source": [
    "arguments()"
   ]
  },
  {
   "cell_type": "code",
   "execution_count": 104,
   "metadata": {},
   "outputs": [
    {
     "name": "stdout",
     "output_type": "stream",
     "text": [
      "args = (1,)\n"
     ]
    }
   ],
   "source": [
    "arguments(1)"
   ]
  },
  {
   "cell_type": "code",
   "execution_count": 105,
   "metadata": {},
   "outputs": [
    {
     "name": "stdout",
     "output_type": "stream",
     "text": [
      "args = (1, 2, 3)\n"
     ]
    }
   ],
   "source": [
    "arguments(1,2,3)"
   ]
  },
  {
   "cell_type": "code",
   "execution_count": 106,
   "metadata": {},
   "outputs": [
    {
     "name": "stdout",
     "output_type": "stream",
     "text": [
      "args = ([1, 2, 3],)\n"
     ]
    }
   ],
   "source": [
    "arguments([1,2,3])"
   ]
  },
  {
   "cell_type": "code",
   "execution_count": 107,
   "metadata": {},
   "outputs": [
    {
     "ename": "TypeError",
     "evalue": "arguments() got an unexpected keyword argument 'a'",
     "output_type": "error",
     "traceback": [
      "\u001b[0;31m---------------------------------------------------------------------------\u001b[0m\n\u001b[0;31mTypeError\u001b[0m                                 Traceback (most recent call last)",
      "\u001b[0;32m<ipython-input-107-b4d2d4620c82>\u001b[0m in \u001b[0;36m<module>\u001b[0;34m()\u001b[0m\n\u001b[0;32m----> 1\u001b[0;31m \u001b[0marguments\u001b[0m\u001b[0;34m(\u001b[0m\u001b[0;36m1\u001b[0m\u001b[0;34m,\u001b[0m\u001b[0;36m2\u001b[0m\u001b[0;34m,\u001b[0m\u001b[0;36m3\u001b[0m\u001b[0;34m,\u001b[0m \u001b[0ma\u001b[0m\u001b[0;34m=\u001b[0m\u001b[0;36m0\u001b[0m\u001b[0;34m)\u001b[0m\u001b[0;34m\u001b[0m\u001b[0m\n\u001b[0m",
      "\u001b[0;31mTypeError\u001b[0m: arguments() got an unexpected keyword argument 'a'"
     ]
    }
   ],
   "source": [
    "arguments(1,2,3, a=0)"
   ]
  },
  {
   "cell_type": "markdown",
   "metadata": {},
   "source": [
    "- You can also give arbitrary named arguments to a function like so:"
   ]
  },
  {
   "cell_type": "code",
   "execution_count": 108,
   "metadata": {},
   "outputs": [],
   "source": [
    "def named_args(**kwargs) :\n",
    "    print('kwargs =', kwargs)"
   ]
  },
  {
   "cell_type": "markdown",
   "metadata": {},
   "source": [
    "- Then try calling it in various ways:"
   ]
  },
  {
   "cell_type": "code",
   "execution_count": 109,
   "metadata": {},
   "outputs": [
    {
     "name": "stdout",
     "output_type": "stream",
     "text": [
      "kwargs = {}\n"
     ]
    }
   ],
   "source": [
    "named_args()"
   ]
  },
  {
   "cell_type": "code",
   "execution_count": 110,
   "metadata": {},
   "outputs": [
    {
     "name": "stdout",
     "output_type": "stream",
     "text": [
      "kwargs = {'a': 1, 'b': 2}\n"
     ]
    }
   ],
   "source": [
    "named_args(a = 1, b = 2)"
   ]
  },
  {
   "cell_type": "code",
   "execution_count": 111,
   "metadata": {},
   "outputs": [
    {
     "name": "stdout",
     "output_type": "stream",
     "text": [
      "kwargs = {'f': 3.5, 't': ('a', 'b', 'c'), 'l': [1, 2, 3]}\n"
     ]
    }
   ],
   "source": [
    "named_args(t = ('a', 'b', 'c'), l = [1, 2, 3], f = 3.5)"
   ]
  },
  {
   "cell_type": "code",
   "execution_count": 112,
   "metadata": {},
   "outputs": [
    {
     "ename": "TypeError",
     "evalue": "named_args() takes exactly 0 arguments (2 given)",
     "output_type": "error",
     "traceback": [
      "\u001b[0;31m---------------------------------------------------------------------------\u001b[0m\n\u001b[0;31mTypeError\u001b[0m                                 Traceback (most recent call last)",
      "\u001b[0;32m<ipython-input-112-018a3daafe85>\u001b[0m in \u001b[0;36m<module>\u001b[0;34m()\u001b[0m\n\u001b[0;32m----> 1\u001b[0;31m \u001b[0mnamed_args\u001b[0m\u001b[0;34m(\u001b[0m\u001b[0;36m1\u001b[0m\u001b[0;34m,\u001b[0m \u001b[0mn\u001b[0m \u001b[0;34m=\u001b[0m \u001b[0;36m3\u001b[0m\u001b[0;34m)\u001b[0m\u001b[0;34m\u001b[0m\u001b[0m\n\u001b[0m",
      "\u001b[0;31mTypeError\u001b[0m: named_args() takes exactly 0 arguments (2 given)"
     ]
    }
   ],
   "source": [
    "named_args(1, n = 3)"
   ]
  },
  {
   "cell_type": "markdown",
   "metadata": {},
   "source": [
    "- What type is `kwargs` within the method?\n",
    "- The last call fails as the method only expects named arguments."
   ]
  },
  {
   "cell_type": "markdown",
   "metadata": {},
   "source": [
    "- The most flexible method, that takes an arbitrary number of unnamend and named arguments thus has this form:"
   ]
  },
  {
   "cell_type": "code",
   "execution_count": 113,
   "metadata": {},
   "outputs": [],
   "source": [
    "def args_and_keywords(*args, **kwargs) :\n",
    "    print('args =', args)\n",
    "    print('kwargs =', kwargs)"
   ]
  },
  {
   "cell_type": "markdown",
   "metadata": {},
   "source": [
    "- Give it a try and see what ways you can pass it arguments."
   ]
  },
  {
   "cell_type": "code",
   "execution_count": 114,
   "metadata": {},
   "outputs": [
    {
     "name": "stdout",
     "output_type": "stream",
     "text": [
      "args = (1, 2, 3)\n",
      "kwargs = {'a': 4, 'c': 6, 'b': 5}\n"
     ]
    }
   ],
   "source": [
    "# The jist of this exercise is that 'args' \n",
    "# is a tuple of unnamed args within the method,\n",
    "# while 'kwargs' is a dict with keys and values\n",
    "# defined by the named arguments passed to the\n",
    "# function.\n",
    "args_and_keywords(1,2,3, a = 4, b = 5, c = 6)"
   ]
  },
  {
   "cell_type": "code",
   "execution_count": 115,
   "metadata": {},
   "outputs": [
    {
     "name": "stdout",
     "output_type": "stream",
     "text": [
      "(1, 2)\n",
      "(6, 7)\n"
     ]
    }
   ],
   "source": [
    "# You can also use this syntax when calling \n",
    "# functions. Eg,\n",
    "def tuplepair(a, b) :\n",
    "    return a, b\n",
    "\n",
    "t = (1,2)\n",
    "# This unpacks the tuple t and passes its\n",
    "# contents to the method. So this is equivalent\n",
    "# to calling:\n",
    "# tuplepair(1, 2)\n",
    "print(tuplepair(*t))\n",
    "\n",
    "# Similarly, the ** allows unpacking of a dict,\n",
    "# and passing its contents as named args. So\n",
    "# this is equivalent to:\n",
    "# tuplepair(a = 6, b = 7)\n",
    "d = {'a' : 6, 'b' : 7}\n",
    "print(tuplepair(**d))\n",
    "\n",
    "# This means you can cache the arguments you want to\n",
    "# pass to any function in tuples, lists or dicts, \n",
    "# then call the function using them later."
   ]
  }
 ],
 "metadata": {
  "kernelspec": {
   "display_name": "Python 3",
   "language": "python",
   "name": "python3"
  },
  "language_info": {
   "codemirror_mode": {
    "name": "ipython",
    "version": 3
   },
   "file_extension": ".py",
   "mimetype": "text/x-python",
   "name": "python",
   "nbconvert_exporter": "python",
   "pygments_lexer": "ipython3",
   "version": "3.7.2"
  }
 },
 "nbformat": 4,
 "nbformat_minor": 1
}
