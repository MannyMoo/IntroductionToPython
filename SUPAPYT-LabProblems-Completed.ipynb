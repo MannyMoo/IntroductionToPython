{
 "cells": [
  {
   "cell_type": "markdown",
   "metadata": {},
   "source": [
    "# SUPAPYT - Hands on Exercises"
   ]
  },
  {
   "cell_type": "markdown",
   "metadata": {},
   "source": [
    "- Here're some suggested exercises to help familiarise you with python.\n",
    "- We'll work through them in the labs, but you can of course try them in your own time too."
   ]
  },
  {
   "cell_type": "markdown",
   "metadata": {},
   "source": [
    "## 1)"
   ]
  },
  {
   "cell_type": "markdown",
   "metadata": {},
   "source": [
    "- Try out the `dir` and `help` methods on some of the basic data types, like `int`, `float`, or `bool`.\n",
    "- See if you can work out the meaning of some of the \"hidden\" double underscored methods, eg:"
   ]
  },
  {
   "cell_type": "code",
   "execution_count": 1,
   "metadata": {
    "collapsed": true
   },
   "outputs": [
    {
     "name": "stdout",
     "output_type": "stream",
     "text": [
      "['__abs__', '__add__', '__and__', '__class__', '__cmp__', '__coerce__', '__delattr__', '__div__', '__divmod__', '__doc__', '__float__', '__floordiv__', '__format__', '__getattribute__', '__getnewargs__', '__hash__', '__hex__', '__index__', '__init__', '__int__', '__invert__', '__long__', '__lshift__', '__mod__', '__mul__', '__neg__', '__new__', '__nonzero__', '__oct__', '__or__', '__pos__', '__pow__', '__radd__', '__rand__', '__rdiv__', '__rdivmod__', '__reduce__', '__reduce_ex__', '__repr__', '__rfloordiv__', '__rlshift__', '__rmod__', '__rmul__', '__ror__', '__rpow__', '__rrshift__', '__rshift__', '__rsub__', '__rtruediv__', '__rxor__', '__setattr__', '__sizeof__', '__str__', '__sub__', '__subclasshook__', '__truediv__', '__trunc__', '__xor__', 'bit_length', 'conjugate', 'denominator', 'imag', 'numerator', 'real']\n"
     ]
    }
   ],
   "source": [
    "print dir(2)"
   ]
  },
  {
   "cell_type": "code",
   "execution_count": 2,
   "metadata": {
    "collapsed": false
   },
   "outputs": [
    {
     "name": "stdout",
     "output_type": "stream",
     "text": [
      "Help on int object:\n",
      "\n",
      "class int(object)\n",
      " |  int(x=0) -> int or long\n",
      " |  int(x, base=10) -> int or long\n",
      " |  \n",
      " |  Convert a number or string to an integer, or return 0 if no arguments\n",
      " |  are given.  If x is floating point, the conversion truncates towards zero.\n",
      " |  If x is outside the integer range, the function returns a long instead.\n",
      " |  \n",
      " |  If x is not a number or if base is given, then x must be a string or\n",
      " |  Unicode object representing an integer literal in the given base.  The\n",
      " |  literal can be preceded by '+' or '-' and be surrounded by whitespace.\n",
      " |  The base defaults to 10.  Valid bases are 0 and 2-36.  Base 0 means to\n",
      " |  interpret the base from the string as an integer literal.\n",
      " |  >>> int('0b100', base=0)\n",
      " |  4\n",
      " |  \n",
      " |  Methods defined here:\n",
      " |  \n",
      " |  __abs__(...)\n",
      " |      x.__abs__() <==> abs(x)\n",
      " |  \n",
      " |  __add__(...)\n",
      " |      x.__add__(y) <==> x+y\n",
      " |  \n",
      " |  __and__(...)\n",
      " |      x.__and__(y) <==> x&y\n",
      " |  \n",
      " |  __cmp__(...)\n",
      " |      x.__cmp__(y) <==> cmp(x,y)\n",
      " |  \n",
      " |  __coerce__(...)\n",
      " |      x.__coerce__(y) <==> coerce(x, y)\n",
      " |  \n",
      " |  __div__(...)\n",
      " |      x.__div__(y) <==> x/y\n",
      " |  \n",
      " |  __divmod__(...)\n",
      " |      x.__divmod__(y) <==> divmod(x, y)\n",
      " |  \n",
      " |  __float__(...)\n",
      " |      x.__float__() <==> float(x)\n",
      " |  \n",
      " |  __floordiv__(...)\n",
      " |      x.__floordiv__(y) <==> x//y\n",
      " |  \n",
      " |  __format__(...)\n",
      " |  \n",
      " |  __getattribute__(...)\n",
      " |      x.__getattribute__('name') <==> x.name\n",
      " |  \n",
      " |  __getnewargs__(...)\n",
      " |  \n",
      " |  __hash__(...)\n",
      " |      x.__hash__() <==> hash(x)\n",
      " |  \n",
      " |  __hex__(...)\n",
      " |      x.__hex__() <==> hex(x)\n",
      " |  \n",
      " |  __index__(...)\n",
      " |      x[y:z] <==> x[y.__index__():z.__index__()]\n",
      " |  \n",
      " |  __int__(...)\n",
      " |      x.__int__() <==> int(x)\n",
      " |  \n",
      " |  __invert__(...)\n",
      " |      x.__invert__() <==> ~x\n",
      " |  \n",
      " |  __long__(...)\n",
      " |      x.__long__() <==> long(x)\n",
      " |  \n",
      " |  __lshift__(...)\n",
      " |      x.__lshift__(y) <==> x<<y\n",
      " |  \n",
      " |  __mod__(...)\n",
      " |      x.__mod__(y) <==> x%y\n",
      " |  \n",
      " |  __mul__(...)\n",
      " |      x.__mul__(y) <==> x*y\n",
      " |  \n",
      " |  __neg__(...)\n",
      " |      x.__neg__() <==> -x\n",
      " |  \n",
      " |  __nonzero__(...)\n",
      " |      x.__nonzero__() <==> x != 0\n",
      " |  \n",
      " |  __oct__(...)\n",
      " |      x.__oct__() <==> oct(x)\n",
      " |  \n",
      " |  __or__(...)\n",
      " |      x.__or__(y) <==> x|y\n",
      " |  \n",
      " |  __pos__(...)\n",
      " |      x.__pos__() <==> +x\n",
      " |  \n",
      " |  __pow__(...)\n",
      " |      x.__pow__(y[, z]) <==> pow(x, y[, z])\n",
      " |  \n",
      " |  __radd__(...)\n",
      " |      x.__radd__(y) <==> y+x\n",
      " |  \n",
      " |  __rand__(...)\n",
      " |      x.__rand__(y) <==> y&x\n",
      " |  \n",
      " |  __rdiv__(...)\n",
      " |      x.__rdiv__(y) <==> y/x\n",
      " |  \n",
      " |  __rdivmod__(...)\n",
      " |      x.__rdivmod__(y) <==> divmod(y, x)\n",
      " |  \n",
      " |  __repr__(...)\n",
      " |      x.__repr__() <==> repr(x)\n",
      " |  \n",
      " |  __rfloordiv__(...)\n",
      " |      x.__rfloordiv__(y) <==> y//x\n",
      " |  \n",
      " |  __rlshift__(...)\n",
      " |      x.__rlshift__(y) <==> y<<x\n",
      " |  \n",
      " |  __rmod__(...)\n",
      " |      x.__rmod__(y) <==> y%x\n",
      " |  \n",
      " |  __rmul__(...)\n",
      " |      x.__rmul__(y) <==> y*x\n",
      " |  \n",
      " |  __ror__(...)\n",
      " |      x.__ror__(y) <==> y|x\n",
      " |  \n",
      " |  __rpow__(...)\n",
      " |      y.__rpow__(x[, z]) <==> pow(x, y[, z])\n",
      " |  \n",
      " |  __rrshift__(...)\n",
      " |      x.__rrshift__(y) <==> y>>x\n",
      " |  \n",
      " |  __rshift__(...)\n",
      " |      x.__rshift__(y) <==> x>>y\n",
      " |  \n",
      " |  __rsub__(...)\n",
      " |      x.__rsub__(y) <==> y-x\n",
      " |  \n",
      " |  __rtruediv__(...)\n",
      " |      x.__rtruediv__(y) <==> y/x\n",
      " |  \n",
      " |  __rxor__(...)\n",
      " |      x.__rxor__(y) <==> y^x\n",
      " |  \n",
      " |  __str__(...)\n",
      " |      x.__str__() <==> str(x)\n",
      " |  \n",
      " |  __sub__(...)\n",
      " |      x.__sub__(y) <==> x-y\n",
      " |  \n",
      " |  __truediv__(...)\n",
      " |      x.__truediv__(y) <==> x/y\n",
      " |  \n",
      " |  __trunc__(...)\n",
      " |      Truncating an Integral returns itself.\n",
      " |  \n",
      " |  __xor__(...)\n",
      " |      x.__xor__(y) <==> x^y\n",
      " |  \n",
      " |  bit_length(...)\n",
      " |      int.bit_length() -> int\n",
      " |      \n",
      " |      Number of bits necessary to represent self in binary.\n",
      " |      >>> bin(37)\n",
      " |      '0b100101'\n",
      " |      >>> (37).bit_length()\n",
      " |      6\n",
      " |  \n",
      " |  conjugate(...)\n",
      " |      Returns self, the complex conjugate of any int.\n",
      " |  \n",
      " |  ----------------------------------------------------------------------\n",
      " |  Data descriptors defined here:\n",
      " |  \n",
      " |  denominator\n",
      " |      the denominator of a rational number in lowest terms\n",
      " |  \n",
      " |  imag\n",
      " |      the imaginary part of a complex number\n",
      " |  \n",
      " |  numerator\n",
      " |      the numerator of a rational number in lowest terms\n",
      " |  \n",
      " |  real\n",
      " |      the real part of a complex number\n",
      " |  \n",
      " |  ----------------------------------------------------------------------\n",
      " |  Data and other attributes defined here:\n",
      " |  \n",
      " |  __new__ = <built-in method __new__ of type object>\n",
      " |      T.__new__(S, ...) -> a new object with type S, a subtype of T\n",
      "\n"
     ]
    }
   ],
   "source": [
    "help(2)"
   ]
  },
  {
   "cell_type": "code",
   "execution_count": 3,
   "metadata": {
    "collapsed": true
   },
   "outputs": [],
   "source": [
    "a = -10"
   ]
  },
  {
   "cell_type": "code",
   "execution_count": 4,
   "metadata": {
    "collapsed": false
   },
   "outputs": [
    {
     "data": {
      "text/plain": [
       "10"
      ]
     },
     "execution_count": 4,
     "metadata": {},
     "output_type": "execute_result"
    }
   ],
   "source": [
    "# This is the same as abs(a) - returns the \n",
    "# absolute value.\n",
    "a.__abs__()"
   ]
  },
  {
   "cell_type": "code",
   "execution_count": 5,
   "metadata": {
    "collapsed": false
   },
   "outputs": [
    {
     "ename": "TypeError",
     "evalue": "expected 1 arguments, got 0",
     "output_type": "error",
     "traceback": [
      "\u001b[0;31m---------------------------------------------------------------------------\u001b[0m\n\u001b[0;31mTypeError\u001b[0m                                 Traceback (most recent call last)",
      "\u001b[0;32m<ipython-input-5-1031420f90fb>\u001b[0m in \u001b[0;36m<module>\u001b[0;34m()\u001b[0m\n\u001b[1;32m      2\u001b[0m \u001b[0;31m# expects an argument as the divisor, so this\u001b[0m\u001b[0;34m\u001b[0m\u001b[0;34m\u001b[0m\u001b[0m\n\u001b[1;32m      3\u001b[0m \u001b[0;31m# raises an exception.\u001b[0m\u001b[0;34m\u001b[0m\u001b[0;34m\u001b[0m\u001b[0m\n\u001b[0;32m----> 4\u001b[0;31m \u001b[0ma\u001b[0m\u001b[0;34m.\u001b[0m\u001b[0m__div__\u001b[0m\u001b[0;34m(\u001b[0m\u001b[0;34m)\u001b[0m\u001b[0;34m\u001b[0m\u001b[0m\n\u001b[0m",
      "\u001b[0;31mTypeError\u001b[0m: expected 1 arguments, got 0"
     ]
    }
   ],
   "source": [
    "# This is called by the / operator, but it \n",
    "# expects an argument as the divisor, so this\n",
    "# raises an exception.\n",
    "a.__div__()"
   ]
  },
  {
   "cell_type": "code",
   "execution_count": 6,
   "metadata": {
    "collapsed": false
   },
   "outputs": [
    {
     "data": {
      "text/plain": [
       "-5"
      ]
     },
     "execution_count": 6,
     "metadata": {},
     "output_type": "execute_result"
    }
   ],
   "source": [
    "# If we pass an argument this is the same as a/2.\n",
    "a.__div__(2)"
   ]
  },
  {
   "cell_type": "markdown",
   "metadata": {},
   "source": [
    "- This should help you get acquainted with the structure of the language.\n",
    "- Remember: everything in python is an object!\n",
    "- There are really only two operations that are ever performed in python:\n",
    "    - Assigning an object to a variable.\n",
    "    - Calling a method on an object or objects.\n",
    "- Method calls are often hidden behind slick syntax, but they define what's really going on in the background.\n",
    "- When in doubt try `dir` and `help` - you can use them on almost anything!"
   ]
  },
  {
   "cell_type": "markdown",
   "metadata": {},
   "source": [
    "## 2)"
   ]
  },
  {
   "cell_type": "markdown",
   "metadata": {},
   "source": [
    "- See what happens if you try to access a variable at the prompt which hasn't been defined:"
   ]
  },
  {
   "cell_type": "code",
   "execution_count": 7,
   "metadata": {
    "collapsed": false
   },
   "outputs": [
    {
     "ename": "NameError",
     "evalue": "name 'x' is not defined",
     "output_type": "error",
     "traceback": [
      "\u001b[0;31m---------------------------------------------------------------------------\u001b[0m\n\u001b[0;31mNameError\u001b[0m                                 Traceback (most recent call last)",
      "\u001b[0;32m<ipython-input-7-3562e12352d2>\u001b[0m in \u001b[0;36m<module>\u001b[0;34m()\u001b[0m\n\u001b[1;32m      1\u001b[0m \u001b[0;31m# As you might expect this raises an exception.\u001b[0m\u001b[0;34m\u001b[0m\u001b[0;34m\u001b[0m\u001b[0m\n\u001b[0;32m----> 2\u001b[0;31m \u001b[0mx\u001b[0m\u001b[0;34m\u001b[0m\u001b[0m\n\u001b[0m",
      "\u001b[0;31mNameError\u001b[0m: name 'x' is not defined"
     ]
    }
   ],
   "source": [
    "# As you might expect this raises an exception.\n",
    "x"
   ]
  },
  {
   "cell_type": "markdown",
   "metadata": {},
   "source": [
    "- And the same when you define it first:"
   ]
  },
  {
   "cell_type": "code",
   "execution_count": 8,
   "metadata": {
    "collapsed": false
   },
   "outputs": [],
   "source": [
    "x = None"
   ]
  },
  {
   "cell_type": "code",
   "execution_count": 9,
   "metadata": {
    "collapsed": false
   },
   "outputs": [
    {
     "data": {
      "text/plain": [
       "(None, NoneType)"
      ]
     },
     "execution_count": 9,
     "metadata": {},
     "output_type": "execute_result"
    }
   ],
   "source": [
    "x, type(x)"
   ]
  },
  {
   "cell_type": "markdown",
   "metadata": {},
   "source": [
    "## 3)"
   ]
  },
  {
   "cell_type": "markdown",
   "metadata": {},
   "source": [
    "- See what methods are available for strings.\n",
    "- Try a few out and see if you can work out what each is doing."
   ]
  },
  {
   "cell_type": "code",
   "execution_count": 10,
   "metadata": {
    "collapsed": false
   },
   "outputs": [],
   "source": [
    "s = 'Hello world!'"
   ]
  },
  {
   "cell_type": "code",
   "execution_count": 11,
   "metadata": {
    "collapsed": false
   },
   "outputs": [
    {
     "data": {
      "text/plain": [
       "['__add__',\n",
       " '__class__',\n",
       " '__contains__',\n",
       " '__delattr__',\n",
       " '__doc__',\n",
       " '__eq__',\n",
       " '__format__',\n",
       " '__ge__',\n",
       " '__getattribute__',\n",
       " '__getitem__',\n",
       " '__getnewargs__',\n",
       " '__getslice__',\n",
       " '__gt__',\n",
       " '__hash__',\n",
       " '__init__',\n",
       " '__le__',\n",
       " '__len__',\n",
       " '__lt__',\n",
       " '__mod__',\n",
       " '__mul__',\n",
       " '__ne__',\n",
       " '__new__',\n",
       " '__reduce__',\n",
       " '__reduce_ex__',\n",
       " '__repr__',\n",
       " '__rmod__',\n",
       " '__rmul__',\n",
       " '__setattr__',\n",
       " '__sizeof__',\n",
       " '__str__',\n",
       " '__subclasshook__',\n",
       " '_formatter_field_name_split',\n",
       " '_formatter_parser',\n",
       " 'capitalize',\n",
       " 'center',\n",
       " 'count',\n",
       " 'decode',\n",
       " 'encode',\n",
       " 'endswith',\n",
       " 'expandtabs',\n",
       " 'find',\n",
       " 'format',\n",
       " 'index',\n",
       " 'isalnum',\n",
       " 'isalpha',\n",
       " 'isdigit',\n",
       " 'islower',\n",
       " 'isspace',\n",
       " 'istitle',\n",
       " 'isupper',\n",
       " 'join',\n",
       " 'ljust',\n",
       " 'lower',\n",
       " 'lstrip',\n",
       " 'partition',\n",
       " 'replace',\n",
       " 'rfind',\n",
       " 'rindex',\n",
       " 'rjust',\n",
       " 'rpartition',\n",
       " 'rsplit',\n",
       " 'rstrip',\n",
       " 'split',\n",
       " 'splitlines',\n",
       " 'startswith',\n",
       " 'strip',\n",
       " 'swapcase',\n",
       " 'title',\n",
       " 'translate',\n",
       " 'upper',\n",
       " 'zfill']"
      ]
     },
     "execution_count": 11,
     "metadata": {},
     "output_type": "execute_result"
    }
   ],
   "source": [
    "dir(s)"
   ]
  },
  {
   "cell_type": "code",
   "execution_count": 12,
   "metadata": {
    "collapsed": false
   },
   "outputs": [
    {
     "data": {
      "text/plain": [
       "'    Hello world!    '"
      ]
     },
     "execution_count": 12,
     "metadata": {},
     "output_type": "execute_result"
    }
   ],
   "source": [
    "# Most method names are relatively self\n",
    "# explanatory.\n",
    "# Centre the string in a string of length 20,\n",
    "# padding either side with whitespace.\n",
    "s.center(20)"
   ]
  },
  {
   "cell_type": "code",
   "execution_count": 13,
   "metadata": {
    "collapsed": false
   },
   "outputs": [
    {
     "name": "stdout",
     "output_type": "stream",
     "text": [
      "False\n",
      "True\n",
      "False\n"
     ]
    }
   ],
   "source": [
    "# Check if a string contains only digits.\n",
    "print s.isdigit()\n",
    "print '18234'.isdigit()\n",
    "# Decimal points don't count as digits.\n",
    "print '32.4'.isdigit()"
   ]
  },
  {
   "cell_type": "code",
   "execution_count": 14,
   "metadata": {
    "collapsed": false
   },
   "outputs": [
    {
     "data": {
      "text/plain": [
       "'Goodbye world!'"
      ]
     },
     "execution_count": 14,
     "metadata": {},
     "output_type": "execute_result"
    }
   ],
   "source": [
    "# Replace part of the string with another \n",
    "# string.\n",
    "s.replace('Hello', 'Goodbye')"
   ]
  },
  {
   "cell_type": "markdown",
   "metadata": {},
   "source": [
    "## 4)"
   ]
  },
  {
   "cell_type": "markdown",
   "metadata": {},
   "source": [
    "- Define two variables and swap their values.\n",
    "- Try to do it in as compact a way as possible.\n",
    "- Remember in lectures we saw how to assign several variables at once:"
   ]
  },
  {
   "cell_type": "code",
   "execution_count": 15,
   "metadata": {
    "collapsed": false
   },
   "outputs": [
    {
     "name": "stdout",
     "output_type": "stream",
     "text": [
      "2 1\n"
     ]
    }
   ],
   "source": [
    "a, b = 1, 2\n",
    "b, a = a, b\n",
    "print a, b"
   ]
  },
  {
   "cell_type": "markdown",
   "metadata": {},
   "source": [
    "## 5)"
   ]
  },
  {
   "cell_type": "markdown",
   "metadata": {},
   "source": [
    "- Familiarise yourself with string indexing and slicing.\n",
    "- Make sure you understand what indices give what results.\n",
    "- Negative indices, in particular, may be confusing at first."
   ]
  },
  {
   "cell_type": "code",
   "execution_count": 16,
   "metadata": {
    "collapsed": false
   },
   "outputs": [],
   "source": [
    "mystr = 'The Life of Brian'"
   ]
  },
  {
   "cell_type": "code",
   "execution_count": 17,
   "metadata": {
    "collapsed": false
   },
   "outputs": [
    {
     "data": {
      "text/plain": [
       "' '"
      ]
     },
     "execution_count": 17,
     "metadata": {},
     "output_type": "execute_result"
    }
   ],
   "source": [
    "# 4th character from the beginning.\n",
    "mystr[3]"
   ]
  },
  {
   "cell_type": "code",
   "execution_count": 18,
   "metadata": {
    "collapsed": false
   },
   "outputs": [
    {
     "data": {
      "text/plain": [
       "'i'"
      ]
     },
     "execution_count": 18,
     "metadata": {},
     "output_type": "execute_result"
    }
   ],
   "source": [
    "# 3rd from the end.\n",
    "mystr[-3]"
   ]
  },
  {
   "cell_type": "code",
   "execution_count": 19,
   "metadata": {
    "collapsed": false
   },
   "outputs": [
    {
     "data": {
      "text/plain": [
       "' Life of Br'"
      ]
     },
     "execution_count": 19,
     "metadata": {},
     "output_type": "execute_result"
    }
   ],
   "source": [
    "# From the 4th character from the beginning \n",
    "# up to but not including the 3rd from the end.\n",
    "mystr[3:-3]"
   ]
  },
  {
   "cell_type": "markdown",
   "metadata": {},
   "source": [
    "## 6)"
   ]
  },
  {
   "cell_type": "markdown",
   "metadata": {},
   "source": [
    "- Play with the formatting of strings. \n",
    "- Try to understand the syntax and change it to get different results.\n",
    "- The full description is available [here](http://docs.python.org/2/library/string.html#formatstrings)."
   ]
  },
  {
   "cell_type": "code",
   "execution_count": 20,
   "metadata": {
    "collapsed": false
   },
   "outputs": [
    {
     "name": "stdout",
     "output_type": "stream",
     "text": [
      "Result:     1.46 +/- 0.23\n"
     ]
    }
   ],
   "source": [
    "print 'Result: {:8.2f} +/- {:4.2f}'.format(1.456, 0.234)"
   ]
  },
  {
   "cell_type": "code",
   "execution_count": 21,
   "metadata": {
    "collapsed": false
   },
   "outputs": [
    {
     "name": "stdout",
     "output_type": "stream",
     "text": [
      "Result:         1.46 +/-     0.23\n"
     ]
    }
   ],
   "source": [
    "# There're lots of different options.\n",
    "# The first number after the colon defines how\n",
    "# wide the resulting string is that replaces\n",
    "# the expression in curly brackets.\n",
    "# If the string is shorter than the width it's \n",
    "# padded from the left with whitespace.\n",
    "print 'Result: {:12.2f} +/- {:8.2f}'.format(1.456, 0.234)"
   ]
  },
  {
   "cell_type": "code",
   "execution_count": 22,
   "metadata": {
    "collapsed": false
   },
   "outputs": [
    {
     "name": "stdout",
     "output_type": "stream",
     "text": [
      "Result: 1.46 +/- 0.23\n"
     ]
    }
   ],
   "source": [
    "# If the string is longer than the width it's\n",
    "# unchanged (not tructated).\n",
    "print 'Result: {:2.2f} +/- {:2.2f}'.format(1.456, 0.234)"
   ]
  },
  {
   "cell_type": "code",
   "execution_count": 23,
   "metadata": {
    "collapsed": false
   },
   "outputs": [
    {
     "name": "stdout",
     "output_type": "stream",
     "text": [
      "Result:    1.456 +/- 0.234\n",
      "Result:      1.5 +/-   0.2\n"
     ]
    }
   ],
   "source": [
    "# The number after the decimal point represents\n",
    "# the number of d.p.s to print.\n",
    "print 'Result: {:8.3f} +/- {:5.3f}'.format(1.456, 0.234)\n",
    "print 'Result: {:8.1f} +/- {:5.1f}'.format(1.456, 0.234)"
   ]
  },
  {
   "cell_type": "code",
   "execution_count": 24,
   "metadata": {
    "collapsed": false
   },
   "outputs": [
    {
     "name": "stdout",
     "output_type": "stream",
     "text": [
      "Result: 1456000.00 +/- 234000.00\n",
      "Result:  1.5e+06 +/- 2.3e+05\n",
      "Result:  1456000 +/- 234000\n"
     ]
    }
   ],
   "source": [
    "# The 'f' means to use float representation.\n",
    "# You can also use 'g' to get scientific \n",
    "# notation. Or 'd' for int (though you need\n",
    "# to give ints as arguments).\n",
    "print 'Result: {:8.2f} +/- {:5.2f}'.format(1.456e6, 0.234e6)\n",
    "print 'Result: {:8.2g} +/- {:5.2g}'.format(1.456e6, 0.234e6)\n",
    "print 'Result: {:8d} +/- {:5d}'.format(int(1.456e6), int(0.234e6))"
   ]
  },
  {
   "cell_type": "markdown",
   "metadata": {},
   "source": [
    "## 7)"
   ]
  },
  {
   "cell_type": "markdown",
   "metadata": {},
   "source": [
    "- Try declaring strings and formatting them later, eg:"
   ]
  },
  {
   "cell_type": "code",
   "execution_count": 25,
   "metadata": {
    "collapsed": false
   },
   "outputs": [
    {
     "name": "stdout",
     "output_type": "stream",
     "text": [
      "Result: {:8.2f} +/- {:4.2f}\n",
      "Result:     3.24 +/- 0.22\n",
      "Result:     2.90 +/- 0.09\n"
     ]
    }
   ],
   "source": [
    "genericResult = 'Result: {:8.2f} +/- {:4.2f}'\n",
    "result1 = genericResult.format(3.2432, 0.2234)\n",
    "result2 = genericResult.format(2.8982, 0.0879)\n",
    "print genericResult\n",
    "print result1\n",
    "print result2"
   ]
  },
  {
   "cell_type": "markdown",
   "metadata": {},
   "source": [
    "- Again, play about with the syntax to get different results."
   ]
  },
  {
   "cell_type": "code",
   "execution_count": 26,
   "metadata": {
    "collapsed": false
   },
   "outputs": [
    {
     "name": "stdout",
     "output_type": "stream",
     "text": [
      "Result: 3.2432 +/- 0.2234\n"
     ]
    }
   ],
   "source": [
    "# If you omit any formatting flags the agruments\n",
    "# are just cast to strings as usual.\n",
    "genericResult = 'Result: {} +/- {}'\n",
    "result1 = genericResult.format(3.2432, 0.2234)\n",
    "print result1"
   ]
  },
  {
   "cell_type": "code",
   "execution_count": 27,
   "metadata": {
    "collapsed": false
   },
   "outputs": [
    {
     "name": "stdout",
     "output_type": "stream",
     "text": [
      "Result:     3.24 +/- 0.22\n",
      "Result:     3.24 +/- 0.22\n",
      "Result:     3.24 +/- 0.22\n"
     ]
    }
   ],
   "source": [
    "# Remember you can specify the index of the argument\n",
    "# passed to format within the curly brackets.\n",
    "print 'Result: {0:8.2f} +/- {1:4.2f}'.format(3.2432, 0.2234)\n",
    "print 'Result: {1:8.2f} +/- {0:4.2f}'.format(0.2234, 3.2432)\n",
    "# Or using names for the format variables.\n",
    "print 'Result: {value:8.2f} +/- {error:4.2f}'.format(error = 0.2234, value = 3.2432)"
   ]
  },
  {
   "cell_type": "markdown",
   "metadata": {},
   "source": [
    "## 8)"
   ]
  },
  {
   "cell_type": "markdown",
   "metadata": {},
   "source": [
    "- Try overriding one of the built-in types, like `True`, `int` or `str` by assigning it another value.\n",
    "- Verify that the built-in type is lost."
   ]
  },
  {
   "cell_type": "code",
   "execution_count": 28,
   "metadata": {
    "collapsed": false
   },
   "outputs": [
    {
     "name": "stdout",
     "output_type": "stream",
     "text": [
      "<type 'int'> <type 'type'>\n"
     ]
    }
   ],
   "source": [
    "print int, type(int)"
   ]
  },
  {
   "cell_type": "code",
   "execution_count": 29,
   "metadata": {
    "collapsed": false
   },
   "outputs": [],
   "source": [
    "int = 1"
   ]
  },
  {
   "cell_type": "code",
   "execution_count": 30,
   "metadata": {
    "collapsed": false
   },
   "outputs": [
    {
     "name": "stdout",
     "output_type": "stream",
     "text": [
      "1 <type 'int'>\n"
     ]
    }
   ],
   "source": [
    "print int, type(int)"
   ]
  },
  {
   "cell_type": "code",
   "execution_count": 31,
   "metadata": {
    "collapsed": false
   },
   "outputs": [
    {
     "ename": "TypeError",
     "evalue": "'int' object is not callable",
     "output_type": "error",
     "traceback": [
      "\u001b[0;31m---------------------------------------------------------------------------\u001b[0m\n\u001b[0;31mTypeError\u001b[0m                                 Traceback (most recent call last)",
      "\u001b[0;32m<ipython-input-31-55b8aaf5bdda>\u001b[0m in \u001b[0;36m<module>\u001b[0;34m()\u001b[0m\n\u001b[0;32m----> 1\u001b[0;31m \u001b[0mi\u001b[0m \u001b[0;34m=\u001b[0m \u001b[0mint\u001b[0m\u001b[0;34m(\u001b[0m\u001b[0;34m'1'\u001b[0m\u001b[0;34m)\u001b[0m\u001b[0;34m\u001b[0m\u001b[0m\n\u001b[0m",
      "\u001b[0;31mTypeError\u001b[0m: 'int' object is not callable"
     ]
    }
   ],
   "source": [
    "i = int('1')"
   ]
  },
  {
   "cell_type": "markdown",
   "metadata": {},
   "source": [
    "- Can you recover the built-in type?"
   ]
  },
  {
   "cell_type": "code",
   "execution_count": 32,
   "metadata": {
    "collapsed": false
   },
   "outputs": [
    {
     "name": "stdout",
     "output_type": "stream",
     "text": [
      "<type 'int'> <type 'type'>\n"
     ]
    }
   ],
   "source": [
    "# Delete the local variable with name 'int'\n",
    "del int\n",
    "# Then the original 'int' is recovered.\n",
    "print int, type(int)"
   ]
  },
  {
   "cell_type": "markdown",
   "metadata": {},
   "source": [
    "## 9)"
   ]
  },
  {
   "cell_type": "markdown",
   "metadata": {},
   "source": [
    "- We've seen a few exceptions raised by python in the lectures.\n",
    "- Try a few commands you might expect to cause problems and see if you can raise others.\n",
    "- Think about how these can be avoided."
   ]
  },
  {
   "cell_type": "code",
   "execution_count": 33,
   "metadata": {
    "collapsed": false
   },
   "outputs": [
    {
     "ename": "ZeroDivisionError",
     "evalue": "integer division or modulo by zero",
     "output_type": "error",
     "traceback": [
      "\u001b[0;31m---------------------------------------------------------------------------\u001b[0m\n\u001b[0;31mZeroDivisionError\u001b[0m                         Traceback (most recent call last)",
      "\u001b[0;32m<ipython-input-33-c28c66f1f34d>\u001b[0m in \u001b[0;36m<module>\u001b[0;34m()\u001b[0m\n\u001b[1;32m      1\u001b[0m \u001b[0;31m# Always check that the denominator is\u001b[0m\u001b[0;34m\u001b[0m\u001b[0;34m\u001b[0m\u001b[0m\n\u001b[1;32m      2\u001b[0m \u001b[0;31m# non-zero before dividing.\u001b[0m\u001b[0;34m\u001b[0m\u001b[0;34m\u001b[0m\u001b[0m\n\u001b[0;32m----> 3\u001b[0;31m \u001b[0;36m1\u001b[0m\u001b[0;34m/\u001b[0m\u001b[0;36m0\u001b[0m\u001b[0;34m\u001b[0m\u001b[0m\n\u001b[0m",
      "\u001b[0;31mZeroDivisionError\u001b[0m: integer division or modulo by zero"
     ]
    }
   ],
   "source": [
    "# Always check that the denominator is\n",
    "# non-zero before dividing.\n",
    "1/0"
   ]
  },
  {
   "cell_type": "code",
   "execution_count": 34,
   "metadata": {
    "collapsed": false
   },
   "outputs": [
    {
     "ename": "TypeError",
     "evalue": "unsupported operand type(s) for /: 'int' and 'str'",
     "output_type": "error",
     "traceback": [
      "\u001b[0;31m---------------------------------------------------------------------------\u001b[0m\n\u001b[0;31mTypeError\u001b[0m                                 Traceback (most recent call last)",
      "\u001b[0;32m<ipython-input-34-290a95f97d05>\u001b[0m in \u001b[0;36m<module>\u001b[0;34m()\u001b[0m\n\u001b[1;32m      1\u001b[0m \u001b[0;31m# You can't combine incompatible types.\u001b[0m\u001b[0;34m\u001b[0m\u001b[0;34m\u001b[0m\u001b[0m\n\u001b[0;32m----> 2\u001b[0;31m \u001b[0;36m1\u001b[0m\u001b[0;34m/\u001b[0m\u001b[0;34m'4'\u001b[0m\u001b[0;34m\u001b[0m\u001b[0m\n\u001b[0m",
      "\u001b[0;31mTypeError\u001b[0m: unsupported operand type(s) for /: 'int' and 'str'"
     ]
    }
   ],
   "source": [
    "# You can't combine incompatible types.\n",
    "1/'4'"
   ]
  },
  {
   "cell_type": "code",
   "execution_count": 35,
   "metadata": {
    "collapsed": false
   },
   "outputs": [
    {
     "ename": "TypeError",
     "evalue": "cannot concatenate 'str' and 'int' objects",
     "output_type": "error",
     "traceback": [
      "\u001b[0;31m---------------------------------------------------------------------------\u001b[0m\n\u001b[0;31mTypeError\u001b[0m                                 Traceback (most recent call last)",
      "\u001b[0;32m<ipython-input-35-772620086c4f>\u001b[0m in \u001b[0;36m<module>\u001b[0;34m()\u001b[0m\n\u001b[1;32m      1\u001b[0m \u001b[0;31m# Similarly for this:\u001b[0m\u001b[0;34m\u001b[0m\u001b[0;34m\u001b[0m\u001b[0m\n\u001b[0;32m----> 2\u001b[0;31m \u001b[0;34m'1'\u001b[0m \u001b[0;34m+\u001b[0m \u001b[0;36m4\u001b[0m\u001b[0;34m\u001b[0m\u001b[0m\n\u001b[0m",
      "\u001b[0;31mTypeError\u001b[0m: cannot concatenate 'str' and 'int' objects"
     ]
    }
   ],
   "source": [
    "# Similarly for this:\n",
    "'1' + 4"
   ]
  },
  {
   "cell_type": "code",
   "execution_count": 36,
   "metadata": {
    "collapsed": false
   },
   "outputs": [
    {
     "data": {
      "text/plain": [
       "0.25"
      ]
     },
     "execution_count": 36,
     "metadata": {},
     "output_type": "execute_result"
    }
   ],
   "source": [
    "# But remember you can cast between types.\n",
    "1/float('4')"
   ]
  },
  {
   "cell_type": "code",
   "execution_count": 37,
   "metadata": {
    "collapsed": false
   },
   "outputs": [
    {
     "data": {
      "text/plain": [
       "'14'"
      ]
     },
     "execution_count": 37,
     "metadata": {},
     "output_type": "execute_result"
    }
   ],
   "source": [
    "'1' + str(4)"
   ]
  },
  {
   "cell_type": "code",
   "execution_count": 38,
   "metadata": {
    "collapsed": false
   },
   "outputs": [
    {
     "ename": "ValueError",
     "evalue": "negative number cannot be raised to a fractional power",
     "output_type": "error",
     "traceback": [
      "\u001b[0;31m---------------------------------------------------------------------------\u001b[0m\n\u001b[0;31mValueError\u001b[0m                                Traceback (most recent call last)",
      "\u001b[0;32m<ipython-input-38-737df57d7112>\u001b[0m in \u001b[0;36m<module>\u001b[0;34m()\u001b[0m\n\u001b[1;32m      1\u001b[0m \u001b[0;31m# Negative number raised to a fractional power.\u001b[0m\u001b[0;34m\u001b[0m\u001b[0;34m\u001b[0m\u001b[0m\n\u001b[0;32m----> 2\u001b[0;31m \u001b[0;34m(\u001b[0m\u001b[0;34m-\u001b[0m\u001b[0;36m1\u001b[0m\u001b[0;34m)\u001b[0m\u001b[0;34m**\u001b[0m\u001b[0;36m.5\u001b[0m\u001b[0;34m\u001b[0m\u001b[0m\n\u001b[0m",
      "\u001b[0;31mValueError\u001b[0m: negative number cannot be raised to a fractional power"
     ]
    }
   ],
   "source": [
    "# Negative number raised to a fractional power.\n",
    "(-1)**.5"
   ]
  },
  {
   "cell_type": "code",
   "execution_count": 39,
   "metadata": {
    "collapsed": false
   },
   "outputs": [
    {
     "data": {
      "text/plain": [
       "(6.123233995736766e-17+1j)"
      ]
     },
     "execution_count": 39,
     "metadata": {},
     "output_type": "execute_result"
    }
   ],
   "source": [
    "# If you specify that it's a complex number\n",
    "# it's OK, and you get a complex number back.\n",
    "(-1+0j)**.5"
   ]
  },
  {
   "cell_type": "markdown",
   "metadata": {},
   "source": [
    "## 10)"
   ]
  },
  {
   "cell_type": "markdown",
   "metadata": {},
   "source": [
    "- We've discussed briefly the idea of \"mutable\" and \"immutable\" objects in python.\n",
    "- All basic types are immutable apart from lists and dictionaries.\n",
    "- See what happens when you assign a variable to the same object, then change the original variable."
   ]
  },
  {
   "cell_type": "code",
   "execution_count": 40,
   "metadata": {
    "collapsed": false
   },
   "outputs": [
    {
     "name": "stdout",
     "output_type": "stream",
     "text": [
      "2 1\n"
     ]
    }
   ],
   "source": [
    "# Assign a variable to 'a'.\n",
    "a = 1\n",
    "# This assigns variable 'b' to refer to the\n",
    "# same object as 'a'.\n",
    "b = a\n",
    "# But this then assigns a different object\n",
    "# to variable 'a'.\n",
    "a = 2\n",
    "# So b is unchanged by the change to a, as\n",
    "# you might expect.\n",
    "print a, b"
   ]
  },
  {
   "cell_type": "code",
   "execution_count": 41,
   "metadata": {
    "collapsed": false
   },
   "outputs": [
    {
     "name": "stdout",
     "output_type": "stream",
     "text": [
      "['eggs'] ['eggs']\n"
     ]
    }
   ],
   "source": [
    "# Here we do similarly to above with L1 and L2.\n",
    "L1 = ['spam', 'eggs']\n",
    "L2 = L1\n",
    "# However here, rather than assigning a new object\n",
    "# to L1 we modify the underlying object.\n",
    "del L1[0]\n",
    "# As L1 and L2 refer to the same object the change\n",
    "# is apparent to both variables\n",
    "print L1, L2"
   ]
  },
  {
   "cell_type": "code",
   "execution_count": 42,
   "metadata": {
    "collapsed": false
   },
   "outputs": [
    {
     "name": "stdout",
     "output_type": "stream",
     "text": [
      "('spam', 'eggs', 'spam') ('spam', 'eggs')\n"
     ]
    }
   ],
   "source": [
    "t1 = ('spam', 'eggs')\n",
    "t2 = t1\n",
    "# Again, here the difference is that we declare \n",
    "# a new object and assign it to variable t1, so\n",
    "# t1 and t2 no longer refer to the same object.\n",
    "t1 = t1 + ('spam',)\n",
    "print t1, t2"
   ]
  },
  {
   "cell_type": "markdown",
   "metadata": {},
   "source": [
    "- Can you tell what the difference is here?\n",
    "- In python the variable name and the object to which it refers are distinct.\n",
    "- In c++ terms every variable in python is like a pointer.\n",
    "- For mutable objects you can access and modify the object via any variable assigned to it.\n",
    "- For immutable objects any attempt to change the object either raises an exception or creates a new object and assigns it to the variable. \n",
    "- If it's still unclear you may want to play with the `id` built-in method - try `help(id)`."
   ]
  },
  {
   "cell_type": "code",
   "execution_count": 43,
   "metadata": {
    "collapsed": false
   },
   "outputs": [
    {
     "name": "stdout",
     "output_type": "stream",
     "text": [
      "4415615992 True\n"
     ]
    }
   ],
   "source": [
    "# The id method returns an integer that's a \n",
    "# unique identifier of a given object.\n",
    "L1 = [1,2,3]\n",
    "L2 = L1\n",
    "# We see that the id of the objects refered to\n",
    "# by L1 and L2 are the same, so they're the same\n",
    "# object.\n",
    "print id(L1), id(L1) == id(L2)"
   ]
  },
  {
   "cell_type": "code",
   "execution_count": 44,
   "metadata": {
    "collapsed": false
   },
   "outputs": [
    {
     "name": "stdout",
     "output_type": "stream",
     "text": [
      "['0', 1, 2, 3, '4'] ['0', 1, 2, 3, '4']\n",
      "True\n"
     ]
    }
   ],
   "source": [
    "# Modifying the object doesn't affect what L1 and\n",
    "# L2 refer to.\n",
    "L1.append('4')\n",
    "L2.insert(0, '0')\n",
    "print L1, L2\n",
    "print id(L1) == id(L2)"
   ]
  },
  {
   "cell_type": "code",
   "execution_count": 45,
   "metadata": {
    "collapsed": false
   },
   "outputs": [
    {
     "name": "stdout",
     "output_type": "stream",
     "text": [
      "['0', 1, 2, 3, '4', 5, 6] ['0', 1, 2, 3, '4']\n",
      "False\n"
     ]
    }
   ],
   "source": [
    "# But this syntax creates a new list and assigns\n",
    "# it to L1, so L1 and L2 no longer refer to the \n",
    "# same object.\n",
    "L1 = L1 + [5, 6]\n",
    "print L1, L2\n",
    "print id(L1) == id(L2)"
   ]
  },
  {
   "cell_type": "code",
   "execution_count": 46,
   "metadata": {
    "collapsed": false
   },
   "outputs": [
    {
     "name": "stdout",
     "output_type": "stream",
     "text": [
      "True\n"
     ]
    }
   ],
   "source": [
    "# New object creation and assignment is sometimes\n",
    "# hidden. Eg, you might expect the += operator to\n",
    "# modify the original object rather than creating\n",
    "# a new one. For mutable objects this is true:\n",
    "L1 = [1,2,3]\n",
    "oldid = id(L1)\n",
    "L1 += [4, 5, 6]\n",
    "print id(L1) == oldid"
   ]
  },
  {
   "cell_type": "code",
   "execution_count": 47,
   "metadata": {
    "collapsed": false
   },
   "outputs": [
    {
     "name": "stdout",
     "output_type": "stream",
     "text": [
      "False\n"
     ]
    }
   ],
   "source": [
    "# But for immutable objects, like strings, += \n",
    "# actually creates a new string and assigns it\n",
    "# to the original variable.\n",
    "s = 'spam'\n",
    "oldid = id(s)\n",
    "# So this is actually like s = s + ' and eggs'.\n",
    "s += ' and eggs'\n",
    "print id(s) == oldid"
   ]
  },
  {
   "cell_type": "markdown",
   "metadata": {},
   "source": [
    "## 11)"
   ]
  },
  {
   "cell_type": "markdown",
   "metadata": {},
   "source": [
    "- Given the above, can you work out how you'd make a copy of a list, rather than creating a new variable that refers to the same list?\n",
    "- There are a few different ways."
   ]
  },
  {
   "cell_type": "code",
   "execution_count": 48,
   "metadata": {
    "collapsed": false
   },
   "outputs": [
    {
     "name": "stdout",
     "output_type": "stream",
     "text": [
      "True\n"
     ]
    }
   ],
   "source": [
    "# We've seen that this just assigns a new \n",
    "# variable to refer to the same object.\n",
    "L1 = [1,2,3]\n",
    "L2 = L1\n",
    "print id(L1) == id(L2)"
   ]
  },
  {
   "cell_type": "code",
   "execution_count": 49,
   "metadata": {
    "collapsed": false
   },
   "outputs": [
    {
     "name": "stdout",
     "output_type": "stream",
     "text": [
      "[1, 2, 3] [1, 2, 3]\n",
      "False\n"
     ]
    }
   ],
   "source": [
    "# You could create a new, empty list and\n",
    "# plug in the values of the original one,\n",
    "# but this is a bit cumbersome.\n",
    "L2 = []\n",
    "for elm in L1 :\n",
    "    L2.append(elm)\n",
    "print L1, L2\n",
    "print id(L1) == id(L2)"
   ]
  },
  {
   "cell_type": "code",
   "execution_count": 50,
   "metadata": {
    "collapsed": false
   },
   "outputs": [
    {
     "name": "stdout",
     "output_type": "stream",
     "text": [
      "[1, 2, 3] [1, 2, 3]\n",
      "False\n"
     ]
    }
   ],
   "source": [
    "# One alternative is to use slicing, but\n",
    "# take a slice containing every element in the\n",
    "# list, as a slice of a list returns a new \n",
    "# list object.\n",
    "L2 = L1[:]\n",
    "print L1, L2\n",
    "print id(L1) == id(L2)"
   ]
  },
  {
   "cell_type": "code",
   "execution_count": 51,
   "metadata": {
    "collapsed": false
   },
   "outputs": [
    {
     "name": "stdout",
     "output_type": "stream",
     "text": [
      "[1, 2, 3] [1, 2, 3]\n",
      "False\n"
     ]
    }
   ],
   "source": [
    "# Or else you can simply pass the original\n",
    "# list to the list constructor.\n",
    "L2 = list(L1)\n",
    "print L1, L2\n",
    "print id(L1) == id(L2)"
   ]
  },
  {
   "cell_type": "markdown",
   "metadata": {},
   "source": [
    "## 12)"
   ]
  },
  {
   "cell_type": "markdown",
   "metadata": {},
   "source": [
    "- When slicing sequences (where supported) you can give a thrid int after a second colon, eg "
   ]
  },
  {
   "cell_type": "code",
   "execution_count": 52,
   "metadata": {
    "collapsed": false
   },
   "outputs": [
    {
     "name": "stdout",
     "output_type": "stream",
     "text": [
      "[2, 3, 4]\n"
     ]
    }
   ],
   "source": [
    "l = [1,2,3,4,5]\n",
    "print l[1:4:1]"
   ]
  },
  {
   "cell_type": "markdown",
   "metadata": {},
   "source": [
    "- Try to work out what this third int means. What happens if you give it a negative value?"
   ]
  },
  {
   "cell_type": "code",
   "execution_count": 53,
   "metadata": {
    "collapsed": false
   },
   "outputs": [
    {
     "name": "stdout",
     "output_type": "stream",
     "text": [
      "[1, 3, 5]\n"
     ]
    }
   ],
   "source": [
    "# The third int represents the step size when \n",
    "# selecting elements from the list. So to select\n",
    "# every other element you can do:\n",
    "print l[0:len(l):2]"
   ]
  },
  {
   "cell_type": "code",
   "execution_count": 54,
   "metadata": {
    "collapsed": false
   },
   "outputs": [
    {
     "name": "stdout",
     "output_type": "stream",
     "text": [
      "[1, 3, 5]\n"
     ]
    }
   ],
   "source": [
    "# Which is the same as:\n",
    "print l[::2]"
   ]
  },
  {
   "cell_type": "code",
   "execution_count": 55,
   "metadata": {
    "collapsed": false
   },
   "outputs": [
    {
     "name": "stdout",
     "output_type": "stream",
     "text": [
      "[]\n",
      "[5, 4, 3]\n"
     ]
    }
   ],
   "source": [
    "# Using a negative value for the step size means \n",
    "# it steps backwards through the list. However,\n",
    "# then the first index must be larger than the \n",
    "# second, else you just get an empty list:\n",
    "print l[1:4:-1]\n",
    "print l[4:1:-1]"
   ]
  },
  {
   "cell_type": "code",
   "execution_count": 56,
   "metadata": {
    "collapsed": false
   },
   "outputs": [
    {
     "name": "stdout",
     "output_type": "stream",
     "text": [
      "[5, 4, 3, 2, 1]\n"
     ]
    }
   ],
   "source": [
    "# That means you can easily reverse a list (or\n",
    "# other sequence that supports slicing) by doing:\n",
    "print l[::-1]"
   ]
  },
  {
   "cell_type": "markdown",
   "metadata": {},
   "source": [
    "## 13)"
   ]
  },
  {
   "cell_type": "markdown",
   "metadata": {},
   "source": [
    "- Define a string with your name with your name and write a script to provide your name in reverse with all vowels capitalised and all consonants lower case.\n",
    "- Eg, `'Brave Sir Robin' => 'nIbOr rIs EvArb'`"
   ]
  },
  {
   "cell_type": "code",
   "execution_count": 57,
   "metadata": {
    "collapsed": false
   },
   "outputs": [
    {
     "ename": "TypeError",
     "evalue": "'str' object does not support item assignment",
     "output_type": "error",
     "traceback": [
      "\u001b[0;31m---------------------------------------------------------------------------\u001b[0m\n\u001b[0;31mTypeError\u001b[0m                                 Traceback (most recent call last)",
      "\u001b[0;32m<ipython-input-57-0dedf87058f4>\u001b[0m in \u001b[0;36m<module>\u001b[0;34m()\u001b[0m\n\u001b[1;32m      4\u001b[0m \u001b[0;31m# an exception, as strings are immutable.\u001b[0m\u001b[0;34m\u001b[0m\u001b[0;34m\u001b[0m\u001b[0m\n\u001b[1;32m      5\u001b[0m \u001b[0mname\u001b[0m \u001b[0;34m=\u001b[0m \u001b[0;34m'Brave Sir Robin'\u001b[0m\u001b[0;34m\u001b[0m\u001b[0m\n\u001b[0;32m----> 6\u001b[0;31m \u001b[0mname\u001b[0m\u001b[0;34m[\u001b[0m\u001b[0;36m0\u001b[0m\u001b[0;34m]\u001b[0m \u001b[0;34m=\u001b[0m \u001b[0mname\u001b[0m\u001b[0;34m[\u001b[0m\u001b[0;36m0\u001b[0m\u001b[0;34m]\u001b[0m\u001b[0;34m.\u001b[0m\u001b[0mlower\u001b[0m\u001b[0;34m(\u001b[0m\u001b[0;34m)\u001b[0m\u001b[0;34m\u001b[0m\u001b[0m\n\u001b[0m",
      "\u001b[0;31mTypeError\u001b[0m: 'str' object does not support item assignment"
     ]
    }
   ],
   "source": [
    "# Again there are a few options in doing this.\n",
    "# The main pitfall here is that attempting to\n",
    "# modify a single character in a string raises\n",
    "# an exception, as strings are immutable.\n",
    "name = 'Brave Sir Robin'\n",
    "name[0] = name[0].lower()"
   ]
  },
  {
   "cell_type": "code",
   "execution_count": 58,
   "metadata": {
    "collapsed": false
   },
   "outputs": [
    {
     "name": "stdout",
     "output_type": "stream",
     "text": [
      "nIbOr rIs EvArb\n"
     ]
    }
   ],
   "source": [
    "# So you need to declare a new string\n",
    "# to contain your modified string.\n",
    "newname = ''\n",
    "# Then you could loop backwards over \n",
    "# characters in the original string and\n",
    "# add them to the new string one by one.\n",
    "vowels = 'aeiou'\n",
    "for i in range(len(name)-1, -1, -1) :\n",
    "    c = name[i].lower()\n",
    "    if c in vowels :\n",
    "        c = c.upper()\n",
    "    newname += c\n",
    "# This is effective but requires several\n",
    "# lines of code.\n",
    "print newname"
   ]
  },
  {
   "cell_type": "code",
   "execution_count": 59,
   "metadata": {
    "collapsed": false
   },
   "outputs": [
    {
     "name": "stdout",
     "output_type": "stream",
     "text": [
      "Bae\n",
      "BaeSrRbn\n"
     ]
    }
   ],
   "source": [
    "# We can use slicing on strings similarly to\n",
    "# lists.\n",
    "# Eg, taking every other character over the\n",
    "# first 5 characters.\n",
    "print name[0:5:2]\n",
    "# Or over the whole string\n",
    "print name[::2]"
   ]
  },
  {
   "cell_type": "code",
   "execution_count": 60,
   "metadata": {
    "collapsed": false
   },
   "outputs": [
    {
     "name": "stdout",
     "output_type": "stream",
     "text": [
      "niboR riS evarB\n"
     ]
    }
   ],
   "source": [
    "# And to reverse the string:\n",
    "print name[::-1]"
   ]
  },
  {
   "cell_type": "code",
   "execution_count": 61,
   "metadata": {
    "collapsed": false
   },
   "outputs": [
    {
     "name": "stdout",
     "output_type": "stream",
     "text": [
      "nIbOr rIs EvArb\n"
     ]
    }
   ],
   "source": [
    "# Then all that remains is to make the consonants\n",
    "# lower case and vowels upper case.\n",
    "# First reverse the string and make everything\n",
    "# lower case.\n",
    "newname = name[::-1].lower()\n",
    "# Then you can string together replace calls for\n",
    "# the vowels.\n",
    "newname = newname.replace('a', 'A').replace('e', 'E')\\\n",
    ".replace('i', 'I').replace('o', 'O').replace('u', 'U')\n",
    "# Which is also effective, but isn't very flexible with\n",
    "# the replace calls strung together like that.\n",
    "print newname"
   ]
  },
  {
   "cell_type": "code",
   "execution_count": 62,
   "metadata": {
    "collapsed": false
   },
   "outputs": [
    {
     "name": "stdout",
     "output_type": "stream",
     "text": [
      "nIbOr rIs EvArb\n"
     ]
    }
   ],
   "source": [
    "# Alternatively you can loop over the vowels and\n",
    "# replace each in turn. This is preferable as \n",
    "# you can more easily change which letters are\n",
    "# made upper case.\n",
    "newname = name[::-1].lower()\n",
    "for vowel in 'aeiou' :\n",
    "    newname = newname.replace(vowel, vowel.upper())\n",
    "# Which does the job.\n",
    "print newname"
   ]
  },
  {
   "cell_type": "code",
   "execution_count": 63,
   "metadata": {
    "collapsed": false
   },
   "outputs": [
    {
     "name": "stdout",
     "output_type": "stream",
     "text": [
      "nIbOr rIs EvArb\n"
     ]
    }
   ],
   "source": [
    "# Alternatively, you can use the reduce builtin\n",
    "# method for repeated operations, which does \n",
    "# exactly the same as above.\n",
    "newname = reduce(lambda name, vowel : name.replace(vowel, vowel.upper()), \n",
    "                 'aeiou', name[::-1].lower())\n",
    "print newname"
   ]
  },
  {
   "cell_type": "code",
   "execution_count": 64,
   "metadata": {
    "collapsed": false
   },
   "outputs": [
    {
     "name": "stdout",
     "output_type": "stream",
     "text": [
      "nIbOr rIs EvArb\n"
     ]
    }
   ],
   "source": [
    "# The regular expressions module 're' also provides \n",
    "# very flexible means of replacing expressions in \n",
    "# strings.\n",
    "import re\n",
    "newname = re.sub('a|e|i|o|u', lambda x : x.string[x.start()].upper(), name[::-1].lower())\n",
    "print newname"
   ]
  },
  {
   "cell_type": "markdown",
   "metadata": {},
   "source": [
    "## 14)"
   ]
  },
  {
   "cell_type": "markdown",
   "metadata": {},
   "source": [
    "- Take a phrase and transform each character into the integer that represents it's index in the alphabet, separated by commas. Eg, `'We are the knights who say ni!'` => `'22,4, 0,17,4, 19,7,4, 10,13,8,6,7,19,18, 22,7,14, 18,0,24, 13,8,!'`."
   ]
  },
  {
   "cell_type": "code",
   "execution_count": 65,
   "metadata": {
    "collapsed": false
   },
   "outputs": [
    {
     "name": "stdout",
     "output_type": "stream",
     "text": [
      "22,4, 0,17,4, 19,7,4, 10,13,8,6,7,19,18, 22,7,14, 18,0,24, 13,8,!\n"
     ]
    }
   ],
   "source": [
    "# Read the characters in the alphabet into a tuple.\n",
    "# A list would also do, anything that supports \n",
    "# indexing.\n",
    "alphabet = tuple('abcdefghijklmnopqrstuvwxyz')\n",
    "phrase = 'We are the knights who say ni!'\n",
    "# Then loop over the characters in the phrase\n",
    "# and replace them with their index in the alphabet\n",
    "# (if they're in the alphabet).\n",
    "encodedPhrase = ''\n",
    "for char in phrase.lower() :\n",
    "    if char in alphabet :\n",
    "        encodedPhrase += str(alphabet.index(char)) + ','\n",
    "    else :\n",
    "        encodedPhrase += char\n",
    "print encodedPhrase"
   ]
  },
  {
   "cell_type": "code",
   "execution_count": 66,
   "metadata": {
    "collapsed": false
   },
   "outputs": [
    {
     "name": "stdout",
     "output_type": "stream",
     "text": [
      "22,4, 0,17,4, 19,7,4, 10,13,8,6,7,19,18, 22,7,14, 18,0,24, 13,8,!\n"
     ]
    }
   ],
   "source": [
    "# Alternatively we can do this in a more compact \n",
    "# way using reduce and replace again.\n",
    "encodedPhrase = reduce(lambda phrase, char : \\\n",
    "                       phrase.replace(char, str(alphabet.index(char)) + ',') if char in alphabet else phrase,\n",
    "                       alphabet, phrase.lower())\n",
    "print encodedPhrase"
   ]
  },
  {
   "cell_type": "code",
   "execution_count": 67,
   "metadata": {
    "collapsed": false
   },
   "outputs": [
    {
     "name": "stdout",
     "output_type": "stream",
     "text": [
      "10.0\n",
      "0.0\n"
     ]
    }
   ],
   "source": [
    "# Note the use of the inline if/else within the lambda \n",
    "# method. A simpler example is:\n",
    "check = True\n",
    "x = 10. if check else 0.\n",
    "print x\n",
    "check = False\n",
    "x = 10. if check else 0.\n",
    "print x"
   ]
  },
  {
   "cell_type": "code",
   "execution_count": 68,
   "metadata": {
    "collapsed": false
   },
   "outputs": [
    {
     "name": "stdout",
     "output_type": "stream",
     "text": [
      "Yes No\n"
     ]
    }
   ],
   "source": [
    "# This is particularly handy in lambda methods, eg\n",
    "isPositive = lambda x : 'Yes' if x > 0. else 'No'\n",
    "print isPositive(10.), isPositive(-10.)"
   ]
  },
  {
   "cell_type": "markdown",
   "metadata": {},
   "source": [
    "- Try to do the same in reverse. Eg, decode `'24,14,20, 12,20,18,19, 2,20,19, 3,14,22,13, 19,7,4, 12,8,6,7,19,8,4,18,19, 19,17,4,4, 8,13, 19,7,4, 5,14,17,4,18,19, 22,8,19,7, ... 0, 7,4,17,17,8,13,6,!'`."
   ]
  },
  {
   "cell_type": "code",
   "execution_count": 69,
   "metadata": {
    "collapsed": false
   },
   "outputs": [
    {
     "name": "stdout",
     "output_type": "stream",
     "text": [
      "you must cut down the mightiest tree in the forest with ... a herring!\n"
     ]
    }
   ],
   "source": [
    "# Again, the easiest way to do this is with replace:\n",
    "encodedPhrase = '24,14,20, 12,20,18,19, 2,20,19, 3,14,22,13, 19,7,4, 12,8,6,7,19,8,4,18,19, 19,17,4,4, 8,13, 19,7,4, 5,14,17,4,18,19, 22,8,19,7, ... 0, 7,4,17,17,8,13,6,!'\n",
    "decodedPhrase = encodedPhrase\n",
    "for char in alphabet[::-1] :\n",
    "    decodedPhrase = decodedPhrase.replace(str(alphabet.index(char)) + ',', char)\n",
    "print decodedPhrase"
   ]
  },
  {
   "cell_type": "code",
   "execution_count": 70,
   "metadata": {
    "collapsed": false
   },
   "outputs": [
    {
     "name": "stdout",
     "output_type": "stream",
     "text": [
      "you must cut down the mightiest tree in the forest with ... a herring!\n"
     ]
    }
   ],
   "source": [
    "# Similarly using reduce:\n",
    "decodedPhrase = reduce(lambda phrase, char : phrase.replace(str(alphabet.index(char)) + ',', char),\n",
    "                       alphabet[::-1], encodedPhrase)\n",
    "print decodedPhrase"
   ]
  },
  {
   "cell_type": "code",
   "execution_count": 71,
   "metadata": {
    "collapsed": false
   },
   "outputs": [
    {
     "name": "stdout",
     "output_type": "stream",
     "text": [
      "2e1e2a 1c2a1i1j c2a1j d1e2c1d 1jhe 1cigh1jie1i1j 1j1hee i1d 1jhe f1e1he1i1j 2ci1jh ... a he1h1hi1dg!\n"
     ]
    }
   ],
   "source": [
    "# Note that you need to loop backwards over the\n",
    "# alphabet, as if you replace '1,' -> 'b' first\n",
    "# then you'd decode '11,' -> '1b' and get \n",
    "# gibberish out:\n",
    "print reduce(lambda phrase, char : phrase.replace(str(alphabet.index(char)) + ',', char),\n",
    "             alphabet, encodedPhrase)\n",
    "# So you need to start by replacing the largest indices."
   ]
  },
  {
   "cell_type": "markdown",
   "metadata": {},
   "source": [
    "## 13)"
   ]
  },
  {
   "cell_type": "markdown",
   "metadata": {},
   "source": [
    "- Define several sequences, such as a string, tuple and a dictionary, and experiment with the various ways of looping over their characters/elements. \n",
    "- Use `help` to check their specific properties.\n",
    "- For dictionaries the `iteritems` method is particularly useful.\n",
    "- Also try using the `enumerate` built-in method as the iterable argument to a `for` loop."
   ]
  },
  {
   "cell_type": "code",
   "execution_count": 72,
   "metadata": {
    "collapsed": false
   },
   "outputs": [
    {
     "name": "stdout",
     "output_type": "stream",
     "text": [
      "Brian [0, 1, 2, 3, 4] (5, 6, 7, 8, 9) {'a': 0, 'c': 2, 'b': 1, 'e': 4, 'd': 3}\n"
     ]
    }
   ],
   "source": [
    "s = 'Brian'\n",
    "l = range(5)\n",
    "t = tuple(range(5,10))\n",
    "d = dict(zip('abcde', range(5)))\n",
    "print s, l, t, d"
   ]
  },
  {
   "cell_type": "code",
   "execution_count": 73,
   "metadata": {
    "collapsed": false
   },
   "outputs": [
    {
     "name": "stdout",
     "output_type": "stream",
     "text": [
      "Loop over string:\n",
      "B r i a n \n",
      "Loop over list:\n",
      "0 1 2 3 4 \n",
      "Loop over tuple:\n",
      "5 6 7 8 9 \n",
      "Loop over dict:\n",
      "a c b e d \n",
      "Loop over dict.values():\n",
      "0 2 1 4 3\n"
     ]
    }
   ],
   "source": [
    "# Loop over elements directly.\n",
    "print 'Loop over string:'\n",
    "for elm in s :\n",
    "    print elm,\n",
    "\n",
    "print '\\nLoop over list:'\n",
    "for elm in l :\n",
    "    print elm,\n",
    "\n",
    "print '\\nLoop over tuple:'\n",
    "for elm in t :\n",
    "    print elm,\n",
    "\n",
    "# Note that when looping over a dict like this\n",
    "# we loop over the keys in the dict, not the \n",
    "# values.\n",
    "print '\\nLoop over dict:'\n",
    "for elm in d :\n",
    "    print elm,\n",
    "\n",
    "# You can loop over the values by calling the\n",
    "# dict.values() method.\n",
    "print '\\nLoop over dict.values():'\n",
    "for elm in d.values() :\n",
    "    print elm,"
   ]
  },
  {
   "cell_type": "code",
   "execution_count": 74,
   "metadata": {
    "collapsed": false
   },
   "outputs": [
    {
     "name": "stdout",
     "output_type": "stream",
     "text": [
      "[0, 1, 2, 3, 4]\n",
      "[0, 1, 2, 3, 4]\n"
     ]
    }
   ],
   "source": [
    "# The above is fine for accessing element values,\n",
    "# but doesn't work if you try to change them. \n",
    "print l\n",
    "for elm in l :\n",
    "    elm += 1\n",
    "print l"
   ]
  },
  {
   "cell_type": "code",
   "execution_count": 75,
   "metadata": {
    "collapsed": false
   },
   "outputs": [
    {
     "name": "stdout",
     "output_type": "stream",
     "text": [
      "[[0], [1], [2], [3], [4]]\n",
      "[[0, 'a'], [1, 'a'], [2, 'a'], [3, 'a'], [4, 'a']]\n"
     ]
    }
   ],
   "source": [
    "# The reason this doesn't change the values in the \n",
    "# list is that the ints in the list are immutable, \n",
    "# and doing: \n",
    "# elm += 1\n",
    "# actually just creates a new int and assigns it to\n",
    "# the variable 'elm', not the list element.\n",
    "\n",
    "# This does however work if you have a list of \n",
    "# mutable objects, eg, a list of lists.\n",
    "l = list(list([i]) for i in range(5))\n",
    "print l\n",
    "for elm in l :\n",
    "    elm.append('a')\n",
    "print l"
   ]
  },
  {
   "cell_type": "code",
   "execution_count": 76,
   "metadata": {
    "collapsed": false
   },
   "outputs": [
    {
     "name": "stdout",
     "output_type": "stream",
     "text": [
      "[[0, 'a'], [1, 'a'], [2, 'a'], [3, 'a'], [4, 'a']]\n",
      "[[0, 'a'], [1, 'a'], [2, 'a'], [3, 'a'], [4, 'a']]\n"
     ]
    }
   ],
   "source": [
    "# On the other hand, this syntax again just\n",
    "# assigns a new object to the variable 'elm' \n",
    "# and leaves the original list element unchanged.\n",
    "print l\n",
    "for elm in l :\n",
    "    elm = [1,2,3]\n",
    "print l"
   ]
  },
  {
   "cell_type": "code",
   "execution_count": 77,
   "metadata": {
    "collapsed": false
   },
   "outputs": [
    {
     "name": "stdout",
     "output_type": "stream",
     "text": [
      "[[0, 'a'], [1, 'a'], [2, 'a'], [3, 'a'], [4, 'a']]\n",
      "[0, 1, 2, 3, 4]\n",
      "[1, 2, 3, 4, 5]\n"
     ]
    }
   ],
   "source": [
    "# This is all a consequence of the way variables \n",
    "# work in python. It may not be clear at first,\n",
    "# but don't worry, you can use python fine without\n",
    "# fully understanding this subtlety - but if you \n",
    "# encounter some unexpected behaviour it may well\n",
    "# be due to this effect.\n",
    "\n",
    "# If you want to be certain to modify the contents\n",
    "# of the list you can iterate and access the elements\n",
    "# by index:\n",
    "print l\n",
    "for i in range(len(l)) :\n",
    "    l[i] = i\n",
    "print l\n",
    "# This also works for immutable list elements.\n",
    "for i in range(len(l)) :\n",
    "    l[i] += 1\n",
    "print l"
   ]
  },
  {
   "cell_type": "code",
   "execution_count": 78,
   "metadata": {
    "collapsed": false
   },
   "outputs": [
    {
     "name": "stdout",
     "output_type": "stream",
     "text": [
      "[1, 2, 3, 4, 5]\n",
      "[(0, 1), (1, 2), (2, 3), (3, 4), (4, 5)]\n",
      "0 1\n",
      "1 2\n",
      "2 3\n",
      "3 4\n",
      "4 5\n"
     ]
    }
   ],
   "source": [
    "# The 'enumerate' builtin method is also handy \n",
    "# for accessing elements and indices in a list\n",
    "# simultaneously.\n",
    "print l\n",
    "# The enumerate method returns pairs of \n",
    "# (index, element) which can be iterated over.\n",
    "print list(enumerate(l))\n",
    "\n",
    "for i, elm in enumerate(l) :\n",
    "    print i, elm"
   ]
  },
  {
   "cell_type": "code",
   "execution_count": 79,
   "metadata": {
    "collapsed": false
   },
   "outputs": [
    {
     "name": "stdout",
     "output_type": "stream",
     "text": [
      "Brian\n",
      "0 B\n",
      "1 r\n",
      "2 i\n",
      "3 a\n",
      "4 n\n"
     ]
    }
   ],
   "source": [
    "# enumerate works on any iterable object.\n",
    "print s\n",
    "for i, elm in enumerate(s) :\n",
    "    print i, elm"
   ]
  },
  {
   "cell_type": "code",
   "execution_count": 80,
   "metadata": {
    "collapsed": false
   },
   "outputs": [
    {
     "name": "stdout",
     "output_type": "stream",
     "text": [
      "{'a': 0, 'c': 2, 'b': 1, 'e': 4, 'd': 3}\n",
      "a 0\n",
      "c 2\n",
      "b 1\n",
      "e 4\n",
      "d 3\n"
     ]
    }
   ],
   "source": [
    "# For dictionaries the iteritems method\n",
    "# provides similar functionality. It \n",
    "# returns a list of (key, value) pairs\n",
    "# which can be iterated over.\n",
    "print d\n",
    "for key, val in d.iteritems() :\n",
    "    print key, val"
   ]
  },
  {
   "cell_type": "code",
   "execution_count": 81,
   "metadata": {
    "collapsed": false
   },
   "outputs": [
    {
     "name": "stdout",
     "output_type": "stream",
     "text": [
      "{'a': 0, 'c': 2, 'b': 1, 'e': 4, 'd': 3}\n",
      "{'a': 0, 'c': 2, 'b': 1, 'e': 4, 'd': 3}\n",
      "{'a': 1, 'c': 3, 'b': 2, 'e': 5, 'd': 4}\n"
     ]
    }
   ],
   "source": [
    "# Again, if you're iterating over a dict\n",
    "# of immutable elements you need to change\n",
    "# their value by key.\n",
    "print d\n",
    "# This does nothing to the dict.\n",
    "for key, val in d.iteritems() :\n",
    "    val += 1\n",
    "print d\n",
    "# But this changes its elements.\n",
    "for key in d :\n",
    "    d[key] += 1\n",
    "print d"
   ]
  },
  {
   "cell_type": "markdown",
   "metadata": {},
   "source": [
    "## 16)"
   ]
  },
  {
   "cell_type": "markdown",
   "metadata": {},
   "source": [
    "- Experiment with the way that python deals with local variables within functions.\n",
    "- Problem 10 is of particular relevance."
   ]
  },
  {
   "cell_type": "code",
   "execution_count": 82,
   "metadata": {
    "collapsed": false
   },
   "outputs": [],
   "source": [
    "v = 1\n",
    "def test(v) :\n",
    "    v *= 3 \n",
    "    print 'in test, v =', v\n",
    "    out = -999"
   ]
  },
  {
   "cell_type": "code",
   "execution_count": 83,
   "metadata": {
    "collapsed": false
   },
   "outputs": [
    {
     "name": "stdout",
     "output_type": "stream",
     "text": [
      "before test, v= 1\n",
      "in test, v = 3\n",
      "after test, v = 1\n"
     ]
    }
   ],
   "source": [
    "print 'before test, v=', v\n",
    "test(v)\n",
    "print 'after test, v =', v"
   ]
  },
  {
   "cell_type": "code",
   "execution_count": 84,
   "metadata": {
    "collapsed": false
   },
   "outputs": [
    {
     "ename": "NameError",
     "evalue": "name 'out' is not defined",
     "output_type": "error",
     "traceback": [
      "\u001b[0;31m---------------------------------------------------------------------------\u001b[0m\n\u001b[0;31mNameError\u001b[0m                                 Traceback (most recent call last)",
      "\u001b[0;32m<ipython-input-84-878b20777e74>\u001b[0m in \u001b[0;36m<module>\u001b[0;34m()\u001b[0m\n\u001b[0;32m----> 1\u001b[0;31m \u001b[0;32mprint\u001b[0m \u001b[0mout\u001b[0m\u001b[0;34m\u001b[0m\u001b[0m\n\u001b[0m",
      "\u001b[0;31mNameError\u001b[0m: name 'out' is not defined"
     ]
    }
   ],
   "source": [
    "print out"
   ]
  },
  {
   "cell_type": "markdown",
   "metadata": {},
   "source": [
    "- The variable `v` within the `test` method is a local variable.\n",
    "- Changing its value doesn't affect the value of the variable `v` outside the method (in the \"global\" scope).\n",
    "- Similarly, the variable `out` is only defined within the method."
   ]
  },
  {
   "cell_type": "markdown",
   "metadata": {},
   "source": [
    "- Now try the same with a mutable object like a list:"
   ]
  },
  {
   "cell_type": "code",
   "execution_count": 85,
   "metadata": {
    "collapsed": false
   },
   "outputs": [],
   "source": [
    "v = ['spam', 'eggs']\n",
    "def test(v) :\n",
    "    del v[0]\n",
    "    print 'in test, v =', v"
   ]
  },
  {
   "cell_type": "code",
   "execution_count": 86,
   "metadata": {
    "collapsed": false
   },
   "outputs": [
    {
     "name": "stdout",
     "output_type": "stream",
     "text": [
      "before test, v = ['spam', 'eggs']\n",
      "in test, v = ['eggs']\n",
      "after test, v = ['eggs']\n"
     ]
    }
   ],
   "source": [
    "print 'before test, v =', v\n",
    "test(v)\n",
    "print 'after test, v =', v"
   ]
  },
  {
   "cell_type": "markdown",
   "metadata": {},
   "source": [
    "- In this case, although the variable `v` within the method is local it still refers to the same list object as the `v` variable outside the method.\n",
    "- This is the same as in problem 10, with two variables refering to the same list."
   ]
  },
  {
   "cell_type": "markdown",
   "metadata": {},
   "source": [
    "- Next try using this method and see if you understand the difference:"
   ]
  },
  {
   "cell_type": "code",
   "execution_count": 87,
   "metadata": {
    "collapsed": false
   },
   "outputs": [],
   "source": [
    "def test(v) :\n",
    "    v = v + [1,2,3]"
   ]
  },
  {
   "cell_type": "code",
   "execution_count": 88,
   "metadata": {
    "collapsed": false
   },
   "outputs": [
    {
     "name": "stdout",
     "output_type": "stream",
     "text": [
      "[1, 2, 3]\n",
      "[1, 2, 3]\n"
     ]
    }
   ],
   "source": [
    "# Again this leaves the original list unchanged\n",
    "# as the variable v within the method is reassigned\n",
    "# to a different list. \n",
    "v = [1,2,3]\n",
    "print v\n",
    "test(v)\n",
    "print v\n",
    "\n",
    "# The point here is that it's the variables that're\n",
    "# passed to the method, rather than copies of the\n",
    "# objects to which they refer. Again, in c++ this is\n",
    "# like passing by pointer. This makes passing objects\n",
    "# to methods very efficient, and independent of the \n",
    "# size in memory of the objects. \n",
    "# For mutable objects you can modify the original \n",
    "# object via the variable within the method. But if \n",
    "# you reassign the variable within the method (which \n",
    "# is the only option for immutable objects) the \n",
    "# origninal object remains unchanged, as in the \n",
    "# various cases demonstrated previously. "
   ]
  },
  {
   "cell_type": "markdown",
   "metadata": {},
   "source": [
    "## 17)"
   ]
  },
  {
   "cell_type": "markdown",
   "metadata": {},
   "source": [
    "- We've seen that multiple variables can be assigned at the same time.\n",
    "- By a similar mechanism, functions can return more than one variable at a time.\n",
    "- Eg, you can return two variables like so:"
   ]
  },
  {
   "cell_type": "code",
   "execution_count": 89,
   "metadata": {
    "collapsed": false
   },
   "outputs": [],
   "source": [
    "def tuplepair(x, y) :\n",
    "    return x, y"
   ]
  },
  {
   "cell_type": "markdown",
   "metadata": {},
   "source": [
    "- See how it reacts to these:"
   ]
  },
  {
   "cell_type": "code",
   "execution_count": 90,
   "metadata": {
    "collapsed": false
   },
   "outputs": [
    {
     "data": {
      "text/plain": [
       "(1, 2)"
      ]
     },
     "execution_count": 90,
     "metadata": {},
     "output_type": "execute_result"
    }
   ],
   "source": [
    "tuplepair(1, 2)"
   ]
  },
  {
   "cell_type": "code",
   "execution_count": 91,
   "metadata": {
    "collapsed": false
   },
   "outputs": [
    {
     "ename": "TypeError",
     "evalue": "tuplepair() takes exactly 2 arguments (1 given)",
     "output_type": "error",
     "traceback": [
      "\u001b[0;31m---------------------------------------------------------------------------\u001b[0m\n\u001b[0;31mTypeError\u001b[0m                                 Traceback (most recent call last)",
      "\u001b[0;32m<ipython-input-91-6b0197fd3ddf>\u001b[0m in \u001b[0;36m<module>\u001b[0;34m()\u001b[0m\n\u001b[1;32m      1\u001b[0m \u001b[0;31m# The method expects two arguments, so this\u001b[0m\u001b[0;34m\u001b[0m\u001b[0;34m\u001b[0m\u001b[0m\n\u001b[1;32m      2\u001b[0m \u001b[0;31m# doesn't work.\u001b[0m\u001b[0;34m\u001b[0m\u001b[0;34m\u001b[0m\u001b[0m\n\u001b[0;32m----> 3\u001b[0;31m \u001b[0mtuplepair\u001b[0m\u001b[0;34m(\u001b[0m\u001b[0;36m1\u001b[0m\u001b[0;34m)\u001b[0m\u001b[0;34m\u001b[0m\u001b[0m\n\u001b[0m",
      "\u001b[0;31mTypeError\u001b[0m: tuplepair() takes exactly 2 arguments (1 given)"
     ]
    }
   ],
   "source": [
    "# The method expects two arguments, so this \n",
    "# doesn't work.\n",
    "tuplepair(1)"
   ]
  },
  {
   "cell_type": "code",
   "execution_count": 92,
   "metadata": {
    "collapsed": false
   },
   "outputs": [
    {
     "ename": "TypeError",
     "evalue": "tuplepair() takes exactly 2 arguments (1 given)",
     "output_type": "error",
     "traceback": [
      "\u001b[0;31m---------------------------------------------------------------------------\u001b[0m\n\u001b[0;31mTypeError\u001b[0m                                 Traceback (most recent call last)",
      "\u001b[0;32m<ipython-input-92-0585277b214b>\u001b[0m in \u001b[0;36m<module>\u001b[0;34m()\u001b[0m\n\u001b[1;32m      2\u001b[0m \u001b[0;31m# still only one argument.\u001b[0m\u001b[0;34m\u001b[0m\u001b[0;34m\u001b[0m\u001b[0m\n\u001b[1;32m      3\u001b[0m \u001b[0mt\u001b[0m \u001b[0;34m=\u001b[0m \u001b[0;34m(\u001b[0m\u001b[0;36m1\u001b[0m\u001b[0;34m,\u001b[0m \u001b[0;36m2\u001b[0m\u001b[0;34m)\u001b[0m\u001b[0;34m\u001b[0m\u001b[0m\n\u001b[0;32m----> 4\u001b[0;31m \u001b[0mtuplepair\u001b[0m\u001b[0;34m(\u001b[0m\u001b[0mt\u001b[0m\u001b[0;34m)\u001b[0m\u001b[0;34m\u001b[0m\u001b[0m\n\u001b[0m",
      "\u001b[0;31mTypeError\u001b[0m: tuplepair() takes exactly 2 arguments (1 given)"
     ]
    }
   ],
   "source": [
    "# This doesn't work either as the tuple 't' is\n",
    "# still only one argument.\n",
    "t = (1, 2)\n",
    "tuplepair(t)"
   ]
  },
  {
   "cell_type": "code",
   "execution_count": 93,
   "metadata": {
    "collapsed": false
   },
   "outputs": [
    {
     "name": "stdout",
     "output_type": "stream",
     "text": [
      "(1, 2) <type 'tuple'>\n"
     ]
    }
   ],
   "source": [
    "# Here we see that what's actually returned\n",
    "# by the function is a tuple.\n",
    "r = tuplepair(1, 2)\n",
    "print r, type(r)"
   ]
  },
  {
   "cell_type": "code",
   "execution_count": 94,
   "metadata": {
    "collapsed": false
   },
   "outputs": [
    {
     "name": "stdout",
     "output_type": "stream",
     "text": [
      "1 <type 'int'> 2 <type 'int'>\n"
     ]
    }
   ],
   "source": [
    "# We can unpack the tuple when it's returned\n",
    "# by the function and assign it to two \n",
    "# separate variables.\n",
    "r1, r2 = tuplepair(1, 2)\n",
    "print r1, type(r1), r2, type(r2)"
   ]
  },
  {
   "cell_type": "markdown",
   "metadata": {},
   "source": [
    "- Do you understand why some of these expressions are fine while others throw exceptions?"
   ]
  },
  {
   "cell_type": "markdown",
   "metadata": {},
   "source": [
    "## 18)"
   ]
  },
  {
   "cell_type": "markdown",
   "metadata": {},
   "source": [
    "- Arguments can also be passed to functions using their names as in the function definition.\n",
    "- This can avoid any bugs arising from giving arguments to functions in the wrong order.\n",
    "- For example, this method takes arguments in a different order to what you might expect:"
   ]
  },
  {
   "cell_type": "code",
   "execution_count": 95,
   "metadata": {
    "collapsed": false
   },
   "outputs": [],
   "source": [
    "def exposum(exp1, val1, exp2, val2) :\n",
    "    return val1**exp1 + val2**exp2"
   ]
  },
  {
   "cell_type": "markdown",
   "metadata": {},
   "source": [
    "- If you call it with arguments in the wrong order you get the wrong result!"
   ]
  },
  {
   "cell_type": "code",
   "execution_count": 96,
   "metadata": {
    "collapsed": false
   },
   "outputs": [
    {
     "name": "stdout",
     "output_type": "stream",
     "text": [
      "24\n"
     ]
    }
   ],
   "source": [
    "v1, e1, v2, e2 = 3, 2, 4, 2\n",
    "print exposum(v1, e1, v2, e2)"
   ]
  },
  {
   "cell_type": "markdown",
   "metadata": {},
   "source": [
    "- But you can also call it like so, using the argument names, which ensures the expected behaviour:"
   ]
  },
  {
   "cell_type": "code",
   "execution_count": 97,
   "metadata": {
    "collapsed": false
   },
   "outputs": [
    {
     "name": "stdout",
     "output_type": "stream",
     "text": [
      "25\n"
     ]
    }
   ],
   "source": [
    "print exposum(val1 = v1, exp1 = e1, val2 = v2, exp2 = e2)"
   ]
  },
  {
   "cell_type": "markdown",
   "metadata": {},
   "source": [
    "- You don't need to give names for all arguments, but unnamed arguments must precede named ones."
   ]
  },
  {
   "cell_type": "code",
   "execution_count": 98,
   "metadata": {
    "collapsed": false
   },
   "outputs": [
    {
     "name": "stdout",
     "output_type": "stream",
     "text": [
      "25\n"
     ]
    }
   ],
   "source": [
    "print exposum(e1, v1, val2 = v2, exp2 = e2)"
   ]
  },
  {
   "cell_type": "markdown",
   "metadata": {},
   "source": [
    "## 19)"
   ]
  },
  {
   "cell_type": "markdown",
   "metadata": {},
   "source": [
    "- Functions can be defined with default values for arguments like so:"
   ]
  },
  {
   "cell_type": "code",
   "execution_count": 99,
   "metadata": {
    "collapsed": false
   },
   "outputs": [],
   "source": [
    "def defaultargs(number = 0) :\n",
    "    if number == 0 :\n",
    "        print 'Using default value of \"0\"'\n",
    "    else :\n",
    "        print 'You entered {:d}'.format(number)"
   ]
  },
  {
   "cell_type": "markdown",
   "metadata": {},
   "source": [
    "- Then try:"
   ]
  },
  {
   "cell_type": "code",
   "execution_count": 100,
   "metadata": {
    "collapsed": false
   },
   "outputs": [
    {
     "name": "stdout",
     "output_type": "stream",
     "text": [
      "Using default value of \"0\"\n"
     ]
    }
   ],
   "source": [
    "defaultargs()"
   ]
  },
  {
   "cell_type": "code",
   "execution_count": 101,
   "metadata": {
    "collapsed": false
   },
   "outputs": [
    {
     "name": "stdout",
     "output_type": "stream",
     "text": [
      "You entered 999\n"
     ]
    }
   ],
   "source": [
    "defaultargs(999)"
   ]
  },
  {
   "cell_type": "markdown",
   "metadata": {},
   "source": [
    "## 20)"
   ]
  },
  {
   "cell_type": "markdown",
   "metadata": {},
   "source": [
    "- In addition to supporting function arguments of any type, python also has syntax for functions that can take a variable number of arguments.\n",
    "- For unnamed arguments this is done like so:"
   ]
  },
  {
   "cell_type": "code",
   "execution_count": 102,
   "metadata": {
    "collapsed": false
   },
   "outputs": [],
   "source": [
    "def arguments(*args) :\n",
    "    print 'args =', args"
   ]
  },
  {
   "cell_type": "markdown",
   "metadata": {},
   "source": [
    "- Try calling this function in different ways."
   ]
  },
  {
   "cell_type": "code",
   "execution_count": 103,
   "metadata": {
    "collapsed": false
   },
   "outputs": [
    {
     "name": "stdout",
     "output_type": "stream",
     "text": [
      "args = ()\n"
     ]
    }
   ],
   "source": [
    "arguments()"
   ]
  },
  {
   "cell_type": "code",
   "execution_count": 104,
   "metadata": {
    "collapsed": false
   },
   "outputs": [
    {
     "name": "stdout",
     "output_type": "stream",
     "text": [
      "args = (1,)\n"
     ]
    }
   ],
   "source": [
    "arguments(1)"
   ]
  },
  {
   "cell_type": "code",
   "execution_count": 105,
   "metadata": {
    "collapsed": false
   },
   "outputs": [
    {
     "name": "stdout",
     "output_type": "stream",
     "text": [
      "args = (1, 2, 3)\n"
     ]
    }
   ],
   "source": [
    "arguments(1,2,3)"
   ]
  },
  {
   "cell_type": "code",
   "execution_count": 106,
   "metadata": {
    "collapsed": false
   },
   "outputs": [
    {
     "name": "stdout",
     "output_type": "stream",
     "text": [
      "args = ([1, 2, 3],)\n"
     ]
    }
   ],
   "source": [
    "arguments([1,2,3])"
   ]
  },
  {
   "cell_type": "code",
   "execution_count": 107,
   "metadata": {
    "collapsed": false
   },
   "outputs": [
    {
     "ename": "TypeError",
     "evalue": "arguments() got an unexpected keyword argument 'a'",
     "output_type": "error",
     "traceback": [
      "\u001b[0;31m---------------------------------------------------------------------------\u001b[0m\n\u001b[0;31mTypeError\u001b[0m                                 Traceback (most recent call last)",
      "\u001b[0;32m<ipython-input-107-b4d2d4620c82>\u001b[0m in \u001b[0;36m<module>\u001b[0;34m()\u001b[0m\n\u001b[0;32m----> 1\u001b[0;31m \u001b[0marguments\u001b[0m\u001b[0;34m(\u001b[0m\u001b[0;36m1\u001b[0m\u001b[0;34m,\u001b[0m\u001b[0;36m2\u001b[0m\u001b[0;34m,\u001b[0m\u001b[0;36m3\u001b[0m\u001b[0;34m,\u001b[0m \u001b[0ma\u001b[0m\u001b[0;34m=\u001b[0m\u001b[0;36m0\u001b[0m\u001b[0;34m)\u001b[0m\u001b[0;34m\u001b[0m\u001b[0m\n\u001b[0m",
      "\u001b[0;31mTypeError\u001b[0m: arguments() got an unexpected keyword argument 'a'"
     ]
    }
   ],
   "source": [
    "arguments(1,2,3, a=0)"
   ]
  },
  {
   "cell_type": "markdown",
   "metadata": {},
   "source": [
    "- What type is the variable `args` within the function?\n",
    "- The last call raises an exception as the `*args` syntax only supports unnamed arguments."
   ]
  },
  {
   "cell_type": "markdown",
   "metadata": {},
   "source": [
    "- You can also give arbitrary named arguments to a function like so:"
   ]
  },
  {
   "cell_type": "code",
   "execution_count": 108,
   "metadata": {
    "collapsed": false
   },
   "outputs": [],
   "source": [
    "def named_args(**kwargs) :\n",
    "    print 'kwargs =', kwargs"
   ]
  },
  {
   "cell_type": "markdown",
   "metadata": {},
   "source": [
    "- Then try calling it in various ways:"
   ]
  },
  {
   "cell_type": "code",
   "execution_count": 109,
   "metadata": {
    "collapsed": false
   },
   "outputs": [
    {
     "name": "stdout",
     "output_type": "stream",
     "text": [
      "kwargs = {}\n"
     ]
    }
   ],
   "source": [
    "named_args()"
   ]
  },
  {
   "cell_type": "code",
   "execution_count": 110,
   "metadata": {
    "collapsed": false
   },
   "outputs": [
    {
     "name": "stdout",
     "output_type": "stream",
     "text": [
      "kwargs = {'a': 1, 'b': 2}\n"
     ]
    }
   ],
   "source": [
    "named_args(a = 1, b = 2)"
   ]
  },
  {
   "cell_type": "code",
   "execution_count": 111,
   "metadata": {
    "collapsed": false
   },
   "outputs": [
    {
     "name": "stdout",
     "output_type": "stream",
     "text": [
      "kwargs = {'f': 3.5, 't': ('a', 'b', 'c'), 'l': [1, 2, 3]}\n"
     ]
    }
   ],
   "source": [
    "named_args(t = ('a', 'b', 'c'), l = [1, 2, 3], f = 3.5)"
   ]
  },
  {
   "cell_type": "code",
   "execution_count": 112,
   "metadata": {
    "collapsed": false
   },
   "outputs": [
    {
     "ename": "TypeError",
     "evalue": "named_args() takes exactly 0 arguments (2 given)",
     "output_type": "error",
     "traceback": [
      "\u001b[0;31m---------------------------------------------------------------------------\u001b[0m\n\u001b[0;31mTypeError\u001b[0m                                 Traceback (most recent call last)",
      "\u001b[0;32m<ipython-input-112-018a3daafe85>\u001b[0m in \u001b[0;36m<module>\u001b[0;34m()\u001b[0m\n\u001b[0;32m----> 1\u001b[0;31m \u001b[0mnamed_args\u001b[0m\u001b[0;34m(\u001b[0m\u001b[0;36m1\u001b[0m\u001b[0;34m,\u001b[0m \u001b[0mn\u001b[0m \u001b[0;34m=\u001b[0m \u001b[0;36m3\u001b[0m\u001b[0;34m)\u001b[0m\u001b[0;34m\u001b[0m\u001b[0m\n\u001b[0m",
      "\u001b[0;31mTypeError\u001b[0m: named_args() takes exactly 0 arguments (2 given)"
     ]
    }
   ],
   "source": [
    "named_args(1, n = 3)"
   ]
  },
  {
   "cell_type": "markdown",
   "metadata": {},
   "source": [
    "- What type is `kwargs` within the method?\n",
    "- The last call fails as the method only expects named arguments."
   ]
  },
  {
   "cell_type": "markdown",
   "metadata": {},
   "source": [
    "- The most flexible method, that takes an arbitrary number of unnamend and named arguments thus has this form:"
   ]
  },
  {
   "cell_type": "code",
   "execution_count": 113,
   "metadata": {
    "collapsed": false
   },
   "outputs": [],
   "source": [
    "def args_and_keywords(*args, **kwargs) :\n",
    "    print 'args =', args\n",
    "    print 'kwargs =', kwargs"
   ]
  },
  {
   "cell_type": "markdown",
   "metadata": {},
   "source": [
    "- Give it a try and see what ways you can pass it arguments."
   ]
  },
  {
   "cell_type": "code",
   "execution_count": 114,
   "metadata": {
    "collapsed": false
   },
   "outputs": [
    {
     "name": "stdout",
     "output_type": "stream",
     "text": [
      "args = (1, 2, 3)\n",
      "kwargs = {'a': 4, 'c': 6, 'b': 5}\n"
     ]
    }
   ],
   "source": [
    "# The jist of this exercise is that 'args' \n",
    "# is a tuple of unnamed args within the method,\n",
    "# while 'kwargs' is a dict with keys and values\n",
    "# defined by the named arguments passed to the\n",
    "# function.\n",
    "args_and_keywords(1,2,3, a = 4, b = 5, c = 6)"
   ]
  },
  {
   "cell_type": "code",
   "execution_count": 115,
   "metadata": {
    "collapsed": false
   },
   "outputs": [
    {
     "name": "stdout",
     "output_type": "stream",
     "text": [
      "(1, 2)\n",
      "(6, 7)\n"
     ]
    }
   ],
   "source": [
    "# You can also use this syntax when calling \n",
    "# functions. Eg,\n",
    "def tuplepair(a, b) :\n",
    "    return a, b\n",
    "\n",
    "t = (1,2)\n",
    "# This unpacks the tuple t and passes its\n",
    "# contents to the method. So this is equivalent\n",
    "# to calling:\n",
    "# tuplepair(1, 2)\n",
    "print tuplepair(*t)\n",
    "\n",
    "# Similarly, the ** allows unpacking of a dict,\n",
    "# and passing its contents as named args. So\n",
    "# this is equivalent to:\n",
    "# tuplepair(a = 6, b = 7)\n",
    "d = {'a' : 6, 'b' : 7}\n",
    "print tuplepair(**d)\n",
    "\n",
    "# This means you can cache the arguments you want to\n",
    "# pass to any function in tuples, lists or dicts, \n",
    "# then call the function using them later."
   ]
  },
  {
   "cell_type": "markdown",
   "metadata": {},
   "source": [
    "## 21)"
   ]
  },
  {
   "cell_type": "markdown",
   "metadata": {},
   "source": [
    "- Familiarise yourself with the way imports work, and what syntax causes variables to remain accessible only through the module's namespace, and which import them into the local namespace.\n",
    "- This easily demonstrated with a few examples:"
   ]
  },
  {
   "cell_type": "code",
   "execution_count": 116,
   "metadata": {
    "collapsed": false
   },
   "outputs": [
    {
     "name": "stdout",
     "output_type": "stream",
     "text": [
      "['In', 'L1', 'L2', 'Out', '_', '_11', '_12', '_14', '_17', '_18', '_19', '_36', '_37', '_39', '_4', '_6', '_9', '_90', '__', '___', '__builtin__', '__builtins__', '__doc__', '__name__', '__package__', '_dh', '_i', '_i1', '_i10', '_i100', '_i101', '_i102', '_i103', '_i104', '_i105', '_i106', '_i107', '_i108', '_i109', '_i11', '_i110', '_i111', '_i112', '_i113', '_i114', '_i115', '_i116', '_i12', '_i13', '_i14', '_i15', '_i16', '_i17', '_i18', '_i19', '_i2', '_i20', '_i21', '_i22', '_i23', '_i24', '_i25', '_i26', '_i27', '_i28', '_i29', '_i3', '_i30', '_i31', '_i32', '_i33', '_i34', '_i35', '_i36', '_i37', '_i38', '_i39', '_i4', '_i40', '_i41', '_i42', '_i43', '_i44', '_i45', '_i46', '_i47', '_i48', '_i49', '_i5', '_i50', '_i51', '_i52', '_i53', '_i54', '_i55', '_i56', '_i57', '_i58', '_i59', '_i6', '_i60', '_i61', '_i62', '_i63', '_i64', '_i65', '_i66', '_i67', '_i68', '_i69', '_i7', '_i70', '_i71', '_i72', '_i73', '_i74', '_i75', '_i76', '_i77', '_i78', '_i79', '_i8', '_i80', '_i81', '_i82', '_i83', '_i84', '_i85', '_i86', '_i87', '_i88', '_i89', '_i9', '_i90', '_i91', '_i92', '_i93', '_i94', '_i95', '_i96', '_i97', '_i98', '_i99', '_ih', '_ii', '_iii', '_oh', '_sh', 'a', 'alphabet', 'args_and_keywords', 'arguments', 'b', 'c', 'char', 'check', 'd', 'decodedPhrase', 'defaultargs', 'e1', 'e2', 'elm', 'encodedPhrase', 'exit', 'exposum', 'genericResult', 'get_ipython', 'i', 'isPositive', 'key', 'l', 'math', 'mystr', 'name', 'named_args', 'newname', 'oldid', 'phrase', 'quit', 'r', 'r1', 'r2', 're', 'result1', 'result2', 's', 't', 't1', 't2', 'test', 'tuplepair', 'v', 'v1', 'v2', 'val', 'vowel', 'vowels', 'x']\n"
     ]
    }
   ],
   "source": [
    "# Here only the math module is imported to \n",
    "# the local namespace.\n",
    "import math\n",
    "print dir()"
   ]
  },
  {
   "cell_type": "code",
   "execution_count": 117,
   "metadata": {
    "collapsed": false
   },
   "outputs": [
    {
     "name": "stdout",
     "output_type": "stream",
     "text": [
      "['__doc__', '__file__', '__name__', '__package__', 'acos', 'acosh', 'asin', 'asinh', 'atan', 'atan2', 'atanh', 'ceil', 'copysign', 'cos', 'cosh', 'degrees', 'e', 'erf', 'erfc', 'exp', 'expm1', 'fabs', 'factorial', 'floor', 'fmod', 'frexp', 'fsum', 'gamma', 'hypot', 'isinf', 'isnan', 'ldexp', 'lgamma', 'log', 'log10', 'log1p', 'modf', 'pi', 'pow', 'radians', 'sin', 'sinh', 'sqrt', 'tan', 'tanh', 'trunc']\n"
     ]
    }
   ],
   "source": [
    "# All the functionality is accessible through\n",
    "# the math module.\n",
    "print dir(math)"
   ]
  },
  {
   "cell_type": "code",
   "execution_count": 118,
   "metadata": {
    "collapsed": false
   },
   "outputs": [
    {
     "data": {
      "text/plain": [
       "2.0"
      ]
     },
     "execution_count": 118,
     "metadata": {},
     "output_type": "execute_result"
    }
   ],
   "source": [
    "# Like so:\n",
    "math.sqrt(4)"
   ]
  },
  {
   "cell_type": "code",
   "execution_count": 119,
   "metadata": {
    "collapsed": false
   },
   "outputs": [
    {
     "ename": "NameError",
     "evalue": "name 'sqrt' is not defined",
     "output_type": "error",
     "traceback": [
      "\u001b[0;31m---------------------------------------------------------------------------\u001b[0m\n\u001b[0;31mNameError\u001b[0m                                 Traceback (most recent call last)",
      "\u001b[0;32m<ipython-input-119-ff87e0cd7960>\u001b[0m in \u001b[0;36m<module>\u001b[0;34m()\u001b[0m\n\u001b[1;32m      2\u001b[0m \u001b[0;31m# don't exist in the local namespace,\u001b[0m\u001b[0;34m\u001b[0m\u001b[0;34m\u001b[0m\u001b[0m\n\u001b[1;32m      3\u001b[0m \u001b[0;31m# so this raises an exception.\u001b[0m\u001b[0;34m\u001b[0m\u001b[0;34m\u001b[0m\u001b[0m\n\u001b[0;32m----> 4\u001b[0;31m \u001b[0msqrt\u001b[0m\u001b[0;34m(\u001b[0m\u001b[0;36m4\u001b[0m\u001b[0;34m)\u001b[0m\u001b[0;34m\u001b[0m\u001b[0m\n\u001b[0m",
      "\u001b[0;31mNameError\u001b[0m: name 'sqrt' is not defined"
     ]
    }
   ],
   "source": [
    "# But the attributes of the math module\n",
    "# don't exist in the local namespace,\n",
    "# so this raises an exception.\n",
    "sqrt(4)"
   ]
  },
  {
   "cell_type": "code",
   "execution_count": 120,
   "metadata": {
    "collapsed": false
   },
   "outputs": [],
   "source": [
    "# But this syntax imports the method to\n",
    "# the local namespace.\n",
    "from math import sqrt"
   ]
  },
  {
   "cell_type": "code",
   "execution_count": 121,
   "metadata": {
    "collapsed": false
   },
   "outputs": [
    {
     "data": {
      "text/plain": [
       "2.0"
      ]
     },
     "execution_count": 121,
     "metadata": {},
     "output_type": "execute_result"
    }
   ],
   "source": [
    "# So now you can access it without the \n",
    "# math. prefix.\n",
    "sqrt(4)"
   ]
  },
  {
   "cell_type": "markdown",
   "metadata": {},
   "source": [
    "- Similarly, you can easily get a function from a submodule of a module:"
   ]
  },
  {
   "cell_type": "code",
   "execution_count": 122,
   "metadata": {
    "collapsed": false
   },
   "outputs": [
    {
     "data": {
      "text/plain": [
       "False"
      ]
     },
     "execution_count": 122,
     "metadata": {},
     "output_type": "execute_result"
    }
   ],
   "source": [
    "from os.path import isfile\n",
    "isfile('spam.txt')"
   ]
  },
  {
   "cell_type": "markdown",
   "metadata": {},
   "source": [
    "## 22)"
   ]
  },
  {
   "cell_type": "markdown",
   "metadata": {},
   "source": [
    "- The python Standard Library contains a lot of useful functionality.\n",
    "- Check out the `glob` method of the `glob` module. Use it to list everything in a a given directory, and to list only files/directories that match a certain pattern."
   ]
  },
  {
   "cell_type": "code",
   "execution_count": 123,
   "metadata": {
    "collapsed": false
   },
   "outputs": [],
   "source": [
    "from glob import glob"
   ]
  },
  {
   "cell_type": "code",
   "execution_count": 124,
   "metadata": {
    "collapsed": false
   },
   "outputs": [
    {
     "name": "stdout",
     "output_type": "stream",
     "text": [
      "Help on function glob in module glob:\n",
      "\n",
      "glob(pathname)\n",
      "    Return a list of paths matching a pathname pattern.\n",
      "    \n",
      "    The pattern may contain simple shell-style wildcards a la\n",
      "    fnmatch. However, unlike fnmatch, filenames starting with a\n",
      "    dot are special cases that are not matched by '*' and '?'\n",
      "    patterns.\n",
      "\n"
     ]
    }
   ],
   "source": [
    "help(glob)"
   ]
  },
  {
   "cell_type": "code",
   "execution_count": 125,
   "metadata": {
    "collapsed": false
   },
   "outputs": [
    {
     "data": {
      "text/plain": [
       "[]"
      ]
     },
     "execution_count": 125,
     "metadata": {},
     "output_type": "execute_result"
    }
   ],
   "source": [
    "# Empty string returns nothing.\n",
    "glob('')"
   ]
  },
  {
   "cell_type": "code",
   "execution_count": 126,
   "metadata": {
    "collapsed": false
   },
   "outputs": [
    {
     "data": {
      "text/plain": [
       "['Birds.py',\n",
       " 'Birds.pyc',\n",
       " 'Birds.py~',\n",
       " 'dotproduct.py',\n",
       " 'hello_world.log',\n",
       " 'hello_world.py',\n",
       " 'hellow_world.py',\n",
       " 'integers.txt',\n",
       " 'listdir.py',\n",
       " 'make-toc.py',\n",
       " 'make-toc.py~',\n",
       " 'movie_titles.txt',\n",
       " 'phonebook.txt',\n",
       " 'pi_value.pkl',\n",
       " 'pi_value.py',\n",
       " 'pi_value.pyc',\n",
       " 'PickledSwallow.pkl',\n",
       " 'SUPAPYT-files',\n",
       " 'SUPAPYT-IntroductionToPython.ipynb',\n",
       " 'SUPAPYT-LabProblems-Completed.ipynb',\n",
       " 'SUPAPYT-LabProblems.ipynb']"
      ]
     },
     "execution_count": 126,
     "metadata": {},
     "output_type": "execute_result"
    }
   ],
   "source": [
    "# Wildcard matches everything.\n",
    "glob('*')"
   ]
  },
  {
   "cell_type": "code",
   "execution_count": 127,
   "metadata": {
    "collapsed": false
   },
   "outputs": [
    {
     "data": {
      "text/plain": [
       "['Birds.py',\n",
       " 'dotproduct.py',\n",
       " 'hello_world.py',\n",
       " 'hellow_world.py',\n",
       " 'listdir.py',\n",
       " 'make-toc.py',\n",
       " 'pi_value.py']"
      ]
     },
     "execution_count": 127,
     "metadata": {},
     "output_type": "execute_result"
    }
   ],
   "source": [
    "# All .py files.\n",
    "glob('*.py')"
   ]
  },
  {
   "cell_type": "code",
   "execution_count": 128,
   "metadata": {
    "collapsed": false
   },
   "outputs": [
    {
     "data": {
      "text/plain": [
       "['Birds.pyc', 'Birds.py~', 'make-toc.py~', 'pi_value.pyc']"
      ]
     },
     "execution_count": 128,
     "metadata": {},
     "output_type": "execute_result"
    }
   ],
   "source": [
    "# * matches any set of characters, while ? \n",
    "# matches any single character.\n",
    "glob('*.py?')"
   ]
  },
  {
   "cell_type": "markdown",
   "metadata": {},
   "source": [
    "## 23)"
   ]
  },
  {
   "cell_type": "markdown",
   "metadata": {},
   "source": [
    "- Date and time manipulations are also common - python provides the `datetime` and `time` modules for doing so.\n",
    "- Write a method that presents the current date in the format `YYYYMMDD`, `YYYY-MM-DD`, `YYYY_MM_DD`, etc. Allow the user to specify the separator, such as `\"\"` (no separator), `\"-\"`, `\"_\"`, or anything else."
   ]
  },
  {
   "cell_type": "code",
   "execution_count": 129,
   "metadata": {
    "collapsed": false
   },
   "outputs": [],
   "source": [
    "import datetime, time\n",
    "# The function might look like this:\n",
    "def print_date(sep = '') :\n",
    "    today = datetime.date.today()\n",
    "    # Use str.zfill to pad the string from the \n",
    "    # left with zeros up to the desired width.\n",
    "    todaystr = '{year}{sep}{month}{sep}{day}'.format(year = str(today.year).zfill(4),\n",
    "                                                     month = str(today.month).zfill(2),\n",
    "                                                     day = str(today.day).zfill(2),\n",
    "                                                     sep = sep)\n",
    "    print todaystr\n",
    "    return todaystr"
   ]
  },
  {
   "cell_type": "code",
   "execution_count": 130,
   "metadata": {
    "collapsed": false
   },
   "outputs": [
    {
     "name": "stdout",
     "output_type": "stream",
     "text": [
      "20160128\n"
     ]
    }
   ],
   "source": [
    "todaystr = print_date()"
   ]
  },
  {
   "cell_type": "code",
   "execution_count": 131,
   "metadata": {
    "collapsed": false
   },
   "outputs": [
    {
     "name": "stdout",
     "output_type": "stream",
     "text": [
      "2016-01-28\n"
     ]
    }
   ],
   "source": [
    "todaystr = print_date('-')"
   ]
  },
  {
   "cell_type": "code",
   "execution_count": 132,
   "metadata": {
    "collapsed": false
   },
   "outputs": [
    {
     "name": "stdout",
     "output_type": "stream",
     "text": [
      "2016*01*28\n"
     ]
    }
   ],
   "source": [
    "todaystr = print_date('*')"
   ]
  },
  {
   "cell_type": "code",
   "execution_count": 133,
   "metadata": {
    "collapsed": false
   },
   "outputs": [],
   "source": [
    "# Alternatively, the strftime member\n",
    "# method can do the job for you:\n",
    "def print_date(sep = '') :\n",
    "    # The %Y, %m and %d in the string argument are replaced by \n",
    "    # the year, month and date.\n",
    "    todaystr = datetime.date.today().strftime('%Y{sep}%m{sep}%d'.format(sep = sep))\n",
    "    print todaystr\n",
    "    return todaystr"
   ]
  },
  {
   "cell_type": "code",
   "execution_count": 134,
   "metadata": {
    "collapsed": false
   },
   "outputs": [
    {
     "name": "stdout",
     "output_type": "stream",
     "text": [
      "2016_01_28\n"
     ]
    }
   ],
   "source": [
    "todaystr = print_date('_')"
   ]
  },
  {
   "cell_type": "code",
   "execution_count": 135,
   "metadata": {
    "collapsed": false
   },
   "outputs": [
    {
     "name": "stdout",
     "output_type": "stream",
     "text": [
      "2016-01-28 10:04:42\n"
     ]
    }
   ],
   "source": [
    "# You can also use %H, %M and %S in strftime for hours,\n",
    "# minutes and seconds, if you're using a datetime.time \n",
    "# object or a datetime.datetime object (which has both\n",
    "# date and time)\n",
    "print datetime.datetime.today().strftime('%Y-%m-%d %H:%M:%S')\n",
    "# You can also check out strptime, which does the same\n",
    "# in reverse (parsing a string into a datetime object)"
   ]
  },
  {
   "cell_type": "markdown",
   "metadata": {},
   "source": [
    "## 24)"
   ]
  },
  {
   "cell_type": "markdown",
   "metadata": {},
   "source": [
    "- Use the `date` class of the `datetime` module to calculate exactly how old you are in days."
   ]
  },
  {
   "cell_type": "code",
   "execution_count": 136,
   "metadata": {
    "collapsed": false
   },
   "outputs": [
    {
     "name": "stdout",
     "output_type": "stream",
     "text": [
      "['__add__', '__class__', '__delattr__', '__doc__', '__eq__', '__format__', '__ge__', '__getattribute__', '__gt__', '__hash__', '__init__', '__le__', '__lt__', '__ne__', '__new__', '__radd__', '__reduce__', '__reduce_ex__', '__repr__', '__rsub__', '__setattr__', '__sizeof__', '__str__', '__sub__', '__subclasshook__', 'ctime', 'day', 'fromordinal', 'fromtimestamp', 'isocalendar', 'isoformat', 'isoweekday', 'max', 'min', 'month', 'replace', 'resolution', 'strftime', 'timetuple', 'today', 'toordinal', 'weekday', 'year']\n"
     ]
    }
   ],
   "source": [
    "from datetime import date\n",
    "today = date.today()\n",
    "# First let's see what a date object can do.\n",
    "print dir(today)"
   ]
  },
  {
   "cell_type": "code",
   "execution_count": 137,
   "metadata": {
    "collapsed": false
   },
   "outputs": [
    {
     "name": "stdout",
     "output_type": "stream",
     "text": [
      "10694 days, 0:00:00 <type 'datetime.timedelta'>\n",
      "['__abs__', '__add__', '__class__', '__delattr__', '__div__', '__doc__', '__eq__', '__floordiv__', '__format__', '__ge__', '__getattribute__', '__gt__', '__hash__', '__init__', '__le__', '__lt__', '__mul__', '__ne__', '__neg__', '__new__', '__nonzero__', '__pos__', '__radd__', '__rdiv__', '__reduce__', '__reduce_ex__', '__repr__', '__rfloordiv__', '__rmul__', '__rsub__', '__setattr__', '__sizeof__', '__str__', '__sub__', '__subclasshook__', 'days', 'max', 'microseconds', 'min', 'resolution', 'seconds', 'total_seconds']\n"
     ]
    }
   ],
   "source": [
    "# We see it's got a __sub__ method, so\n",
    "# you can take the difference of date\n",
    "# objects. Lets see what it returns.\n",
    "birthday = date(1986, 10, 18)\n",
    "diff = today - birthday\n",
    "print diff, type(diff)\n",
    "print dir(diff)"
   ]
  },
  {
   "cell_type": "code",
   "execution_count": 138,
   "metadata": {
    "collapsed": false
   },
   "outputs": [
    {
     "name": "stdout",
     "output_type": "stream",
     "text": [
      "10694\n"
     ]
    }
   ],
   "source": [
    "# So we get a timedelta object, which has\n",
    "# a 'days' attribute that gives the number\n",
    "# of days difference between the two dates.\n",
    "print diff.days"
   ]
  },
  {
   "cell_type": "code",
   "execution_count": 139,
   "metadata": {
    "collapsed": false
   },
   "outputs": [
    {
     "data": {
      "text/plain": [
       "29"
      ]
     },
     "execution_count": 139,
     "metadata": {},
     "output_type": "execute_result"
    }
   ],
   "source": [
    "# Just to check it handles leap-years OK:\n",
    "(date(2012, 3, 1) - date(2012, 2, 1)).days"
   ]
  },
  {
   "cell_type": "code",
   "execution_count": 140,
   "metadata": {
    "collapsed": false
   },
   "outputs": [
    {
     "name": "stdout",
     "output_type": "stream",
     "text": [
      "I am 10694 days old.\n"
     ]
    }
   ],
   "source": [
    "# So the quickets way of getting your age in \n",
    "# days is:\n",
    "print 'I am', (date.today() - date(1986, 10, 18)).days, 'days old.'"
   ]
  },
  {
   "cell_type": "code",
   "execution_count": 141,
   "metadata": {
    "collapsed": false
   },
   "outputs": [
    {
     "name": "stdout",
     "output_type": "stream",
     "text": [
      "I was/will be 10,000 days old on 2014-03-05\n"
     ]
    }
   ],
   "source": [
    "# I wonder on what date I'll was 10,000 days old?\n",
    "tenkDate = date.today()\n",
    "birthday = date(1986, 10, 18)\n",
    "diff = tenkDate - birthday\n",
    "if diff.days > 10000 :\n",
    "    delta = datetime.timedelta(-1)\n",
    "else :\n",
    "    delta = datetime.timedelta(1)\n",
    "while diff.days != 10000 :\n",
    "    tenkDate += delta\n",
    "    diff = tenkDate - birthday\n",
    "print 'I was/will be 10,000 days old on', tenkDate"
   ]
  },
  {
   "cell_type": "markdown",
   "metadata": {},
   "source": [
    "## 25)"
   ]
  },
  {
   "cell_type": "markdown",
   "metadata": {},
   "source": [
    "- Investigate how writing to files works.\n",
    "- Open a file and write a few lines to it, then close the file.\n",
    "- See what happens if you try to write to a closed file.\n",
    "- Write a method that prints the output of a file, or points out that the file doesn't exist (at this stage use an `if` statement)."
   ]
  },
  {
   "cell_type": "code",
   "execution_count": 142,
   "metadata": {
    "collapsed": false
   },
   "outputs": [
    {
     "name": "stdout",
     "output_type": "stream",
     "text": [
      "False\n",
      "True\n"
     ]
    }
   ],
   "source": [
    "# Open a file in write mode.\n",
    "f = open('file.txt', 'w')\n",
    "print f.closed\n",
    "f.write('We are the knights\\n')\n",
    "f.writelines(('who say\\n', '\"Ni!\"\\n'))\n",
    "f.close()\n",
    "print f.closed"
   ]
  },
  {
   "cell_type": "code",
   "execution_count": 143,
   "metadata": {
    "collapsed": false
   },
   "outputs": [
    {
     "ename": "ValueError",
     "evalue": "I/O operation on closed file",
     "output_type": "error",
     "traceback": [
      "\u001b[0;31m---------------------------------------------------------------------------\u001b[0m\n\u001b[0;31mValueError\u001b[0m                                Traceback (most recent call last)",
      "\u001b[0;32m<ipython-input-143-75cd5061daf9>\u001b[0m in \u001b[0;36m<module>\u001b[0;34m()\u001b[0m\n\u001b[1;32m      1\u001b[0m \u001b[0;31m# Now the file's closed trying to write\u001b[0m\u001b[0;34m\u001b[0m\u001b[0;34m\u001b[0m\u001b[0m\n\u001b[1;32m      2\u001b[0m \u001b[0;31m# again raises an exception.\u001b[0m\u001b[0;34m\u001b[0m\u001b[0;34m\u001b[0m\u001b[0m\n\u001b[0;32m----> 3\u001b[0;31m \u001b[0mf\u001b[0m\u001b[0;34m.\u001b[0m\u001b[0mwrite\u001b[0m\u001b[0;34m(\u001b[0m\u001b[0;34m'\"Nu!\"\\n'\u001b[0m\u001b[0;34m)\u001b[0m\u001b[0;34m\u001b[0m\u001b[0m\n\u001b[0m",
      "\u001b[0;31mValueError\u001b[0m: I/O operation on closed file"
     ]
    }
   ],
   "source": [
    "# Now the file's closed trying to write\n",
    "# again raises an exception.\n",
    "f.write('\"Nu!\"\\n')"
   ]
  },
  {
   "cell_type": "code",
   "execution_count": 144,
   "metadata": {
    "collapsed": false
   },
   "outputs": [
    {
     "name": "stdout",
     "output_type": "stream",
     "text": [
      "False\n"
     ]
    },
    {
     "ename": "IOError",
     "evalue": "File not open for writing",
     "output_type": "error",
     "traceback": [
      "\u001b[0;31m---------------------------------------------------------------------------\u001b[0m\n\u001b[0;31mIOError\u001b[0m                                   Traceback (most recent call last)",
      "\u001b[0;32m<ipython-input-144-4a4467b0e35a>\u001b[0m in \u001b[0;36m<module>\u001b[0;34m()\u001b[0m\n\u001b[1;32m      4\u001b[0m \u001b[0mf\u001b[0m \u001b[0;34m=\u001b[0m \u001b[0mopen\u001b[0m\u001b[0;34m(\u001b[0m\u001b[0;34m'file.txt'\u001b[0m\u001b[0;34m)\u001b[0m\u001b[0;34m\u001b[0m\u001b[0m\n\u001b[1;32m      5\u001b[0m \u001b[0;32mprint\u001b[0m \u001b[0mf\u001b[0m\u001b[0;34m.\u001b[0m\u001b[0mclosed\u001b[0m\u001b[0;34m\u001b[0m\u001b[0m\n\u001b[0;32m----> 6\u001b[0;31m \u001b[0mf\u001b[0m\u001b[0;34m.\u001b[0m\u001b[0mwrite\u001b[0m\u001b[0;34m(\u001b[0m\u001b[0;34m'A shubbery!\\n'\u001b[0m\u001b[0;34m)\u001b[0m\u001b[0;34m\u001b[0m\u001b[0m\n\u001b[0m",
      "\u001b[0;31mIOError\u001b[0m: File not open for writing"
     ]
    }
   ],
   "source": [
    "# Similarly, if you try to write to a \n",
    "# file opened in read mode you get an \n",
    "# exception.\n",
    "f = open('file.txt')\n",
    "print f.closed\n",
    "f.write('A shubbery!\\n')"
   ]
  },
  {
   "cell_type": "code",
   "execution_count": 145,
   "metadata": {
    "collapsed": false
   },
   "outputs": [],
   "source": [
    "# Now for the method to read files.\n",
    "# We can use the exists method in the os.path\n",
    "# module to check if a file exists.\n",
    "import os\n",
    "def read_file(fname) :\n",
    "    if not os.path.exists(fname) :\n",
    "        print 'File \"{}\" does not exist!'.format(fname)\n",
    "        return False\n",
    "    with open(fname) as f :\n",
    "        for line in f :\n",
    "            print line,\n",
    "    print ''\n",
    "    return True"
   ]
  },
  {
   "cell_type": "code",
   "execution_count": 146,
   "metadata": {
    "collapsed": false
   },
   "outputs": [
    {
     "name": "stdout",
     "output_type": "stream",
     "text": [
      "We are the knights\n",
      "who say\n",
      "\"Ni!\"\n",
      "\n"
     ]
    },
    {
     "data": {
      "text/plain": [
       "True"
      ]
     },
     "execution_count": 146,
     "metadata": {},
     "output_type": "execute_result"
    }
   ],
   "source": [
    "read_file('file.txt')"
   ]
  },
  {
   "cell_type": "code",
   "execution_count": 147,
   "metadata": {
    "collapsed": false
   },
   "outputs": [
    {
     "name": "stdout",
     "output_type": "stream",
     "text": [
      "File \"spam.txt\" does not exist!\n"
     ]
    },
    {
     "data": {
      "text/plain": [
       "False"
      ]
     },
     "execution_count": 147,
     "metadata": {},
     "output_type": "execute_result"
    }
   ],
   "source": [
    "read_file('spam.txt')"
   ]
  },
  {
   "cell_type": "markdown",
   "metadata": {},
   "source": [
    "## 26)"
   ]
  },
  {
   "cell_type": "markdown",
   "metadata": {},
   "source": [
    "- Say you have a file with one integer per line, like so:"
   ]
  },
  {
   "cell_type": "raw",
   "metadata": {},
   "source": [
    "104\n",
    "  169\n",
    " 3\n",
    "864"
   ]
  },
  {
   "cell_type": "markdown",
   "metadata": {},
   "source": [
    "- This could be the result of grepping lots of simulation log files for the number of events generated.\n",
    "- Write a method to calculate the sum of the integers in the file."
   ]
  },
  {
   "cell_type": "code",
   "execution_count": 148,
   "metadata": {
    "collapsed": false
   },
   "outputs": [],
   "source": [
    "# First lets make the file.\n",
    "with open('integers.txt', 'w') as f :\n",
    "    f.write('''104\n",
    "  169\n",
    " 3\n",
    "864''')"
   ]
  },
  {
   "cell_type": "code",
   "execution_count": 149,
   "metadata": {
    "collapsed": false
   },
   "outputs": [],
   "source": [
    "# Your method could look like this:\n",
    "def calc_sum(fname) : \n",
    "    intsum = 0\n",
    "    with open(fname) as f :\n",
    "        for line in f :\n",
    "            intsum += int(line)\n",
    "    return intsum"
   ]
  },
  {
   "cell_type": "code",
   "execution_count": 150,
   "metadata": {
    "collapsed": false
   },
   "outputs": [
    {
     "name": "stdout",
     "output_type": "stream",
     "text": [
      "1140\n"
     ]
    }
   ],
   "source": [
    "# Which does the job.\n",
    "print calc_sum('integers.txt')"
   ]
  },
  {
   "cell_type": "code",
   "execution_count": 151,
   "metadata": {
    "collapsed": false
   },
   "outputs": [],
   "source": [
    "# You can make the method more succint\n",
    "# using the \"sum\" builtin method and\n",
    "# a generator expression as its argument:\n",
    "def calc_sum(fname) :\n",
    "    with open(fname) as f :\n",
    "        intsum = sum(int(line) for line in f)\n",
    "    return intsum"
   ]
  },
  {
   "cell_type": "code",
   "execution_count": 152,
   "metadata": {
    "collapsed": false
   },
   "outputs": [
    {
     "name": "stdout",
     "output_type": "stream",
     "text": [
      "1140\n"
     ]
    }
   ],
   "source": [
    "# Which does exactly the same:\n",
    "print calc_sum('integers.txt')"
   ]
  },
  {
   "cell_type": "code",
   "execution_count": 153,
   "metadata": {
    "collapsed": false
   },
   "outputs": [
    {
     "name": "stdout",
     "output_type": "stream",
     "text": [
      "1140\n"
     ]
    }
   ],
   "source": [
    "# You can even do it on one line:\n",
    "calc_sum = lambda fname : sum(int(line) for line in open(fname))\n",
    "print calc_sum('integers.txt')"
   ]
  },
  {
   "cell_type": "markdown",
   "metadata": {},
   "source": [
    "## 27)"
   ]
  },
  {
   "cell_type": "markdown",
   "metadata": {},
   "source": [
    "- Write a simple class inheriting from the `object` base class, and another class which doesn't inherit from anything.\n",
    "- Check what methods are available in each of the two classes."
   ]
  },
  {
   "cell_type": "code",
   "execution_count": 154,
   "metadata": {
    "collapsed": false
   },
   "outputs": [],
   "source": [
    "class Named :\n",
    "    def __init__(self, name) :\n",
    "        self.name = name\n",
    "\n",
    "class NamedObject(object) :\n",
    "    def __init__(self, name) :\n",
    "        self.name = name"
   ]
  },
  {
   "cell_type": "code",
   "execution_count": 155,
   "metadata": {
    "collapsed": false
   },
   "outputs": [
    {
     "name": "stdout",
     "output_type": "stream",
     "text": [
      "<type 'instance'>\n",
      "['__doc__', '__init__', '__module__', 'name']\n"
     ]
    }
   ],
   "source": [
    "named = Named('Brian')\n",
    "print type(named)\n",
    "print dir(named)"
   ]
  },
  {
   "cell_type": "code",
   "execution_count": 156,
   "metadata": {
    "collapsed": false
   },
   "outputs": [
    {
     "name": "stdout",
     "output_type": "stream",
     "text": [
      "<class '__main__.NamedObject'>\n",
      "['__class__', '__delattr__', '__dict__', '__doc__', '__format__', '__getattribute__', '__hash__', '__init__', '__module__', '__new__', '__reduce__', '__reduce_ex__', '__repr__', '__setattr__', '__sizeof__', '__str__', '__subclasshook__', '__weakref__', 'name']\n"
     ]
    }
   ],
   "source": [
    "# The main benefit of inheriting from object is\n",
    "# that such classes deal with multiple inheritance\n",
    "# better, and provide other interesting \n",
    "# functionality for customising attribute access.\n",
    "# For more info see here:\n",
    "# http://docs.python.org/release/2.2.3/whatsnew/sect-rellinks.html\n",
    "namedObject = NamedObject('Brian')\n",
    "print type(namedObject)\n",
    "print dir(namedObject)"
   ]
  },
  {
   "cell_type": "markdown",
   "metadata": {},
   "source": [
    "## 28)"
   ]
  },
  {
   "cell_type": "markdown",
   "metadata": {},
   "source": [
    "- There's no such thing as a private class variable in python.\n",
    "- Any derived class can override the attributes of a base class.\n",
    "- However, see what happens if you write a class and a derived class like so:"
   ]
  },
  {
   "cell_type": "code",
   "execution_count": 157,
   "metadata": {
    "collapsed": false
   },
   "outputs": [],
   "source": [
    "class BaseClass :\n",
    "    def __init__(self, name) :\n",
    "        self.name = name\n",
    "        self._name = name\n",
    "        self.__name = name\n",
    "\n",
    "    def print_name(self) :\n",
    "        print 'name:', self.name\n",
    "        print '_name:', self._name\n",
    "        print '__name:', self.__name\n",
    "\n",
    "class DerivedClass(BaseClass) :\n",
    "    def __init__(self, name) :\n",
    "        BaseClass.__init__(self, 'Base-' + name)\n",
    "        self.name = name\n",
    "        self._name = name\n",
    "        self.__name = name\n",
    "        \n",
    "    def print_name(self) :\n",
    "        print 'BaseClass.print_name():'\n",
    "        BaseClass.print_name(self)\n",
    "        print 'DerivedClass.print_name():'\n",
    "        print 'name:', self.name\n",
    "        print '_name:', self._name\n",
    "        print '__name:', self.__name\n"
   ]
  },
  {
   "cell_type": "markdown",
   "metadata": {},
   "source": [
    "- Now try this:"
   ]
  },
  {
   "cell_type": "code",
   "execution_count": 158,
   "metadata": {
    "collapsed": false
   },
   "outputs": [
    {
     "data": {
      "text/plain": [
       "['_BaseClass__name',\n",
       " '__doc__',\n",
       " '__init__',\n",
       " '__module__',\n",
       " '_name',\n",
       " 'name',\n",
       " 'print_name']"
      ]
     },
     "execution_count": 158,
     "metadata": {},
     "output_type": "execute_result"
    }
   ],
   "source": [
    "b = BaseClass('Brian')\n",
    "dir(b)"
   ]
  },
  {
   "cell_type": "code",
   "execution_count": 159,
   "metadata": {
    "collapsed": false
   },
   "outputs": [
    {
     "name": "stdout",
     "output_type": "stream",
     "text": [
      "name: Brian\n",
      "_name: Brian\n",
      "__name: Brian\n"
     ]
    }
   ],
   "source": [
    "b.print_name()"
   ]
  },
  {
   "cell_type": "code",
   "execution_count": 160,
   "metadata": {
    "collapsed": false
   },
   "outputs": [
    {
     "data": {
      "text/plain": [
       "['_BaseClass__name',\n",
       " '_DerivedClass__name',\n",
       " '__doc__',\n",
       " '__init__',\n",
       " '__module__',\n",
       " '_name',\n",
       " 'name',\n",
       " 'print_name']"
      ]
     },
     "execution_count": 160,
     "metadata": {},
     "output_type": "execute_result"
    }
   ],
   "source": [
    "d = DerivedClass('Brian')\n",
    "dir(d)"
   ]
  },
  {
   "cell_type": "code",
   "execution_count": 161,
   "metadata": {
    "collapsed": false
   },
   "outputs": [
    {
     "name": "stdout",
     "output_type": "stream",
     "text": [
      "BaseClass.print_name():\n",
      "name: Brian\n",
      "_name: Brian\n",
      "__name: Base-Brian\n",
      "DerivedClass.print_name():\n",
      "name: Brian\n",
      "_name: Brian\n",
      "__name: Brian\n"
     ]
    }
   ],
   "source": [
    "d.print_name()"
   ]
  },
  {
   "cell_type": "markdown",
   "metadata": {},
   "source": [
    "- Notice that the name of the variable prefixed with the double underscore is replaced with `_classname__variablename` when accessed outside the class definition.\n",
    "- It's also not overridden in the base class when the derived class redefines the `__variablename` variable, while the other variables are.\n",
    "- A class variable with two leading underscores (and at most one trailing underscore) in its name is protected from being overriden in derived classes.\n",
    "- This means it should always have the expected value in the base class.\n",
    "- It can still be accessed and modified in the derived class via the `_baseclassname__variablename` variable, but not accidentally."
   ]
  },
  {
   "cell_type": "markdown",
   "metadata": {},
   "source": [
    "## 29)"
   ]
  },
  {
   "cell_type": "markdown",
   "metadata": {},
   "source": [
    "- Rewrite exercise 24 using the `try/except` exception handling syntax to deal with non-existant files, rather than `if/else`."
   ]
  },
  {
   "cell_type": "code",
   "execution_count": 162,
   "metadata": {
    "collapsed": false
   },
   "outputs": [],
   "source": [
    "# Attempting to open a file that doesn't\n",
    "# exist in read mode raises an IOError,\n",
    "# so your method could look like this:\n",
    "def print_file(fname) :\n",
    "    try :\n",
    "        with open(fname) as f :\n",
    "            for line in f :\n",
    "                print line,\n",
    "            print ''\n",
    "    except IOError :\n",
    "        print 'File \"{}\" does not exist!'.format(fname)"
   ]
  },
  {
   "cell_type": "code",
   "execution_count": 163,
   "metadata": {
    "collapsed": false
   },
   "outputs": [
    {
     "name": "stdout",
     "output_type": "stream",
     "text": [
      "We are the knights\n",
      "who say\n",
      "\"Ni!\"\n",
      "\n"
     ]
    }
   ],
   "source": [
    "print_file('file.txt')"
   ]
  },
  {
   "cell_type": "code",
   "execution_count": 164,
   "metadata": {
    "collapsed": false
   },
   "outputs": [
    {
     "name": "stdout",
     "output_type": "stream",
     "text": [
      "File \"spam.txt\" does not exist!\n"
     ]
    }
   ],
   "source": [
    "print_file('spam.txt')"
   ]
  },
  {
   "cell_type": "markdown",
   "metadata": {},
   "source": [
    "## 30)"
   ]
  },
  {
   "cell_type": "markdown",
   "metadata": {},
   "source": [
    "- Write a method that takes two lists of numbers and calculates the vector dot product of them.\n",
    "- ie, from lists `[a, b, c]` and `[d, e, f]` return `a*d + b*e + c*f`.\n",
    "- Write your own exception class and raise it within the method if the two lists passed are of different lengths."
   ]
  },
  {
   "cell_type": "code",
   "execution_count": 165,
   "metadata": {
    "collapsed": false
   },
   "outputs": [],
   "source": [
    "# The exception class might look something like this:\n",
    "\n",
    "from exceptions import Exception\n",
    "\n",
    "class VectorLengthError(Exception) :\n",
    "    '''An Exception class raised when two lists\n",
    "    passed to the dot_product method are of \n",
    "    different lengths.'''\n",
    "    \n",
    "    def __init__(self, l1, l2) :\n",
    "        '''Constructor. Takes the two lists passed\n",
    "        to dot_product.'''\n",
    "        \n",
    "        Exception.__init__(self, l1, l2)\n",
    "        self.message = \\\n",
    "'''Dot product can only be calculated for vectors of equal length!\n",
    "1st argument, length {}: {}\n",
    "2nd argument, length {}: {}'''\\\n",
    "        .format(len(l1), l1, len(l2), l2)\n",
    "\n",
    "    # We need to implement the __str__ method as\n",
    "    # the exception instance is cast to a string\n",
    "    # when output.\n",
    "    def __str__(self) :\n",
    "        return self.message"
   ]
  },
  {
   "cell_type": "code",
   "execution_count": 166,
   "metadata": {
    "collapsed": false
   },
   "outputs": [],
   "source": [
    "# Then the method looks like this:\n",
    "def dot_product(l1, l2) :\n",
    "    '''Calculate the vector dot product of \n",
    "    numbers stored in two lists.'''\n",
    "    if len(l1) != len(l2) :\n",
    "        raise VectorLengthError(l1, l2)\n",
    "    return sum(l1[i] * l2[i] for i in range(len(l1)))"
   ]
  },
  {
   "cell_type": "code",
   "execution_count": 167,
   "metadata": {
    "collapsed": false
   },
   "outputs": [
    {
     "name": "stdout",
     "output_type": "stream",
     "text": [
      "32\n"
     ]
    }
   ],
   "source": [
    "# Try calling it:\n",
    "print dot_product([1,2,3], [4,5,6])"
   ]
  },
  {
   "cell_type": "code",
   "execution_count": 168,
   "metadata": {
    "collapsed": false
   },
   "outputs": [
    {
     "name": "stdout",
     "output_type": "stream",
     "text": [
      "4311.0052\n"
     ]
    }
   ],
   "source": [
    "# The method also accepts tuples as arguments,\n",
    "# or one tuple and one list.\n",
    "print dot_product((6.2, 8.9, 90.6, 47.2), [3, 8.56, 2.202, 85.1])"
   ]
  },
  {
   "cell_type": "code",
   "execution_count": 169,
   "metadata": {
    "collapsed": false
   },
   "outputs": [
    {
     "ename": "VectorLengthError",
     "evalue": "Dot product can only be calculated for vectors of equal length!\n1st argument, length 2: [8, 9]\n2nd argument, length 3: [10, 11, 12]",
     "output_type": "error",
     "traceback": [
      "\u001b[0;31m---------------------------------------------------------------------------\u001b[0m\n\u001b[0;31mVectorLengthError\u001b[0m                         Traceback (most recent call last)",
      "\u001b[0;32m<ipython-input-169-a1d32764c8ed>\u001b[0m in \u001b[0;36m<module>\u001b[0;34m()\u001b[0m\n\u001b[0;32m----> 1\u001b[0;31m \u001b[0;32mprint\u001b[0m \u001b[0mdot_product\u001b[0m\u001b[0;34m(\u001b[0m\u001b[0;34m[\u001b[0m\u001b[0;36m8\u001b[0m\u001b[0;34m,\u001b[0m\u001b[0;36m9\u001b[0m\u001b[0;34m]\u001b[0m\u001b[0;34m,\u001b[0m \u001b[0;34m[\u001b[0m\u001b[0;36m10\u001b[0m\u001b[0;34m,\u001b[0m \u001b[0;36m11\u001b[0m\u001b[0;34m,\u001b[0m \u001b[0;36m12\u001b[0m\u001b[0;34m]\u001b[0m\u001b[0;34m)\u001b[0m\u001b[0;34m\u001b[0m\u001b[0m\n\u001b[0m",
      "\u001b[0;32m<ipython-input-166-a25cbe37a1d1>\u001b[0m in \u001b[0;36mdot_product\u001b[0;34m(l1, l2)\u001b[0m\n\u001b[1;32m      4\u001b[0m     numbers stored in two lists.'''\n\u001b[1;32m      5\u001b[0m     \u001b[0;32mif\u001b[0m \u001b[0mlen\u001b[0m\u001b[0;34m(\u001b[0m\u001b[0ml1\u001b[0m\u001b[0;34m)\u001b[0m \u001b[0;34m!=\u001b[0m \u001b[0mlen\u001b[0m\u001b[0;34m(\u001b[0m\u001b[0ml2\u001b[0m\u001b[0;34m)\u001b[0m \u001b[0;34m:\u001b[0m\u001b[0;34m\u001b[0m\u001b[0m\n\u001b[0;32m----> 6\u001b[0;31m         \u001b[0;32mraise\u001b[0m \u001b[0mVectorLengthError\u001b[0m\u001b[0;34m(\u001b[0m\u001b[0ml1\u001b[0m\u001b[0;34m,\u001b[0m \u001b[0ml2\u001b[0m\u001b[0;34m)\u001b[0m\u001b[0;34m\u001b[0m\u001b[0m\n\u001b[0m\u001b[1;32m      7\u001b[0m     \u001b[0;32mreturn\u001b[0m \u001b[0msum\u001b[0m\u001b[0;34m(\u001b[0m\u001b[0ml1\u001b[0m\u001b[0;34m[\u001b[0m\u001b[0mi\u001b[0m\u001b[0;34m]\u001b[0m \u001b[0;34m*\u001b[0m \u001b[0ml2\u001b[0m\u001b[0;34m[\u001b[0m\u001b[0mi\u001b[0m\u001b[0;34m]\u001b[0m \u001b[0;32mfor\u001b[0m \u001b[0mi\u001b[0m \u001b[0;32min\u001b[0m \u001b[0mrange\u001b[0m\u001b[0;34m(\u001b[0m\u001b[0mlen\u001b[0m\u001b[0;34m(\u001b[0m\u001b[0ml1\u001b[0m\u001b[0;34m)\u001b[0m\u001b[0;34m)\u001b[0m\u001b[0;34m)\u001b[0m\u001b[0;34m\u001b[0m\u001b[0m\n",
      "\u001b[0;31mVectorLengthError\u001b[0m: Dot product can only be calculated for vectors of equal length!\n1st argument, length 2: [8, 9]\n2nd argument, length 3: [10, 11, 12]"
     ]
    }
   ],
   "source": [
    "print dot_product([8,9], [10, 11, 12])"
   ]
  },
  {
   "cell_type": "markdown",
   "metadata": {},
   "source": [
    "## 31)"
   ]
  },
  {
   "cell_type": "markdown",
   "metadata": {},
   "source": [
    "- Put the method from exercise 28 into a script.\n",
    "- Use the \"`if __name__ == '__main__':`\" trick to make the script so that it can be executed directly, taking two lists of numbers and printing the dot product, but also allow the method to be imported into another script without the main part being executed.\n",
    "- ie, it would be called like:"
   ]
  },
  {
   "cell_type": "raw",
   "metadata": {},
   "source": [
    "python dotproduct.py \"3.4 5.6 7.2\" \"91.2 32 0.1\""
   ]
  },
  {
   "cell_type": "markdown",
   "metadata": {},
   "source": [
    "- And output:"
   ]
  },
  {
   "cell_type": "raw",
   "metadata": {},
   "source": [
    "490.0"
   ]
  },
  {
   "cell_type": "code",
   "execution_count": 170,
   "metadata": {
    "collapsed": false
   },
   "outputs": [],
   "source": [
    "# If the script were called as above, sys.argv\n",
    "# would have these values:\n",
    "import sys\n",
    "sys.argv = ['dotproduct.py', '3.4 5.6 7.2', '91.2 32 0.1']"
   ]
  },
  {
   "cell_type": "code",
   "execution_count": 171,
   "metadata": {
    "collapsed": false
   },
   "outputs": [
    {
     "name": "stdout",
     "output_type": "stream",
     "text": [
      "Overwriting dotproduct.py\n"
     ]
    }
   ],
   "source": [
    "%%writefile dotproduct.py\n",
    "# The script, dotproduct.py, would look like :\n",
    "'''A method to calculate the vector dot product\n",
    "of numbers stored in lists/tuples.'''\n",
    "\n",
    "from exceptions import Exception\n",
    "\n",
    "class VectorLengthError(Exception) :\n",
    "    '''An Exception class raised when two lists\n",
    "    passed to the dot_product method are of \n",
    "    different lengths.'''\n",
    "    \n",
    "    def __init__(self, l1, l2) :\n",
    "        '''Constructor. Takes the two lists passed\n",
    "        to dot_product.'''\n",
    "        \n",
    "        Exception.__init__(self, l1, l2)\n",
    "        self.message = \\\n",
    "'''Dot product can only be calculated for vectors of equal length!\n",
    "1st argument, length {}: {}\n",
    "2nd argument, length {}: {}'''\\\n",
    "        .format(len(l1), l1, len(l2), l2)\n",
    "\n",
    "    # We need to implement the __str__ method as\n",
    "    # the exception instance is cast to a string\n",
    "    # when output.\n",
    "    def __str__(self) :\n",
    "        return self.message\n",
    "    \n",
    "def dot_product(l1, l2) :\n",
    "    '''Calculate the vector dot product of \n",
    "    numbers stored in two lists.'''\n",
    "    if len(l1) != len(l2) :\n",
    "        raise VectorLengthError(l1, l2)\n",
    "    return sum(l1[i] * l2[i] for i in range(len(l1)))\n",
    "\n",
    "if __name__ == '__main__' :\n",
    "    import sys\n",
    "    if len(sys.argv) != 3 :\n",
    "        print 'Usage: python dotproduct.py \"<v1> <v2> ... <vN>\" \"<u1> <u2> ... <uN>\"'\n",
    "        print 'where <vX> and <uX> are numbers.'\n",
    "    # The commandline args are strings containing \n",
    "    # a sequence of numbers, so these are split,\n",
    "    # converted to floats, and read into tuples.\n",
    "    l1 = tuple(float(v) for v in sys.argv[1].split())\n",
    "    l2 = tuple(float(u) for u in sys.argv[2].split())\n",
    "    print dot_product(l1, l2)"
   ]
  },
  {
   "cell_type": "code",
   "execution_count": 172,
   "metadata": {
    "collapsed": false
   },
   "outputs": [
    {
     "name": "stdout",
     "output_type": "stream",
     "text": [
      "490.0\r\n"
     ]
    }
   ],
   "source": [
    "!python dotproduct.py \"3.4 5.6 7.2\" \"91.2 32 0.1\""
   ]
  },
  {
   "cell_type": "code",
   "execution_count": 173,
   "metadata": {
    "collapsed": false
   },
   "outputs": [
    {
     "name": "stdout",
     "output_type": "stream",
     "text": [
      "Traceback (most recent call last):\r\n",
      "  File \"dotproduct.py\", line 46, in <module>\r\n",
      "    print dot_product(l1, l2)\r\n",
      "  File \"dotproduct.py\", line 33, in dot_product\r\n",
      "    raise VectorLengthError(l1, l2)\r\n",
      "__main__.VectorLengthError: Dot product can only be calculated for vectors of equal length!\r\n",
      "1st argument, length 2: (3.4, 5.6)\r\n",
      "2nd argument, length 3: (91.2, 32.0, 0.1)\r\n"
     ]
    }
   ],
   "source": [
    "!python dotproduct.py \"3.4 5.6\" \"91.2 32 0.1\""
   ]
  },
  {
   "cell_type": "markdown",
   "metadata": {},
   "source": [
    "## 32)"
   ]
  },
  {
   "cell_type": "markdown",
   "metadata": {},
   "source": [
    "- Use builtin functions to:\n",
    "    - Return factors of 3 in a list of ints.\n",
    "    - Cast a list of floats to a list of ints."
   ]
  },
  {
   "cell_type": "code",
   "execution_count": 174,
   "metadata": {
    "collapsed": false
   },
   "outputs": [
    {
     "name": "stdout",
     "output_type": "stream",
     "text": [
      "[0, 3, 6, 9]\n"
     ]
    }
   ],
   "source": [
    "l = range(10)\n",
    "l2 = filter(lambda x : x%3 == 0, l)\n",
    "print l2"
   ]
  },
  {
   "cell_type": "code",
   "execution_count": 175,
   "metadata": {
    "collapsed": false
   },
   "outputs": [
    {
     "name": "stdout",
     "output_type": "stream",
     "text": [
      "[2, 3, 7, 9, 10]\n"
     ]
    }
   ],
   "source": [
    "l = [2.32, 3.4, 7.21, 9.2343, 10.99]\n",
    "l2 = map(lambda x : int(x), l)\n",
    "print l2"
   ]
  },
  {
   "cell_type": "markdown",
   "metadata": {},
   "source": [
    "## 33)"
   ]
  },
  {
   "cell_type": "markdown",
   "metadata": {},
   "source": [
    "- Use the `reduce` builtin method to rewrite exercise 24 (if you didn't already)."
   ]
  },
  {
   "cell_type": "code",
   "execution_count": 176,
   "metadata": {
    "collapsed": false
   },
   "outputs": [],
   "source": [
    "# We used \"sum\" previously, \"reduce\" provides a more\n",
    "# flexible option, in case we wanted to do something\n",
    "# more elaborate than just summing.\n",
    "# We could do something like:\n",
    "def calc_sum(fname) :\n",
    "    with open(fname) as f :\n",
    "        intsum = reduce(lambda x, y : x + int(y), f, 0)\n",
    "    return intsum"
   ]
  },
  {
   "cell_type": "code",
   "execution_count": 177,
   "metadata": {
    "collapsed": false
   },
   "outputs": [
    {
     "data": {
      "text/plain": [
       "1140"
      ]
     },
     "execution_count": 177,
     "metadata": {},
     "output_type": "execute_result"
    }
   ],
   "source": [
    "calc_sum('integers.txt')"
   ]
  },
  {
   "cell_type": "markdown",
   "metadata": {},
   "source": [
    "## 34)"
   ]
  },
  {
   "cell_type": "markdown",
   "metadata": {},
   "source": [
    "- Use list comprehensions/generator expressions (eg, \"`[str(i) for i in range(3)]`\" or \"`list(str(i) for i in range(3))`\") to solve the two problems in exercise 32."
   ]
  },
  {
   "cell_type": "code",
   "execution_count": 178,
   "metadata": {
    "collapsed": false
   },
   "outputs": [
    {
     "name": "stdout",
     "output_type": "stream",
     "text": [
      "[0, 3, 6, 9]\n"
     ]
    }
   ],
   "source": [
    "l = range(10)\n",
    "l2 = [i for i in l if i%3 ==0]\n",
    "print l2"
   ]
  },
  {
   "cell_type": "code",
   "execution_count": 179,
   "metadata": {
    "collapsed": false
   },
   "outputs": [
    {
     "name": "stdout",
     "output_type": "stream",
     "text": [
      "[2, 3, 7, 9, 10]\n"
     ]
    }
   ],
   "source": [
    "l = [2.32, 3.4, 7.21, 9.2343, 10.99]\n",
    "l2 = list(int(i) for i in l)\n",
    "print l2"
   ]
  },
  {
   "cell_type": "markdown",
   "metadata": {},
   "source": [
    "## 35)"
   ]
  },
  {
   "cell_type": "markdown",
   "metadata": {},
   "source": [
    "- Use the same techniques to create a list of bools of element-by-element comparisons of two input lists."
   ]
  },
  {
   "cell_type": "code",
   "execution_count": 180,
   "metadata": {
    "collapsed": false
   },
   "outputs": [
    {
     "name": "stdout",
     "output_type": "stream",
     "text": [
      "[True, False, False, True, True]\n"
     ]
    }
   ],
   "source": [
    "l1 = ['a', 3.4, 6+9j, False, None]\n",
    "l2 = ['a', [1,2], 8., False, None]\n",
    "l3 = [l1[i] == l2[i] for i in xrange(len(l1))]\n",
    "print l3"
   ]
  },
  {
   "cell_type": "code",
   "execution_count": 181,
   "metadata": {
    "collapsed": false
   },
   "outputs": [
    {
     "name": "stdout",
     "output_type": "stream",
     "text": [
      "[True, False, False, True, True]\n"
     ]
    }
   ],
   "source": [
    "l3 = list(i==j for i, j in zip(l1, l2))\n",
    "print l3"
   ]
  }
 ],
 "metadata": {
  "kernelspec": {
   "display_name": "Python 2",
   "language": "python",
   "name": "python2"
  },
  "language_info": {
   "codemirror_mode": {
    "name": "ipython",
    "version": 2
   },
   "file_extension": ".py",
   "mimetype": "text/x-python",
   "name": "python",
   "nbconvert_exporter": "python",
   "pygments_lexer": "ipython2",
   "version": "2.7.13"
  }
 },
 "nbformat": 4,
 "nbformat_minor": 0
}
