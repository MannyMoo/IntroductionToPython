{
 "cells": [
  {
   "cell_type": "markdown",
   "metadata": {},
   "source": [
    "([Home](https://mannymoo.github.io/IntroductionToPython/))"
   ]
  },
  {
   "cell_type": "markdown",
   "metadata": {},
   "source": [
    "# Getting started"
   ]
  },
  {
   "cell_type": "markdown",
   "metadata": {},
   "source": [
    "## Starting the python interpreter"
   ]
  },
  {
   "cell_type": "markdown",
   "metadata": {},
   "source": [
    "- Python is installed by default with most linux distributions, eg, MacOS, Ubuntu, Debian, ...\n",
    "- Easy to install on Windows the [Microsoft Store](https://docs.python.org/3/using/windows.html#windows-store).\n",
    "- A basic python installation will suit most use cases.\n",
    "- However, ipython and jupyter add a lot of useful interactive functionality on top of basic python (such as the notebook format used for these lectures). See [here](https://mannymoo.github.io/IntroductionToPython/SUPAPYT-Installation-Instructions.html) for installation instructions."
   ]
  },
  {
   "cell_type": "markdown",
   "metadata": {},
   "source": [
    "- The most versatile way to work with python is through the command line. If you're unfamiliar with using the command line see [here](https://tutorial.djangogirls.org/en/intro_to_command_line/) for a brief introduction.\n",
    "    - The standard command prompt on Windows isn't very good, so you may wish to consider alternatives like [ConEmu](https://conemu.github.io/), or [ConsoleZ](https://github.com/cbucher/console), or if you want a linux style environment there's [Cygwin](http://www.cygwin.com/)."
   ]
  },
  {
   "cell_type": "markdown",
   "metadata": {},
   "source": [
    "- First, check which version of python you're using by opening a terminal and executing the command:"
   ]
  },
  {
   "cell_type": "markdown",
   "metadata": {},
   "source": [
    "`python3 --version`"
   ]
  },
  {
   "cell_type": "markdown",
   "metadata": {},
   "source": [
    "- You should see something like:"
   ]
  },
  {
   "cell_type": "markdown",
   "metadata": {},
   "source": [
    "`Python 3.9.1`"
   ]
  },
  {
   "cell_type": "markdown",
   "metadata": {},
   "source": [
    "- If that gives an error, then you'll need to install `python3`.\n",
    "- You can potentially just use `python` but on some machines this might point to a python v2 installation, so it's safer to use `python3` (which should always be available if python v3 is installed)."
   ]
  },
  {
   "cell_type": "markdown",
   "metadata": {},
   "source": [
    "- To start the python interpreter all you need to do is open a terminal and execute the command:"
   ]
  },
  {
   "cell_type": "markdown",
   "metadata": {},
   "source": [
    "`python3`"
   ]
  },
  {
   "cell_type": "markdown",
   "metadata": {},
   "source": [
    "- Then you'll be presented with the interactive python interpreter, which, in this notebook, looks like this:"
   ]
  },
  {
   "cell_type": "code",
   "execution_count": null,
   "metadata": {},
   "outputs": [],
   "source": []
  },
  {
   "cell_type": "markdown",
   "metadata": {},
   "source": [
    "- Any valid python statement can then be entered for immediate evaluation.\n",
    "- The canonical example is a programme that simply outputs the statement \"Hello World!\".\n",
    "- In python this is just:"
   ]
  },
  {
   "cell_type": "code",
   "execution_count": 7,
   "metadata": {},
   "outputs": [
    {
     "name": "stdout",
     "output_type": "stream",
     "text": [
      "Hello World!\n"
     ]
    }
   ],
   "source": [
    "print(\"Hello World!\")"
   ]
  },
  {
   "cell_type": "markdown",
   "metadata": {},
   "source": [
    "- In a terminal this will look more like this:\n",
    "\n",
    "<img src = './SUPAPYT-files/Python-Terminal.png' width = 450 alt = 'python terminal'>"
   ]
  },
  {
   "cell_type": "markdown",
   "metadata": {},
   "source": [
    "- Here's your first python method: \"print\", which converts objects to text and outputs them to the console.\n",
    "\n",
    "- You can pass several arguments to `print` by separating them with commas within the brackets, then they're printed on the same line with spaces between them:"
   ]
  },
  {
   "cell_type": "code",
   "execution_count": 2,
   "metadata": {},
   "outputs": [
    {
     "name": "stdout",
     "output_type": "stream",
     "text": [
      "1 2 3\n"
     ]
    }
   ],
   "source": [
    "print(1, 2, 3)"
   ]
  },
  {
   "cell_type": "markdown",
   "metadata": {},
   "source": [
    "- At the interactive prompt you can actually omit the \"print\", which is more like asking the interpreter \"what is this object?\", rather than necessarily outputing it in human readable format:"
   ]
  },
  {
   "cell_type": "code",
   "execution_count": 8,
   "metadata": {},
   "outputs": [
    {
     "data": {
      "text/plain": [
       "'Hello World!'"
      ]
     },
     "execution_count": 8,
     "metadata": {},
     "output_type": "execute_result"
    }
   ],
   "source": [
    "\"Hello World!\""
   ]
  },
  {
   "cell_type": "markdown",
   "metadata": {},
   "source": [
    "- More on what exactly the difference is later.\n",
    "- This means the interactive prompt is also a handy calculator:"
   ]
  },
  {
   "cell_type": "code",
   "execution_count": 4,
   "metadata": {},
   "outputs": [
    {
     "data": {
      "text/plain": [
       "13"
      ]
     },
     "execution_count": 4,
     "metadata": {},
     "output_type": "execute_result"
    }
   ],
   "source": [
    "10+3"
   ]
  },
  {
   "cell_type": "code",
   "execution_count": 5,
   "metadata": {},
   "outputs": [
    {
     "data": {
      "text/plain": [
       "1024"
      ]
     },
     "execution_count": 5,
     "metadata": {},
     "output_type": "execute_result"
    }
   ],
   "source": [
    "2**10"
   ]
  },
  {
   "cell_type": "markdown",
   "metadata": {},
   "source": [
    "- You can then do ctrl-D on linux or ctrl-Z on Windows, or call the `exit()` method, to exit the interactive prompt and return to the command line."
   ]
  },
  {
   "cell_type": "markdown",
   "metadata": {},
   "source": [
    "### Python Scripts"
   ]
  },
  {
   "cell_type": "markdown",
   "metadata": {},
   "source": [
    "- The interactive prompt is fine for simple commands, but not much use for more involved work as you can't save code, or go back and edit it.\n",
    "- For this you want to write your code into a plain text file, normally referred to as a \"script\", which can then be passed to the python interpreter.\n",
    "- Any decent text editor can be used to do this, eg, [emacs](http://www.gnu.org/software/emacs/) or [vim](http://www.vim.org/), both of which are installed by default for most Linux distros, and also available for Windows. Many other options are available."
   ]
  },
  {
   "cell_type": "markdown",
   "metadata": {},
   "source": [
    "- Python script files are usually suffixed with .py (though they don't have to be).\n",
    "- To put the \"Hello world!\" command into a script first open a text file with an appropriate name by doing, eg, if you're using emacs:"
   ]
  },
  {
   "cell_type": "markdown",
   "metadata": {},
   "source": [
    "`emacs hello_world.py`"
   ]
  },
  {
   "cell_type": "markdown",
   "metadata": {},
   "source": [
    "- And write your commands into it, so it looks like:\n",
    "\n",
    "<img src = './SUPAPYT-files/Emacs-HelloWorld.png' alt = 'emacs hello world' width = 450>"
   ]
  },
  {
   "cell_type": "markdown",
   "metadata": {},
   "source": [
    "- Then pass it to the python interpreter by entering at the terminal (not in an interactive python session):"
   ]
  },
  {
   "cell_type": "markdown",
   "metadata": {
    "collapsed": true
   },
   "source": [
    "`python3 hello_world.py`"
   ]
  },
  {
   "cell_type": "markdown",
   "metadata": {},
   "source": [
    "- So you get:\n",
    "\n",
    "<img src = './SUPAPYT-files/Python-HelloWorld-Terminal.png' alt = 'hello world terminal' width = 450>"
   ]
  },
  {
   "cell_type": "markdown",
   "metadata": {},
   "source": [
    "- Note that, unlike at the interactive prompt, if you omit the print statement in a script you don't get any output.\n",
    "- So if your file looks like:\n",
    "\n",
    "<img src = './SUPAPYT-files/Emacs-HelloWorld-NoPrint.png' alt = 'emacs hello world' width = 450>"
   ]
  },
  {
   "cell_type": "markdown",
   "metadata": {},
   "source": [
    "then you get no output when you execute it:\n",
    "\n",
    "<img src = './SUPAPYT-files/Python-HelloWorld-NoPrint.png' alt = 'emacs hello world' width = 450>"
   ]
  },
  {
   "cell_type": "markdown",
   "metadata": {},
   "source": [
    "- You can also direct the output into a file, to save it for future reference, in the usual way by doing:"
   ]
  },
  {
   "cell_type": "markdown",
   "metadata": {
    "collapsed": true
   },
   "source": [
    "`python3 hello_world.py > hello_world.log`"
   ]
  },
  {
   "cell_type": "markdown",
   "metadata": {},
   "source": [
    "<img src = './SUPAPYT-files/Python-HelloWorld-Log.png' alt = 'emacs hello world' width = 450>"
   ]
  },
  {
   "cell_type": "markdown",
   "metadata": {},
   "source": [
    "- Then check the contents of the log file, eg, with `cat`:\n",
    "\n",
    "<img src = './SUPAPYT-files/Cat-HelloWorld-Log.png' alt = 'emacs hello world' width = 450>"
   ]
  },
  {
   "cell_type": "markdown",
   "metadata": {},
   "source": [
    "- Or to execute a script and then enter interactive mode using:"
   ]
  },
  {
   "cell_type": "markdown",
   "metadata": {},
   "source": [
    "`python3 -i hello_world.py`"
   ]
  },
  {
   "cell_type": "markdown",
   "metadata": {},
   "source": [
    "<img src = './SUPAPYT-files/Python-HelloWorld-Interactive.png' alt = 'emacs hello world' width = 450>"
   ]
  },
  {
   "cell_type": "markdown",
   "metadata": {},
   "source": [
    "- This is very handy for debugging as you can check what values variables have if your script fails."
   ]
  },
  {
   "cell_type": "markdown",
   "metadata": {},
   "source": [
    "- Other options are available, check them out with:"
   ]
  },
  {
   "cell_type": "markdown",
   "metadata": {
    "collapsed": true
   },
   "source": [
    "`python3 -h`"
   ]
  },
  {
   "cell_type": "markdown",
   "metadata": {},
   "source": [
    "#### Executable Scripts - Linux"
   ]
  },
  {
   "cell_type": "markdown",
   "metadata": {},
   "source": [
    "- On a linux machine you can make the script executable by adding the \"shebang\" line at the start of the script:"
   ]
  },
  {
   "cell_type": "markdown",
   "metadata": {
    "collapsed": true
   },
   "source": [
    "`#!/usr/bin/env python3`"
   ]
  },
  {
   "cell_type": "markdown",
   "metadata": {},
   "source": [
    "<img src = './SUPAPYT-files/Emacs-HelloWorld-Shebang.png' alt = 'emacs hello world' width = 450>"
   ]
  },
  {
   "cell_type": "markdown",
   "metadata": {},
   "source": [
    "- You can then make the script executable by doing (only once):"
   ]
  },
  {
   "cell_type": "markdown",
   "metadata": {
    "collapsed": true
   },
   "source": [
    "`chmod +x hello_world.py`"
   ]
  },
  {
   "cell_type": "markdown",
   "metadata": {},
   "source": [
    "- So it can be called simply by doing:"
   ]
  },
  {
   "cell_type": "markdown",
   "metadata": {
    "collapsed": true
   },
   "source": [
    "`./hello_world.py`"
   ]
  },
  {
   "cell_type": "markdown",
   "metadata": {},
   "source": [
    "<img src = './SUPAPYT-files/Python-HelloWorld-Exe.png' alt = 'emacs hello world' width = 450>"
   ]
  },
  {
   "cell_type": "markdown",
   "metadata": {},
   "source": [
    "- This is generally helpful for scripts on linux as it means you don't need to know that it's a python script (or any other type) to be able to execute it."
   ]
  },
  {
   "cell_type": "markdown",
   "metadata": {},
   "source": [
    "#### Executable Scripts - Windows"
   ]
  },
  {
   "cell_type": "markdown",
   "metadata": {},
   "source": [
    "- In Windows any file ending in .py should automatically be executable from the commandline in this way (the \"shebang\" is just interpreted as a comment and ignored).\n",
    "- You can also execute a script in Windows simply by double clicking the file as usual.\n",
    "    - This will normally open a terminal, execute the script, then immediately close the terminal, so isn't so useful if you want to view output."
   ]
  },
  {
   "cell_type": "markdown",
   "metadata": {},
   "source": [
    "#### Integrated Development Environments (IDEs)"
   ]
  },
  {
   "cell_type": "markdown",
   "metadata": {},
   "source": [
    "- Jupyter notebooks have their limitations (though they're very useful for teaching!), so for most coding you'll likely write scripts rather than notebooks.\n",
    "- [IDEs](https://en.wikipedia.org/wiki/Integrated_development_environment) provide enhanced editing functionality over plain text editors - they make common tasks much easier.\n",
    "- [IDLE](https://docs.python.org/3/library/idle.html) is python's Integrated Development and Learning Environment, which comes with a standard python installation.\n",
    "- Many other IDEs [are available](https://wiki.python.org/moin/IntegratedDevelopmentEnvironments) - which to use, if any, is a matter of taste.\n",
    "- You can also get plugins for text editors to add IDE-like functionality, eg, for [emacs](https://www.emacswiki.org/emacs/PythonProgrammingInEmacs#) or [vim](https://realpython.com/vim-and-python-a-match-made-in-heaven/)."
   ]
  }
 ],
 "metadata": {
  "kernelspec": {
   "display_name": "Python 3",
   "language": "python",
   "name": "python3"
  },
  "language_info": {
   "codemirror_mode": {
    "name": "ipython",
    "version": 3
   },
   "file_extension": ".py",
   "mimetype": "text/x-python",
   "name": "python",
   "nbconvert_exporter": "python",
   "pygments_lexer": "ipython3",
   "version": "3.9.1"
  }
 },
 "nbformat": 4,
 "nbformat_minor": 4
}
